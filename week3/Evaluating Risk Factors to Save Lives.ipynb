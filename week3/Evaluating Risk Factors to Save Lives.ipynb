{
 "cells": [
  {
   "cell_type": "markdown",
   "metadata": {},
   "source": [
    "### 背景\n",
    "\n",
    "罗斯福死于高血压。美国政府因此加强对心血管疾病的研究。因此，Framingham心脏研究跟踪了一组病人，作为研究对象。\n",
    "\n",
    ">  Framingham had an appropriate size, it had a stable population, and the doctors and residents in the town were willing to participate. However, the city did not represent all types of people in the United States (we'll see later in the lecture how to extend the model to different populations) and there were not an abnormally large number of people with heart disease.\n",
    "\n",
    "FHD(Framingham Heart Study)为日后的心血管疾病的治疗做出很大贡献。例如，冠状动脉疾病（CHD）的死亡率大大下降，得益于FHD的研究成果，它使得冠状动脉疾病能得到更早的发现。\n",
    "\n",
    "重要的**风险因子**的发现是极为重要的。例如，**吸烟**这一风险因子，在40年代是很新奇的说法。\n",
    "\n",
    "### 用风险因子预测10年的CHD风险"
   ]
  },
  {
   "cell_type": "code",
   "execution_count": 1,
   "metadata": {
    "collapsed": false
   },
   "outputs": [
    {
     "name": "stdout",
     "output_type": "stream",
     "text": [
      "'data.frame':\t4240 obs. of  16 variables:\n",
      " $ male           : int  1 0 1 0 0 0 0 0 1 1 ...\n",
      " $ age            : int  39 46 48 61 46 43 63 45 52 43 ...\n",
      " $ education      : int  4 2 1 3 3 2 1 2 1 1 ...\n",
      " $ currentSmoker  : int  0 0 1 1 1 0 0 1 0 1 ...\n",
      " $ cigsPerDay     : int  0 0 20 30 23 0 0 20 0 30 ...\n",
      " $ BPMeds         : int  0 0 0 0 0 0 0 0 0 0 ...\n",
      " $ prevalentStroke: int  0 0 0 0 0 0 0 0 0 0 ...\n",
      " $ prevalentHyp   : int  0 0 0 1 0 1 0 0 1 1 ...\n",
      " $ diabetes       : int  0 0 0 0 0 0 0 0 0 0 ...\n",
      " $ totChol        : int  195 250 245 225 285 228 205 313 260 225 ...\n",
      " $ sysBP          : num  106 121 128 150 130 ...\n",
      " $ diaBP          : num  70 81 80 95 84 110 71 71 89 107 ...\n",
      " $ BMI            : num  27 28.7 25.3 28.6 23.1 ...\n",
      " $ heartRate      : int  80 95 75 65 85 77 60 79 76 93 ...\n",
      " $ glucose        : int  77 76 70 103 85 99 85 78 79 88 ...\n",
      " $ TenYearCHD     : int  0 0 0 1 0 0 1 0 0 0 ...\n"
     ]
    }
   ],
   "source": [
    "framingham = read.csv(\"./data/framingham.csv\")\n",
    "str(framingham)"
   ]
  },
  {
   "cell_type": "code",
   "execution_count": 2,
   "metadata": {
    "collapsed": true
   },
   "outputs": [],
   "source": [
    "library(\"caTools\")\n",
    "set.seed(1000)\n",
    "split = sample.split(framingham$TenYearCHD, SplitRatio=0.65)"
   ]
  },
  {
   "cell_type": "code",
   "execution_count": 3,
   "metadata": {
    "collapsed": true
   },
   "outputs": [],
   "source": [
    "train = subset(framingham, split==TRUE)\n",
    "test = subset(framingham, split=FALSE)"
   ]
  },
  {
   "cell_type": "code",
   "execution_count": 4,
   "metadata": {
    "collapsed": false
   },
   "outputs": [
    {
     "data": {
      "text/plain": [
       "\n",
       "Call:\n",
       "glm(formula = TenYearCHD ~ ., family = binomial, data = train)\n",
       "\n",
       "Deviance Residuals: \n",
       "    Min       1Q   Median       3Q      Max  \n",
       "-1.8487  -0.6007  -0.4257  -0.2842   2.8369  \n",
       "\n",
       "Coefficients:\n",
       "                 Estimate Std. Error z value Pr(>|z|)    \n",
       "(Intercept)     -7.886574   0.890729  -8.854  < 2e-16 ***\n",
       "male             0.528457   0.135443   3.902 9.55e-05 ***\n",
       "age              0.062055   0.008343   7.438 1.02e-13 ***\n",
       "education       -0.058923   0.062430  -0.944  0.34525    \n",
       "currentSmoker    0.093240   0.194008   0.481  0.63080    \n",
       "cigsPerDay       0.015008   0.007826   1.918  0.05514 .  \n",
       "BPMeds           0.311221   0.287408   1.083  0.27887    \n",
       "prevalentStroke  1.165794   0.571215   2.041  0.04126 *  \n",
       "prevalentHyp     0.315818   0.171765   1.839  0.06596 .  \n",
       "diabetes        -0.421494   0.407990  -1.033  0.30156    \n",
       "totChol          0.003835   0.001377   2.786  0.00533 ** \n",
       "sysBP            0.011344   0.004566   2.485  0.01297 *  \n",
       "diaBP           -0.004740   0.008001  -0.592  0.55353    \n",
       "BMI              0.010723   0.016157   0.664  0.50689    \n",
       "heartRate       -0.008099   0.005313  -1.524  0.12739    \n",
       "glucose          0.008935   0.002836   3.150  0.00163 ** \n",
       "---\n",
       "Signif. codes:  0 '***' 0.001 '**' 0.01 '*' 0.05 '.' 0.1 ' ' 1\n",
       "\n",
       "(Dispersion parameter for binomial family taken to be 1)\n",
       "\n",
       "    Null deviance: 2020.7  on 2384  degrees of freedom\n",
       "Residual deviance: 1792.3  on 2369  degrees of freedom\n",
       "  (371 observations deleted due to missingness)\n",
       "AIC: 1824.3\n",
       "\n",
       "Number of Fisher Scoring iterations: 5\n"
      ]
     },
     "execution_count": 4,
     "metadata": {},
     "output_type": "execute_result"
    }
   ],
   "source": [
    "framinghamLog = glm(TenYearCHD ~ ., data=train, family=binomial)\n",
    "summary(framinghamLog)"
   ]
  },
  {
   "cell_type": "markdown",
   "metadata": {},
   "source": [
    "所有显著的因子系数都为正，合理。用这个模型做初步预测。"
   ]
  },
  {
   "cell_type": "code",
   "execution_count": 6,
   "metadata": {
    "collapsed": false
   },
   "outputs": [
    {
     "data": {
      "text/plain": [
       "   \n",
       "    FALSE TRUE\n",
       "  0  3088   13\n",
       "  1   521   36"
      ]
     },
     "execution_count": 6,
     "metadata": {},
     "output_type": "execute_result"
    }
   ],
   "source": [
    "predictTest = predict(framinghamLog, type=\"response\", newdata=test)\n",
    "table(test$TenYearCHD, predictTest > 0.5)"
   ]
  },
  {
   "cell_type": "markdown",
   "metadata": {},
   "source": [
    "可以看出，把阈值设为0.5，则很少预测“CHD风险高于0.5”。模型accuracy："
   ]
  },
  {
   "cell_type": "code",
   "execution_count": 7,
   "metadata": {
    "collapsed": false
   },
   "outputs": [
    {
     "data": {
      "text/html": [
       "0.854018589393111"
      ],
      "text/latex": [
       "0.854018589393111"
      ],
      "text/markdown": [
       "0.854018589393111"
      ],
      "text/plain": [
       "[1] 0.8540186"
      ]
     },
     "execution_count": 7,
     "metadata": {},
     "output_type": "execute_result"
    }
   ],
   "source": [
    "(3088+36)/(3088+13+521+36)"
   ]
  },
  {
   "cell_type": "markdown",
   "metadata": {},
   "source": [
    "基准模型准确率："
   ]
  },
  {
   "cell_type": "code",
   "execution_count": 8,
   "metadata": {
    "collapsed": false
   },
   "outputs": [
    {
     "data": {
      "text/html": [
       "0.847731000546747"
      ],
      "text/latex": [
       "0.847731000546747"
      ],
      "text/markdown": [
       "0.847731000546747"
      ],
      "text/plain": [
       "[1] 0.847731"
      ]
     },
     "execution_count": 8,
     "metadata": {},
     "output_type": "execute_result"
    }
   ],
   "source": [
    "(3088+13)/(3088+13+521+36)"
   ]
  },
  {
   "cell_type": "markdown",
   "metadata": {},
   "source": [
    "这个模型的准确率和基准模型差不多。计算该模型的AUC。"
   ]
  },
  {
   "cell_type": "code",
   "execution_count": 11,
   "metadata": {
    "collapsed": false
   },
   "outputs": [
    {
     "data": {
      "text/html": [
       "0.737576978990384"
      ],
      "text/latex": [
       "0.737576978990384"
      ],
      "text/markdown": [
       "0.737576978990384"
      ],
      "text/plain": [
       "[1] 0.737577"
      ]
     },
     "execution_count": 11,
     "metadata": {},
     "output_type": "execute_result"
    }
   ],
   "source": [
    "library(\"ROCR\")\n",
    "ROCRpred = prediction(predictTest, test$TenYearCHD)\n",
    "as.numeric(performance(ROCRpred, \"auc\")@y.values)"
   ]
  },
  {
   "cell_type": "markdown",
   "metadata": {},
   "source": [
    "得到AUC值为0.74，说明模型在样本外区分高风险病人和低风险病人的能力强。"
   ]
  },
  {
   "cell_type": "code",
   "execution_count": null,
   "metadata": {
    "collapsed": true
   },
   "outputs": [],
   "source": []
  }
 ],
 "metadata": {
  "kernelspec": {
   "display_name": "R",
   "language": "R",
   "name": "ir"
  },
  "language_info": {
   "codemirror_mode": "r",
   "file_extension": ".r",
   "mimetype": "text/x-r-source",
   "name": "R",
   "pygments_lexer": "r",
   "version": "3.1.3"
  }
 },
 "nbformat": 4,
 "nbformat_minor": 0
}
