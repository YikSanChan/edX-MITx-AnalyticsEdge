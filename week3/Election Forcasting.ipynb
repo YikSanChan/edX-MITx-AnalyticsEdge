{
 "cells": [
  {
   "cell_type": "code",
   "execution_count": 1,
   "metadata": {
    "collapsed": false
   },
   "outputs": [
    {
     "name": "stdout",
     "output_type": "stream",
     "text": [
      "'data.frame':\t145 obs. of  7 variables:\n",
      " $ State     : Factor w/ 50 levels \"Alabama\",\"Alaska\",..: 1 1 2 2 3 3 3 4 4 4 ...\n",
      " $ Year      : int  2004 2008 2004 2008 2004 2008 2012 2004 2008 2012 ...\n",
      " $ Rasmussen : int  11 21 NA 16 5 5 8 7 10 NA ...\n",
      " $ SurveyUSA : int  18 25 NA NA 15 NA NA 5 NA NA ...\n",
      " $ DiffCount : int  5 5 1 6 8 9 4 8 5 2 ...\n",
      " $ PropR     : num  1 1 1 1 1 ...\n",
      " $ Republican: int  1 1 1 1 1 1 1 1 1 1 ...\n"
     ]
    }
   ],
   "source": [
    "polling = read.csv(\"./data/PollingData.csv\")\n",
    "str(polling)"
   ]
  },
  {
   "cell_type": "markdown",
   "metadata": {},
   "source": [
    "三个大选年，50个州，因此应该有150个观测值。但只有145个。"
   ]
  },
  {
   "cell_type": "code",
   "execution_count": 2,
   "metadata": {
    "collapsed": false
   },
   "outputs": [
    {
     "data": {
      "text/plain": [
       "\n",
       "2004 2008 2012 \n",
       "  50   50   45 "
      ]
     },
     "execution_count": 2,
     "metadata": {},
     "output_type": "execute_result"
    }
   ],
   "source": [
    "table(polling$Year)"
   ]
  },
  {
   "cell_type": "markdown",
   "metadata": {},
   "source": [
    "发现2012年只有45个观测值。但这问题不大。第二个问题是很多NA值。"
   ]
  },
  {
   "cell_type": "code",
   "execution_count": 3,
   "metadata": {
    "collapsed": false
   },
   "outputs": [
    {
     "data": {
      "text/plain": [
       "         State          Year        Rasmussen          SurveyUSA       \n",
       " Arizona    :  3   Min.   :2004   Min.   :-41.0000   Min.   :-33.0000  \n",
       " Arkansas   :  3   1st Qu.:2004   1st Qu.: -8.0000   1st Qu.:-11.7500  \n",
       " California :  3   Median :2008   Median :  1.0000   Median : -2.0000  \n",
       " Colorado   :  3   Mean   :2008   Mean   :  0.0404   Mean   : -0.8243  \n",
       " Connecticut:  3   3rd Qu.:2012   3rd Qu.:  8.5000   3rd Qu.:  8.0000  \n",
       " Florida    :  3   Max.   :2012   Max.   : 39.0000   Max.   : 30.0000  \n",
       " (Other)    :127                  NA's   :46         NA's   :71        \n",
       "   DiffCount           PropR          Republican    \n",
       " Min.   :-19.000   Min.   :0.0000   Min.   :0.0000  \n",
       " 1st Qu.: -6.000   1st Qu.:0.0000   1st Qu.:0.0000  \n",
       " Median :  1.000   Median :0.6250   Median :1.0000  \n",
       " Mean   : -1.269   Mean   :0.5259   Mean   :0.5103  \n",
       " 3rd Qu.:  4.000   3rd Qu.:1.0000   3rd Qu.:1.0000  \n",
       " Max.   : 11.000   Max.   :1.0000   Max.   :1.0000  \n",
       "                                                    "
      ]
     },
     "execution_count": 3,
     "metadata": {},
     "output_type": "execute_result"
    }
   ],
   "source": [
    "summary(polling)"
   ]
  },
  {
   "cell_type": "markdown",
   "metadata": {},
   "source": [
    "### 缺失值\n",
    "\n",
    "- 把带缺失值的样本抛弃？那样会抛弃一半的样本。\n",
    "- 抛弃带缺失值的变量？但希望保留`Rasmussen`和`SurveyUSA`。\n",
    "- 用均值填充缺失值？\n",
    "    - 民主党和共和党在总票数上接近，所以`DiffCount`很可能是0。\n",
    "    - 如果别的民意调查偏向其中一个党，则填充会让这种偏向扩散。\n",
    "- 用非缺失值填充？\n",
    "    - `SurveyUSA`的值根据`Rasmussen`的值来填。\n",
    "\n",
    "用R的插值包实现multiple imputation。"
   ]
  },
  {
   "cell_type": "code",
   "execution_count": 6,
   "metadata": {
    "collapsed": false
   },
   "outputs": [
    {
     "name": "stdout",
     "output_type": "stream",
     "text": [
      "package 'mice' successfully unpacked and MD5 sums checked\n",
      "\n",
      "The downloaded binary packages are in\n",
      "\tC:\\Users\\CYS\\AppData\\Local\\Temp\\RtmpMZpJ8V\\downloaded_packages\n"
     ]
    }
   ],
   "source": [
    "#install.packages(\"mice\", repos = \"http://cran.us.r-project.org\")"
   ]
  },
  {
   "cell_type": "code",
   "execution_count": 2,
   "metadata": {
    "collapsed": false
   },
   "outputs": [
    {
     "name": "stderr",
     "output_type": "stream",
     "text": [
      "Loading required package: Rcpp\n",
      "mice 2.25 2015-11-09\n"
     ]
    }
   ],
   "source": [
    "library(\"mice\")"
   ]
  },
  {
   "cell_type": "code",
   "execution_count": 3,
   "metadata": {
    "collapsed": false
   },
   "outputs": [
    {
     "data": {
      "text/plain": [
       "   Rasmussen          SurveyUSA            PropR          DiffCount      \n",
       " Min.   :-41.0000   Min.   :-33.0000   Min.   :0.0000   Min.   :-19.000  \n",
       " 1st Qu.: -8.0000   1st Qu.:-11.7500   1st Qu.:0.0000   1st Qu.: -6.000  \n",
       " Median :  1.0000   Median : -2.0000   Median :0.6250   Median :  1.000  \n",
       " Mean   :  0.0404   Mean   : -0.8243   Mean   :0.5259   Mean   : -1.269  \n",
       " 3rd Qu.:  8.5000   3rd Qu.:  8.0000   3rd Qu.:1.0000   3rd Qu.:  4.000  \n",
       " Max.   : 39.0000   Max.   : 30.0000   Max.   :1.0000   Max.   : 11.000  \n",
       " NA's   :46         NA's   :71                                           "
      ]
     },
     "execution_count": 3,
     "metadata": {},
     "output_type": "execute_result"
    }
   ],
   "source": [
    "simple = polling[c(\"Rasmussen\", \"SurveyUSA\", \"PropR\", \"DiffCount\")]\n",
    "summary(simple)"
   ]
  },
  {
   "cell_type": "markdown",
   "metadata": {
    "collapsed": true
   },
   "source": [
    "多重插值与split类似，每次的结果都不一样。设定seed，确保结果一致。但一旦执行，kernel就die了。"
   ]
  },
  {
   "cell_type": "code",
   "execution_count": 4,
   "metadata": {
    "collapsed": false
   },
   "outputs": [],
   "source": [
    "#set.seed(144)"
   ]
  },
  {
   "cell_type": "code",
   "execution_count": 4,
   "metadata": {
    "collapsed": false
   },
   "outputs": [
    {
     "name": "stdout",
     "output_type": "stream",
     "text": [
      "\n",
      " iter imp variable\n",
      "  1   1  Rasmussen  SurveyUSA\n",
      "  1   2  Rasmussen  SurveyUSA\n",
      "  1   3  Rasmussen  SurveyUSA\n",
      "  1   4  Rasmussen  SurveyUSA\n",
      "  1   5  Rasmussen  SurveyUSA\n",
      "  2   1  Rasmussen  SurveyUSA\n",
      "  2   2  Rasmussen  SurveyUSA\n",
      "  2   3  Rasmussen  SurveyUSA\n",
      "  2   4  Rasmussen  SurveyUSA\n",
      "  2   5  Rasmussen  SurveyUSA\n",
      "  3   1  Rasmussen  SurveyUSA\n",
      "  3   2  Rasmussen  SurveyUSA\n",
      "  3   3  Rasmussen  SurveyUSA\n",
      "  3   4  Rasmussen  SurveyUSA\n",
      "  3   5  Rasmussen  SurveyUSA\n",
      "  4   1  Rasmussen  SurveyUSA\n",
      "  4   2  Rasmussen  SurveyUSA\n",
      "  4   3  Rasmussen  SurveyUSA\n",
      "  4   4  Rasmussen  SurveyUSA\n",
      "  4   5  Rasmussen  SurveyUSA\n",
      "  5   1  Rasmussen  SurveyUSA\n",
      "  5   2  Rasmussen  SurveyUSA\n",
      "  5   3  Rasmussen  SurveyUSA\n",
      "  5   4  Rasmussen  SurveyUSA\n",
      "  5   5  Rasmussen  SurveyUSA\n",
      "'data.frame':\t145 obs. of  4 variables:\n",
      " $ Rasmussen: int  11 21 19 16 5 5 8 7 10 13 ...\n",
      " $ SurveyUSA: int  18 25 22 9 15 3 15 5 8 21 ...\n",
      " $ PropR    : num  1 1 1 1 1 ...\n",
      " $ DiffCount: int  5 5 1 6 8 9 4 8 5 2 ...\n"
     ]
    }
   ],
   "source": [
    "imputed = complete(mice(simple))\n",
    "str(imputed)"
   ]
  },
  {
   "cell_type": "code",
   "execution_count": 5,
   "metadata": {
    "collapsed": false
   },
   "outputs": [
    {
     "data": {
      "text/plain": [
       "   Rasmussen         SurveyUSA           PropR          DiffCount      \n",
       " Min.   :-41.000   Min.   :-33.000   Min.   :0.0000   Min.   :-19.000  \n",
       " 1st Qu.:-10.000   1st Qu.:-11.000   1st Qu.:0.0000   1st Qu.: -6.000  \n",
       " Median :  3.000   Median :  1.000   Median :0.6250   Median :  1.000  \n",
       " Mean   :  2.228   Mean   :  1.531   Mean   :0.5259   Mean   : -1.269  \n",
       " 3rd Qu.: 12.000   3rd Qu.: 18.000   3rd Qu.:1.0000   3rd Qu.:  4.000  \n",
       " Max.   : 39.000   Max.   : 30.000   Max.   :1.0000   Max.   : 11.000  "
      ]
     },
     "execution_count": 5,
     "metadata": {},
     "output_type": "execute_result"
    }
   ],
   "source": [
    "summary(imputed)"
   ]
  },
  {
   "cell_type": "markdown",
   "metadata": {},
   "source": [
    "此时不再有NA。放回polling中。"
   ]
  },
  {
   "cell_type": "code",
   "execution_count": 6,
   "metadata": {
    "collapsed": false
   },
   "outputs": [
    {
     "data": {
      "text/plain": [
       "         State          Year        Rasmussen         SurveyUSA      \n",
       " Arizona    :  3   Min.   :2004   Min.   :-41.000   Min.   :-33.000  \n",
       " Arkansas   :  3   1st Qu.:2004   1st Qu.:-10.000   1st Qu.:-11.000  \n",
       " California :  3   Median :2008   Median :  3.000   Median :  1.000  \n",
       " Colorado   :  3   Mean   :2008   Mean   :  2.228   Mean   :  1.531  \n",
       " Connecticut:  3   3rd Qu.:2012   3rd Qu.: 12.000   3rd Qu.: 18.000  \n",
       " Florida    :  3   Max.   :2012   Max.   : 39.000   Max.   : 30.000  \n",
       " (Other)    :127                                                     \n",
       "   DiffCount           PropR          Republican    \n",
       " Min.   :-19.000   Min.   :0.0000   Min.   :0.0000  \n",
       " 1st Qu.: -6.000   1st Qu.:0.0000   1st Qu.:0.0000  \n",
       " Median :  1.000   Median :0.6250   Median :1.0000  \n",
       " Mean   : -1.269   Mean   :0.5259   Mean   :0.5103  \n",
       " 3rd Qu.:  4.000   3rd Qu.:1.0000   3rd Qu.:1.0000  \n",
       " Max.   : 11.000   Max.   :1.0000   Max.   :1.0000  \n",
       "                                                    "
      ]
     },
     "execution_count": 6,
     "metadata": {},
     "output_type": "execute_result"
    }
   ],
   "source": [
    "polling$Rasmussen = imputed$Rasmussen\n",
    "polling$SurveyUSA = imputed$SurveyUSA\n",
    "summary(polling)"
   ]
  },
  {
   "cell_type": "markdown",
   "metadata": {},
   "source": [
    "### 建模\n",
    "\n",
    "用2004和2008年的数据训练，用2012年的数据测试。"
   ]
  },
  {
   "cell_type": "code",
   "execution_count": 7,
   "metadata": {
    "collapsed": true
   },
   "outputs": [],
   "source": [
    "Train = subset(polling, Year == 2004 | Year == 2008)\n",
    "Test = subset(polling, Year == 2012)"
   ]
  },
  {
   "cell_type": "markdown",
   "metadata": {},
   "source": [
    "### 基准模型\n",
    "\n",
    "最笨的基准模型：无条件地预测共和党会赢。这个基准模型在训练集中的准确率为53%。"
   ]
  },
  {
   "cell_type": "code",
   "execution_count": 8,
   "metadata": {
    "collapsed": false
   },
   "outputs": [
    {
     "data": {
      "text/plain": [
       "\n",
       " 0  1 \n",
       "47 53 "
      ]
     },
     "execution_count": 8,
     "metadata": {},
     "output_type": "execute_result"
    }
   ],
   "source": [
    "table(Train$Republican)"
   ]
  },
  {
   "cell_type": "markdown",
   "metadata": {},
   "source": [
    "稍微聪明的基准模型：`Rasmussen`说谁赢，就预测谁赢。这个模型还是很靠谱的。"
   ]
  },
  {
   "cell_type": "code",
   "execution_count": 9,
   "metadata": {
    "collapsed": false
   },
   "outputs": [
    {
     "data": {
      "text/plain": [
       "\n",
       "-1  0  1 \n",
       "42  2 56 "
      ]
     },
     "execution_count": 9,
     "metadata": {},
     "output_type": "execute_result"
    }
   ],
   "source": [
    "table(sign(Train$Rasmussen))"
   ]
  },
  {
   "cell_type": "code",
   "execution_count": 10,
   "metadata": {
    "collapsed": false
   },
   "outputs": [
    {
     "data": {
      "text/plain": [
       "   \n",
       "    -1  0  1\n",
       "  0 42  1  4\n",
       "  1  0  1 52"
      ]
     },
     "execution_count": 10,
     "metadata": {},
     "output_type": "execute_result"
    }
   ],
   "source": [
    "table(Train$Republican, sign(Train$Rasmussen))"
   ]
  },
  {
   "cell_type": "markdown",
   "metadata": {},
   "source": [
    "### Logistic模型\n",
    "\n",
    "需要考虑多重共线性的问题。因为这是很可能存在的。"
   ]
  },
  {
   "cell_type": "code",
   "execution_count": 11,
   "metadata": {
    "collapsed": false
   },
   "outputs": [
    {
     "ename": "ERROR",
     "evalue": "Error in cor(Train): 'x' must be numeric\n",
     "output_type": "error",
     "traceback": [
      "Error in cor(Train): 'x' must be numeric\n"
     ]
    }
   ],
   "source": [
    "cor(Train)"
   ]
  },
  {
   "cell_type": "code",
   "execution_count": 12,
   "metadata": {
    "collapsed": false
   },
   "outputs": [
    {
     "name": "stdout",
     "output_type": "stream",
     "text": [
      "'data.frame':\t100 obs. of  7 variables:\n",
      " $ State     : Factor w/ 50 levels \"Alabama\",\"Alaska\",..: 1 1 2 2 3 3 4 4 5 5 ...\n",
      " $ Year      : int  2004 2008 2004 2008 2004 2008 2004 2008 2004 2008 ...\n",
      " $ Rasmussen : int  11 21 19 16 5 5 7 10 -11 -27 ...\n",
      " $ SurveyUSA : int  18 25 22 9 15 3 5 8 -11 -24 ...\n",
      " $ DiffCount : int  5 5 1 6 8 9 8 5 -8 -5 ...\n",
      " $ PropR     : num  1 1 1 1 1 1 1 1 0 0 ...\n",
      " $ Republican: int  1 1 1 1 1 1 1 1 0 0 ...\n"
     ]
    }
   ],
   "source": [
    "str(Train)"
   ]
  },
  {
   "cell_type": "code",
   "execution_count": 13,
   "metadata": {
    "collapsed": false
   },
   "outputs": [
    {
     "data": {
      "text/html": [
       "<table>\n",
       "<thead><tr><th></th><th scope=col>Rasmussen</th><th scope=col>SurveyUSA</th><th scope=col>PropR</th><th scope=col>DiffCount</th><th scope=col>Republican</th></tr></thead>\n",
       "<tbody>\n",
       "\t<tr><th scope=row>Rasmussen</th><td>1.0000000</td><td>0.8952416</td><td>0.8352601</td><td>0.4984191</td><td>0.7877702</td></tr>\n",
       "\t<tr><th scope=row>SurveyUSA</th><td>0.8952416</td><td>1.0000000</td><td>0.8817534</td><td>0.5766725</td><td>0.8346488</td></tr>\n",
       "\t<tr><th scope=row>PropR</th><td>0.8352601</td><td>0.8817534</td><td>1.0000000</td><td>0.8273785</td><td>0.9484204</td></tr>\n",
       "\t<tr><th scope=row>DiffCount</th><td>0.4984191</td><td>0.5766725</td><td>0.8273785</td><td>1.0000000</td><td>0.8092777</td></tr>\n",
       "\t<tr><th scope=row>Republican</th><td>0.7877702</td><td>0.8346488</td><td>0.9484204</td><td>0.8092777</td><td>1.0000000</td></tr>\n",
       "</tbody>\n",
       "</table>\n"
      ],
      "text/latex": [
       "\\begin{tabular}{r|lllll}\n",
       "  & Rasmussen & SurveyUSA & PropR & DiffCount & Republican\\\\\n",
       "\\hline\n",
       "\tRasmussen & 1.0000000 & 0.8952416 & 0.8352601 & 0.4984191 & 0.7877702\\\\\n",
       "\tSurveyUSA & 0.8952416 & 1.0000000 & 0.8817534 & 0.5766725 & 0.8346488\\\\\n",
       "\tPropR & 0.8352601 & 0.8817534 & 1.0000000 & 0.8273785 & 0.9484204\\\\\n",
       "\tDiffCount & 0.4984191 & 0.5766725 & 0.8273785 & 1.0000000 & 0.8092777\\\\\n",
       "\tRepublican & 0.7877702 & 0.8346488 & 0.9484204 & 0.8092777 & 1.0000000\\\\\n",
       "\\end{tabular}\n"
      ],
      "text/markdown": [
       "1. 1\n",
       "2. 0.895241640482394\n",
       "3. 0.835260137512864\n",
       "4. 0.498419088411402\n",
       "5. 0.787770179622448\n",
       "6. 0.895241640482394\n",
       "7. 1\n",
       "8. 0.881753435296281\n",
       "9. 0.576672544004677\n",
       "10. 0.834648817497253\n",
       "11. 0.835260137512864\n",
       "12. 0.881753435296281\n",
       "13. 1\n",
       "14. 0.827378535331159\n",
       "15. 0.948420429973127\n",
       "16. 0.498419088411402\n",
       "17. 0.576672544004677\n",
       "18. 0.827378535331159\n",
       "19. 1\n",
       "20. 0.80927770437412\n",
       "21. 0.787770179622448\n",
       "22. 0.834648817497253\n",
       "23. 0.948420429973127\n",
       "24. 0.80927770437412\n",
       "25. 1\n",
       "\n",
       "\n"
      ],
      "text/plain": [
       "           Rasmussen SurveyUSA     PropR DiffCount Republican\n",
       "Rasmussen  1.0000000 0.8952416 0.8352601 0.4984191  0.7877702\n",
       "SurveyUSA  0.8952416 1.0000000 0.8817534 0.5766725  0.8346488\n",
       "PropR      0.8352601 0.8817534 1.0000000 0.8273785  0.9484204\n",
       "DiffCount  0.4984191 0.5766725 0.8273785 1.0000000  0.8092777\n",
       "Republican 0.7877702 0.8346488 0.9484204 0.8092777  1.0000000"
      ]
     },
     "execution_count": 13,
     "metadata": {},
     "output_type": "execute_result"
    }
   ],
   "source": [
    "cor(Train[c(\"Rasmussen\", \"SurveyUSA\", \"PropR\", \"DiffCount\", \"Republican\")])"
   ]
  },
  {
   "cell_type": "markdown",
   "metadata": {},
   "source": [
    "考虑建立只有一个自变量的回归模型。找一个与因变量相关系数最高的变量作为自变量，`PropR`。"
   ]
  },
  {
   "cell_type": "code",
   "execution_count": 14,
   "metadata": {
    "collapsed": false
   },
   "outputs": [
    {
     "data": {
      "text/plain": [
       "\n",
       "Call:\n",
       "glm(formula = Republican ~ PropR, family = binomial, data = Train)\n",
       "\n",
       "Deviance Residuals: \n",
       "     Min        1Q    Median        3Q       Max  \n",
       "-2.22880  -0.06541   0.10260   0.10260   1.37392  \n",
       "\n",
       "Coefficients:\n",
       "            Estimate Std. Error z value Pr(>|z|)    \n",
       "(Intercept)   -6.146      1.977  -3.108 0.001882 ** \n",
       "PropR         11.390      3.153   3.613 0.000303 ***\n",
       "---\n",
       "Signif. codes:  0 '***' 0.001 '**' 0.01 '*' 0.05 '.' 0.1 ' ' 1\n",
       "\n",
       "(Dispersion parameter for binomial family taken to be 1)\n",
       "\n",
       "    Null deviance: 138.269  on 99  degrees of freedom\n",
       "Residual deviance:  15.772  on 98  degrees of freedom\n",
       "AIC: 19.772\n",
       "\n",
       "Number of Fisher Scoring iterations: 8\n"
      ]
     },
     "execution_count": 14,
     "metadata": {},
     "output_type": "execute_result"
    }
   ],
   "source": [
    "mod1 = glm(Republican~PropR, data=Train, family=binomial)\n",
    "summary(mod1)"
   ]
  },
  {
   "cell_type": "markdown",
   "metadata": {},
   "source": [
    "看模型在训练集上表现如何。"
   ]
  },
  {
   "cell_type": "code",
   "execution_count": 15,
   "metadata": {
    "collapsed": false
   },
   "outputs": [
    {
     "data": {
      "text/plain": [
       "   \n",
       "    FALSE TRUE\n",
       "  0    45    2\n",
       "  1     2   51"
      ]
     },
     "execution_count": 15,
     "metadata": {},
     "output_type": "execute_result"
    }
   ],
   "source": [
    "pred1 = predict(mod1, type=\"response\")\n",
    "table(Train$Republican, pred1 >= 0.5)"
   ]
  },
  {
   "cell_type": "markdown",
   "metadata": {},
   "source": [
    "考虑有两个自变量的回归模型。要找两个相关系数低的作为自变量，避免多重共线性问题。发现`SurveyUSA`和`DiffCount`的相关性低。"
   ]
  },
  {
   "cell_type": "code",
   "execution_count": 21,
   "metadata": {
    "collapsed": false
   },
   "outputs": [
    {
     "data": {
      "text/plain": [
       "   \n",
       "    FALSE TRUE\n",
       "  0    45    2\n",
       "  1     1   52"
      ]
     },
     "execution_count": 21,
     "metadata": {},
     "output_type": "execute_result"
    }
   ],
   "source": [
    "mod2 = glm(Republican~SurveyUSA+DiffCount, data=Train, family=binomial)\n",
    "pred2 = predict(mod2, type=\"response\")\n",
    "table(Train$Republican, pred2>=0.5)"
   ]
  },
  {
   "cell_type": "code",
   "execution_count": 22,
   "metadata": {
    "collapsed": false
   },
   "outputs": [
    {
     "data": {
      "text/plain": [
       "\n",
       "Call:\n",
       "glm(formula = Republican ~ SurveyUSA + DiffCount, family = binomial, \n",
       "    data = Train)\n",
       "\n",
       "Deviance Residuals: \n",
       "     Min        1Q    Median        3Q       Max  \n",
       "-2.10984  -0.00717   0.00750   0.04550   1.46490  \n",
       "\n",
       "Coefficients:\n",
       "            Estimate Std. Error z value Pr(>|z|)  \n",
       "(Intercept)  -0.9949     1.2099  -0.822   0.4109  \n",
       "SurveyUSA     0.3405     0.2049   1.661   0.0966 .\n",
       "DiffCount     0.7020     0.4201   1.671   0.0947 .\n",
       "---\n",
       "Signif. codes:  0 '***' 0.001 '**' 0.01 '*' 0.05 '.' 0.1 ' ' 1\n",
       "\n",
       "(Dispersion parameter for binomial family taken to be 1)\n",
       "\n",
       "    Null deviance: 138.27  on 99  degrees of freedom\n",
       "Residual deviance:  11.61  on 97  degrees of freedom\n",
       "AIC: 17.61\n",
       "\n",
       "Number of Fisher Scoring iterations: 9\n"
      ]
     },
     "execution_count": 22,
     "metadata": {},
     "output_type": "execute_result"
    }
   ],
   "source": [
    "summary(mod2)"
   ]
  },
  {
   "cell_type": "markdown",
   "metadata": {},
   "source": [
    "发现AIC变小了，好像更好了。但显著程度不好。准备用第二个模型进行测试集上的预测。先看基准模型在测试集上的表现。"
   ]
  },
  {
   "cell_type": "code",
   "execution_count": 23,
   "metadata": {
    "collapsed": false
   },
   "outputs": [
    {
     "data": {
      "text/plain": [
       "   \n",
       "    -1  0  1\n",
       "  0 18  2  4\n",
       "  1  0  0 21"
      ]
     },
     "execution_count": 23,
     "metadata": {},
     "output_type": "execute_result"
    }
   ],
   "source": [
    "table(Test$Republican, sign(Test$Rasmussen))"
   ]
  },
  {
   "cell_type": "code",
   "execution_count": 24,
   "metadata": {
    "collapsed": false
   },
   "outputs": [
    {
     "data": {
      "text/plain": [
       "   \n",
       "    FALSE TRUE\n",
       "  0    23    1\n",
       "  1     0   21"
      ]
     },
     "execution_count": 24,
     "metadata": {},
     "output_type": "execute_result"
    }
   ],
   "source": [
    "TestPrediction = predict(mod2, newdata=Test, type=\"response\")\n",
    "table(Test$Republican, TestPrediction>=0.5)"
   ]
  },
  {
   "cell_type": "markdown",
   "metadata": {},
   "source": [
    "我们犯错在什么地方？"
   ]
  },
  {
   "cell_type": "code",
   "execution_count": 25,
   "metadata": {
    "collapsed": false
   },
   "outputs": [
    {
     "data": {
      "text/html": [
       "<table>\n",
       "<thead><tr><th></th><th scope=col>State</th><th scope=col>Year</th><th scope=col>Rasmussen</th><th scope=col>SurveyUSA</th><th scope=col>DiffCount</th><th scope=col>PropR</th><th scope=col>Republican</th></tr></thead>\n",
       "<tbody>\n",
       "\t<tr><th scope=row>24</th><td>Florida</td><td>2012</td><td>2</td><td>0</td><td>6</td><td>0.6666667</td><td>0</td></tr>\n",
       "</tbody>\n",
       "</table>\n"
      ],
      "text/latex": [
       "\\begin{tabular}{r|lllllll}\n",
       "  & State & Year & Rasmussen & SurveyUSA & DiffCount & PropR & Republican\\\\\n",
       "\\hline\n",
       "\t24 & Florida & 2012 & 2 & 0 & 6 & 0.6666667 & 0\\\\\n",
       "\\end{tabular}\n"
      ],
      "text/plain": [
       "     State Year Rasmussen SurveyUSA DiffCount     PropR Republican\n",
       "24 Florida 2012         2         0         6 0.6666667          0"
      ]
     },
     "execution_count": 25,
     "metadata": {},
     "output_type": "execute_result"
    }
   ],
   "source": [
    "subset(Test, TestPrediction >= 0.5 & Republican == 0)"
   ]
  },
  {
   "cell_type": "code",
   "execution_count": null,
   "metadata": {
    "collapsed": true
   },
   "outputs": [],
   "source": []
  }
 ],
 "metadata": {
  "kernelspec": {
   "display_name": "R",
   "language": "R",
   "name": "ir"
  },
  "language_info": {
   "codemirror_mode": "r",
   "file_extension": ".r",
   "mimetype": "text/x-r-source",
   "name": "R",
   "pygments_lexer": "r",
   "version": "3.1.3"
  }
 },
 "nbformat": 4,
 "nbformat_minor": 0
}
