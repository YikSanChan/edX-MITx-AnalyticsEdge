{
 "cells": [
  {
   "cell_type": "markdown",
   "metadata": {},
   "source": [
    "In this assignment, we challenge ourselves to predict whether a song will reach a spot in the Top 10 of the Billboard Hot 100 Chart."
   ]
  },
  {
   "cell_type": "code",
   "execution_count": 1,
   "metadata": {
    "collapsed": false
   },
   "outputs": [
    {
     "data": {
      "text/html": [
       "373"
      ],
      "text/latex": [
       "373"
      ],
      "text/markdown": [
       "373"
      ],
      "text/plain": [
       "[1] 373"
      ]
     },
     "execution_count": 1,
     "metadata": {},
     "output_type": "execute_result"
    }
   ],
   "source": [
    "songs = read.csv(\"./data/songs.csv\")\n",
    "nrow(subset(songs, year >= 2010))"
   ]
  },
  {
   "cell_type": "code",
   "execution_count": 4,
   "metadata": {
    "collapsed": false
   },
   "outputs": [
    {
     "name": "stdout",
     "output_type": "stream",
     "text": [
      "'data.frame':\t7574 obs. of  39 variables:\n",
      " $ year                    : int  2010 2010 2010 2010 2010 2010 2010 2010 2010 2010 ...\n",
      " $ songtitle               : Factor w/ 7141 levels \"'03 Bonnie & Clyde\",..: 6201 5519 239 3095 45 605 252 4416 2884 6753 ...\n",
      " $ artistname              : Factor w/ 1032 levels \"50 Cent\",\"98 Degrees\",..: 3 3 3 3 3 3 3 3 3 12 ...\n",
      " $ songID                  : Factor w/ 7549 levels \"SOAACNI1315CD4AC42\",..: 595 5439 5252 1716 3431 1020 1831 3964 6904 2473 ...\n",
      " $ artistID                : Factor w/ 1047 levels \"AR00B1I1187FB433EB\",..: 671 671 671 671 671 671 671 671 671 507 ...\n",
      " $ timesignature           : int  3 4 4 4 4 4 4 4 4 4 ...\n",
      " $ timesignature_confidence: num  0.853 1 1 1 0.788 1 0.968 0.861 0.622 0.938 ...\n",
      " $ loudness                : num  -4.26 -4.05 -3.57 -3.81 -4.71 ...\n",
      " $ tempo                   : num  91.5 140 160.5 97.5 140.1 ...\n",
      " $ tempo_confidence        : num  0.953 0.921 0.489 0.794 0.286 0.347 0.273 0.83 0.018 0.929 ...\n",
      " $ key                     : int  11 10 2 1 6 4 10 5 9 11 ...\n",
      " $ key_confidence          : num  0.453 0.469 0.209 0.632 0.483 0.627 0.715 0.423 0.751 0.602 ...\n",
      " $ energy                  : num  0.967 0.985 0.99 0.939 0.988 ...\n",
      " $ pitch                   : num  0.024 0.025 0.026 0.013 0.063 0.038 0.026 0.033 0.027 0.004 ...\n",
      " $ timbre_0_min            : num  0.002 0 0.003 0 0 ...\n",
      " $ timbre_0_max            : num  57.3 57.4 57.4 57.8 56.9 ...\n",
      " $ timbre_1_min            : num  -6.5 -37.4 -17.2 -32.1 -223.9 ...\n",
      " $ timbre_1_max            : num  171 171 171 221 171 ...\n",
      " $ timbre_2_min            : num  -81.7 -149.6 -72.9 -138.6 -147.2 ...\n",
      " $ timbre_2_max            : num  95.1 180.3 157.9 173.4 166 ...\n",
      " $ timbre_3_min            : num  -285 -380.1 -204 -73.5 -128.1 ...\n",
      " $ timbre_3_max            : num  259 384 251 373 389 ...\n",
      " $ timbre_4_min            : num  -40.4 -48.7 -66 -55.6 -43.9 ...\n",
      " $ timbre_4_max            : num  73.6 100.4 152.1 119.2 99.3 ...\n",
      " $ timbre_5_min            : num  -104.7 -87.3 -98.7 -77.5 -96.1 ...\n",
      " $ timbre_5_max            : num  183.1 42.8 141.4 141.2 38.3 ...\n",
      " $ timbre_6_min            : num  -88.8 -86.9 -88.9 -70.8 -110.8 ...\n",
      " $ timbre_6_max            : num  73.5 75.5 66.5 64.5 72.4 ...\n",
      " $ timbre_7_min            : num  -71.1 -65.8 -67.4 -63.7 -55.9 ...\n",
      " $ timbre_7_max            : num  82.5 106.9 80.6 96.7 110.3 ...\n",
      " $ timbre_8_min            : num  -52 -61.3 -59.8 -78.7 -56.5 ...\n",
      " $ timbre_8_max            : num  39.1 35.4 46 41.1 37.6 ...\n",
      " $ timbre_9_min            : num  -35.4 -81.9 -46.3 -49.2 -48.6 ...\n",
      " $ timbre_9_max            : num  71.6 74.6 59.9 95.4 67.6 ...\n",
      " $ timbre_10_min           : num  -126.4 -103.8 -108.3 -102.7 -52.8 ...\n",
      " $ timbre_10_max           : num  18.7 121.9 33.3 46.4 22.9 ...\n",
      " $ timbre_11_min           : num  -44.8 -38.9 -43.7 -59.4 -50.4 ...\n",
      " $ timbre_11_max           : num  26 22.5 25.7 37.1 32.8 ...\n",
      " $ Top10                   : int  0 0 0 0 0 0 0 0 0 1 ...\n"
     ]
    }
   ],
   "source": [
    "str(songs)"
   ]
  },
  {
   "cell_type": "code",
   "execution_count": 5,
   "metadata": {
    "collapsed": false
   },
   "outputs": [
    {
     "data": {
      "text/html": [
       "18"
      ],
      "text/latex": [
       "18"
      ],
      "text/markdown": [
       "18"
      ],
      "text/plain": [
       "[1] 18"
      ]
     },
     "execution_count": 5,
     "metadata": {},
     "output_type": "execute_result"
    }
   ],
   "source": [
    "nrow(subset(songs, artistname==\"Michael Jackson\"))"
   ]
  },
  {
   "cell_type": "code",
   "execution_count": 6,
   "metadata": {
    "collapsed": false
   },
   "outputs": [
    {
     "data": {
      "text/html": [
       "<table>\n",
       "<thead><tr><th></th><th scope=col>year</th><th scope=col>songtitle</th><th scope=col>artistname</th><th scope=col>songID</th><th scope=col>artistID</th><th scope=col>timesignature</th><th scope=col>timesignature_confidence</th><th scope=col>loudness</th><th scope=col>tempo</th><th scope=col>tempo_confidence</th><th scope=col>key</th><th scope=col>key_confidence</th><th scope=col>energy</th><th scope=col>pitch</th><th scope=col>timbre_0_min</th><th scope=col>timbre_0_max</th><th scope=col>timbre_1_min</th><th scope=col>timbre_1_max</th><th scope=col>timbre_2_min</th><th scope=col>timbre_2_max</th><th scope=col>timbre_3_min</th><th scope=col>timbre_3_max</th><th scope=col>timbre_4_min</th><th scope=col>timbre_4_max</th><th scope=col>timbre_5_min</th><th scope=col>timbre_5_max</th><th scope=col>timbre_6_min</th><th scope=col>timbre_6_max</th><th scope=col>timbre_7_min</th><th scope=col>timbre_7_max</th><th scope=col>timbre_8_min</th><th scope=col>timbre_8_max</th><th scope=col>timbre_9_min</th><th scope=col>timbre_9_max</th><th scope=col>timbre_10_min</th><th scope=col>timbre_10_max</th><th scope=col>timbre_11_min</th><th scope=col>timbre_11_max</th><th scope=col>Top10</th></tr></thead>\n",
       "<tbody>\n",
       "\t<tr><th scope=row>4329</th><td>2001</td><td>You Rock My World</td><td>Michael Jackson</td><td>SOBLCOF13134393021</td><td>ARXPPEY1187FB51DF4</td><td>4</td><td>1</td><td>-2.768</td><td>95.003</td><td>0.892</td><td>11</td><td>0.134</td><td>0.7262479</td><td>0.004</td><td>0.5</td><td>59.662</td><td>-44.825</td><td>304.609</td><td>-246.769</td><td>115.353</td><td>-196.928</td><td>493.186</td><td>-48.145</td><td>130.931</td><td>-146.243</td><td>180.716</td><td>-106.361</td><td>65.637</td><td>-109.166</td><td>120.076</td><td>-53.839</td><td>63.576</td><td>-85.169</td><td>84.84</td><td>-102.185</td><td>55.266</td><td>-48.107</td><td>56.116</td><td>1</td></tr>\n",
       "\t<tr><th scope=row>6207</th><td>1995</td><td>You Are Not Alone</td><td>Michael Jackson</td><td>SOJKNNO13737CEB162</td><td>ARXPPEY1187FB51DF4</td><td>4</td><td>1</td><td>-9.408</td><td>120.566</td><td>0.805</td><td>11</td><td>0.661</td><td>0.4375286</td><td>0.002</td><td>0</td><td>58.673</td><td>-98.062</td><td>171.13</td><td>-194.199</td><td>103.39</td><td>-204.004</td><td>163.42</td><td>-30.201</td><td>128.268</td><td>-108.666</td><td>89.808</td><td>-79.784</td><td>67.505</td><td>-131.455</td><td>90.735</td><td>-61.583</td><td>60.92</td><td>-55.904</td><td>76.632</td><td>-69.799</td><td>46.173</td><td>-67.281</td><td>47.128</td><td>1</td></tr>\n",
       "\t<tr><th scope=row>6210</th><td>1995</td><td>Black or White</td><td>Michael Jackson</td><td>SOBBRFO137756C9CB7</td><td>ARXPPEY1187FB51DF4</td><td>4</td><td>1</td><td>-4.017</td><td>115.027</td><td>0.535</td><td>9</td><td>0.494</td><td>0.9037198</td><td>0.015</td><td>0.007</td><td>57.756</td><td>-170.413</td><td>223.079</td><td>-159.855</td><td>221.169</td><td>-130.112</td><td>313.571</td><td>-46.88</td><td>136.343</td><td>-127.658</td><td>148.704</td><td>-105.303</td><td>85.29</td><td>-97.571</td><td>107.974</td><td>-55.063</td><td>52.505</td><td>-110.999</td><td>71.477</td><td>-133.939</td><td>60.442</td><td>-55.008</td><td>43.473</td><td>1</td></tr>\n",
       "\t<tr><th scope=row>6218</th><td>1995</td><td>Remember the Time</td><td>Michael Jackson</td><td>SOIQZMT136C9704DA5</td><td>ARXPPEY1187FB51DF4</td><td>4</td><td>1</td><td>-3.633</td><td>107.921</td><td>1</td><td>5</td><td>0.62</td><td>0.9038237</td><td>0.003</td><td>0</td><td>56.621</td><td>-95.012</td><td>198.624</td><td>-180.254</td><td>135.532</td><td>-229.012</td><td>181.773</td><td>-50.449</td><td>118.126</td><td>-112.359</td><td>187.657</td><td>-103.364</td><td>72.257</td><td>-133.092</td><td>146.587</td><td>-58.117</td><td>62.157</td><td>-54.44</td><td>94.501</td><td>-112.348</td><td>90.437</td><td>-53.634</td><td>51.681</td><td>1</td></tr>\n",
       "\t<tr><th scope=row>6915</th><td>1992</td><td>In The Closet</td><td>Michael Jackson</td><td>SOKIOOC12AF729ED9E</td><td>ARXPPEY1187FB51DF4</td><td>4</td><td>0.991</td><td>-4.315</td><td>110.501</td><td>0.949</td><td>11</td><td>0.72</td><td>0.7602297</td><td>0.008</td><td>0</td><td>58.705</td><td>-106.832</td><td>349.619</td><td>-162.832</td><td>145.596</td><td>-306.947</td><td>302.134</td><td>-52.034</td><td>124.492</td><td>-129.339</td><td>237.563</td><td>-109.739</td><td>71.14</td><td>-106.173</td><td>124.354</td><td>-78.303</td><td>41.322</td><td>-83.184</td><td>106.263</td><td>-136.109</td><td>102.829</td><td>-48.192</td><td>74.575</td><td>1</td></tr>\n",
       "</tbody>\n",
       "</table>\n"
      ],
      "text/latex": [
       "\\begin{tabular}{r|lllllllllllllllllllllllllllllllllllllll}\n",
       "  & year & songtitle & artistname & songID & artistID & timesignature & timesignature_confidence & loudness & tempo & tempo_confidence & key & key_confidence & energy & pitch & timbre_0_min & timbre_0_max & timbre_1_min & timbre_1_max & timbre_2_min & timbre_2_max & timbre_3_min & timbre_3_max & timbre_4_min & timbre_4_max & timbre_5_min & timbre_5_max & timbre_6_min & timbre_6_max & timbre_7_min & timbre_7_max & timbre_8_min & timbre_8_max & timbre_9_min & timbre_9_max & timbre_10_min & timbre_10_max & timbre_11_min & timbre_11_max & Top10\\\\\n",
       "\\hline\n",
       "\t4329 & 2001 & You Rock My World & Michael Jackson & SOBLCOF13134393021 & ARXPPEY1187FB51DF4 & 4 & 1 & -2.768 & 95.003 & 0.892 & 11 & 0.134 & 0.7262479 & 0.004 & 0.5 & 59.662 & -44.825 & 304.609 & -246.769 & 115.353 & -196.928 & 493.186 & -48.145 & 130.931 & -146.243 & 180.716 & -106.361 & 65.637 & -109.166 & 120.076 & -53.839 & 63.576 & -85.169 & 84.84 & -102.185 & 55.266 & -48.107 & 56.116 & 1\\\\\n",
       "\t6207 & 1995 & You Are Not Alone & Michael Jackson & SOJKNNO13737CEB162 & ARXPPEY1187FB51DF4 & 4 & 1 & -9.408 & 120.566 & 0.805 & 11 & 0.661 & 0.4375286 & 0.002 & 0 & 58.673 & -98.062 & 171.13 & -194.199 & 103.39 & -204.004 & 163.42 & -30.201 & 128.268 & -108.666 & 89.808 & -79.784 & 67.505 & -131.455 & 90.735 & -61.583 & 60.92 & -55.904 & 76.632 & -69.799 & 46.173 & -67.281 & 47.128 & 1\\\\\n",
       "\t6210 & 1995 & Black or White & Michael Jackson & SOBBRFO137756C9CB7 & ARXPPEY1187FB51DF4 & 4 & 1 & -4.017 & 115.027 & 0.535 & 9 & 0.494 & 0.9037198 & 0.015 & 0.007 & 57.756 & -170.413 & 223.079 & -159.855 & 221.169 & -130.112 & 313.571 & -46.88 & 136.343 & -127.658 & 148.704 & -105.303 & 85.29 & -97.571 & 107.974 & -55.063 & 52.505 & -110.999 & 71.477 & -133.939 & 60.442 & -55.008 & 43.473 & 1\\\\\n",
       "\t6218 & 1995 & Remember the Time & Michael Jackson & SOIQZMT136C9704DA5 & ARXPPEY1187FB51DF4 & 4 & 1 & -3.633 & 107.921 & 1 & 5 & 0.62 & 0.9038237 & 0.003 & 0 & 56.621 & -95.012 & 198.624 & -180.254 & 135.532 & -229.012 & 181.773 & -50.449 & 118.126 & -112.359 & 187.657 & -103.364 & 72.257 & -133.092 & 146.587 & -58.117 & 62.157 & -54.44 & 94.501 & -112.348 & 90.437 & -53.634 & 51.681 & 1\\\\\n",
       "\t6915 & 1992 & In The Closet & Michael Jackson & SOKIOOC12AF729ED9E & ARXPPEY1187FB51DF4 & 4 & 0.991 & -4.315 & 110.501 & 0.949 & 11 & 0.72 & 0.7602297 & 0.008 & 0 & 58.705 & -106.832 & 349.619 & -162.832 & 145.596 & -306.947 & 302.134 & -52.034 & 124.492 & -129.339 & 237.563 & -109.739 & 71.14 & -106.173 & 124.354 & -78.303 & 41.322 & -83.184 & 106.263 & -136.109 & 102.829 & -48.192 & 74.575 & 1\\\\\n",
       "\\end{tabular}\n"
      ],
      "text/plain": [
       "     year         songtitle      artistname             songID\n",
       "4329 2001 You Rock My World Michael Jackson SOBLCOF13134393021\n",
       "6207 1995 You Are Not Alone Michael Jackson SOJKNNO13737CEB162\n",
       "6210 1995    Black or White Michael Jackson SOBBRFO137756C9CB7\n",
       "6218 1995 Remember the Time Michael Jackson SOIQZMT136C9704DA5\n",
       "6915 1992     In The Closet Michael Jackson SOKIOOC12AF729ED9E\n",
       "               artistID timesignature timesignature_confidence loudness   tempo\n",
       "4329 ARXPPEY1187FB51DF4             4                    1.000   -2.768  95.003\n",
       "6207 ARXPPEY1187FB51DF4             4                    1.000   -9.408 120.566\n",
       "6210 ARXPPEY1187FB51DF4             4                    1.000   -4.017 115.027\n",
       "6218 ARXPPEY1187FB51DF4             4                    1.000   -3.633 107.921\n",
       "6915 ARXPPEY1187FB51DF4             4                    0.991   -4.315 110.501\n",
       "     tempo_confidence key key_confidence    energy pitch timbre_0_min\n",
       "4329            0.892  11          0.134 0.7262479 0.004        0.500\n",
       "6207            0.805  11          0.661 0.4375286 0.002        0.000\n",
       "6210            0.535   9          0.494 0.9037198 0.015        0.007\n",
       "6218            1.000   5          0.620 0.9038237 0.003        0.000\n",
       "6915            0.949  11          0.720 0.7602297 0.008        0.000\n",
       "     timbre_0_max timbre_1_min timbre_1_max timbre_2_min timbre_2_max\n",
       "4329       59.662      -44.825      304.609     -246.769      115.353\n",
       "6207       58.673      -98.062      171.130     -194.199      103.390\n",
       "6210       57.756     -170.413      223.079     -159.855      221.169\n",
       "6218       56.621      -95.012      198.624     -180.254      135.532\n",
       "6915       58.705     -106.832      349.619     -162.832      145.596\n",
       "     timbre_3_min timbre_3_max timbre_4_min timbre_4_max timbre_5_min\n",
       "4329     -196.928      493.186      -48.145      130.931     -146.243\n",
       "6207     -204.004      163.420      -30.201      128.268     -108.666\n",
       "6210     -130.112      313.571      -46.880      136.343     -127.658\n",
       "6218     -229.012      181.773      -50.449      118.126     -112.359\n",
       "6915     -306.947      302.134      -52.034      124.492     -129.339\n",
       "     timbre_5_max timbre_6_min timbre_6_max timbre_7_min timbre_7_max\n",
       "4329      180.716     -106.361       65.637     -109.166      120.076\n",
       "6207       89.808      -79.784       67.505     -131.455       90.735\n",
       "6210      148.704     -105.303       85.290      -97.571      107.974\n",
       "6218      187.657     -103.364       72.257     -133.092      146.587\n",
       "6915      237.563     -109.739       71.140     -106.173      124.354\n",
       "     timbre_8_min timbre_8_max timbre_9_min timbre_9_max timbre_10_min\n",
       "4329      -53.839       63.576      -85.169       84.840      -102.185\n",
       "6207      -61.583       60.920      -55.904       76.632       -69.799\n",
       "6210      -55.063       52.505     -110.999       71.477      -133.939\n",
       "6218      -58.117       62.157      -54.440       94.501      -112.348\n",
       "6915      -78.303       41.322      -83.184      106.263      -136.109\n",
       "     timbre_10_max timbre_11_min timbre_11_max Top10\n",
       "4329        55.266       -48.107        56.116     1\n",
       "6207        46.173       -67.281        47.128     1\n",
       "6210        60.442       -55.008        43.473     1\n",
       "6218        90.437       -53.634        51.681     1\n",
       "6915       102.829       -48.192        74.575     1"
      ]
     },
     "execution_count": 6,
     "metadata": {},
     "output_type": "execute_result"
    }
   ],
   "source": [
    "subset(songs, artistname==\"Michael Jackson\" & Top10 == 1)"
   ]
  },
  {
   "cell_type": "code",
   "execution_count": 7,
   "metadata": {
    "collapsed": false
   },
   "outputs": [
    {
     "data": {
      "text/plain": [
       "\n",
       "   0    1    3    4    5    7 \n",
       "  10  143  503 6787  112   19 "
      ]
     },
     "execution_count": 7,
     "metadata": {},
     "output_type": "execute_result"
    }
   ],
   "source": [
    "table(songs$timesignature)"
   ]
  },
  {
   "cell_type": "code",
   "execution_count": 8,
   "metadata": {
    "collapsed": false
   },
   "outputs": [
    {
     "data": {
      "text/html": [
       "6206"
      ],
      "text/latex": [
       "6206"
      ],
      "text/markdown": [
       "6206"
      ],
      "text/plain": [
       "[1] 6206"
      ]
     },
     "execution_count": 8,
     "metadata": {},
     "output_type": "execute_result"
    }
   ],
   "source": [
    "which.max(songs$tempo)"
   ]
  },
  {
   "cell_type": "code",
   "execution_count": 11,
   "metadata": {
    "collapsed": false
   },
   "outputs": [
    {
     "data": {
      "text/html": [
       "Wanna Be Startin' Somethin'"
      ],
      "text/latex": [
       "Wanna Be Startin' Somethin'"
      ],
      "text/markdown": [
       "Wanna Be Startin' Somethin'"
      ],
      "text/plain": [
       "[1] Wanna Be Startin' Somethin'\n",
       "7141 Levels: '03 Bonnie & Clyde '69 ... 憦Qu_ Creias?"
      ]
     },
     "execution_count": 11,
     "metadata": {},
     "output_type": "execute_result"
    }
   ],
   "source": [
    "songs$songtitle[6206]"
   ]
  },
  {
   "cell_type": "code",
   "execution_count": 2,
   "metadata": {
    "collapsed": false
   },
   "outputs": [
    {
     "data": {
      "text/html": [
       "7201"
      ],
      "text/latex": [
       "7201"
      ],
      "text/markdown": [
       "7201"
      ],
      "text/plain": [
       "[1] 7201"
      ]
     },
     "execution_count": 2,
     "metadata": {},
     "output_type": "execute_result"
    }
   ],
   "source": [
    "SongsTrain = subset(songs, year<=2009)\n",
    "SongsTest = subset(songs, year>=2010)\n",
    "nrow(SongsTrain)"
   ]
  },
  {
   "cell_type": "code",
   "execution_count": 3,
   "metadata": {
    "collapsed": true
   },
   "outputs": [],
   "source": [
    "nonvars = c(\"year\", \"songtitle\", \"artistname\", \"songID\", \"artistID\")\n",
    "SongsTrain = SongsTrain[ , !(names(SongsTrain) %in% nonvars) ]\n",
    "SongsTest = SongsTest[ , !(names(SongsTest) %in% nonvars) ]"
   ]
  },
  {
   "cell_type": "code",
   "execution_count": 4,
   "metadata": {
    "collapsed": true
   },
   "outputs": [],
   "source": [
    "SongsLog1 = glm(Top10 ~ ., data=SongsTrain, family=binomial)"
   ]
  },
  {
   "cell_type": "code",
   "execution_count": 5,
   "metadata": {
    "collapsed": false
   },
   "outputs": [
    {
     "data": {
      "text/plain": [
       "\n",
       "Call:\n",
       "glm(formula = Top10 ~ ., family = binomial, data = SongsTrain)\n",
       "\n",
       "Deviance Residuals: \n",
       "    Min       1Q   Median       3Q      Max  \n",
       "-1.9220  -0.5399  -0.3459  -0.1845   3.0770  \n",
       "\n",
       "Coefficients:\n",
       "                           Estimate Std. Error z value Pr(>|z|)    \n",
       "(Intercept)               1.470e+01  1.806e+00   8.138 4.03e-16 ***\n",
       "timesignature             1.264e-01  8.674e-02   1.457 0.145050    \n",
       "timesignature_confidence  7.450e-01  1.953e-01   3.815 0.000136 ***\n",
       "loudness                  2.999e-01  2.917e-02  10.282  < 2e-16 ***\n",
       "tempo                     3.634e-04  1.691e-03   0.215 0.829889    \n",
       "tempo_confidence          4.732e-01  1.422e-01   3.329 0.000873 ***\n",
       "key                       1.588e-02  1.039e-02   1.529 0.126349    \n",
       "key_confidence            3.087e-01  1.412e-01   2.187 0.028760 *  \n",
       "energy                   -1.502e+00  3.099e-01  -4.847 1.25e-06 ***\n",
       "pitch                    -4.491e+01  6.835e+00  -6.570 5.02e-11 ***\n",
       "timbre_0_min              2.316e-02  4.256e-03   5.441 5.29e-08 ***\n",
       "timbre_0_max             -3.310e-01  2.569e-02 -12.882  < 2e-16 ***\n",
       "timbre_1_min              5.881e-03  7.798e-04   7.542 4.64e-14 ***\n",
       "timbre_1_max             -2.449e-04  7.152e-04  -0.342 0.732087    \n",
       "timbre_2_min             -2.127e-03  1.126e-03  -1.889 0.058843 .  \n",
       "timbre_2_max              6.586e-04  9.066e-04   0.726 0.467571    \n",
       "timbre_3_min              6.920e-04  5.985e-04   1.156 0.247583    \n",
       "timbre_3_max             -2.967e-03  5.815e-04  -5.103 3.34e-07 ***\n",
       "timbre_4_min              1.040e-02  1.985e-03   5.237 1.63e-07 ***\n",
       "timbre_4_max              6.110e-03  1.550e-03   3.942 8.10e-05 ***\n",
       "timbre_5_min             -5.598e-03  1.277e-03  -4.385 1.16e-05 ***\n",
       "timbre_5_max              7.736e-05  7.935e-04   0.097 0.922337    \n",
       "timbre_6_min             -1.686e-02  2.264e-03  -7.445 9.66e-14 ***\n",
       "timbre_6_max              3.668e-03  2.190e-03   1.675 0.093875 .  \n",
       "timbre_7_min             -4.549e-03  1.781e-03  -2.554 0.010661 *  \n",
       "timbre_7_max             -3.774e-03  1.832e-03  -2.060 0.039408 *  \n",
       "timbre_8_min              3.911e-03  2.851e-03   1.372 0.170123    \n",
       "timbre_8_max              4.011e-03  3.003e-03   1.336 0.181620    \n",
       "timbre_9_min              1.367e-03  2.998e-03   0.456 0.648356    \n",
       "timbre_9_max              1.603e-03  2.434e-03   0.659 0.510188    \n",
       "timbre_10_min             4.126e-03  1.839e-03   2.244 0.024852 *  \n",
       "timbre_10_max             5.825e-03  1.769e-03   3.292 0.000995 ***\n",
       "timbre_11_min            -2.625e-02  3.693e-03  -7.108 1.18e-12 ***\n",
       "timbre_11_max             1.967e-02  3.385e-03   5.811 6.21e-09 ***\n",
       "---\n",
       "Signif. codes:  0 '***' 0.001 '**' 0.01 '*' 0.05 '.' 0.1 ' ' 1\n",
       "\n",
       "(Dispersion parameter for binomial family taken to be 1)\n",
       "\n",
       "    Null deviance: 6017.5  on 7200  degrees of freedom\n",
       "Residual deviance: 4759.2  on 7167  degrees of freedom\n",
       "AIC: 4827.2\n",
       "\n",
       "Number of Fisher Scoring iterations: 6\n"
      ]
     },
     "execution_count": 5,
     "metadata": {},
     "output_type": "execute_result"
    }
   ],
   "source": [
    "summary(SongsLog1)"
   ]
  },
  {
   "cell_type": "code",
   "execution_count": 6,
   "metadata": {
    "collapsed": false
   },
   "outputs": [
    {
     "data": {
      "text/html": [
       "0.739906708455806"
      ],
      "text/latex": [
       "0.739906708455806"
      ],
      "text/markdown": [
       "0.739906708455806"
      ],
      "text/plain": [
       "[1] 0.7399067"
      ]
     },
     "execution_count": 6,
     "metadata": {},
     "output_type": "execute_result"
    }
   ],
   "source": [
    "cor(SongsTrain$loudness, SongsTrain$energy)"
   ]
  },
  {
   "cell_type": "code",
   "execution_count": 7,
   "metadata": {
    "collapsed": false
   },
   "outputs": [
    {
     "data": {
      "text/plain": [
       "\n",
       "Call:\n",
       "glm(formula = Top10 ~ . - loudness, family = binomial, data = SongsTrain)\n",
       "\n",
       "Deviance Residuals: \n",
       "    Min       1Q   Median       3Q      Max  \n",
       "-2.0983  -0.5607  -0.3602  -0.1902   3.3107  \n",
       "\n",
       "Coefficients:\n",
       "                           Estimate Std. Error z value Pr(>|z|)    \n",
       "(Intercept)              -2.241e+00  7.465e-01  -3.002 0.002686 ** \n",
       "timesignature             1.625e-01  8.734e-02   1.860 0.062873 .  \n",
       "timesignature_confidence  6.885e-01  1.924e-01   3.578 0.000346 ***\n",
       "tempo                     5.521e-04  1.665e-03   0.332 0.740226    \n",
       "tempo_confidence          5.497e-01  1.407e-01   3.906 9.40e-05 ***\n",
       "key                       1.740e-02  1.026e-02   1.697 0.089740 .  \n",
       "key_confidence            2.954e-01  1.394e-01   2.118 0.034163 *  \n",
       "energy                    1.813e-01  2.608e-01   0.695 0.486991    \n",
       "pitch                    -5.150e+01  6.857e+00  -7.511 5.87e-14 ***\n",
       "timbre_0_min              2.479e-02  4.240e-03   5.847 5.01e-09 ***\n",
       "timbre_0_max             -1.007e-01  1.178e-02  -8.551  < 2e-16 ***\n",
       "timbre_1_min              7.143e-03  7.710e-04   9.265  < 2e-16 ***\n",
       "timbre_1_max             -7.830e-04  7.064e-04  -1.108 0.267650    \n",
       "timbre_2_min             -1.579e-03  1.109e-03  -1.424 0.154531    \n",
       "timbre_2_max              3.889e-04  8.964e-04   0.434 0.664427    \n",
       "timbre_3_min              6.500e-04  5.949e-04   1.093 0.274524    \n",
       "timbre_3_max             -2.462e-03  5.674e-04  -4.339 1.43e-05 ***\n",
       "timbre_4_min              9.115e-03  1.952e-03   4.670 3.02e-06 ***\n",
       "timbre_4_max              6.306e-03  1.532e-03   4.115 3.87e-05 ***\n",
       "timbre_5_min             -5.641e-03  1.255e-03  -4.495 6.95e-06 ***\n",
       "timbre_5_max              6.937e-04  7.807e-04   0.889 0.374256    \n",
       "timbre_6_min             -1.612e-02  2.235e-03  -7.214 5.45e-13 ***\n",
       "timbre_6_max              3.814e-03  2.157e-03   1.768 0.076982 .  \n",
       "timbre_7_min             -5.102e-03  1.755e-03  -2.907 0.003644 ** \n",
       "timbre_7_max             -3.158e-03  1.811e-03  -1.744 0.081090 .  \n",
       "timbre_8_min              4.488e-03  2.810e-03   1.597 0.110254    \n",
       "timbre_8_max              6.423e-03  2.950e-03   2.177 0.029497 *  \n",
       "timbre_9_min             -4.282e-04  2.955e-03  -0.145 0.884792    \n",
       "timbre_9_max              3.525e-03  2.377e-03   1.483 0.138017    \n",
       "timbre_10_min             2.993e-03  1.804e-03   1.660 0.097004 .  \n",
       "timbre_10_max             7.367e-03  1.731e-03   4.255 2.09e-05 ***\n",
       "timbre_11_min            -2.837e-02  3.630e-03  -7.815 5.48e-15 ***\n",
       "timbre_11_max             1.829e-02  3.341e-03   5.476 4.34e-08 ***\n",
       "---\n",
       "Signif. codes:  0 '***' 0.001 '**' 0.01 '*' 0.05 '.' 0.1 ' ' 1\n",
       "\n",
       "(Dispersion parameter for binomial family taken to be 1)\n",
       "\n",
       "    Null deviance: 6017.5  on 7200  degrees of freedom\n",
       "Residual deviance: 4871.8  on 7168  degrees of freedom\n",
       "AIC: 4937.8\n",
       "\n",
       "Number of Fisher Scoring iterations: 6\n"
      ]
     },
     "execution_count": 7,
     "metadata": {},
     "output_type": "execute_result"
    }
   ],
   "source": [
    "SongsLog2 = glm(Top10 ~ . - loudness, data=SongsTrain, family=binomial)\n",
    "summary(SongsLog2)"
   ]
  },
  {
   "cell_type": "code",
   "execution_count": 8,
   "metadata": {
    "collapsed": false
   },
   "outputs": [
    {
     "data": {
      "text/plain": [
       "\n",
       "Call:\n",
       "glm(formula = Top10 ~ . - energy, family = binomial, data = SongsTrain)\n",
       "\n",
       "Deviance Residuals: \n",
       "    Min       1Q   Median       3Q      Max  \n",
       "-1.9182  -0.5417  -0.3481  -0.1874   3.4171  \n",
       "\n",
       "Coefficients:\n",
       "                           Estimate Std. Error z value Pr(>|z|)    \n",
       "(Intercept)               1.196e+01  1.714e+00   6.977 3.01e-12 ***\n",
       "timesignature             1.151e-01  8.726e-02   1.319 0.187183    \n",
       "timesignature_confidence  7.143e-01  1.946e-01   3.670 0.000242 ***\n",
       "loudness                  2.306e-01  2.528e-02   9.120  < 2e-16 ***\n",
       "tempo                    -6.460e-04  1.665e-03  -0.388 0.698107    \n",
       "tempo_confidence          3.841e-01  1.398e-01   2.747 0.006019 ** \n",
       "key                       1.649e-02  1.035e-02   1.593 0.111056    \n",
       "key_confidence            3.394e-01  1.409e-01   2.409 0.015984 *  \n",
       "pitch                    -5.328e+01  6.733e+00  -7.914 2.49e-15 ***\n",
       "timbre_0_min              2.205e-02  4.239e-03   5.200 1.99e-07 ***\n",
       "timbre_0_max             -3.105e-01  2.537e-02 -12.240  < 2e-16 ***\n",
       "timbre_1_min              5.416e-03  7.643e-04   7.086 1.38e-12 ***\n",
       "timbre_1_max             -5.115e-04  7.110e-04  -0.719 0.471928    \n",
       "timbre_2_min             -2.254e-03  1.120e-03  -2.012 0.044190 *  \n",
       "timbre_2_max              4.119e-04  9.020e-04   0.457 0.647915    \n",
       "timbre_3_min              3.179e-04  5.869e-04   0.542 0.588083    \n",
       "timbre_3_max             -2.964e-03  5.758e-04  -5.147 2.64e-07 ***\n",
       "timbre_4_min              1.105e-02  1.978e-03   5.585 2.34e-08 ***\n",
       "timbre_4_max              6.467e-03  1.541e-03   4.196 2.72e-05 ***\n",
       "timbre_5_min             -5.135e-03  1.269e-03  -4.046 5.21e-05 ***\n",
       "timbre_5_max              2.979e-04  7.855e-04   0.379 0.704526    \n",
       "timbre_6_min             -1.784e-02  2.246e-03  -7.945 1.94e-15 ***\n",
       "timbre_6_max              3.447e-03  2.182e-03   1.580 0.114203    \n",
       "timbre_7_min             -5.128e-03  1.768e-03  -2.900 0.003733 ** \n",
       "timbre_7_max             -3.394e-03  1.820e-03  -1.865 0.062208 .  \n",
       "timbre_8_min              3.686e-03  2.833e-03   1.301 0.193229    \n",
       "timbre_8_max              4.658e-03  2.988e-03   1.559 0.119022    \n",
       "timbre_9_min             -9.318e-05  2.957e-03  -0.032 0.974859    \n",
       "timbre_9_max              1.342e-03  2.424e-03   0.554 0.579900    \n",
       "timbre_10_min             4.050e-03  1.827e-03   2.217 0.026637 *  \n",
       "timbre_10_max             5.793e-03  1.759e-03   3.294 0.000988 ***\n",
       "timbre_11_min            -2.638e-02  3.683e-03  -7.162 7.96e-13 ***\n",
       "timbre_11_max             1.984e-02  3.365e-03   5.896 3.74e-09 ***\n",
       "---\n",
       "Signif. codes:  0 '***' 0.001 '**' 0.01 '*' 0.05 '.' 0.1 ' ' 1\n",
       "\n",
       "(Dispersion parameter for binomial family taken to be 1)\n",
       "\n",
       "    Null deviance: 6017.5  on 7200  degrees of freedom\n",
       "Residual deviance: 4782.7  on 7168  degrees of freedom\n",
       "AIC: 4848.7\n",
       "\n",
       "Number of Fisher Scoring iterations: 6\n"
      ]
     },
     "execution_count": 8,
     "metadata": {},
     "output_type": "execute_result"
    }
   ],
   "source": [
    "SongsLog3 = glm(Top10 ~ . - energy, data=SongsTrain, family=binomial)\n",
    "summary(SongsLog3)"
   ]
  },
  {
   "cell_type": "code",
   "execution_count": 12,
   "metadata": {
    "collapsed": false
   },
   "outputs": [
    {
     "data": {
      "text/plain": [
       "   \n",
       "    FALSE TRUE\n",
       "  0   309    5\n",
       "  1    40   19"
      ]
     },
     "execution_count": 12,
     "metadata": {},
     "output_type": "execute_result"
    }
   ],
   "source": [
    "predTest = predict(SongsLog3, type=\"response\", newdata=SongsTest)\n",
    "table(SongsTest$Top10, predTest>=0.45)"
   ]
  },
  {
   "cell_type": "code",
   "execution_count": 13,
   "metadata": {
    "collapsed": false
   },
   "outputs": [
    {
     "data": {
      "text/html": [
       "0.879356568364611"
      ],
      "text/latex": [
       "0.879356568364611"
      ],
      "text/markdown": [
       "0.879356568364611"
      ],
      "text/plain": [
       "[1] 0.8793566"
      ]
     },
     "execution_count": 13,
     "metadata": {},
     "output_type": "execute_result"
    }
   ],
   "source": [
    "(309+19)/(309+5+40+19)"
   ]
  },
  {
   "cell_type": "code",
   "execution_count": 16,
   "metadata": {
    "collapsed": false
   },
   "outputs": [
    {
     "data": {
      "text/plain": [
       "\n",
       "  0   1 \n",
       "314  59 "
      ]
     },
     "execution_count": 16,
     "metadata": {},
     "output_type": "execute_result"
    }
   ],
   "source": [
    "table(SongsTest$Top10)"
   ]
  },
  {
   "cell_type": "code",
   "execution_count": 17,
   "metadata": {
    "collapsed": false
   },
   "outputs": [
    {
     "data": {
      "text/html": [
       "0.841823056300268"
      ],
      "text/latex": [
       "0.841823056300268"
      ],
      "text/markdown": [
       "0.841823056300268"
      ],
      "text/plain": [
       "[1] 0.8418231"
      ]
     },
     "execution_count": 17,
     "metadata": {},
     "output_type": "execute_result"
    }
   ],
   "source": [
    "314/(314+59)"
   ]
  },
  {
   "cell_type": "code",
   "execution_count": 29,
   "metadata": {
    "collapsed": false
   },
   "outputs": [
    {
     "data": {
      "text/html": [
       "0.322033898305085"
      ],
      "text/latex": [
       "0.322033898305085"
      ],
      "text/markdown": [
       "0.322033898305085"
      ],
      "text/plain": [
       "[1] 0.3220339"
      ]
     },
     "execution_count": 29,
     "metadata": {},
     "output_type": "execute_result"
    }
   ],
   "source": [
    "19/59"
   ]
  },
  {
   "cell_type": "code",
   "execution_count": 31,
   "metadata": {
    "collapsed": false
   },
   "outputs": [
    {
     "data": {
      "text/html": [
       "0.984076433121019"
      ],
      "text/latex": [
       "0.984076433121019"
      ],
      "text/markdown": [
       "0.984076433121019"
      ],
      "text/plain": [
       "[1] 0.9840764"
      ]
     },
     "execution_count": 31,
     "metadata": {},
     "output_type": "execute_result"
    }
   ],
   "source": [
    "309/314"
   ]
  },
  {
   "cell_type": "code",
   "execution_count": null,
   "metadata": {
    "collapsed": true
   },
   "outputs": [],
   "source": []
  }
 ],
 "metadata": {
  "kernelspec": {
   "display_name": "R",
   "language": "R",
   "name": "ir"
  },
  "language_info": {
   "codemirror_mode": "r",
   "file_extension": ".r",
   "mimetype": "text/x-r-source",
   "name": "R",
   "pygments_lexer": "r",
   "version": "3.1.3"
  }
 },
 "nbformat": 4,
 "nbformat_minor": 0
}
