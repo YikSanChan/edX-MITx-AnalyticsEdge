{
 "cells": [
  {
   "cell_type": "code",
   "execution_count": 1,
   "metadata": {
    "collapsed": false
   },
   "outputs": [
    {
     "name": "stdout",
     "output_type": "stream",
     "text": [
      "'data.frame':\t308 obs. of  11 variables:\n",
      " $ Year    : int  1983 1983 1983 1983 1983 1983 1983 1983 1984 1984 ...\n",
      " $ Month   : int  5 6 7 8 9 10 11 12 1 2 ...\n",
      " $ MEI     : num  2.556 2.167 1.741 1.13 0.428 ...\n",
      " $ CO2     : num  346 346 344 342 340 ...\n",
      " $ CH4     : num  1639 1634 1633 1631 1648 ...\n",
      " $ N2O     : num  304 304 304 304 304 ...\n",
      " $ CFC.11  : num  191 192 193 194 194 ...\n",
      " $ CFC.12  : num  350 352 354 356 357 ...\n",
      " $ TSI     : num  1366 1366 1366 1366 1366 ...\n",
      " $ Aerosols: num  0.0863 0.0794 0.0731 0.0673 0.0619 0.0569 0.0524 0.0486 0.0451 0.0416 ...\n",
      " $ Temp    : num  0.109 0.118 0.137 0.176 0.149 0.093 0.232 0.078 0.089 0.013 ...\n"
     ]
    }
   ],
   "source": [
    "CC = read.csv(\"./data/climate_change.csv\")\n",
    "str(CC)"
   ]
  },
  {
   "cell_type": "code",
   "execution_count": 2,
   "metadata": {
    "collapsed": true
   },
   "outputs": [],
   "source": [
    "train = subset(CC, Year <= 2006)\n",
    "test = subset(CC, Year > 2006)"
   ]
  },
  {
   "cell_type": "code",
   "execution_count": 4,
   "metadata": {
    "collapsed": false
   },
   "outputs": [
    {
     "data": {
      "text/plain": [
       "\n",
       "Call:\n",
       "lm(formula = Temp ~ MEI + CO2 + CH4 + N2O + CFC.11 + CFC.12 + \n",
       "    TSI + Aerosols, data = train)\n",
       "\n",
       "Residuals:\n",
       "     Min       1Q   Median       3Q      Max \n",
       "-0.25888 -0.05913 -0.00082  0.05649  0.32433 \n",
       "\n",
       "Coefficients:\n",
       "              Estimate Std. Error t value Pr(>|t|)    \n",
       "(Intercept) -1.246e+02  1.989e+01  -6.265 1.43e-09 ***\n",
       "MEI          6.421e-02  6.470e-03   9.923  < 2e-16 ***\n",
       "CO2          6.457e-03  2.285e-03   2.826  0.00505 ** \n",
       "CH4          1.240e-04  5.158e-04   0.240  0.81015    \n",
       "N2O         -1.653e-02  8.565e-03  -1.930  0.05467 .  \n",
       "CFC.11      -6.631e-03  1.626e-03  -4.078 5.96e-05 ***\n",
       "CFC.12       3.808e-03  1.014e-03   3.757  0.00021 ***\n",
       "TSI          9.314e-02  1.475e-02   6.313 1.10e-09 ***\n",
       "Aerosols    -1.538e+00  2.133e-01  -7.210 5.41e-12 ***\n",
       "---\n",
       "Signif. codes:  0 '***' 0.001 '**' 0.01 '*' 0.05 '.' 0.1 ' ' 1\n",
       "\n",
       "Residual standard error: 0.09171 on 275 degrees of freedom\n",
       "Multiple R-squared:  0.7509,\tAdjusted R-squared:  0.7436 \n",
       "F-statistic: 103.6 on 8 and 275 DF,  p-value: < 2.2e-16\n"
      ]
     },
     "execution_count": 4,
     "metadata": {},
     "output_type": "execute_result"
    }
   ],
   "source": [
    "TempReg = lm(Temp ~ MEI + CO2 + CH4 + N2O + CFC.11 + CFC.12 + TSI + Aerosols, data=train)\n",
    "summary(TempReg)"
   ]
  },
  {
   "cell_type": "code",
   "execution_count": 7,
   "metadata": {
    "collapsed": false
   },
   "outputs": [
    {
     "data": {
      "text/html": [
       "<table>\n",
       "<thead><tr><th></th><th scope=col>Year</th><th scope=col>Month</th><th scope=col>MEI</th><th scope=col>CO2</th><th scope=col>CH4</th><th scope=col>N2O</th><th scope=col>CFC.11</th><th scope=col>CFC.12</th><th scope=col>TSI</th><th scope=col>Aerosols</th><th scope=col>Temp</th></tr></thead>\n",
       "<tbody>\n",
       "\t<tr><th scope=row>Year</th><td> TRUE</td><td>FALSE</td><td>FALSE</td><td> TRUE</td><td> TRUE</td><td> TRUE</td><td>FALSE</td><td> TRUE</td><td>FALSE</td><td>FALSE</td><td> TRUE</td></tr>\n",
       "\t<tr><th scope=row>Month</th><td>FALSE</td><td> TRUE</td><td>FALSE</td><td>FALSE</td><td>FALSE</td><td>FALSE</td><td>FALSE</td><td>FALSE</td><td>FALSE</td><td>FALSE</td><td>FALSE</td></tr>\n",
       "\t<tr><th scope=row>MEI</th><td>FALSE</td><td>FALSE</td><td> TRUE</td><td>FALSE</td><td>FALSE</td><td>FALSE</td><td>FALSE</td><td>FALSE</td><td>FALSE</td><td>FALSE</td><td>FALSE</td></tr>\n",
       "\t<tr><th scope=row>CO2</th><td> TRUE</td><td>FALSE</td><td>FALSE</td><td> TRUE</td><td> TRUE</td><td> TRUE</td><td>FALSE</td><td> TRUE</td><td>FALSE</td><td>FALSE</td><td> TRUE</td></tr>\n",
       "\t<tr><th scope=row>CH4</th><td> TRUE</td><td>FALSE</td><td>FALSE</td><td> TRUE</td><td> TRUE</td><td> TRUE</td><td> TRUE</td><td> TRUE</td><td>FALSE</td><td>FALSE</td><td> TRUE</td></tr>\n",
       "\t<tr><th scope=row>N2O</th><td> TRUE</td><td>FALSE</td><td>FALSE</td><td> TRUE</td><td> TRUE</td><td> TRUE</td><td>FALSE</td><td> TRUE</td><td>FALSE</td><td>FALSE</td><td> TRUE</td></tr>\n",
       "\t<tr><th scope=row>CFC.11</th><td>FALSE</td><td>FALSE</td><td>FALSE</td><td>FALSE</td><td> TRUE</td><td>FALSE</td><td> TRUE</td><td> TRUE</td><td>FALSE</td><td>FALSE</td><td>FALSE</td></tr>\n",
       "\t<tr><th scope=row>CFC.12</th><td> TRUE</td><td>FALSE</td><td>FALSE</td><td> TRUE</td><td> TRUE</td><td> TRUE</td><td> TRUE</td><td> TRUE</td><td>FALSE</td><td>FALSE</td><td>FALSE</td></tr>\n",
       "\t<tr><th scope=row>TSI</th><td>FALSE</td><td>FALSE</td><td>FALSE</td><td>FALSE</td><td>FALSE</td><td>FALSE</td><td>FALSE</td><td>FALSE</td><td> TRUE</td><td>FALSE</td><td>FALSE</td></tr>\n",
       "\t<tr><th scope=row>Aerosols</th><td>FALSE</td><td>FALSE</td><td>FALSE</td><td>FALSE</td><td>FALSE</td><td>FALSE</td><td>FALSE</td><td>FALSE</td><td>FALSE</td><td> TRUE</td><td>FALSE</td></tr>\n",
       "\t<tr><th scope=row>Temp</th><td> TRUE</td><td>FALSE</td><td>FALSE</td><td> TRUE</td><td> TRUE</td><td> TRUE</td><td>FALSE</td><td>FALSE</td><td>FALSE</td><td>FALSE</td><td> TRUE</td></tr>\n",
       "</tbody>\n",
       "</table>\n"
      ],
      "text/latex": [
       "\\begin{tabular}{r|lllllllllll}\n",
       "  & Year & Month & MEI & CO2 & CH4 & N2O & CFC.11 & CFC.12 & TSI & Aerosols & Temp\\\\\n",
       "\\hline\n",
       "\tYear &  TRUE & FALSE & FALSE &  TRUE &  TRUE &  TRUE & FALSE &  TRUE & FALSE & FALSE &  TRUE\\\\\n",
       "\tMonth & FALSE &  TRUE & FALSE & FALSE & FALSE & FALSE & FALSE & FALSE & FALSE & FALSE & FALSE\\\\\n",
       "\tMEI & FALSE & FALSE &  TRUE & FALSE & FALSE & FALSE & FALSE & FALSE & FALSE & FALSE & FALSE\\\\\n",
       "\tCO2 &  TRUE & FALSE & FALSE &  TRUE &  TRUE &  TRUE & FALSE &  TRUE & FALSE & FALSE &  TRUE\\\\\n",
       "\tCH4 &  TRUE & FALSE & FALSE &  TRUE &  TRUE &  TRUE &  TRUE &  TRUE & FALSE & FALSE &  TRUE\\\\\n",
       "\tN2O &  TRUE & FALSE & FALSE &  TRUE &  TRUE &  TRUE & FALSE &  TRUE & FALSE & FALSE &  TRUE\\\\\n",
       "\tCFC.11 & FALSE & FALSE & FALSE & FALSE &  TRUE & FALSE &  TRUE &  TRUE & FALSE & FALSE & FALSE\\\\\n",
       "\tCFC.12 &  TRUE & FALSE & FALSE &  TRUE &  TRUE &  TRUE &  TRUE &  TRUE & FALSE & FALSE & FALSE\\\\\n",
       "\tTSI & FALSE & FALSE & FALSE & FALSE & FALSE & FALSE & FALSE & FALSE &  TRUE & FALSE & FALSE\\\\\n",
       "\tAerosols & FALSE & FALSE & FALSE & FALSE & FALSE & FALSE & FALSE & FALSE & FALSE &  TRUE & FALSE\\\\\n",
       "\tTemp &  TRUE & FALSE & FALSE &  TRUE &  TRUE &  TRUE & FALSE & FALSE & FALSE & FALSE &  TRUE\\\\\n",
       "\\end{tabular}\n"
      ],
      "text/markdown": [
       "1. TRUE\n",
       "2. FALSE\n",
       "3. FALSE\n",
       "4. TRUE\n",
       "5. TRUE\n",
       "6. TRUE\n",
       "7. FALSE\n",
       "8. TRUE\n",
       "9. FALSE\n",
       "10. FALSE\n",
       "11. TRUE\n",
       "12. FALSE\n",
       "13. TRUE\n",
       "14. FALSE\n",
       "15. FALSE\n",
       "16. FALSE\n",
       "17. FALSE\n",
       "18. FALSE\n",
       "19. FALSE\n",
       "20. FALSE\n",
       "21. FALSE\n",
       "22. FALSE\n",
       "23. FALSE\n",
       "24. FALSE\n",
       "25. TRUE\n",
       "26. FALSE\n",
       "27. FALSE\n",
       "28. FALSE\n",
       "29. FALSE\n",
       "30. FALSE\n",
       "31. FALSE\n",
       "32. FALSE\n",
       "33. FALSE\n",
       "34. TRUE\n",
       "35. FALSE\n",
       "36. FALSE\n",
       "37. TRUE\n",
       "38. TRUE\n",
       "39. TRUE\n",
       "40. FALSE\n",
       "41. TRUE\n",
       "42. FALSE\n",
       "43. FALSE\n",
       "44. TRUE\n",
       "45. TRUE\n",
       "46. FALSE\n",
       "47. FALSE\n",
       "48. TRUE\n",
       "49. TRUE\n",
       "50. TRUE\n",
       "51. TRUE\n",
       "52. TRUE\n",
       "53. FALSE\n",
       "54. FALSE\n",
       "55. TRUE\n",
       "56. TRUE\n",
       "57. FALSE\n",
       "58. FALSE\n",
       "59. TRUE\n",
       "60. TRUE\n",
       "61. TRUE\n",
       "62. FALSE\n",
       "63. TRUE\n",
       "64. FALSE\n",
       "65. FALSE\n",
       "66. TRUE\n",
       "67. FALSE\n",
       "68. FALSE\n",
       "69. FALSE\n",
       "70. FALSE\n",
       "71. TRUE\n",
       "72. FALSE\n",
       "73. TRUE\n",
       "74. TRUE\n",
       "75. FALSE\n",
       "76. FALSE\n",
       "77. FALSE\n",
       "78. TRUE\n",
       "79. FALSE\n",
       "80. FALSE\n",
       "81. TRUE\n",
       "82. TRUE\n",
       "83. TRUE\n",
       "84. TRUE\n",
       "85. TRUE\n",
       "86. FALSE\n",
       "87. FALSE\n",
       "88. FALSE\n",
       "89. FALSE\n",
       "90. FALSE\n",
       "91. FALSE\n",
       "92. FALSE\n",
       "93. FALSE\n",
       "94. FALSE\n",
       "95. FALSE\n",
       "96. FALSE\n",
       "97. TRUE\n",
       "98. FALSE\n",
       "99. FALSE\n",
       "100. FALSE\n",
       "101. FALSE\n",
       "102. FALSE\n",
       "103. FALSE\n",
       "104. FALSE\n",
       "105. FALSE\n",
       "106. FALSE\n",
       "107. FALSE\n",
       "108. FALSE\n",
       "109. TRUE\n",
       "110. FALSE\n",
       "111. TRUE\n",
       "112. FALSE\n",
       "113. FALSE\n",
       "114. TRUE\n",
       "115. TRUE\n",
       "116. TRUE\n",
       "117. FALSE\n",
       "118. FALSE\n",
       "119. FALSE\n",
       "120. FALSE\n",
       "121. TRUE\n",
       "\n",
       "\n"
      ],
      "text/plain": [
       "          Year Month   MEI   CO2   CH4   N2O CFC.11 CFC.12   TSI Aerosols  Temp\n",
       "Year      TRUE FALSE FALSE  TRUE  TRUE  TRUE  FALSE   TRUE FALSE    FALSE  TRUE\n",
       "Month    FALSE  TRUE FALSE FALSE FALSE FALSE  FALSE  FALSE FALSE    FALSE FALSE\n",
       "MEI      FALSE FALSE  TRUE FALSE FALSE FALSE  FALSE  FALSE FALSE    FALSE FALSE\n",
       "CO2       TRUE FALSE FALSE  TRUE  TRUE  TRUE  FALSE   TRUE FALSE    FALSE  TRUE\n",
       "CH4       TRUE FALSE FALSE  TRUE  TRUE  TRUE   TRUE   TRUE FALSE    FALSE  TRUE\n",
       "N2O       TRUE FALSE FALSE  TRUE  TRUE  TRUE  FALSE   TRUE FALSE    FALSE  TRUE\n",
       "CFC.11   FALSE FALSE FALSE FALSE  TRUE FALSE   TRUE   TRUE FALSE    FALSE FALSE\n",
       "CFC.12    TRUE FALSE FALSE  TRUE  TRUE  TRUE   TRUE   TRUE FALSE    FALSE FALSE\n",
       "TSI      FALSE FALSE FALSE FALSE FALSE FALSE  FALSE  FALSE  TRUE    FALSE FALSE\n",
       "Aerosols FALSE FALSE FALSE FALSE FALSE FALSE  FALSE  FALSE FALSE     TRUE FALSE\n",
       "Temp      TRUE FALSE FALSE  TRUE  TRUE  TRUE  FALSE  FALSE FALSE    FALSE  TRUE"
      ]
     },
     "execution_count": 7,
     "metadata": {},
     "output_type": "execute_result"
    }
   ],
   "source": [
    "cor(train) > 0.7 #Problem 2.1, 2.2"
   ]
  },
  {
   "cell_type": "code",
   "execution_count": 8,
   "metadata": {
    "collapsed": false
   },
   "outputs": [
    {
     "data": {
      "text/plain": [
       "\n",
       "Call:\n",
       "lm(formula = Temp ~ MEI + TSI + Aerosols + N2O, data = train)\n",
       "\n",
       "Residuals:\n",
       "     Min       1Q   Median       3Q      Max \n",
       "-0.27916 -0.05975 -0.00595  0.05672  0.34195 \n",
       "\n",
       "Coefficients:\n",
       "              Estimate Std. Error t value Pr(>|t|)    \n",
       "(Intercept) -1.162e+02  2.022e+01  -5.747 2.37e-08 ***\n",
       "MEI          6.419e-02  6.652e-03   9.649  < 2e-16 ***\n",
       "TSI          7.949e-02  1.487e-02   5.344 1.89e-07 ***\n",
       "Aerosols    -1.702e+00  2.180e-01  -7.806 1.19e-13 ***\n",
       "N2O          2.532e-02  1.311e-03  19.307  < 2e-16 ***\n",
       "---\n",
       "Signif. codes:  0 '***' 0.001 '**' 0.01 '*' 0.05 '.' 0.1 ' ' 1\n",
       "\n",
       "Residual standard error: 0.09547 on 279 degrees of freedom\n",
       "Multiple R-squared:  0.7261,\tAdjusted R-squared:  0.7222 \n",
       "F-statistic: 184.9 on 4 and 279 DF,  p-value: < 2.2e-16\n"
      ]
     },
     "execution_count": 8,
     "metadata": {},
     "output_type": "execute_result"
    }
   ],
   "source": [
    "summary(lm(Temp~MEI+TSI+Aerosols+N2O, data=train))#Problem 3"
   ]
  },
  {
   "cell_type": "code",
   "execution_count": 11,
   "metadata": {
    "collapsed": false
   },
   "outputs": [
    {
     "name": "stdout",
     "output_type": "stream",
     "text": [
      "Start:  AIC=-1348.16\n",
      "Temp ~ MEI + CO2 + CH4 + N2O + CFC.11 + CFC.12 + TSI + Aerosols\n",
      "\n",
      "           Df Sum of Sq    RSS     AIC\n",
      "- CH4       1   0.00049 2.3135 -1350.1\n",
      "<none>                  2.3130 -1348.2\n",
      "- N2O       1   0.03132 2.3443 -1346.3\n",
      "- CO2       1   0.06719 2.3802 -1342.0\n",
      "- CFC.12    1   0.11874 2.4318 -1335.9\n",
      "- CFC.11    1   0.13986 2.4529 -1333.5\n",
      "- TSI       1   0.33516 2.6482 -1311.7\n",
      "- Aerosols  1   0.43727 2.7503 -1301.0\n",
      "- MEI       1   0.82823 3.1412 -1263.2\n",
      "\n",
      "Step:  AIC=-1350.1\n",
      "Temp ~ MEI + CO2 + N2O + CFC.11 + CFC.12 + TSI + Aerosols\n",
      "\n",
      "           Df Sum of Sq    RSS     AIC\n",
      "<none>                  2.3135 -1350.1\n",
      "- N2O       1   0.03133 2.3448 -1348.3\n",
      "- CO2       1   0.06672 2.3802 -1344.0\n",
      "- CFC.12    1   0.13023 2.4437 -1336.5\n",
      "- CFC.11    1   0.13938 2.4529 -1335.5\n",
      "- TSI       1   0.33500 2.6485 -1313.7\n",
      "- Aerosols  1   0.43987 2.7534 -1302.7\n",
      "- MEI       1   0.83118 3.1447 -1264.9\n"
     ]
    },
    {
     "data": {
      "text/plain": [
       "\n",
       "Call:\n",
       "lm(formula = Temp ~ MEI + CO2 + N2O + CFC.11 + CFC.12 + TSI + \n",
       "    Aerosols, data = train)\n",
       "\n",
       "Residuals:\n",
       "     Min       1Q   Median       3Q      Max \n",
       "-0.25770 -0.05994 -0.00104  0.05588  0.32203 \n",
       "\n",
       "Coefficients:\n",
       "              Estimate Std. Error t value Pr(>|t|)    \n",
       "(Intercept) -1.245e+02  1.985e+01  -6.273 1.37e-09 ***\n",
       "MEI          6.407e-02  6.434e-03   9.958  < 2e-16 ***\n",
       "CO2          6.402e-03  2.269e-03   2.821 0.005129 ** \n",
       "N2O         -1.602e-02  8.287e-03  -1.933 0.054234 .  \n",
       "CFC.11      -6.609e-03  1.621e-03  -4.078 5.95e-05 ***\n",
       "CFC.12       3.868e-03  9.812e-04   3.942 0.000103 ***\n",
       "TSI          9.312e-02  1.473e-02   6.322 1.04e-09 ***\n",
       "Aerosols    -1.540e+00  2.126e-01  -7.244 4.36e-12 ***\n",
       "---\n",
       "Signif. codes:  0 '***' 0.001 '**' 0.01 '*' 0.05 '.' 0.1 ' ' 1\n",
       "\n",
       "Residual standard error: 0.09155 on 276 degrees of freedom\n",
       "Multiple R-squared:  0.7508,\tAdjusted R-squared:  0.7445 \n",
       "F-statistic: 118.8 on 7 and 276 DF,  p-value: < 2.2e-16\n"
      ]
     },
     "execution_count": 11,
     "metadata": {},
     "output_type": "execute_result"
    }
   ],
   "source": [
    "stepModel = step(TempReg)#Problem 4\n",
    "summary(stepModel)"
   ]
  },
  {
   "cell_type": "code",
   "execution_count": 12,
   "metadata": {
    "collapsed": true
   },
   "outputs": [],
   "source": [
    "TempPrediction = predict(stepModel, newdata=test)"
   ]
  },
  {
   "cell_type": "code",
   "execution_count": 14,
   "metadata": {
    "collapsed": false
   },
   "outputs": [
    {
     "data": {
      "text/html": [
       "0.628605122509888"
      ],
      "text/latex": [
       "0.628605122509888"
      ],
      "text/markdown": [
       "0.628605122509888"
      ],
      "text/plain": [
       "[1] 0.6286051"
      ]
     },
     "execution_count": 14,
     "metadata": {},
     "output_type": "execute_result"
    }
   ],
   "source": [
    "SSE = sum((test$Temp - TempPrediction)^2)\n",
    "SST = sum((test$Temp - mean(train$Temp))^2)\n",
    "R2 = 1 - SSE / SST\n",
    "R2 #Problem 5"
   ]
  },
  {
   "cell_type": "markdown",
   "metadata": {},
   "source": [
    "注意，计算SST时是用的训练数据的均值，可见基准模型是基于训练数据的。"
   ]
  },
  {
   "cell_type": "code",
   "execution_count": null,
   "metadata": {
    "collapsed": true
   },
   "outputs": [],
   "source": []
  }
 ],
 "metadata": {
  "kernelspec": {
   "display_name": "R",
   "language": "R",
   "name": "ir"
  },
  "language_info": {
   "codemirror_mode": "r",
   "file_extension": ".r",
   "mimetype": "text/x-r-source",
   "name": "R",
   "pygments_lexer": "r",
   "version": "3.1.3"
  }
 },
 "nbformat": 4,
 "nbformat_minor": 0
}
