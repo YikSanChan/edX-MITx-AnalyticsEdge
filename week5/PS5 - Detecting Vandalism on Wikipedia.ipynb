{
 "cells": [
  {
   "cell_type": "markdown",
   "metadata": {},
   "source": [
    "### 目标\n",
    "\n",
    "发现维基百科中的**故意破坏者**，他们故意污染词条。\n",
    "\n",
    "### 数据\n",
    "\n",
    "**Language**词条的历史修订版本。若一个版本被还原，则认为该版本是破坏者。\n",
    "\n",
    "- Vandal：破坏者\n",
    "- Minor：小众词条\n",
    "- Loggedin：编辑者是否登录\n",
    "- Added：The unique words added\n",
    "- Removed： The unique words removed"
   ]
  },
  {
   "cell_type": "code",
   "execution_count": 1,
   "metadata": {
    "collapsed": true
   },
   "outputs": [],
   "source": [
    "wiki = read.csv(\"./data/wiki.csv\", stringsAsFactors=FALSE)\n",
    "wiki$Vandal = as.factor(wiki$Vandal)"
   ]
  },
  {
   "cell_type": "code",
   "execution_count": 2,
   "metadata": {
    "collapsed": false
   },
   "outputs": [
    {
     "data": {
      "text/plain": [
       "\n",
       "   0    1 \n",
       "2061 1815 "
      ]
     },
     "execution_count": 2,
     "metadata": {},
     "output_type": "execute_result"
    }
   ],
   "source": [
    "table(wiki$Vandal)"
   ]
  },
  {
   "cell_type": "code",
   "execution_count": 2,
   "metadata": {
    "collapsed": false
   },
   "outputs": [
    {
     "name": "stderr",
     "output_type": "stream",
     "text": [
      "Loading required package: NLP\n"
     ]
    }
   ],
   "source": [
    "library(tm)"
   ]
  },
  {
   "cell_type": "code",
   "execution_count": 3,
   "metadata": {
    "collapsed": false
   },
   "outputs": [
    {
     "data": {
      "text/plain": [
       "<<DocumentTermMatrix (documents: 3876, terms: 6675)>>\n",
       "Non-/sparse entries: 15368/25856932\n",
       "Sparsity           : 100%\n",
       "Maximal term length: 784\n",
       "Weighting          : term frequency (tf)"
      ]
     },
     "execution_count": 3,
     "metadata": {},
     "output_type": "execute_result"
    }
   ],
   "source": [
    "corpusAdded = Corpus(VectorSource(wiki$Added))\n",
    "corpusAdded = tm_map(corpusAdded, removeWords, stopwords(\"english\"))\n",
    "corpusAdded = tm_map(corpusAdded, stemDocument)\n",
    "dtmAdded = DocumentTermMatrix(corpusAdded)\n",
    "dtmAdded"
   ]
  },
  {
   "cell_type": "code",
   "execution_count": 4,
   "metadata": {
    "collapsed": false
   },
   "outputs": [
    {
     "data": {
      "text/plain": [
       "<<DocumentTermMatrix (documents: 3876, terms: 166)>>\n",
       "Non-/sparse entries: 2681/640735\n",
       "Sparsity           : 100%\n",
       "Maximal term length: 28\n",
       "Weighting          : term frequency (tf)"
      ]
     },
     "execution_count": 4,
     "metadata": {},
     "output_type": "execute_result"
    }
   ],
   "source": [
    "sparseAdded = removeSparseTerms(dtmAdded, 0.997)\n",
    "sparseAdded"
   ]
  },
  {
   "cell_type": "code",
   "execution_count": 5,
   "metadata": {
    "collapsed": true
   },
   "outputs": [],
   "source": [
    "wordsAdded = as.data.frame(as.matrix(sparseAdded))\n",
    "colnames(wordsAdded) = paste(\"A\", colnames(wordsAdded))"
   ]
  },
  {
   "cell_type": "code",
   "execution_count": 6,
   "metadata": {
    "collapsed": true
   },
   "outputs": [],
   "source": [
    "corpusRemoved = Corpus(VectorSource(wiki$Removed))\n",
    "corpusRemoved = tm_map(corpusRemoved, removeWords, stopwords(\"english\"))\n",
    "corpusRemoved = tm_map(corpusRemoved, stemDocument)"
   ]
  },
  {
   "cell_type": "code",
   "execution_count": 7,
   "metadata": {
    "collapsed": true
   },
   "outputs": [],
   "source": [
    "dtmRemoved = DocumentTermMatrix(corpusRemoved)\n",
    "sparseRemoved = removeSparseTerms(dtmRemoved, 0.997)\n",
    "wordsRemoved = as.data.frame(as.matrix(sparseRemoved))\n",
    "colnames(wordsRemoved) = paste(\"R\", colnames(wordsRemoved))"
   ]
  },
  {
   "cell_type": "code",
   "execution_count": 10,
   "metadata": {
    "collapsed": false
   },
   "outputs": [
    {
     "name": "stdout",
     "output_type": "stream",
     "text": [
      "'data.frame':\t3876 obs. of  162 variables:\n",
      " $ R 2000000                     : num  0 0 0 0 0 0 0 0 0 0 ...\n",
      " $ R 40000                       : num  0 0 0 0 0 0 0 0 0 0 ...\n",
      " $ R accord                      : num  0 0 0 0 0 0 0 0 0 0 ...\n",
      " $ R actual                      : num  0 0 0 0 0 0 0 0 0 0 ...\n",
      " $ R ago                         : num  0 0 0 0 0 0 0 0 0 0 ...\n",
      " $ R agre                        : num  0 0 0 0 0 0 0 0 0 0 ...\n",
      " $ R analog                      : num  0 0 0 0 0 0 0 0 0 0 ...\n",
      " $ R appar                       : num  0 0 0 0 0 0 0 0 0 0 ...\n",
      " $ R arbitrari                   : num  0 0 0 0 0 0 0 0 0 0 ...\n",
      " $ R believ                      : num  0 0 0 0 0 0 0 0 0 0 ...\n",
      " $ R bigger                      : num  0 0 0 0 0 0 0 0 0 0 ...\n",
      " $ R biolog                      : num  0 0 0 0 0 0 0 0 0 0 ...\n",
      " $ R biologyanalog               : num  0 0 0 0 0 0 0 0 0 0 ...\n",
      " $ R bodi                        : num  0 0 0 1 0 0 0 0 0 0 ...\n",
      " $ R call                        : num  0 0 0 1 0 0 0 0 0 0 ...\n",
      " $ R care                        : num  0 0 0 0 0 0 0 0 0 0 ...\n",
      " $ R clear                       : num  0 0 0 0 0 0 0 0 0 0 ...\n",
      " $ R close                       : num  0 0 0 0 0 0 0 0 0 0 ...\n",
      " $ R combin                      : num  0 0 0 0 0 0 0 0 0 0 ...\n",
      " $ R communic                    : num  0 0 0 0 0 0 0 0 0 0 ...\n",
      " $ R communiti                   : num  0 0 0 0 0 0 0 0 0 0 ...\n",
      " $ R compar                      : num  0 0 0 0 0 0 0 0 0 0 ...\n",
      " $ R complet                     : num  0 0 0 1 0 0 0 0 0 0 ...\n",
      " $ R concept                     : num  0 0 0 1 0 0 0 0 0 0 ...\n",
      " $ R contact                     : num  0 0 0 0 0 0 0 0 0 0 ...\n",
      " $ R contain                     : num  0 0 0 0 0 0 0 0 0 0 ...\n",
      " $ R correl                      : num  0 0 0 0 0 0 0 0 0 0 ...\n",
      " $ R cours                       : num  0 0 0 0 0 0 0 0 0 0 ...\n",
      " $ R creat                       : num  0 0 0 1 0 0 0 0 0 0 ...\n",
      " $ R cromagnon                   : num  0 0 0 0 0 0 0 0 0 0 ...\n",
      " $ R defin                       : num  0 0 0 0 0 0 0 0 0 0 ...\n",
      " $ R deriv                       : num  0 0 0 0 0 0 0 0 0 0 ...\n",
      " $ R develop                     : num  0 0 0 1 0 0 0 0 0 0 ...\n",
      " $ R differ                      : num  0 0 0 1 0 0 0 0 0 0 ...\n",
      " $ R direct                      : num  0 0 0 0 0 0 0 0 0 0 ...\n",
      " $ R discuss                     : num  0 0 0 0 0 0 0 0 0 0 ...\n",
      " $ R distinct                    : num  0 0 0 0 0 0 0 0 0 0 ...\n",
      " $ R dutch                       : num  0 0 0 0 0 0 0 0 0 0 ...\n",
      " $ R easytolearn                 : num  0 0 0 0 0 0 0 0 0 0 ...\n",
      " $ R estim                       : num  0 0 0 0 0 0 0 0 0 0 ...\n",
      " $ R exampl                      : num  0 0 0 0 0 0 0 0 0 0 ...\n",
      " $ R experiment                  : num  0 0 0 0 0 0 0 0 0 0 ...\n",
      " $ R express                     : num  0 0 0 0 0 0 0 0 0 0 ...\n",
      " $ R famili                      : num  0 0 0 1 0 0 0 0 0 0 ...\n",
      " $ R fantasi                     : num  0 0 0 0 0 0 0 0 0 0 ...\n",
      " $ R featur                      : num  0 0 0 0 0 0 0 0 0 0 ...\n",
      " $ R first                       : num  0 0 1 0 0 0 0 0 0 0 ...\n",
      " $ R follow                      : num  0 0 0 0 0 0 0 0 0 0 ...\n",
      " $ R forc                        : num  0 0 0 0 0 0 0 0 0 0 ...\n",
      " $ R forti                       : num  0 0 0 0 0 0 0 0 0 0 ...\n",
      " $ R fuck                        : num  0 0 0 0 0 0 0 0 0 0 ...\n",
      " $ R general                     : num  0 0 0 0 0 0 0 0 0 0 ...\n",
      " $ R geograph                    : num  0 0 0 0 0 0 0 0 0 0 ...\n",
      " $ R german                      : num  0 0 0 0 0 0 0 0 0 0 ...\n",
      " $ R gestur                      : num  0 0 0 0 0 0 0 0 0 0 ...\n",
      " $ R get                         : num  0 0 0 0 0 0 0 0 0 0 ...\n",
      " $ R given                       : num  0 0 0 0 0 0 0 0 0 0 ...\n",
      " $ R govern                      : num  0 0 0 0 0 0 0 0 0 0 ...\n",
      " $ R group                       : num  0 0 0 1 0 0 0 0 0 0 ...\n",
      " $ R habili                      : num  0 0 0 0 0 0 0 0 0 0 ...\n",
      " $ R homo                        : num  0 0 0 0 0 0 0 0 0 0 ...\n",
      " $ R homolog                     : num  0 0 0 0 0 0 0 0 0 0 ...\n",
      " $ R icon                        : num  0 0 0 0 0 0 0 0 0 0 ...\n",
      " $ R idea                        : num  0 0 0 1 0 0 0 0 0 0 ...\n",
      " $ R ideolog                     : num  0 0 0 0 0 0 0 0 0 0 ...\n",
      " $ R imposs                      : num  0 0 0 0 0 0 0 0 0 0 ...\n",
      " $ R includ                      : num  0 0 0 1 0 0 0 0 0 0 ...\n",
      " $ R individu                    : num  0 0 0 0 0 0 0 0 0 0 ...\n",
      " $ R intern                      : num  0 0 0 0 0 0 0 0 0 0 ...\n",
      " $ R just                        : num  0 0 0 0 0 0 0 0 0 0 ...\n",
      " $ R know                        : num  0 0 0 0 0 0 0 0 0 0 ...\n",
      " $ R langesnada                  : num  0 0 0 0 0 0 0 0 0 0 ...\n",
      " $ R languageenglish             : num  0 0 0 0 0 0 0 0 0 0 ...\n",
      " $ R languagespanish             : num  0 0 0 0 0 0 0 0 0 0 ...\n",
      " $ R learn                       : num  0 0 0 0 0 0 0 0 0 0 ...\n",
      " $ R least                       : num  0 0 0 0 0 0 0 0 0 0 ...\n",
      " $ R linguist                    : num  0 0 0 1 0 0 0 0 0 0 ...\n",
      " $ R linguisticssent             : num  0 0 0 0 0 0 0 0 0 0 ...\n",
      " $ R literari                    : num  0 0 0 0 0 0 0 0 0 0 ...\n",
      " $ R logic                       : num  0 0 0 0 0 0 0 0 0 0 ...\n",
      " $ R mainlinguist                : num  0 0 0 0 0 0 0 0 0 0 ...\n",
      " $ R mainorigin                  : num  0 0 0 0 0 0 0 0 0 0 ...\n",
      " $ R make                        : num  0 0 0 1 0 0 0 0 0 0 ...\n",
      " $ R manipul                     : num  0 0 0 0 0 0 0 0 0 0 ...\n",
      " $ R map                         : num  0 0 0 0 0 0 0 0 0 0 ...\n",
      " $ R mean                        : num  0 0 0 0 0 0 0 0 0 0 ...\n",
      " $ R method                      : num  0 0 0 0 0 0 0 0 0 0 ...\n",
      " $ R million                     : num  0 0 0 0 0 0 0 0 0 0 ...\n",
      " $ R must                        : num  0 0 0 0 0 0 0 0 0 0 ...\n",
      " $ R name                        : num  0 0 0 0 0 0 0 0 0 0 ...\n",
      " $ R nation                      : num  0 0 0 0 0 0 0 0 0 0 ...\n",
      " $ R notion                      : num  0 0 0 0 0 0 0 0 0 0 ...\n",
      " $ R object                      : num  0 0 0 0 0 0 0 0 0 0 ...\n",
      " $ R onlin                       : num  0 0 0 0 0 0 0 0 0 0 ...\n",
      " $ R onto                        : num  0 0 0 0 0 0 0 0 0 0 ...\n",
      " $ R origin                      : num  0 0 0 0 0 0 0 0 0 0 ...\n",
      " $ R parallel                    : num  0 0 0 0 0 0 0 0 0 0 ...\n",
      " $ R part                        : num  0 0 0 0 1 0 0 0 0 0 ...\n",
      " $ R pattern                     : num  0 0 0 1 0 0 0 0 0 0 ...\n",
      "  [list output truncated]\n"
     ]
    }
   ],
   "source": [
    "str(wordsRemoved)"
   ]
  },
  {
   "cell_type": "code",
   "execution_count": 11,
   "metadata": {
    "collapsed": true
   },
   "outputs": [],
   "source": [
    "wikiWords = cbind(wordsAdded, wordsRemoved)"
   ]
  },
  {
   "cell_type": "code",
   "execution_count": 12,
   "metadata": {
    "collapsed": true
   },
   "outputs": [],
   "source": [
    "wikiWords$Vandal = wiki$Vandal"
   ]
  },
  {
   "cell_type": "code",
   "execution_count": 13,
   "metadata": {
    "collapsed": true
   },
   "outputs": [],
   "source": [
    "library(caTools)\n",
    "set.seed(123)\n",
    "split = sample.split(wikiWords$Vandal, SplitRatio=0.7)\n",
    "train = subset(wikiWords, split==TRUE)\n",
    "test = subset(wikiWords, split==FALSE)"
   ]
  },
  {
   "cell_type": "code",
   "execution_count": 14,
   "metadata": {
    "collapsed": false
   },
   "outputs": [
    {
     "data": {
      "text/plain": [
       "\n",
       "  0   1 \n",
       "618 545 "
      ]
     },
     "execution_count": 14,
     "metadata": {},
     "output_type": "execute_result"
    }
   ],
   "source": [
    "table(test$Vandal)"
   ]
  },
  {
   "cell_type": "code",
   "execution_count": 15,
   "metadata": {
    "collapsed": false
   },
   "outputs": [
    {
     "data": {
      "text/html": [
       "0.531384350816853"
      ],
      "text/latex": [
       "0.531384350816853"
      ],
      "text/markdown": [
       "0.531384350816853"
      ],
      "text/plain": [
       "[1] 0.5313844"
      ]
     },
     "execution_count": 15,
     "metadata": {},
     "output_type": "execute_result"
    }
   ],
   "source": [
    "618/(618+545)"
   ]
  },
  {
   "cell_type": "code",
   "execution_count": 16,
   "metadata": {
    "collapsed": true
   },
   "outputs": [],
   "source": [
    "library(rpart)\n",
    "library(rpart.plot)"
   ]
  },
  {
   "cell_type": "code",
   "execution_count": 18,
   "metadata": {
    "collapsed": false
   },
   "outputs": [
    {
     "data": {
      "application/pdf": "[encoded data removed]",
      "image/jpeg": "[encoded data removed]",
      "image/png": "[encoded data removed]",
      "text/plain": [
       "plot without title"
      ]
     },
     "metadata": {
      "image/svg+xml": {
       "isolated": true
      }
     },
     "output_type": "display_data"
    }
   ],
   "source": [
    "wikiCART = rpart(Vandal ~ ., data=train, method=\"class\")\n",
    "prp(wikiCART)"
   ]
  },
  {
   "cell_type": "code",
   "execution_count": 19,
   "metadata": {
    "collapsed": false
   },
   "outputs": [
    {
     "data": {
      "text/plain": [
       "   predictCART\n",
       "      0   1\n",
       "  0 618   0\n",
       "  1 533  12"
      ]
     },
     "execution_count": 19,
     "metadata": {},
     "output_type": "execute_result"
    }
   ],
   "source": [
    "predictCART = predict(wikiCART, newdata=test, type=\"class\")\n",
    "table(test$Vandal, predictCART)"
   ]
  },
  {
   "cell_type": "code",
   "execution_count": 20,
   "metadata": {
    "collapsed": false
   },
   "outputs": [
    {
     "data": {
      "text/html": [
       "0.541702493551161"
      ],
      "text/latex": [
       "0.541702493551161"
      ],
      "text/markdown": [
       "0.541702493551161"
      ],
      "text/plain": [
       "[1] 0.5417025"
      ]
     },
     "execution_count": 20,
     "metadata": {},
     "output_type": "execute_result"
    }
   ],
   "source": [
    "(618+12)/(618+533+12)"
   ]
  },
  {
   "cell_type": "markdown",
   "metadata": {},
   "source": [
    "The words themselves were not useful. 向词条编辑入网址是一种常见的破坏行为，现在假设网址的出现是破坏行为的标识。"
   ]
  },
  {
   "cell_type": "code",
   "execution_count": 21,
   "metadata": {
    "collapsed": false
   },
   "outputs": [
    {
     "data": {
      "text/plain": [
       "\n",
       "   0    1 \n",
       "3659  217 "
      ]
     },
     "execution_count": 21,
     "metadata": {},
     "output_type": "execute_result"
    }
   ],
   "source": [
    "wikiWords2 = wikiWords\n",
    "wikiWords2$HTTP = ifelse(grepl(\"http\",wiki$Added, fixed=TRUE),1,0)\n",
    "table(wikiWords2$HTTP)"
   ]
  },
  {
   "cell_type": "code",
   "execution_count": 22,
   "metadata": {
    "collapsed": true
   },
   "outputs": [],
   "source": [
    "train2 = subset(wikiWords2, split==TRUE)\n",
    "test2 = subset(wikiWords2, split==FALSE)"
   ]
  },
  {
   "cell_type": "code",
   "execution_count": 23,
   "metadata": {
    "collapsed": false
   },
   "outputs": [
    {
     "data": {
      "text/plain": [
       "   predictCART2\n",
       "      0   1\n",
       "  0 609   9\n",
       "  1 488  57"
      ]
     },
     "execution_count": 23,
     "metadata": {},
     "output_type": "execute_result"
    }
   ],
   "source": [
    "wikiCART2 = rpart(Vandal ~ ., data=train2, method=\"class\")\n",
    "predictCART2 = predict(wikiCART2, newdata=test2, type=\"class\")\n",
    "table(test2$Vandal, predictCART2)"
   ]
  },
  {
   "cell_type": "code",
   "execution_count": 24,
   "metadata": {
    "collapsed": false
   },
   "outputs": [
    {
     "data": {
      "text/html": [
       "0.572656921754084"
      ],
      "text/latex": [
       "0.572656921754084"
      ],
      "text/markdown": [
       "0.572656921754084"
      ],
      "text/plain": [
       "[1] 0.5726569"
      ]
     },
     "execution_count": 24,
     "metadata": {},
     "output_type": "execute_result"
    }
   ],
   "source": [
    "(609+57)/(609+9+488+57)"
   ]
  },
  {
   "cell_type": "markdown",
   "metadata": {},
   "source": [
    "假设加入、移除的单词数量（而非加入、移除行为本身）是更好的标识。"
   ]
  },
  {
   "cell_type": "code",
   "execution_count": 25,
   "metadata": {
    "collapsed": true
   },
   "outputs": [],
   "source": [
    "wikiWords2$NumWordsAdded = rowSums(as.matrix(dtmAdded))\n",
    "wikiWords2$NumWordsRemoved = rowSums(as.matrix(dtmRemoved))"
   ]
  },
  {
   "cell_type": "code",
   "execution_count": 29,
   "metadata": {
    "collapsed": false
   },
   "outputs": [
    {
     "data": {
      "text/plain": [
       "   Min. 1st Qu.  Median    Mean 3rd Qu.    Max. \n",
       "   0.00    0.00    1.00    4.05    3.00  259.00 "
      ]
     },
     "execution_count": 29,
     "metadata": {},
     "output_type": "execute_result"
    }
   ],
   "source": [
    "summary(wikiWords2$NumWordsAdded)"
   ]
  },
  {
   "cell_type": "code",
   "execution_count": 30,
   "metadata": {
    "collapsed": false
   },
   "outputs": [
    {
     "data": {
      "text/plain": [
       "   predictCART3\n",
       "      0   1\n",
       "  0 514 104\n",
       "  1 297 248"
      ]
     },
     "execution_count": 30,
     "metadata": {},
     "output_type": "execute_result"
    }
   ],
   "source": [
    "train3 = subset(wikiWords2, split==TRUE)\n",
    "test3 = subset(wikiWords2, split==FALSE)\n",
    "wikiCART3 = rpart(Vandal ~ ., data=train3, method=\"class\")\n",
    "predictCART3 = predict(wikiCART3, newdata=test3, type=\"class\")\n",
    "table(test3$Vandal, predictCART3)"
   ]
  },
  {
   "cell_type": "code",
   "execution_count": 31,
   "metadata": {
    "collapsed": false
   },
   "outputs": [
    {
     "data": {
      "text/html": [
       "0.655202063628547"
      ],
      "text/latex": [
       "0.655202063628547"
      ],
      "text/markdown": [
       "0.655202063628547"
      ],
      "text/plain": [
       "[1] 0.6552021"
      ]
     },
     "execution_count": 31,
     "metadata": {},
     "output_type": "execute_result"
    }
   ],
   "source": [
    "(514+248)/(514+104+297+248)"
   ]
  },
  {
   "cell_type": "code",
   "execution_count": 32,
   "metadata": {
    "collapsed": false
   },
   "outputs": [
    {
     "data": {
      "text/plain": [
       "   predictCART4\n",
       "      0   1\n",
       "  0 595  23\n",
       "  1 304 241"
      ]
     },
     "execution_count": 32,
     "metadata": {},
     "output_type": "execute_result"
    }
   ],
   "source": [
    "wikiWords3 = wikiWords2\n",
    "wikiWords3$Minor = wiki$Minor\n",
    "wikiWords3$Loggedin = wiki$Loggedin\n",
    "train4 = subset(wikiWords3, split==TRUE)\n",
    "test4 = subset(wikiWords3, split==FALSE)\n",
    "wikiCART4 = rpart(Vandal ~ ., data=train4, method=\"class\")\n",
    "predictCART4 = predict(wikiCART4, newdata=test4, type=\"class\")\n",
    "table(test4$Vandal, predictCART4)"
   ]
  },
  {
   "cell_type": "code",
   "execution_count": 33,
   "metadata": {
    "collapsed": false
   },
   "outputs": [
    {
     "data": {
      "text/html": [
       "0.718830610490112"
      ],
      "text/latex": [
       "0.718830610490112"
      ],
      "text/markdown": [
       "0.718830610490112"
      ],
      "text/plain": [
       "[1] 0.7188306"
      ]
     },
     "execution_count": 33,
     "metadata": {},
     "output_type": "execute_result"
    }
   ],
   "source": [
    "(595+241)/(595+23+304+241)"
   ]
  },
  {
   "cell_type": "code",
   "execution_count": 34,
   "metadata": {
    "collapsed": false
   },
   "outputs": [
    {
     "data": {
      "application/pdf": "[encoded data removed]",
      "image/jpeg": "[encoded data removed]",
      "image/png": "[encoded data removed]",
      "text/plain": [
       "plot without title"
      ]
     },
     "metadata": {
      "image/svg+xml": {
       "isolated": true
      }
     },
     "output_type": "display_data"
    }
   ],
   "source": [
    "prp(wikiCART4)"
   ]
  },
  {
   "cell_type": "code",
   "execution_count": null,
   "metadata": {
    "collapsed": true
   },
   "outputs": [],
   "source": []
  }
 ],
 "metadata": {
  "kernelspec": {
   "display_name": "R",
   "language": "R",
   "name": "ir"
  },
  "language_info": {
   "codemirror_mode": "r",
   "file_extension": ".r",
   "mimetype": "text/x-r-source",
   "name": "R",
   "pygments_lexer": "r",
   "version": "3.1.3"
  }
 },
 "nbformat": 4,
 "nbformat_minor": 0
}
