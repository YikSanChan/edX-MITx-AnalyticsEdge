{
 "cells": [
  {
   "cell_type": "markdown",
   "metadata": {},
   "source": [
    "### 目标\n",
    "\n",
    "从安然公司的电子文档中，找出它商业犯罪的证据。传统的方法是“关键词+人工识别”，来找出与商业犯罪相关的证据。新的分析方法是**Predictive Coding**，先人工为一些文档打标签，随后用文本分析模型进行预测。"
   ]
  },
  {
   "cell_type": "code",
   "execution_count": 1,
   "metadata": {
    "collapsed": false
   },
   "outputs": [
    {
     "name": "stdout",
     "output_type": "stream",
     "text": [
      "'data.frame':\t855 obs. of  2 variables:\n",
      " $ email     : chr  \"North America's integrated electricity market requires cooperation on environmental policies Commission for Environmental Coope\"| __truncated__ \"FYI -----Original Message----- From: \\t\\\"Ginny Feliciano\\\" <gfeliciano@earthlink.net>@ENRON [mailto:IMCEANOTES-+22Ginny+20Felic\"| __truncated__ \"14:13:53 Synchronizing Mailbox 'Kean, Steven J.' 14:13:53 Synchronizing Hierarchy 14:13:53 Synchronizing Favorites 14:13:53 Syn\"| __truncated__ \"^ ----- Forwarded by Steven J Kean/NA/Enron on 03/02/2001 12:27 PM ----- Suzanne_Nimocks@mckinsey.com Sent by: Carol_Benter@mck\"| __truncated__ ...\n",
      " $ responsive: int  0 1 0 1 0 0 1 0 0 0 ...\n"
     ]
    }
   ],
   "source": [
    "emails = read.csv(\"./data/energy_bids.csv\", stringsAsFactors=FALSE)\n",
    "str(emails)"
   ]
  },
  {
   "cell_type": "code",
   "execution_count": 3,
   "metadata": {
    "collapsed": false
   },
   "outputs": [
    {
     "data": {
      "text/html": [
       "<ol class=list-inline>\n",
       "\t<li>\"North America's integrated electricity market requires cooperation on\"</li>\n",
       "\t<li>\"environmental policies Commission for Environmental Cooperation\"</li>\n",
       "\t<li>\"releases working paper on North America's electricity market Montreal,\"</li>\n",
       "\t<li>\"27 November 2001 -- The North American Commission for Environmental\"</li>\n",
       "\t<li>\"Cooperation (CEC) is releasing a working paper highlighting the trend\"</li>\n",
       "\t<li>\"towards increasing trade, competition and cross-border investment in\"</li>\n",
       "\t<li>\"electricity between Canada, Mexico and the United States. It is hoped\"</li>\n",
       "\t<li>\"that the working paper, Environmental Challenges and Opportunities in\"</li>\n",
       "\t<li>\"the Evolving North American Electricity Market, will stimulate public\"</li>\n",
       "\t<li>\"discussion around a CEC symposium of the same title about the need to\"</li>\n",
       "\t<li>\"coordinate environmental policies trinationally as a North America-wide\"</li>\n",
       "\t<li>\"electricity market develops. The CEC symposium will take place in San\"</li>\n",
       "\t<li>\"Diego on 29-30 November, and will bring together leading experts from\"</li>\n",
       "\t<li>\"industry, academia, NGOs and the governments of Canada, Mexico and the\"</li>\n",
       "\t<li>\"United States to consider the impact of the evolving continental\"</li>\n",
       "\t<li>\"electricity market on human health and the environment. \\\"Our goal [with\"</li>\n",
       "\t<li>\"the working paper and the symposium] is to highlight key environmental\"</li>\n",
       "\t<li>\"issues that must be addressed as the electricity markets in North\"</li>\n",
       "\t<li>\"America become more and more integrated,\\\" said Janine Ferretti,\"</li>\n",
       "\t<li>\"executive director of the CEC. \\\"We want to stimulate discussion around\"</li>\n",
       "\t<li>\"the important policy questions being raised so that countries can\"</li>\n",
       "\t<li>\"cooperate in their approach to energy and the environment.\\\" The CEC, an\"</li>\n",
       "\t<li>\"international organization created under an environmental side\"</li>\n",
       "\t<li>\"agreement to NAFTA known as the North American Agreement on\"</li>\n",
       "\t<li>\"Environmental Cooperation, was established to address regional\"</li>\n",
       "\t<li>\"environmental concerns, help prevent potential trade and environmental\"</li>\n",
       "\t<li>\"conflicts, and promote the effective enforcement of environmental law.\"</li>\n",
       "\t<li>\"The CEC Secretariat believes that greater North American cooperation on\"</li>\n",
       "\t<li>\"environmental policies regarding the continental electricity market is\"</li>\n",
       "\t<li>\"necessary to: * protect air quality and mitigate climate change, *\"</li>\n",
       "\t<li>\"minimize the possibility of environment-based trade disputes, * ensure\"</li>\n",
       "\t<li>\"a dependable supply of reasonably priced electricity across North\"</li>\n",
       "\t<li>\"America * avoid creation of pollution havens, and * ensure local and\"</li>\n",
       "\t<li>\"national environmental measures remain effective. The Changing Market\"</li>\n",
       "\t<li>\"The working paper profiles the rapid changing North American\"</li>\n",
       "\t<li>\"electricity market. For example, in 2001, the US is projected to export\"</li>\n",
       "\t<li>\"13.1 thousand gigawatt-hours (GWh) of electricity to Canada and Mexico.\"</li>\n",
       "\t<li>\"By 2007, this number is projected to grow to 16.9 thousand GWh of\"</li>\n",
       "\t<li>\"electricity. \\\"Over the past few decades, the North American electricity\"</li>\n",
       "\t<li>\"market has developed into a complex array of cross-border transactions\"</li>\n",
       "\t<li>\"and relationships,\\\" said Phil Sharp, former US congressman and chairman\"</li>\n",
       "\t<li>\"of the CEC's Electricity Advisory Board. \\\"We need to achieve this new\"</li>\n",
       "\t<li>\"level of cooperation in our environmental approaches as well.\\\" The\"</li>\n",
       "\t<li>\"Environmental Profile of the Electricity Sector The electricity sector\"</li>\n",
       "\t<li>\"is the single largest source of nationally reported toxins in the\"</li>\n",
       "\t<li>\"United States and Canada and a large source in Mexico. In the US, the\"</li>\n",
       "\t<li>\"electricity sector emits approximately 25 percent of all NOx emissions,\"</li>\n",
       "\t<li>\"roughly 35 percent of all CO2 emissions, 25 percent of all mercury\"</li>\n",
       "\t<li>\"emissions and almost 70 percent of SO2 emissions. These emissions have\"</li>\n",
       "\t<li>\"a large impact on airsheds, watersheds and migratory species corridors\"</li>\n",
       "\t<li>\"that are often shared between the three North American countries. \\\"We\"</li>\n",
       "\t<li>\"want to discuss the possible outcomes from greater efforts to\"</li>\n",
       "\t<li>\"coordinate federal, state or provincial environmental laws and policies\"</li>\n",
       "\t<li>\"that relate to the electricity sector,\\\" said Ferretti. \\\"How can we\"</li>\n",
       "\t<li>\"develop more compatible environmental approaches to help make domestic\"</li>\n",
       "\t<li>\"environmental policies more effective?\\\" The Effects of an Integrated\"</li>\n",
       "\t<li>\"Electricity Market One key issue raised in the paper is the effect of\"</li>\n",
       "\t<li>\"market integration on the competitiveness of particular fuels such as\"</li>\n",
       "\t<li>\"coal, natural gas or renewables. Fuel choice largely determines\"</li>\n",
       "\t<li>\"environmental impacts from a specific facility, along with pollution\"</li>\n",
       "\t<li>\"control technologies, performance standards and regulations. The paper\"</li>\n",
       "\t<li>\"highlights other impacts of a highly competitive market as well. For\"</li>\n",
       "\t<li>\"example, concerns about so called \\\"pollution havens\\\" arise when\"</li>\n",
       "\t<li>\"significant differences in environmental laws or enforcement practices\"</li>\n",
       "\t<li>\"induce power companies to locate their operations in jurisdictions with\"</li>\n",
       "\t<li>\"lower standards. \\\"The CEC Secretariat is exploring what additional\"</li>\n",
       "\t<li>\"environmental policies will work in this restructured market and how\"</li>\n",
       "\t<li>\"these policies can be adapted to ensure that they enhance\"</li>\n",
       "\t<li>\"competitiveness and benefit the entire region,\\\" said Sharp. Because\"</li>\n",
       "\t<li>\"trade rules and policy measures directly influence the variables that\"</li>\n",
       "\t<li>\"drive a successfully integrated North American electricity market, the\"</li>\n",
       "\t<li>\"working paper also addresses fuel choice, technology, pollution control\"</li>\n",
       "\t<li>\"strategies and subsidies. The CEC will use the information gathered\"</li>\n",
       "\t<li>\"during the discussion period to develop a final report that will be\"</li>\n",
       "\t<li>\"submitted to the Council in early 2002. For more information or to view\"</li>\n",
       "\t<li>\"the live video webcast of the symposium, please go to:\"</li>\n",
       "\t<li>\"http://www.cec.org/electricity. You may download the working paper and\"</li>\n",
       "\t<li>\"other supporting documents from:\"</li>\n",
       "\t<li>\"http://www.cec.org/programs_projects/other_initiatives/electricity/docs.cfm?varlan=english.\"</li>\n",
       "\t<li>\"Commission for Environmental Cooperation 393, rue St-Jacques Ouest,\"</li>\n",
       "\t<li>\"Bureau 200 Montr茅al (Qu茅bec) Canada H2Y 1N9 Tel: (514) 350-4300; Fax:\"</li>\n",
       "\t<li>\"(514) 350-4314 E-mail: info@ccemtl.org ***********\"</li>\n",
       "</ol>\n"
      ],
      "text/latex": [
       "\\begin{enumerate*}\n",
       "\\item \"North America's integrated electricity market requires cooperation on\"\n",
       "\\item \"environmental policies Commission for Environmental Cooperation\"\n",
       "\\item \"releases working paper on North America's electricity market Montreal,\"\n",
       "\\item \"27 November 2001 -- The North American Commission for Environmental\"\n",
       "\\item \"Cooperation (CEC) is releasing a working paper highlighting the trend\"\n",
       "\\item \"towards increasing trade, competition and cross-border investment in\"\n",
       "\\item \"electricity between Canada, Mexico and the United States. It is hoped\"\n",
       "\\item \"that the working paper, Environmental Challenges and Opportunities in\"\n",
       "\\item \"the Evolving North American Electricity Market, will stimulate public\"\n",
       "\\item \"discussion around a CEC symposium of the same title about the need to\"\n",
       "\\item \"coordinate environmental policies trinationally as a North America-wide\"\n",
       "\\item \"electricity market develops. The CEC symposium will take place in San\"\n",
       "\\item \"Diego on 29-30 November, and will bring together leading experts from\"\n",
       "\\item \"industry, academia, NGOs and the governments of Canada, Mexico and the\"\n",
       "\\item \"United States to consider the impact of the evolving continental\"\n",
       "\\item \"electricity market on human health and the environment. \\\"Our goal [with\"\n",
       "\\item \"the working paper and the symposium] is to highlight key environmental\"\n",
       "\\item \"issues that must be addressed as the electricity markets in North\"\n",
       "\\item \"America become more and more integrated,\\\" said Janine Ferretti,\"\n",
       "\\item \"executive director of the CEC. \\\"We want to stimulate discussion around\"\n",
       "\\item \"the important policy questions being raised so that countries can\"\n",
       "\\item \"cooperate in their approach to energy and the environment.\\\" The CEC, an\"\n",
       "\\item \"international organization created under an environmental side\"\n",
       "\\item \"agreement to NAFTA known as the North American Agreement on\"\n",
       "\\item \"Environmental Cooperation, was established to address regional\"\n",
       "\\item \"environmental concerns, help prevent potential trade and environmental\"\n",
       "\\item \"conflicts, and promote the effective enforcement of environmental law.\"\n",
       "\\item \"The CEC Secretariat believes that greater North American cooperation on\"\n",
       "\\item \"environmental policies regarding the continental electricity market is\"\n",
       "\\item \"necessary to: * protect air quality and mitigate climate change, *\"\n",
       "\\item \"minimize the possibility of environment-based trade disputes, * ensure\"\n",
       "\\item \"a dependable supply of reasonably priced electricity across North\"\n",
       "\\item \"America * avoid creation of pollution havens, and * ensure local and\"\n",
       "\\item \"national environmental measures remain effective. The Changing Market\"\n",
       "\\item \"The working paper profiles the rapid changing North American\"\n",
       "\\item \"electricity market. For example, in 2001, the US is projected to export\"\n",
       "\\item \"13.1 thousand gigawatt-hours (GWh) of electricity to Canada and Mexico.\"\n",
       "\\item \"By 2007, this number is projected to grow to 16.9 thousand GWh of\"\n",
       "\\item \"electricity. \\\"Over the past few decades, the North American electricity\"\n",
       "\\item \"market has developed into a complex array of cross-border transactions\"\n",
       "\\item \"and relationships,\\\" said Phil Sharp, former US congressman and chairman\"\n",
       "\\item \"of the CEC's Electricity Advisory Board. \\\"We need to achieve this new\"\n",
       "\\item \"level of cooperation in our environmental approaches as well.\\\" The\"\n",
       "\\item \"Environmental Profile of the Electricity Sector The electricity sector\"\n",
       "\\item \"is the single largest source of nationally reported toxins in the\"\n",
       "\\item \"United States and Canada and a large source in Mexico. In the US, the\"\n",
       "\\item \"electricity sector emits approximately 25 percent of all NOx emissions,\"\n",
       "\\item \"roughly 35 percent of all CO2 emissions, 25 percent of all mercury\"\n",
       "\\item \"emissions and almost 70 percent of SO2 emissions. These emissions have\"\n",
       "\\item \"a large impact on airsheds, watersheds and migratory species corridors\"\n",
       "\\item \"that are often shared between the three North American countries. \\\"We\"\n",
       "\\item \"want to discuss the possible outcomes from greater efforts to\"\n",
       "\\item \"coordinate federal, state or provincial environmental laws and policies\"\n",
       "\\item \"that relate to the electricity sector,\\\" said Ferretti. \\\"How can we\"\n",
       "\\item \"develop more compatible environmental approaches to help make domestic\"\n",
       "\\item \"environmental policies more effective?\\\" The Effects of an Integrated\"\n",
       "\\item \"Electricity Market One key issue raised in the paper is the effect of\"\n",
       "\\item \"market integration on the competitiveness of particular fuels such as\"\n",
       "\\item \"coal, natural gas or renewables. Fuel choice largely determines\"\n",
       "\\item \"environmental impacts from a specific facility, along with pollution\"\n",
       "\\item \"control technologies, performance standards and regulations. The paper\"\n",
       "\\item \"highlights other impacts of a highly competitive market as well. For\"\n",
       "\\item \"example, concerns about so called \\\"pollution havens\\\" arise when\"\n",
       "\\item \"significant differences in environmental laws or enforcement practices\"\n",
       "\\item \"induce power companies to locate their operations in jurisdictions with\"\n",
       "\\item \"lower standards. \\\"The CEC Secretariat is exploring what additional\"\n",
       "\\item \"environmental policies will work in this restructured market and how\"\n",
       "\\item \"these policies can be adapted to ensure that they enhance\"\n",
       "\\item \"competitiveness and benefit the entire region,\\\" said Sharp. Because\"\n",
       "\\item \"trade rules and policy measures directly influence the variables that\"\n",
       "\\item \"drive a successfully integrated North American electricity market, the\"\n",
       "\\item \"working paper also addresses fuel choice, technology, pollution control\"\n",
       "\\item \"strategies and subsidies. The CEC will use the information gathered\"\n",
       "\\item \"during the discussion period to develop a final report that will be\"\n",
       "\\item \"submitted to the Council in early 2002. For more information or to view\"\n",
       "\\item \"the live video webcast of the symposium, please go to:\"\n",
       "\\item \"http://www.cec.org/electricity. You may download the working paper and\"\n",
       "\\item \"other supporting documents from:\"\n",
       "\\item \"http://www.cec.org/programs_projects/other_initiatives/electricity/docs.cfm?varlan=english.\"\n",
       "\\item \"Commission for Environmental Cooperation 393, rue St-Jacques Ouest,\"\n",
       "\\item \"Bureau 200 Montr茅al (Qu茅bec) Canada H2Y 1N9 Tel: (514) 350-4300; Fax:\"\n",
       "\\item \"(514) 350-4314 E-mail: info@ccemtl.org ***********\"\n",
       "\\end{enumerate*}\n"
      ],
      "text/markdown": [
       "1. \"North America's integrated electricity market requires cooperation on\"\n",
       "2. \"environmental policies Commission for Environmental Cooperation\"\n",
       "3. \"releases working paper on North America's electricity market Montreal,\"\n",
       "4. \"27 November 2001 -- The North American Commission for Environmental\"\n",
       "5. \"Cooperation (CEC) is releasing a working paper highlighting the trend\"\n",
       "6. \"towards increasing trade, competition and cross-border investment in\"\n",
       "7. \"electricity between Canada, Mexico and the United States. It is hoped\"\n",
       "8. \"that the working paper, Environmental Challenges and Opportunities in\"\n",
       "9. \"the Evolving North American Electricity Market, will stimulate public\"\n",
       "10. \"discussion around a CEC symposium of the same title about the need to\"\n",
       "11. \"coordinate environmental policies trinationally as a North America-wide\"\n",
       "12. \"electricity market develops. The CEC symposium will take place in San\"\n",
       "13. \"Diego on 29-30 November, and will bring together leading experts from\"\n",
       "14. \"industry, academia, NGOs and the governments of Canada, Mexico and the\"\n",
       "15. \"United States to consider the impact of the evolving continental\"\n",
       "16. \"electricity market on human health and the environment. \\\"Our goal [with\"\n",
       "17. \"the working paper and the symposium] is to highlight key environmental\"\n",
       "18. \"issues that must be addressed as the electricity markets in North\"\n",
       "19. \"America become more and more integrated,\\\" said Janine Ferretti,\"\n",
       "20. \"executive director of the CEC. \\\"We want to stimulate discussion around\"\n",
       "21. \"the important policy questions being raised so that countries can\"\n",
       "22. \"cooperate in their approach to energy and the environment.\\\" The CEC, an\"\n",
       "23. \"international organization created under an environmental side\"\n",
       "24. \"agreement to NAFTA known as the North American Agreement on\"\n",
       "25. \"Environmental Cooperation, was established to address regional\"\n",
       "26. \"environmental concerns, help prevent potential trade and environmental\"\n",
       "27. \"conflicts, and promote the effective enforcement of environmental law.\"\n",
       "28. \"The CEC Secretariat believes that greater North American cooperation on\"\n",
       "29. \"environmental policies regarding the continental electricity market is\"\n",
       "30. \"necessary to: * protect air quality and mitigate climate change, *\"\n",
       "31. \"minimize the possibility of environment-based trade disputes, * ensure\"\n",
       "32. \"a dependable supply of reasonably priced electricity across North\"\n",
       "33. \"America * avoid creation of pollution havens, and * ensure local and\"\n",
       "34. \"national environmental measures remain effective. The Changing Market\"\n",
       "35. \"The working paper profiles the rapid changing North American\"\n",
       "36. \"electricity market. For example, in 2001, the US is projected to export\"\n",
       "37. \"13.1 thousand gigawatt-hours (GWh) of electricity to Canada and Mexico.\"\n",
       "38. \"By 2007, this number is projected to grow to 16.9 thousand GWh of\"\n",
       "39. \"electricity. \\\"Over the past few decades, the North American electricity\"\n",
       "40. \"market has developed into a complex array of cross-border transactions\"\n",
       "41. \"and relationships,\\\" said Phil Sharp, former US congressman and chairman\"\n",
       "42. \"of the CEC's Electricity Advisory Board. \\\"We need to achieve this new\"\n",
       "43. \"level of cooperation in our environmental approaches as well.\\\" The\"\n",
       "44. \"Environmental Profile of the Electricity Sector The electricity sector\"\n",
       "45. \"is the single largest source of nationally reported toxins in the\"\n",
       "46. \"United States and Canada and a large source in Mexico. In the US, the\"\n",
       "47. \"electricity sector emits approximately 25 percent of all NOx emissions,\"\n",
       "48. \"roughly 35 percent of all CO2 emissions, 25 percent of all mercury\"\n",
       "49. \"emissions and almost 70 percent of SO2 emissions. These emissions have\"\n",
       "50. \"a large impact on airsheds, watersheds and migratory species corridors\"\n",
       "51. \"that are often shared between the three North American countries. \\\"We\"\n",
       "52. \"want to discuss the possible outcomes from greater efforts to\"\n",
       "53. \"coordinate federal, state or provincial environmental laws and policies\"\n",
       "54. \"that relate to the electricity sector,\\\" said Ferretti. \\\"How can we\"\n",
       "55. \"develop more compatible environmental approaches to help make domestic\"\n",
       "56. \"environmental policies more effective?\\\" The Effects of an Integrated\"\n",
       "57. \"Electricity Market One key issue raised in the paper is the effect of\"\n",
       "58. \"market integration on the competitiveness of particular fuels such as\"\n",
       "59. \"coal, natural gas or renewables. Fuel choice largely determines\"\n",
       "60. \"environmental impacts from a specific facility, along with pollution\"\n",
       "61. \"control technologies, performance standards and regulations. The paper\"\n",
       "62. \"highlights other impacts of a highly competitive market as well. For\"\n",
       "63. \"example, concerns about so called \\\"pollution havens\\\" arise when\"\n",
       "64. \"significant differences in environmental laws or enforcement practices\"\n",
       "65. \"induce power companies to locate their operations in jurisdictions with\"\n",
       "66. \"lower standards. \\\"The CEC Secretariat is exploring what additional\"\n",
       "67. \"environmental policies will work in this restructured market and how\"\n",
       "68. \"these policies can be adapted to ensure that they enhance\"\n",
       "69. \"competitiveness and benefit the entire region,\\\" said Sharp. Because\"\n",
       "70. \"trade rules and policy measures directly influence the variables that\"\n",
       "71. \"drive a successfully integrated North American electricity market, the\"\n",
       "72. \"working paper also addresses fuel choice, technology, pollution control\"\n",
       "73. \"strategies and subsidies. The CEC will use the information gathered\"\n",
       "74. \"during the discussion period to develop a final report that will be\"\n",
       "75. \"submitted to the Council in early 2002. For more information or to view\"\n",
       "76. \"the live video webcast of the symposium, please go to:\"\n",
       "77. \"http://www.cec.org/electricity. You may download the working paper and\"\n",
       "78. \"other supporting documents from:\"\n",
       "79. \"http://www.cec.org/programs_projects/other_initiatives/electricity/docs.cfm?varlan=english.\"\n",
       "80. \"Commission for Environmental Cooperation 393, rue St-Jacques Ouest,\"\n",
       "81. \"Bureau 200 Montr茅al (Qu茅bec) Canada H2Y 1N9 Tel: (514) 350-4300; Fax:\"\n",
       "82. \"(514) 350-4314 E-mail: info@ccemtl.org ***********\"\n",
       "\n",
       "\n"
      ],
      "text/plain": [
       " [1] \"North America's integrated electricity market requires cooperation on\"                      \n",
       " [2] \"environmental policies Commission for Environmental Cooperation\"                            \n",
       " [3] \"releases working paper on North America's electricity market Montreal,\"                     \n",
       " [4] \"27 November 2001 -- The North American Commission for Environmental\"                        \n",
       " [5] \"Cooperation (CEC) is releasing a working paper highlighting the trend\"                      \n",
       " [6] \"towards increasing trade, competition and cross-border investment in\"                       \n",
       " [7] \"electricity between Canada, Mexico and the United States. It is hoped\"                      \n",
       " [8] \"that the working paper, Environmental Challenges and Opportunities in\"                      \n",
       " [9] \"the Evolving North American Electricity Market, will stimulate public\"                      \n",
       "[10] \"discussion around a CEC symposium of the same title about the need to\"                      \n",
       "[11] \"coordinate environmental policies trinationally as a North America-wide\"                    \n",
       "[12] \"electricity market develops. The CEC symposium will take place in San\"                      \n",
       "[13] \"Diego on 29-30 November, and will bring together leading experts from\"                      \n",
       "[14] \"industry, academia, NGOs and the governments of Canada, Mexico and the\"                     \n",
       "[15] \"United States to consider the impact of the evolving continental\"                           \n",
       "[16] \"electricity market on human health and the environment. \\\"Our goal [with\"                   \n",
       "[17] \"the working paper and the symposium] is to highlight key environmental\"                     \n",
       "[18] \"issues that must be addressed as the electricity markets in North\"                          \n",
       "[19] \"America become more and more integrated,\\\" said Janine Ferretti,\"                           \n",
       "[20] \"executive director of the CEC. \\\"We want to stimulate discussion around\"                    \n",
       "[21] \"the important policy questions being raised so that countries can\"                          \n",
       "[22] \"cooperate in their approach to energy and the environment.\\\" The CEC, an\"                   \n",
       "[23] \"international organization created under an environmental side\"                             \n",
       "[24] \"agreement to NAFTA known as the North American Agreement on\"                                \n",
       "[25] \"Environmental Cooperation, was established to address regional\"                             \n",
       "[26] \"environmental concerns, help prevent potential trade and environmental\"                     \n",
       "[27] \"conflicts, and promote the effective enforcement of environmental law.\"                     \n",
       "[28] \"The CEC Secretariat believes that greater North American cooperation on\"                    \n",
       "[29] \"environmental policies regarding the continental electricity market is\"                     \n",
       "[30] \"necessary to: * protect air quality and mitigate climate change, *\"                         \n",
       "[31] \"minimize the possibility of environment-based trade disputes, * ensure\"                     \n",
       "[32] \"a dependable supply of reasonably priced electricity across North\"                          \n",
       "[33] \"America * avoid creation of pollution havens, and * ensure local and\"                       \n",
       "[34] \"national environmental measures remain effective. The Changing Market\"                      \n",
       "[35] \"The working paper profiles the rapid changing North American\"                               \n",
       "[36] \"electricity market. For example, in 2001, the US is projected to export\"                    \n",
       "[37] \"13.1 thousand gigawatt-hours (GWh) of electricity to Canada and Mexico.\"                    \n",
       "[38] \"By 2007, this number is projected to grow to 16.9 thousand GWh of\"                          \n",
       "[39] \"electricity. \\\"Over the past few decades, the North American electricity\"                   \n",
       "[40] \"market has developed into a complex array of cross-border transactions\"                     \n",
       "[41] \"and relationships,\\\" said Phil Sharp, former US congressman and chairman\"                   \n",
       "[42] \"of the CEC's Electricity Advisory Board. \\\"We need to achieve this new\"                     \n",
       "[43] \"level of cooperation in our environmental approaches as well.\\\" The\"                        \n",
       "[44] \"Environmental Profile of the Electricity Sector The electricity sector\"                     \n",
       "[45] \"is the single largest source of nationally reported toxins in the\"                          \n",
       "[46] \"United States and Canada and a large source in Mexico. In the US, the\"                      \n",
       "[47] \"electricity sector emits approximately 25 percent of all NOx emissions,\"                    \n",
       "[48] \"roughly 35 percent of all CO2 emissions, 25 percent of all mercury\"                         \n",
       "[49] \"emissions and almost 70 percent of SO2 emissions. These emissions have\"                     \n",
       "[50] \"a large impact on airsheds, watersheds and migratory species corridors\"                     \n",
       "[51] \"that are often shared between the three North American countries. \\\"We\"                     \n",
       "[52] \"want to discuss the possible outcomes from greater efforts to\"                              \n",
       "[53] \"coordinate federal, state or provincial environmental laws and policies\"                    \n",
       "[54] \"that relate to the electricity sector,\\\" said Ferretti. \\\"How can we\"                       \n",
       "[55] \"develop more compatible environmental approaches to help make domestic\"                     \n",
       "[56] \"environmental policies more effective?\\\" The Effects of an Integrated\"                      \n",
       "[57] \"Electricity Market One key issue raised in the paper is the effect of\"                      \n",
       "[58] \"market integration on the competitiveness of particular fuels such as\"                      \n",
       "[59] \"coal, natural gas or renewables. Fuel choice largely determines\"                            \n",
       "[60] \"environmental impacts from a specific facility, along with pollution\"                       \n",
       "[61] \"control technologies, performance standards and regulations. The paper\"                     \n",
       "[62] \"highlights other impacts of a highly competitive market as well. For\"                       \n",
       "[63] \"example, concerns about so called \\\"pollution havens\\\" arise when\"                          \n",
       "[64] \"significant differences in environmental laws or enforcement practices\"                     \n",
       "[65] \"induce power companies to locate their operations in jurisdictions with\"                    \n",
       "[66] \"lower standards. \\\"The CEC Secretariat is exploring what additional\"                        \n",
       "[67] \"environmental policies will work in this restructured market and how\"                       \n",
       "[68] \"these policies can be adapted to ensure that they enhance\"                                  \n",
       "[69] \"competitiveness and benefit the entire region,\\\" said Sharp. Because\"                       \n",
       "[70] \"trade rules and policy measures directly influence the variables that\"                      \n",
       "[71] \"drive a successfully integrated North American electricity market, the\"                     \n",
       "[72] \"working paper also addresses fuel choice, technology, pollution control\"                    \n",
       "[73] \"strategies and subsidies. The CEC will use the information gathered\"                        \n",
       "[74] \"during the discussion period to develop a final report that will be\"                        \n",
       "[75] \"submitted to the Council in early 2002. For more information or to view\"                    \n",
       "[76] \"the live video webcast of the symposium, please go to:\"                                     \n",
       "[77] \"http://www.cec.org/electricity. You may download the working paper and\"                     \n",
       "[78] \"other supporting documents from:\"                                                           \n",
       "[79] \"http://www.cec.org/programs_projects/other_initiatives/electricity/docs.cfm?varlan=english.\"\n",
       "[80] \"Commission for Environmental Cooperation 393, rue St-Jacques Ouest,\"                        \n",
       "[81] \"Bureau 200 Montr茅al (Qu茅bec) Canada H2Y 1N9 Tel: (514) 350-4300; Fax:\"                    \n",
       "[82] \"(514) 350-4314 E-mail: info@ccemtl.org ***********\"                                         "
      ]
     },
     "execution_count": 3,
     "metadata": {},
     "output_type": "execute_result"
    }
   ],
   "source": [
    "strwrap(emails$email[1])"
   ]
  },
  {
   "cell_type": "code",
   "execution_count": 4,
   "metadata": {
    "collapsed": false
   },
   "outputs": [
    {
     "data": {
      "text/html": [
       "0"
      ],
      "text/latex": [
       "0"
      ],
      "text/markdown": [
       "0"
      ],
      "text/plain": [
       "[1] 0"
      ]
     },
     "execution_count": 4,
     "metadata": {},
     "output_type": "execute_result"
    }
   ],
   "source": [
    "emails$responsive[1]"
   ]
  },
  {
   "cell_type": "code",
   "execution_count": 5,
   "metadata": {
    "collapsed": false
   },
   "outputs": [
    {
     "data": {
      "text/html": [
       "<ol class=list-inline>\n",
       "\t<li>\"FYI -----Original Message----- From: \\\"Ginny Feliciano\\\"\"</li>\n",
       "\t<li>\"<gfeliciano@earthlink.net>@ENRON\"</li>\n",
       "\t<li>\"[mailto:IMCEANOTES-+22Ginny+20Feliciano+22+20+3Cgfeliciano+40earthlink+2Enet+3E+40ENRON@ENRON.com]\"</li>\n",
       "\t<li>\"Sent: Thursday, June 28, 2001 3:40 PM To: Silvia Woodard; Paul Runci;\"</li>\n",
       "\t<li>\"Katrin Thomas; John A. Riggs; Kurt E. Yeager; Gregg Ward; Philip K.\"</li>\n",
       "\t<li>\"Verleger; Admiral Richard H. Truly; Susan Tomasky; Tsutomu Toichi;\"</li>\n",
       "\t<li>\"Susan F. Tierney; John A. Strom; Gerald M. Stokes; Kevin Stoffer;\"</li>\n",
       "\t<li>\"Edward M. Stern; Irwin M. Stelzer; Hoff Stauffer; Steven R. Spencer;\"</li>\n",
       "\t<li>\"Robert Smart; Bernie Schroeder; George A. Schreiber, Jr.; Robert N.\"</li>\n",
       "\t<li>\"Schock; James R. Schlesinger; Roger W. Sant; John W. Rowe; James E.\"</li>\n",
       "\t<li>\"Rogers; John F. Riordan; James Ragland; Frank J. Puzio; Tony Prophet;\"</li>\n",
       "\t<li>\"Robert Priddle; Michael Price; John B. Phillips; Robert Perciasepe; D.\"</li>\n",
       "\t<li>\"Louis Peoples; Robert Nordhaus; Walker Nolan; William A. Nitze;\"</li>\n",
       "\t<li>\"Kazutoshi Muramatsu; Ernest J. Moniz; Nancy C. Mohn; Callum McCarthy;\"</li>\n",
       "\t<li>\"Thomas R. Mason; Edward P. Martin; Jan W. Mares; James K. Malernee; S.\"</li>\n",
       "\t<li>\"David Freeman; Edwin Lupberger; Amory B. Lovins; Lynn LeMaster; Hoesung\"</li>\n",
       "\t<li>\"Lee; Lay, Kenneth; Lester Lave; Wilfrid L. Kohl; Soo Kyung Kim; Melanie\"</li>\n",
       "\t<li>\"Kenderdine; Paul L. Joskow; Ira H. Jolles; Frederick E. John; John\"</li>\n",
       "\t<li>\"Jimison; William W. Hogan; Robert A. Hefner, III; James K. Gray; Craig\"</li>\n",
       "\t<li>\"G. Goodman; Charles F. Goff, Jr.; Jerry D. Geist; Fritz Gautschi; Larry\"</li>\n",
       "\t<li>\"G. Garberding; Roger Gale; William Fulkerson; Stephen E. Frank; George\"</li>\n",
       "\t<li>\"Frampton; Juan Eibenschutz; Theodore R. Eck; Congressman John Dingell;\"</li>\n",
       "\t<li>\"Brian N. Dickie; William E. Dickenson; Etienne Deffarges; Wilfried\"</li>\n",
       "\t<li>\"Czernie; Loren C. Cox; Anne Cleary; Bernard H. Cherry; Red Cavaney;\"</li>\n",
       "\t<li>\"Ralph Cavanagh; Thomas R. Casten; Peter Bradford; Peter D. Blair; Ellen\"</li>\n",
       "\t<li>\"Berman; Roger A. Berliner; Michael L. Beatty; Vicky A. Bailey; Merribel\"</li>\n",
       "\t<li>\"S. Ayres; Catherine G. Abbott Subject: Energy Deregulation - California\"</li>\n",
       "\t<li>\"State Auditor Report Attached is my report prepared on behalf of the\"</li>\n",
       "\t<li>\"California State Auditor. I look forward to seeing you at The Aspen\"</li>\n",
       "\t<li>\"Institute Energy Policy Forum. Charles J. Cicchetti Pacific Economics\"</li>\n",
       "\t<li>\"Group, LLC - ca report new.pdf ***********\"</li>\n",
       "</ol>\n"
      ],
      "text/latex": [
       "\\begin{enumerate*}\n",
       "\\item \"FYI -----Original Message----- From: \\\"Ginny Feliciano\\\"\"\n",
       "\\item \"<gfeliciano@earthlink.net>@ENRON\"\n",
       "\\item \"[mailto:IMCEANOTES-+22Ginny+20Feliciano+22+20+3Cgfeliciano+40earthlink+2Enet+3E+40ENRON@ENRON.com]\"\n",
       "\\item \"Sent: Thursday, June 28, 2001 3:40 PM To: Silvia Woodard; Paul Runci;\"\n",
       "\\item \"Katrin Thomas; John A. Riggs; Kurt E. Yeager; Gregg Ward; Philip K.\"\n",
       "\\item \"Verleger; Admiral Richard H. Truly; Susan Tomasky; Tsutomu Toichi;\"\n",
       "\\item \"Susan F. Tierney; John A. Strom; Gerald M. Stokes; Kevin Stoffer;\"\n",
       "\\item \"Edward M. Stern; Irwin M. Stelzer; Hoff Stauffer; Steven R. Spencer;\"\n",
       "\\item \"Robert Smart; Bernie Schroeder; George A. Schreiber, Jr.; Robert N.\"\n",
       "\\item \"Schock; James R. Schlesinger; Roger W. Sant; John W. Rowe; James E.\"\n",
       "\\item \"Rogers; John F. Riordan; James Ragland; Frank J. Puzio; Tony Prophet;\"\n",
       "\\item \"Robert Priddle; Michael Price; John B. Phillips; Robert Perciasepe; D.\"\n",
       "\\item \"Louis Peoples; Robert Nordhaus; Walker Nolan; William A. Nitze;\"\n",
       "\\item \"Kazutoshi Muramatsu; Ernest J. Moniz; Nancy C. Mohn; Callum McCarthy;\"\n",
       "\\item \"Thomas R. Mason; Edward P. Martin; Jan W. Mares; James K. Malernee; S.\"\n",
       "\\item \"David Freeman; Edwin Lupberger; Amory B. Lovins; Lynn LeMaster; Hoesung\"\n",
       "\\item \"Lee; Lay, Kenneth; Lester Lave; Wilfrid L. Kohl; Soo Kyung Kim; Melanie\"\n",
       "\\item \"Kenderdine; Paul L. Joskow; Ira H. Jolles; Frederick E. John; John\"\n",
       "\\item \"Jimison; William W. Hogan; Robert A. Hefner, III; James K. Gray; Craig\"\n",
       "\\item \"G. Goodman; Charles F. Goff, Jr.; Jerry D. Geist; Fritz Gautschi; Larry\"\n",
       "\\item \"G. Garberding; Roger Gale; William Fulkerson; Stephen E. Frank; George\"\n",
       "\\item \"Frampton; Juan Eibenschutz; Theodore R. Eck; Congressman John Dingell;\"\n",
       "\\item \"Brian N. Dickie; William E. Dickenson; Etienne Deffarges; Wilfried\"\n",
       "\\item \"Czernie; Loren C. Cox; Anne Cleary; Bernard H. Cherry; Red Cavaney;\"\n",
       "\\item \"Ralph Cavanagh; Thomas R. Casten; Peter Bradford; Peter D. Blair; Ellen\"\n",
       "\\item \"Berman; Roger A. Berliner; Michael L. Beatty; Vicky A. Bailey; Merribel\"\n",
       "\\item \"S. Ayres; Catherine G. Abbott Subject: Energy Deregulation - California\"\n",
       "\\item \"State Auditor Report Attached is my report prepared on behalf of the\"\n",
       "\\item \"California State Auditor. I look forward to seeing you at The Aspen\"\n",
       "\\item \"Institute Energy Policy Forum. Charles J. Cicchetti Pacific Economics\"\n",
       "\\item \"Group, LLC - ca report new.pdf ***********\"\n",
       "\\end{enumerate*}\n"
      ],
      "text/markdown": [
       "1. \"FYI -----Original Message----- From: \\\"Ginny Feliciano\\\"\"\n",
       "2. \"<gfeliciano@earthlink.net>@ENRON\"\n",
       "3. \"[mailto:IMCEANOTES-+22Ginny+20Feliciano+22+20+3Cgfeliciano+40earthlink+2Enet+3E+40ENRON@ENRON.com]\"\n",
       "4. \"Sent: Thursday, June 28, 2001 3:40 PM To: Silvia Woodard; Paul Runci;\"\n",
       "5. \"Katrin Thomas; John A. Riggs; Kurt E. Yeager; Gregg Ward; Philip K.\"\n",
       "6. \"Verleger; Admiral Richard H. Truly; Susan Tomasky; Tsutomu Toichi;\"\n",
       "7. \"Susan F. Tierney; John A. Strom; Gerald M. Stokes; Kevin Stoffer;\"\n",
       "8. \"Edward M. Stern; Irwin M. Stelzer; Hoff Stauffer; Steven R. Spencer;\"\n",
       "9. \"Robert Smart; Bernie Schroeder; George A. Schreiber, Jr.; Robert N.\"\n",
       "10. \"Schock; James R. Schlesinger; Roger W. Sant; John W. Rowe; James E.\"\n",
       "11. \"Rogers; John F. Riordan; James Ragland; Frank J. Puzio; Tony Prophet;\"\n",
       "12. \"Robert Priddle; Michael Price; John B. Phillips; Robert Perciasepe; D.\"\n",
       "13. \"Louis Peoples; Robert Nordhaus; Walker Nolan; William A. Nitze;\"\n",
       "14. \"Kazutoshi Muramatsu; Ernest J. Moniz; Nancy C. Mohn; Callum McCarthy;\"\n",
       "15. \"Thomas R. Mason; Edward P. Martin; Jan W. Mares; James K. Malernee; S.\"\n",
       "16. \"David Freeman; Edwin Lupberger; Amory B. Lovins; Lynn LeMaster; Hoesung\"\n",
       "17. \"Lee; Lay, Kenneth; Lester Lave; Wilfrid L. Kohl; Soo Kyung Kim; Melanie\"\n",
       "18. \"Kenderdine; Paul L. Joskow; Ira H. Jolles; Frederick E. John; John\"\n",
       "19. \"Jimison; William W. Hogan; Robert A. Hefner, III; James K. Gray; Craig\"\n",
       "20. \"G. Goodman; Charles F. Goff, Jr.; Jerry D. Geist; Fritz Gautschi; Larry\"\n",
       "21. \"G. Garberding; Roger Gale; William Fulkerson; Stephen E. Frank; George\"\n",
       "22. \"Frampton; Juan Eibenschutz; Theodore R. Eck; Congressman John Dingell;\"\n",
       "23. \"Brian N. Dickie; William E. Dickenson; Etienne Deffarges; Wilfried\"\n",
       "24. \"Czernie; Loren C. Cox; Anne Cleary; Bernard H. Cherry; Red Cavaney;\"\n",
       "25. \"Ralph Cavanagh; Thomas R. Casten; Peter Bradford; Peter D. Blair; Ellen\"\n",
       "26. \"Berman; Roger A. Berliner; Michael L. Beatty; Vicky A. Bailey; Merribel\"\n",
       "27. \"S. Ayres; Catherine G. Abbott Subject: Energy Deregulation - California\"\n",
       "28. \"State Auditor Report Attached is my report prepared on behalf of the\"\n",
       "29. \"California State Auditor. I look forward to seeing you at The Aspen\"\n",
       "30. \"Institute Energy Policy Forum. Charles J. Cicchetti Pacific Economics\"\n",
       "31. \"Group, LLC - ca report new.pdf ***********\"\n",
       "\n",
       "\n"
      ],
      "text/plain": [
       " [1] \"FYI -----Original Message----- From: \\\"Ginny Feliciano\\\"\"                                          \n",
       " [2] \"<gfeliciano@earthlink.net>@ENRON\"                                                                  \n",
       " [3] \"[mailto:IMCEANOTES-+22Ginny+20Feliciano+22+20+3Cgfeliciano+40earthlink+2Enet+3E+40ENRON@ENRON.com]\"\n",
       " [4] \"Sent: Thursday, June 28, 2001 3:40 PM To: Silvia Woodard; Paul Runci;\"                             \n",
       " [5] \"Katrin Thomas; John A. Riggs; Kurt E. Yeager; Gregg Ward; Philip K.\"                               \n",
       " [6] \"Verleger; Admiral Richard H. Truly; Susan Tomasky; Tsutomu Toichi;\"                                \n",
       " [7] \"Susan F. Tierney; John A. Strom; Gerald M. Stokes; Kevin Stoffer;\"                                 \n",
       " [8] \"Edward M. Stern; Irwin M. Stelzer; Hoff Stauffer; Steven R. Spencer;\"                              \n",
       " [9] \"Robert Smart; Bernie Schroeder; George A. Schreiber, Jr.; Robert N.\"                               \n",
       "[10] \"Schock; James R. Schlesinger; Roger W. Sant; John W. Rowe; James E.\"                               \n",
       "[11] \"Rogers; John F. Riordan; James Ragland; Frank J. Puzio; Tony Prophet;\"                             \n",
       "[12] \"Robert Priddle; Michael Price; John B. Phillips; Robert Perciasepe; D.\"                            \n",
       "[13] \"Louis Peoples; Robert Nordhaus; Walker Nolan; William A. Nitze;\"                                   \n",
       "[14] \"Kazutoshi Muramatsu; Ernest J. Moniz; Nancy C. Mohn; Callum McCarthy;\"                             \n",
       "[15] \"Thomas R. Mason; Edward P. Martin; Jan W. Mares; James K. Malernee; S.\"                            \n",
       "[16] \"David Freeman; Edwin Lupberger; Amory B. Lovins; Lynn LeMaster; Hoesung\"                           \n",
       "[17] \"Lee; Lay, Kenneth; Lester Lave; Wilfrid L. Kohl; Soo Kyung Kim; Melanie\"                           \n",
       "[18] \"Kenderdine; Paul L. Joskow; Ira H. Jolles; Frederick E. John; John\"                                \n",
       "[19] \"Jimison; William W. Hogan; Robert A. Hefner, III; James K. Gray; Craig\"                            \n",
       "[20] \"G. Goodman; Charles F. Goff, Jr.; Jerry D. Geist; Fritz Gautschi; Larry\"                           \n",
       "[21] \"G. Garberding; Roger Gale; William Fulkerson; Stephen E. Frank; George\"                            \n",
       "[22] \"Frampton; Juan Eibenschutz; Theodore R. Eck; Congressman John Dingell;\"                            \n",
       "[23] \"Brian N. Dickie; William E. Dickenson; Etienne Deffarges; Wilfried\"                                \n",
       "[24] \"Czernie; Loren C. Cox; Anne Cleary; Bernard H. Cherry; Red Cavaney;\"                               \n",
       "[25] \"Ralph Cavanagh; Thomas R. Casten; Peter Bradford; Peter D. Blair; Ellen\"                           \n",
       "[26] \"Berman; Roger A. Berliner; Michael L. Beatty; Vicky A. Bailey; Merribel\"                           \n",
       "[27] \"S. Ayres; Catherine G. Abbott Subject: Energy Deregulation - California\"                           \n",
       "[28] \"State Auditor Report Attached is my report prepared on behalf of the\"                              \n",
       "[29] \"California State Auditor. I look forward to seeing you at The Aspen\"                               \n",
       "[30] \"Institute Energy Policy Forum. Charles J. Cicchetti Pacific Economics\"                             \n",
       "[31] \"Group, LLC - ca report new.pdf ***********\"                                                        "
      ]
     },
     "execution_count": 5,
     "metadata": {},
     "output_type": "execute_result"
    }
   ],
   "source": [
    "strwrap(emails$email[2])"
   ]
  },
  {
   "cell_type": "code",
   "execution_count": 6,
   "metadata": {
    "collapsed": false
   },
   "outputs": [
    {
     "data": {
      "text/html": [
       "1"
      ],
      "text/latex": [
       "1"
      ],
      "text/markdown": [
       "1"
      ],
      "text/plain": [
       "[1] 1"
      ]
     },
     "execution_count": 6,
     "metadata": {},
     "output_type": "execute_result"
    }
   ],
   "source": [
    "emails$responsive[2]"
   ]
  },
  {
   "cell_type": "code",
   "execution_count": 7,
   "metadata": {
    "collapsed": false
   },
   "outputs": [
    {
     "data": {
      "text/plain": [
       "\n",
       "  0   1 \n",
       "716 139 "
      ]
     },
     "execution_count": 7,
     "metadata": {},
     "output_type": "execute_result"
    }
   ],
   "source": [
    "table(emails$responsive)"
   ]
  },
  {
   "cell_type": "code",
   "execution_count": 8,
   "metadata": {
    "collapsed": false
   },
   "outputs": [
    {
     "name": "stderr",
     "output_type": "stream",
     "text": [
      "Loading required package: NLP\n"
     ]
    }
   ],
   "source": [
    "library(tm)"
   ]
  },
  {
   "cell_type": "code",
   "execution_count": 9,
   "metadata": {
    "collapsed": true
   },
   "outputs": [],
   "source": [
    "corpus = Corpus(VectorSource(emails$email))"
   ]
  },
  {
   "cell_type": "code",
   "execution_count": 10,
   "metadata": {
    "collapsed": false
   },
   "outputs": [
    {
     "data": {
      "text/html": [
       "<ol class=list-inline>\n",
       "\t<li>\"North America's integrated electricity market requires cooperation on\"</li>\n",
       "\t<li>\"environmental policies Commission for Environmental Cooperation\"</li>\n",
       "\t<li>\"releases working paper on North America's electricity market Montreal,\"</li>\n",
       "\t<li>\"27 November 2001 -- The North American Commission for Environmental\"</li>\n",
       "\t<li>\"Cooperation (CEC) is releasing a working paper highlighting the trend\"</li>\n",
       "\t<li>\"towards increasing trade, competition and cross-border investment in\"</li>\n",
       "\t<li>\"electricity between Canada, Mexico and the United States. It is hoped\"</li>\n",
       "\t<li>\"that the working paper, Environmental Challenges and Opportunities in\"</li>\n",
       "\t<li>\"the Evolving North American Electricity Market, will stimulate public\"</li>\n",
       "\t<li>\"discussion around a CEC symposium of the same title about the need to\"</li>\n",
       "\t<li>\"coordinate environmental policies trinationally as a North America-wide\"</li>\n",
       "\t<li>\"electricity market develops. The CEC symposium will take place in San\"</li>\n",
       "\t<li>\"Diego on 29-30 November, and will bring together leading experts from\"</li>\n",
       "\t<li>\"industry, academia, NGOs and the governments of Canada, Mexico and the\"</li>\n",
       "\t<li>\"United States to consider the impact of the evolving continental\"</li>\n",
       "\t<li>\"electricity market on human health and the environment. \\\"Our goal [with\"</li>\n",
       "\t<li>\"the working paper and the symposium] is to highlight key environmental\"</li>\n",
       "\t<li>\"issues that must be addressed as the electricity markets in North\"</li>\n",
       "\t<li>\"America become more and more integrated,\\\" said Janine Ferretti,\"</li>\n",
       "\t<li>\"executive director of the CEC. \\\"We want to stimulate discussion around\"</li>\n",
       "\t<li>\"the important policy questions being raised so that countries can\"</li>\n",
       "\t<li>\"cooperate in their approach to energy and the environment.\\\" The CEC, an\"</li>\n",
       "\t<li>\"international organization created under an environmental side\"</li>\n",
       "\t<li>\"agreement to NAFTA known as the North American Agreement on\"</li>\n",
       "\t<li>\"Environmental Cooperation, was established to address regional\"</li>\n",
       "\t<li>\"environmental concerns, help prevent potential trade and environmental\"</li>\n",
       "\t<li>\"conflicts, and promote the effective enforcement of environmental law.\"</li>\n",
       "\t<li>\"The CEC Secretariat believes that greater North American cooperation on\"</li>\n",
       "\t<li>\"environmental policies regarding the continental electricity market is\"</li>\n",
       "\t<li>\"necessary to: * protect air quality and mitigate climate change, *\"</li>\n",
       "\t<li>\"minimize the possibility of environment-based trade disputes, * ensure\"</li>\n",
       "\t<li>\"a dependable supply of reasonably priced electricity across North\"</li>\n",
       "\t<li>\"America * avoid creation of pollution havens, and * ensure local and\"</li>\n",
       "\t<li>\"national environmental measures remain effective. The Changing Market\"</li>\n",
       "\t<li>\"The working paper profiles the rapid changing North American\"</li>\n",
       "\t<li>\"electricity market. For example, in 2001, the US is projected to export\"</li>\n",
       "\t<li>\"13.1 thousand gigawatt-hours (GWh) of electricity to Canada and Mexico.\"</li>\n",
       "\t<li>\"By 2007, this number is projected to grow to 16.9 thousand GWh of\"</li>\n",
       "\t<li>\"electricity. \\\"Over the past few decades, the North American electricity\"</li>\n",
       "\t<li>\"market has developed into a complex array of cross-border transactions\"</li>\n",
       "\t<li>\"and relationships,\\\" said Phil Sharp, former US congressman and chairman\"</li>\n",
       "\t<li>\"of the CEC's Electricity Advisory Board. \\\"We need to achieve this new\"</li>\n",
       "\t<li>\"level of cooperation in our environmental approaches as well.\\\" The\"</li>\n",
       "\t<li>\"Environmental Profile of the Electricity Sector The electricity sector\"</li>\n",
       "\t<li>\"is the single largest source of nationally reported toxins in the\"</li>\n",
       "\t<li>\"United States and Canada and a large source in Mexico. In the US, the\"</li>\n",
       "\t<li>\"electricity sector emits approximately 25 percent of all NOx emissions,\"</li>\n",
       "\t<li>\"roughly 35 percent of all CO2 emissions, 25 percent of all mercury\"</li>\n",
       "\t<li>\"emissions and almost 70 percent of SO2 emissions. These emissions have\"</li>\n",
       "\t<li>\"a large impact on airsheds, watersheds and migratory species corridors\"</li>\n",
       "\t<li>\"that are often shared between the three North American countries. \\\"We\"</li>\n",
       "\t<li>\"want to discuss the possible outcomes from greater efforts to\"</li>\n",
       "\t<li>\"coordinate federal, state or provincial environmental laws and policies\"</li>\n",
       "\t<li>\"that relate to the electricity sector,\\\" said Ferretti. \\\"How can we\"</li>\n",
       "\t<li>\"develop more compatible environmental approaches to help make domestic\"</li>\n",
       "\t<li>\"environmental policies more effective?\\\" The Effects of an Integrated\"</li>\n",
       "\t<li>\"Electricity Market One key issue raised in the paper is the effect of\"</li>\n",
       "\t<li>\"market integration on the competitiveness of particular fuels such as\"</li>\n",
       "\t<li>\"coal, natural gas or renewables. Fuel choice largely determines\"</li>\n",
       "\t<li>\"environmental impacts from a specific facility, along with pollution\"</li>\n",
       "\t<li>\"control technologies, performance standards and regulations. The paper\"</li>\n",
       "\t<li>\"highlights other impacts of a highly competitive market as well. For\"</li>\n",
       "\t<li>\"example, concerns about so called \\\"pollution havens\\\" arise when\"</li>\n",
       "\t<li>\"significant differences in environmental laws or enforcement practices\"</li>\n",
       "\t<li>\"induce power companies to locate their operations in jurisdictions with\"</li>\n",
       "\t<li>\"lower standards. \\\"The CEC Secretariat is exploring what additional\"</li>\n",
       "\t<li>\"environmental policies will work in this restructured market and how\"</li>\n",
       "\t<li>\"these policies can be adapted to ensure that they enhance\"</li>\n",
       "\t<li>\"competitiveness and benefit the entire region,\\\" said Sharp. Because\"</li>\n",
       "\t<li>\"trade rules and policy measures directly influence the variables that\"</li>\n",
       "\t<li>\"drive a successfully integrated North American electricity market, the\"</li>\n",
       "\t<li>\"working paper also addresses fuel choice, technology, pollution control\"</li>\n",
       "\t<li>\"strategies and subsidies. The CEC will use the information gathered\"</li>\n",
       "\t<li>\"during the discussion period to develop a final report that will be\"</li>\n",
       "\t<li>\"submitted to the Council in early 2002. For more information or to view\"</li>\n",
       "\t<li>\"the live video webcast of the symposium, please go to:\"</li>\n",
       "\t<li>\"http://www.cec.org/electricity. You may download the working paper and\"</li>\n",
       "\t<li>\"other supporting documents from:\"</li>\n",
       "\t<li>\"http://www.cec.org/programs_projects/other_initiatives/electricity/docs.cfm?varlan=english.\"</li>\n",
       "\t<li>\"Commission for Environmental Cooperation 393, rue St-Jacques Ouest,\"</li>\n",
       "\t<li>\"Bureau 200 Montr茅al (Qu茅bec) Canada H2Y 1N9 Tel: (514) 350-4300; Fax:\"</li>\n",
       "\t<li>\"(514) 350-4314 E-mail: info@ccemtl.org ***********\"</li>\n",
       "</ol>\n"
      ],
      "text/latex": [
       "\\begin{enumerate*}\n",
       "\\item \"North America's integrated electricity market requires cooperation on\"\n",
       "\\item \"environmental policies Commission for Environmental Cooperation\"\n",
       "\\item \"releases working paper on North America's electricity market Montreal,\"\n",
       "\\item \"27 November 2001 -- The North American Commission for Environmental\"\n",
       "\\item \"Cooperation (CEC) is releasing a working paper highlighting the trend\"\n",
       "\\item \"towards increasing trade, competition and cross-border investment in\"\n",
       "\\item \"electricity between Canada, Mexico and the United States. It is hoped\"\n",
       "\\item \"that the working paper, Environmental Challenges and Opportunities in\"\n",
       "\\item \"the Evolving North American Electricity Market, will stimulate public\"\n",
       "\\item \"discussion around a CEC symposium of the same title about the need to\"\n",
       "\\item \"coordinate environmental policies trinationally as a North America-wide\"\n",
       "\\item \"electricity market develops. The CEC symposium will take place in San\"\n",
       "\\item \"Diego on 29-30 November, and will bring together leading experts from\"\n",
       "\\item \"industry, academia, NGOs and the governments of Canada, Mexico and the\"\n",
       "\\item \"United States to consider the impact of the evolving continental\"\n",
       "\\item \"electricity market on human health and the environment. \\\"Our goal [with\"\n",
       "\\item \"the working paper and the symposium] is to highlight key environmental\"\n",
       "\\item \"issues that must be addressed as the electricity markets in North\"\n",
       "\\item \"America become more and more integrated,\\\" said Janine Ferretti,\"\n",
       "\\item \"executive director of the CEC. \\\"We want to stimulate discussion around\"\n",
       "\\item \"the important policy questions being raised so that countries can\"\n",
       "\\item \"cooperate in their approach to energy and the environment.\\\" The CEC, an\"\n",
       "\\item \"international organization created under an environmental side\"\n",
       "\\item \"agreement to NAFTA known as the North American Agreement on\"\n",
       "\\item \"Environmental Cooperation, was established to address regional\"\n",
       "\\item \"environmental concerns, help prevent potential trade and environmental\"\n",
       "\\item \"conflicts, and promote the effective enforcement of environmental law.\"\n",
       "\\item \"The CEC Secretariat believes that greater North American cooperation on\"\n",
       "\\item \"environmental policies regarding the continental electricity market is\"\n",
       "\\item \"necessary to: * protect air quality and mitigate climate change, *\"\n",
       "\\item \"minimize the possibility of environment-based trade disputes, * ensure\"\n",
       "\\item \"a dependable supply of reasonably priced electricity across North\"\n",
       "\\item \"America * avoid creation of pollution havens, and * ensure local and\"\n",
       "\\item \"national environmental measures remain effective. The Changing Market\"\n",
       "\\item \"The working paper profiles the rapid changing North American\"\n",
       "\\item \"electricity market. For example, in 2001, the US is projected to export\"\n",
       "\\item \"13.1 thousand gigawatt-hours (GWh) of electricity to Canada and Mexico.\"\n",
       "\\item \"By 2007, this number is projected to grow to 16.9 thousand GWh of\"\n",
       "\\item \"electricity. \\\"Over the past few decades, the North American electricity\"\n",
       "\\item \"market has developed into a complex array of cross-border transactions\"\n",
       "\\item \"and relationships,\\\" said Phil Sharp, former US congressman and chairman\"\n",
       "\\item \"of the CEC's Electricity Advisory Board. \\\"We need to achieve this new\"\n",
       "\\item \"level of cooperation in our environmental approaches as well.\\\" The\"\n",
       "\\item \"Environmental Profile of the Electricity Sector The electricity sector\"\n",
       "\\item \"is the single largest source of nationally reported toxins in the\"\n",
       "\\item \"United States and Canada and a large source in Mexico. In the US, the\"\n",
       "\\item \"electricity sector emits approximately 25 percent of all NOx emissions,\"\n",
       "\\item \"roughly 35 percent of all CO2 emissions, 25 percent of all mercury\"\n",
       "\\item \"emissions and almost 70 percent of SO2 emissions. These emissions have\"\n",
       "\\item \"a large impact on airsheds, watersheds and migratory species corridors\"\n",
       "\\item \"that are often shared between the three North American countries. \\\"We\"\n",
       "\\item \"want to discuss the possible outcomes from greater efforts to\"\n",
       "\\item \"coordinate federal, state or provincial environmental laws and policies\"\n",
       "\\item \"that relate to the electricity sector,\\\" said Ferretti. \\\"How can we\"\n",
       "\\item \"develop more compatible environmental approaches to help make domestic\"\n",
       "\\item \"environmental policies more effective?\\\" The Effects of an Integrated\"\n",
       "\\item \"Electricity Market One key issue raised in the paper is the effect of\"\n",
       "\\item \"market integration on the competitiveness of particular fuels such as\"\n",
       "\\item \"coal, natural gas or renewables. Fuel choice largely determines\"\n",
       "\\item \"environmental impacts from a specific facility, along with pollution\"\n",
       "\\item \"control technologies, performance standards and regulations. The paper\"\n",
       "\\item \"highlights other impacts of a highly competitive market as well. For\"\n",
       "\\item \"example, concerns about so called \\\"pollution havens\\\" arise when\"\n",
       "\\item \"significant differences in environmental laws or enforcement practices\"\n",
       "\\item \"induce power companies to locate their operations in jurisdictions with\"\n",
       "\\item \"lower standards. \\\"The CEC Secretariat is exploring what additional\"\n",
       "\\item \"environmental policies will work in this restructured market and how\"\n",
       "\\item \"these policies can be adapted to ensure that they enhance\"\n",
       "\\item \"competitiveness and benefit the entire region,\\\" said Sharp. Because\"\n",
       "\\item \"trade rules and policy measures directly influence the variables that\"\n",
       "\\item \"drive a successfully integrated North American electricity market, the\"\n",
       "\\item \"working paper also addresses fuel choice, technology, pollution control\"\n",
       "\\item \"strategies and subsidies. The CEC will use the information gathered\"\n",
       "\\item \"during the discussion period to develop a final report that will be\"\n",
       "\\item \"submitted to the Council in early 2002. For more information or to view\"\n",
       "\\item \"the live video webcast of the symposium, please go to:\"\n",
       "\\item \"http://www.cec.org/electricity. You may download the working paper and\"\n",
       "\\item \"other supporting documents from:\"\n",
       "\\item \"http://www.cec.org/programs_projects/other_initiatives/electricity/docs.cfm?varlan=english.\"\n",
       "\\item \"Commission for Environmental Cooperation 393, rue St-Jacques Ouest,\"\n",
       "\\item \"Bureau 200 Montr茅al (Qu茅bec) Canada H2Y 1N9 Tel: (514) 350-4300; Fax:\"\n",
       "\\item \"(514) 350-4314 E-mail: info@ccemtl.org ***********\"\n",
       "\\end{enumerate*}\n"
      ],
      "text/markdown": [
       "1. \"North America's integrated electricity market requires cooperation on\"\n",
       "2. \"environmental policies Commission for Environmental Cooperation\"\n",
       "3. \"releases working paper on North America's electricity market Montreal,\"\n",
       "4. \"27 November 2001 -- The North American Commission for Environmental\"\n",
       "5. \"Cooperation (CEC) is releasing a working paper highlighting the trend\"\n",
       "6. \"towards increasing trade, competition and cross-border investment in\"\n",
       "7. \"electricity between Canada, Mexico and the United States. It is hoped\"\n",
       "8. \"that the working paper, Environmental Challenges and Opportunities in\"\n",
       "9. \"the Evolving North American Electricity Market, will stimulate public\"\n",
       "10. \"discussion around a CEC symposium of the same title about the need to\"\n",
       "11. \"coordinate environmental policies trinationally as a North America-wide\"\n",
       "12. \"electricity market develops. The CEC symposium will take place in San\"\n",
       "13. \"Diego on 29-30 November, and will bring together leading experts from\"\n",
       "14. \"industry, academia, NGOs and the governments of Canada, Mexico and the\"\n",
       "15. \"United States to consider the impact of the evolving continental\"\n",
       "16. \"electricity market on human health and the environment. \\\"Our goal [with\"\n",
       "17. \"the working paper and the symposium] is to highlight key environmental\"\n",
       "18. \"issues that must be addressed as the electricity markets in North\"\n",
       "19. \"America become more and more integrated,\\\" said Janine Ferretti,\"\n",
       "20. \"executive director of the CEC. \\\"We want to stimulate discussion around\"\n",
       "21. \"the important policy questions being raised so that countries can\"\n",
       "22. \"cooperate in their approach to energy and the environment.\\\" The CEC, an\"\n",
       "23. \"international organization created under an environmental side\"\n",
       "24. \"agreement to NAFTA known as the North American Agreement on\"\n",
       "25. \"Environmental Cooperation, was established to address regional\"\n",
       "26. \"environmental concerns, help prevent potential trade and environmental\"\n",
       "27. \"conflicts, and promote the effective enforcement of environmental law.\"\n",
       "28. \"The CEC Secretariat believes that greater North American cooperation on\"\n",
       "29. \"environmental policies regarding the continental electricity market is\"\n",
       "30. \"necessary to: * protect air quality and mitigate climate change, *\"\n",
       "31. \"minimize the possibility of environment-based trade disputes, * ensure\"\n",
       "32. \"a dependable supply of reasonably priced electricity across North\"\n",
       "33. \"America * avoid creation of pollution havens, and * ensure local and\"\n",
       "34. \"national environmental measures remain effective. The Changing Market\"\n",
       "35. \"The working paper profiles the rapid changing North American\"\n",
       "36. \"electricity market. For example, in 2001, the US is projected to export\"\n",
       "37. \"13.1 thousand gigawatt-hours (GWh) of electricity to Canada and Mexico.\"\n",
       "38. \"By 2007, this number is projected to grow to 16.9 thousand GWh of\"\n",
       "39. \"electricity. \\\"Over the past few decades, the North American electricity\"\n",
       "40. \"market has developed into a complex array of cross-border transactions\"\n",
       "41. \"and relationships,\\\" said Phil Sharp, former US congressman and chairman\"\n",
       "42. \"of the CEC's Electricity Advisory Board. \\\"We need to achieve this new\"\n",
       "43. \"level of cooperation in our environmental approaches as well.\\\" The\"\n",
       "44. \"Environmental Profile of the Electricity Sector The electricity sector\"\n",
       "45. \"is the single largest source of nationally reported toxins in the\"\n",
       "46. \"United States and Canada and a large source in Mexico. In the US, the\"\n",
       "47. \"electricity sector emits approximately 25 percent of all NOx emissions,\"\n",
       "48. \"roughly 35 percent of all CO2 emissions, 25 percent of all mercury\"\n",
       "49. \"emissions and almost 70 percent of SO2 emissions. These emissions have\"\n",
       "50. \"a large impact on airsheds, watersheds and migratory species corridors\"\n",
       "51. \"that are often shared between the three North American countries. \\\"We\"\n",
       "52. \"want to discuss the possible outcomes from greater efforts to\"\n",
       "53. \"coordinate federal, state or provincial environmental laws and policies\"\n",
       "54. \"that relate to the electricity sector,\\\" said Ferretti. \\\"How can we\"\n",
       "55. \"develop more compatible environmental approaches to help make domestic\"\n",
       "56. \"environmental policies more effective?\\\" The Effects of an Integrated\"\n",
       "57. \"Electricity Market One key issue raised in the paper is the effect of\"\n",
       "58. \"market integration on the competitiveness of particular fuels such as\"\n",
       "59. \"coal, natural gas or renewables. Fuel choice largely determines\"\n",
       "60. \"environmental impacts from a specific facility, along with pollution\"\n",
       "61. \"control technologies, performance standards and regulations. The paper\"\n",
       "62. \"highlights other impacts of a highly competitive market as well. For\"\n",
       "63. \"example, concerns about so called \\\"pollution havens\\\" arise when\"\n",
       "64. \"significant differences in environmental laws or enforcement practices\"\n",
       "65. \"induce power companies to locate their operations in jurisdictions with\"\n",
       "66. \"lower standards. \\\"The CEC Secretariat is exploring what additional\"\n",
       "67. \"environmental policies will work in this restructured market and how\"\n",
       "68. \"these policies can be adapted to ensure that they enhance\"\n",
       "69. \"competitiveness and benefit the entire region,\\\" said Sharp. Because\"\n",
       "70. \"trade rules and policy measures directly influence the variables that\"\n",
       "71. \"drive a successfully integrated North American electricity market, the\"\n",
       "72. \"working paper also addresses fuel choice, technology, pollution control\"\n",
       "73. \"strategies and subsidies. The CEC will use the information gathered\"\n",
       "74. \"during the discussion period to develop a final report that will be\"\n",
       "75. \"submitted to the Council in early 2002. For more information or to view\"\n",
       "76. \"the live video webcast of the symposium, please go to:\"\n",
       "77. \"http://www.cec.org/electricity. You may download the working paper and\"\n",
       "78. \"other supporting documents from:\"\n",
       "79. \"http://www.cec.org/programs_projects/other_initiatives/electricity/docs.cfm?varlan=english.\"\n",
       "80. \"Commission for Environmental Cooperation 393, rue St-Jacques Ouest,\"\n",
       "81. \"Bureau 200 Montr茅al (Qu茅bec) Canada H2Y 1N9 Tel: (514) 350-4300; Fax:\"\n",
       "82. \"(514) 350-4314 E-mail: info@ccemtl.org ***********\"\n",
       "\n",
       "\n"
      ],
      "text/plain": [
       " [1] \"North America's integrated electricity market requires cooperation on\"                      \n",
       " [2] \"environmental policies Commission for Environmental Cooperation\"                            \n",
       " [3] \"releases working paper on North America's electricity market Montreal,\"                     \n",
       " [4] \"27 November 2001 -- The North American Commission for Environmental\"                        \n",
       " [5] \"Cooperation (CEC) is releasing a working paper highlighting the trend\"                      \n",
       " [6] \"towards increasing trade, competition and cross-border investment in\"                       \n",
       " [7] \"electricity between Canada, Mexico and the United States. It is hoped\"                      \n",
       " [8] \"that the working paper, Environmental Challenges and Opportunities in\"                      \n",
       " [9] \"the Evolving North American Electricity Market, will stimulate public\"                      \n",
       "[10] \"discussion around a CEC symposium of the same title about the need to\"                      \n",
       "[11] \"coordinate environmental policies trinationally as a North America-wide\"                    \n",
       "[12] \"electricity market develops. The CEC symposium will take place in San\"                      \n",
       "[13] \"Diego on 29-30 November, and will bring together leading experts from\"                      \n",
       "[14] \"industry, academia, NGOs and the governments of Canada, Mexico and the\"                     \n",
       "[15] \"United States to consider the impact of the evolving continental\"                           \n",
       "[16] \"electricity market on human health and the environment. \\\"Our goal [with\"                   \n",
       "[17] \"the working paper and the symposium] is to highlight key environmental\"                     \n",
       "[18] \"issues that must be addressed as the electricity markets in North\"                          \n",
       "[19] \"America become more and more integrated,\\\" said Janine Ferretti,\"                           \n",
       "[20] \"executive director of the CEC. \\\"We want to stimulate discussion around\"                    \n",
       "[21] \"the important policy questions being raised so that countries can\"                          \n",
       "[22] \"cooperate in their approach to energy and the environment.\\\" The CEC, an\"                   \n",
       "[23] \"international organization created under an environmental side\"                             \n",
       "[24] \"agreement to NAFTA known as the North American Agreement on\"                                \n",
       "[25] \"Environmental Cooperation, was established to address regional\"                             \n",
       "[26] \"environmental concerns, help prevent potential trade and environmental\"                     \n",
       "[27] \"conflicts, and promote the effective enforcement of environmental law.\"                     \n",
       "[28] \"The CEC Secretariat believes that greater North American cooperation on\"                    \n",
       "[29] \"environmental policies regarding the continental electricity market is\"                     \n",
       "[30] \"necessary to: * protect air quality and mitigate climate change, *\"                         \n",
       "[31] \"minimize the possibility of environment-based trade disputes, * ensure\"                     \n",
       "[32] \"a dependable supply of reasonably priced electricity across North\"                          \n",
       "[33] \"America * avoid creation of pollution havens, and * ensure local and\"                       \n",
       "[34] \"national environmental measures remain effective. The Changing Market\"                      \n",
       "[35] \"The working paper profiles the rapid changing North American\"                               \n",
       "[36] \"electricity market. For example, in 2001, the US is projected to export\"                    \n",
       "[37] \"13.1 thousand gigawatt-hours (GWh) of electricity to Canada and Mexico.\"                    \n",
       "[38] \"By 2007, this number is projected to grow to 16.9 thousand GWh of\"                          \n",
       "[39] \"electricity. \\\"Over the past few decades, the North American electricity\"                   \n",
       "[40] \"market has developed into a complex array of cross-border transactions\"                     \n",
       "[41] \"and relationships,\\\" said Phil Sharp, former US congressman and chairman\"                   \n",
       "[42] \"of the CEC's Electricity Advisory Board. \\\"We need to achieve this new\"                     \n",
       "[43] \"level of cooperation in our environmental approaches as well.\\\" The\"                        \n",
       "[44] \"Environmental Profile of the Electricity Sector The electricity sector\"                     \n",
       "[45] \"is the single largest source of nationally reported toxins in the\"                          \n",
       "[46] \"United States and Canada and a large source in Mexico. In the US, the\"                      \n",
       "[47] \"electricity sector emits approximately 25 percent of all NOx emissions,\"                    \n",
       "[48] \"roughly 35 percent of all CO2 emissions, 25 percent of all mercury\"                         \n",
       "[49] \"emissions and almost 70 percent of SO2 emissions. These emissions have\"                     \n",
       "[50] \"a large impact on airsheds, watersheds and migratory species corridors\"                     \n",
       "[51] \"that are often shared between the three North American countries. \\\"We\"                     \n",
       "[52] \"want to discuss the possible outcomes from greater efforts to\"                              \n",
       "[53] \"coordinate federal, state or provincial environmental laws and policies\"                    \n",
       "[54] \"that relate to the electricity sector,\\\" said Ferretti. \\\"How can we\"                       \n",
       "[55] \"develop more compatible environmental approaches to help make domestic\"                     \n",
       "[56] \"environmental policies more effective?\\\" The Effects of an Integrated\"                      \n",
       "[57] \"Electricity Market One key issue raised in the paper is the effect of\"                      \n",
       "[58] \"market integration on the competitiveness of particular fuels such as\"                      \n",
       "[59] \"coal, natural gas or renewables. Fuel choice largely determines\"                            \n",
       "[60] \"environmental impacts from a specific facility, along with pollution\"                       \n",
       "[61] \"control technologies, performance standards and regulations. The paper\"                     \n",
       "[62] \"highlights other impacts of a highly competitive market as well. For\"                       \n",
       "[63] \"example, concerns about so called \\\"pollution havens\\\" arise when\"                          \n",
       "[64] \"significant differences in environmental laws or enforcement practices\"                     \n",
       "[65] \"induce power companies to locate their operations in jurisdictions with\"                    \n",
       "[66] \"lower standards. \\\"The CEC Secretariat is exploring what additional\"                        \n",
       "[67] \"environmental policies will work in this restructured market and how\"                       \n",
       "[68] \"these policies can be adapted to ensure that they enhance\"                                  \n",
       "[69] \"competitiveness and benefit the entire region,\\\" said Sharp. Because\"                       \n",
       "[70] \"trade rules and policy measures directly influence the variables that\"                      \n",
       "[71] \"drive a successfully integrated North American electricity market, the\"                     \n",
       "[72] \"working paper also addresses fuel choice, technology, pollution control\"                    \n",
       "[73] \"strategies and subsidies. The CEC will use the information gathered\"                        \n",
       "[74] \"during the discussion period to develop a final report that will be\"                        \n",
       "[75] \"submitted to the Council in early 2002. For more information or to view\"                    \n",
       "[76] \"the live video webcast of the symposium, please go to:\"                                     \n",
       "[77] \"http://www.cec.org/electricity. You may download the working paper and\"                     \n",
       "[78] \"other supporting documents from:\"                                                           \n",
       "[79] \"http://www.cec.org/programs_projects/other_initiatives/electricity/docs.cfm?varlan=english.\"\n",
       "[80] \"Commission for Environmental Cooperation 393, rue St-Jacques Ouest,\"                        \n",
       "[81] \"Bureau 200 Montr茅al (Qu茅bec) Canada H2Y 1N9 Tel: (514) 350-4300; Fax:\"                    \n",
       "[82] \"(514) 350-4314 E-mail: info@ccemtl.org ***********\"                                         "
      ]
     },
     "execution_count": 10,
     "metadata": {},
     "output_type": "execute_result"
    }
   ],
   "source": [
    "strwrap(corpus[[1]])"
   ]
  },
  {
   "cell_type": "code",
   "execution_count": 13,
   "metadata": {
    "collapsed": false
   },
   "outputs": [],
   "source": [
    "corpus = tm_map(corpus, content_transformer(tolower))\n",
    "corpus = tm_map(corpus, PlainTextDocument)\n",
    "corpus = tm_map(corpus, removePunctuation)\n",
    "corpus = tm_map(corpus, removeWords, stopwords(\"english\"))\n",
    "corpus = tm_map(corpus, stemDocument)"
   ]
  },
  {
   "cell_type": "code",
   "execution_count": 14,
   "metadata": {
    "collapsed": false
   },
   "outputs": [
    {
     "data": {
      "text/html": [
       "<ol class=list-inline>\n",
       "\t<li>\"north america integr electr market requir cooper environ polici commiss\"</li>\n",
       "\t<li>\"environ cooper relea work paper north america electr market montreal 27\"</li>\n",
       "\t<li>\"novemb 2001 north american commiss environ cooper cec relea work paper\"</li>\n",
       "\t<li>\"highlight trend toward increa trade competit crossbord invest electr\"</li>\n",
       "\t<li>\"canada mexico unit state hope work paper environ challeng opportun\"</li>\n",
       "\t<li>\"evolv north american electr market will stimul public discuss around\"</li>\n",
       "\t<li>\"cec symposium titl need coordin environ polici trinat north americawid\"</li>\n",
       "\t<li>\"electr market develop cec symposium will take place san diego 2930\"</li>\n",
       "\t<li>\"novemb will bring togeth lead expert industri academia ngos govern\"</li>\n",
       "\t<li>\"canada mexico unit state consid impact evolv contin electr market human\"</li>\n",
       "\t<li>\"health environ goal work paper symposium highlight key environ issu\"</li>\n",
       "\t<li>\"must address electr market north america becom integr said janin\"</li>\n",
       "\t<li>\"ferretti execut director cec want stimul discuss around import polici\"</li>\n",
       "\t<li>\"question rai countri can cooper approach energi environ cec intern\"</li>\n",
       "\t<li>\"organ creat environ side agreement nafta known north american agreement\"</li>\n",
       "\t<li>\"environ cooper establish address region environ concern help prevent\"</li>\n",
       "\t<li>\"potenti trade environ conflict promot effect enforc environ law cec\"</li>\n",
       "\t<li>\"secretariat believ greater north american cooper environ polici regard\"</li>\n",
       "\t<li>\"contin electr market necessari protect air qualiti mitig climat chang\"</li>\n",
       "\t<li>\"minim possibl environmentba trade disput ensur depend suppli reason\"</li>\n",
       "\t<li>\"price electr across north america avoid creation pollut haven ensur\"</li>\n",
       "\t<li>\"local nation environ measur remain effect chang market work paper\"</li>\n",
       "\t<li>\"profil rapid chang north american electr market exampl 2001 us project\"</li>\n",
       "\t<li>\"export 131 thousand gigawatthour gwh electr canada mexico 2007 number\"</li>\n",
       "\t<li>\"project grow 169 thousand gwh electr past decad north american electr\"</li>\n",
       "\t<li>\"market develop complex array crossbord transact relationship said phil\"</li>\n",
       "\t<li>\"sharp former us congressman chairman cec electr advisori board need\"</li>\n",
       "\t<li>\"achiev new level cooper environ approach well environ profil electr\"</li>\n",
       "\t<li>\"sector electr sector singl largest sourc nation report toxin unit state\"</li>\n",
       "\t<li>\"canada larg sourc mexico us electr sector emit approxim 25 percent nox\"</li>\n",
       "\t<li>\"emiss rough 35 percent co2 emiss 25 percent mercuri emiss almost 70\"</li>\n",
       "\t<li>\"percent so2 emiss emiss larg impact airsh watersh migratori speci\"</li>\n",
       "\t<li>\"corridor often share three north american countri want discuss possibl\"</li>\n",
       "\t<li>\"outcom greater effort coordin feder state provinci environ law polici\"</li>\n",
       "\t<li>\"relat electr sector said ferretti can develop compat environ approach\"</li>\n",
       "\t<li>\"help make domest environ polici effect effect integrat electr market\"</li>\n",
       "\t<li>\"one key issu rai paper effect market integr competit particular fuel\"</li>\n",
       "\t<li>\"coal natur gas renew fuel choic larg determin environ impact specif\"</li>\n",
       "\t<li>\"facil along pollut control technolog perform standard regul paper\"</li>\n",
       "\t<li>\"highlight impact high competit market well exampl concern call pollut\"</li>\n",
       "\t<li>\"haven ari signif differ environ law enforc practic induc power compani\"</li>\n",
       "\t<li>\"locat oper jurisdict lower standard cec secretariat explor addit\"</li>\n",
       "\t<li>\"environ polici will work restructur market polici can adapt ensur\"</li>\n",
       "\t<li>\"enhanc competit benefit entir region said sharp becaus trade rule\"</li>\n",
       "\t<li>\"polici measur direct influenc variabl drive success integr north\"</li>\n",
       "\t<li>\"american electr market work paper also address fuel choic technolog\"</li>\n",
       "\t<li>\"pollut control strategi subsidi cec will use inform gather discuss\"</li>\n",
       "\t<li>\"period develop final report will submit council ear 2002 inform view\"</li>\n",
       "\t<li>\"live video webcast symposium plea go httpwwwcecorgelectr may download\"</li>\n",
       "\t<li>\"work paper support document\"</li>\n",
       "\t<li>\"httpwwwcecorgprogramsprojectsotherinitiativeselectricitydocscfmvarlanenglish\"</li>\n",
       "\t<li>\"commiss environ cooper 393 rue stjacqu ouest bureau 200 montr茅al\"</li>\n",
       "\t<li>\"qu茅bec canada h2i 1n9 tel 514 3504300 fax 514 3504314 email\"</li>\n",
       "\t<li>\"infoccemtlorg\"</li>\n",
       "</ol>\n"
      ],
      "text/latex": [
       "\\begin{enumerate*}\n",
       "\\item \"north america integr electr market requir cooper environ polici commiss\"\n",
       "\\item \"environ cooper relea work paper north america electr market montreal 27\"\n",
       "\\item \"novemb 2001 north american commiss environ cooper cec relea work paper\"\n",
       "\\item \"highlight trend toward increa trade competit crossbord invest electr\"\n",
       "\\item \"canada mexico unit state hope work paper environ challeng opportun\"\n",
       "\\item \"evolv north american electr market will stimul public discuss around\"\n",
       "\\item \"cec symposium titl need coordin environ polici trinat north americawid\"\n",
       "\\item \"electr market develop cec symposium will take place san diego 2930\"\n",
       "\\item \"novemb will bring togeth lead expert industri academia ngos govern\"\n",
       "\\item \"canada mexico unit state consid impact evolv contin electr market human\"\n",
       "\\item \"health environ goal work paper symposium highlight key environ issu\"\n",
       "\\item \"must address electr market north america becom integr said janin\"\n",
       "\\item \"ferretti execut director cec want stimul discuss around import polici\"\n",
       "\\item \"question rai countri can cooper approach energi environ cec intern\"\n",
       "\\item \"organ creat environ side agreement nafta known north american agreement\"\n",
       "\\item \"environ cooper establish address region environ concern help prevent\"\n",
       "\\item \"potenti trade environ conflict promot effect enforc environ law cec\"\n",
       "\\item \"secretariat believ greater north american cooper environ polici regard\"\n",
       "\\item \"contin electr market necessari protect air qualiti mitig climat chang\"\n",
       "\\item \"minim possibl environmentba trade disput ensur depend suppli reason\"\n",
       "\\item \"price electr across north america avoid creation pollut haven ensur\"\n",
       "\\item \"local nation environ measur remain effect chang market work paper\"\n",
       "\\item \"profil rapid chang north american electr market exampl 2001 us project\"\n",
       "\\item \"export 131 thousand gigawatthour gwh electr canada mexico 2007 number\"\n",
       "\\item \"project grow 169 thousand gwh electr past decad north american electr\"\n",
       "\\item \"market develop complex array crossbord transact relationship said phil\"\n",
       "\\item \"sharp former us congressman chairman cec electr advisori board need\"\n",
       "\\item \"achiev new level cooper environ approach well environ profil electr\"\n",
       "\\item \"sector electr sector singl largest sourc nation report toxin unit state\"\n",
       "\\item \"canada larg sourc mexico us electr sector emit approxim 25 percent nox\"\n",
       "\\item \"emiss rough 35 percent co2 emiss 25 percent mercuri emiss almost 70\"\n",
       "\\item \"percent so2 emiss emiss larg impact airsh watersh migratori speci\"\n",
       "\\item \"corridor often share three north american countri want discuss possibl\"\n",
       "\\item \"outcom greater effort coordin feder state provinci environ law polici\"\n",
       "\\item \"relat electr sector said ferretti can develop compat environ approach\"\n",
       "\\item \"help make domest environ polici effect effect integrat electr market\"\n",
       "\\item \"one key issu rai paper effect market integr competit particular fuel\"\n",
       "\\item \"coal natur gas renew fuel choic larg determin environ impact specif\"\n",
       "\\item \"facil along pollut control technolog perform standard regul paper\"\n",
       "\\item \"highlight impact high competit market well exampl concern call pollut\"\n",
       "\\item \"haven ari signif differ environ law enforc practic induc power compani\"\n",
       "\\item \"locat oper jurisdict lower standard cec secretariat explor addit\"\n",
       "\\item \"environ polici will work restructur market polici can adapt ensur\"\n",
       "\\item \"enhanc competit benefit entir region said sharp becaus trade rule\"\n",
       "\\item \"polici measur direct influenc variabl drive success integr north\"\n",
       "\\item \"american electr market work paper also address fuel choic technolog\"\n",
       "\\item \"pollut control strategi subsidi cec will use inform gather discuss\"\n",
       "\\item \"period develop final report will submit council ear 2002 inform view\"\n",
       "\\item \"live video webcast symposium plea go httpwwwcecorgelectr may download\"\n",
       "\\item \"work paper support document\"\n",
       "\\item \"httpwwwcecorgprogramsprojectsotherinitiativeselectricitydocscfmvarlanenglish\"\n",
       "\\item \"commiss environ cooper 393 rue stjacqu ouest bureau 200 montr茅al\"\n",
       "\\item \"qu茅bec canada h2i 1n9 tel 514 3504300 fax 514 3504314 email\"\n",
       "\\item \"infoccemtlorg\"\n",
       "\\end{enumerate*}\n"
      ],
      "text/markdown": [
       "1. \"north america integr electr market requir cooper environ polici commiss\"\n",
       "2. \"environ cooper relea work paper north america electr market montreal 27\"\n",
       "3. \"novemb 2001 north american commiss environ cooper cec relea work paper\"\n",
       "4. \"highlight trend toward increa trade competit crossbord invest electr\"\n",
       "5. \"canada mexico unit state hope work paper environ challeng opportun\"\n",
       "6. \"evolv north american electr market will stimul public discuss around\"\n",
       "7. \"cec symposium titl need coordin environ polici trinat north americawid\"\n",
       "8. \"electr market develop cec symposium will take place san diego 2930\"\n",
       "9. \"novemb will bring togeth lead expert industri academia ngos govern\"\n",
       "10. \"canada mexico unit state consid impact evolv contin electr market human\"\n",
       "11. \"health environ goal work paper symposium highlight key environ issu\"\n",
       "12. \"must address electr market north america becom integr said janin\"\n",
       "13. \"ferretti execut director cec want stimul discuss around import polici\"\n",
       "14. \"question rai countri can cooper approach energi environ cec intern\"\n",
       "15. \"organ creat environ side agreement nafta known north american agreement\"\n",
       "16. \"environ cooper establish address region environ concern help prevent\"\n",
       "17. \"potenti trade environ conflict promot effect enforc environ law cec\"\n",
       "18. \"secretariat believ greater north american cooper environ polici regard\"\n",
       "19. \"contin electr market necessari protect air qualiti mitig climat chang\"\n",
       "20. \"minim possibl environmentba trade disput ensur depend suppli reason\"\n",
       "21. \"price electr across north america avoid creation pollut haven ensur\"\n",
       "22. \"local nation environ measur remain effect chang market work paper\"\n",
       "23. \"profil rapid chang north american electr market exampl 2001 us project\"\n",
       "24. \"export 131 thousand gigawatthour gwh electr canada mexico 2007 number\"\n",
       "25. \"project grow 169 thousand gwh electr past decad north american electr\"\n",
       "26. \"market develop complex array crossbord transact relationship said phil\"\n",
       "27. \"sharp former us congressman chairman cec electr advisori board need\"\n",
       "28. \"achiev new level cooper environ approach well environ profil electr\"\n",
       "29. \"sector electr sector singl largest sourc nation report toxin unit state\"\n",
       "30. \"canada larg sourc mexico us electr sector emit approxim 25 percent nox\"\n",
       "31. \"emiss rough 35 percent co2 emiss 25 percent mercuri emiss almost 70\"\n",
       "32. \"percent so2 emiss emiss larg impact airsh watersh migratori speci\"\n",
       "33. \"corridor often share three north american countri want discuss possibl\"\n",
       "34. \"outcom greater effort coordin feder state provinci environ law polici\"\n",
       "35. \"relat electr sector said ferretti can develop compat environ approach\"\n",
       "36. \"help make domest environ polici effect effect integrat electr market\"\n",
       "37. \"one key issu rai paper effect market integr competit particular fuel\"\n",
       "38. \"coal natur gas renew fuel choic larg determin environ impact specif\"\n",
       "39. \"facil along pollut control technolog perform standard regul paper\"\n",
       "40. \"highlight impact high competit market well exampl concern call pollut\"\n",
       "41. \"haven ari signif differ environ law enforc practic induc power compani\"\n",
       "42. \"locat oper jurisdict lower standard cec secretariat explor addit\"\n",
       "43. \"environ polici will work restructur market polici can adapt ensur\"\n",
       "44. \"enhanc competit benefit entir region said sharp becaus trade rule\"\n",
       "45. \"polici measur direct influenc variabl drive success integr north\"\n",
       "46. \"american electr market work paper also address fuel choic technolog\"\n",
       "47. \"pollut control strategi subsidi cec will use inform gather discuss\"\n",
       "48. \"period develop final report will submit council ear 2002 inform view\"\n",
       "49. \"live video webcast symposium plea go httpwwwcecorgelectr may download\"\n",
       "50. \"work paper support document\"\n",
       "51. \"httpwwwcecorgprogramsprojectsotherinitiativeselectricitydocscfmvarlanenglish\"\n",
       "52. \"commiss environ cooper 393 rue stjacqu ouest bureau 200 montr茅al\"\n",
       "53. \"qu茅bec canada h2i 1n9 tel 514 3504300 fax 514 3504314 email\"\n",
       "54. \"infoccemtlorg\"\n",
       "\n",
       "\n"
      ],
      "text/plain": [
       " [1] \"north america integr electr market requir cooper environ polici commiss\"     \n",
       " [2] \"environ cooper relea work paper north america electr market montreal 27\"     \n",
       " [3] \"novemb 2001 north american commiss environ cooper cec relea work paper\"      \n",
       " [4] \"highlight trend toward increa trade competit crossbord invest electr\"        \n",
       " [5] \"canada mexico unit state hope work paper environ challeng opportun\"          \n",
       " [6] \"evolv north american electr market will stimul public discuss around\"        \n",
       " [7] \"cec symposium titl need coordin environ polici trinat north americawid\"      \n",
       " [8] \"electr market develop cec symposium will take place san diego 2930\"          \n",
       " [9] \"novemb will bring togeth lead expert industri academia ngos govern\"          \n",
       "[10] \"canada mexico unit state consid impact evolv contin electr market human\"     \n",
       "[11] \"health environ goal work paper symposium highlight key environ issu\"         \n",
       "[12] \"must address electr market north america becom integr said janin\"            \n",
       "[13] \"ferretti execut director cec want stimul discuss around import polici\"       \n",
       "[14] \"question rai countri can cooper approach energi environ cec intern\"          \n",
       "[15] \"organ creat environ side agreement nafta known north american agreement\"     \n",
       "[16] \"environ cooper establish address region environ concern help prevent\"        \n",
       "[17] \"potenti trade environ conflict promot effect enforc environ law cec\"         \n",
       "[18] \"secretariat believ greater north american cooper environ polici regard\"      \n",
       "[19] \"contin electr market necessari protect air qualiti mitig climat chang\"       \n",
       "[20] \"minim possibl environmentba trade disput ensur depend suppli reason\"         \n",
       "[21] \"price electr across north america avoid creation pollut haven ensur\"         \n",
       "[22] \"local nation environ measur remain effect chang market work paper\"           \n",
       "[23] \"profil rapid chang north american electr market exampl 2001 us project\"      \n",
       "[24] \"export 131 thousand gigawatthour gwh electr canada mexico 2007 number\"       \n",
       "[25] \"project grow 169 thousand gwh electr past decad north american electr\"       \n",
       "[26] \"market develop complex array crossbord transact relationship said phil\"      \n",
       "[27] \"sharp former us congressman chairman cec electr advisori board need\"         \n",
       "[28] \"achiev new level cooper environ approach well environ profil electr\"         \n",
       "[29] \"sector electr sector singl largest sourc nation report toxin unit state\"     \n",
       "[30] \"canada larg sourc mexico us electr sector emit approxim 25 percent nox\"      \n",
       "[31] \"emiss rough 35 percent co2 emiss 25 percent mercuri emiss almost 70\"         \n",
       "[32] \"percent so2 emiss emiss larg impact airsh watersh migratori speci\"           \n",
       "[33] \"corridor often share three north american countri want discuss possibl\"      \n",
       "[34] \"outcom greater effort coordin feder state provinci environ law polici\"       \n",
       "[35] \"relat electr sector said ferretti can develop compat environ approach\"       \n",
       "[36] \"help make domest environ polici effect effect integrat electr market\"        \n",
       "[37] \"one key issu rai paper effect market integr competit particular fuel\"        \n",
       "[38] \"coal natur gas renew fuel choic larg determin environ impact specif\"         \n",
       "[39] \"facil along pollut control technolog perform standard regul paper\"           \n",
       "[40] \"highlight impact high competit market well exampl concern call pollut\"       \n",
       "[41] \"haven ari signif differ environ law enforc practic induc power compani\"      \n",
       "[42] \"locat oper jurisdict lower standard cec secretariat explor addit\"            \n",
       "[43] \"environ polici will work restructur market polici can adapt ensur\"           \n",
       "[44] \"enhanc competit benefit entir region said sharp becaus trade rule\"           \n",
       "[45] \"polici measur direct influenc variabl drive success integr north\"            \n",
       "[46] \"american electr market work paper also address fuel choic technolog\"         \n",
       "[47] \"pollut control strategi subsidi cec will use inform gather discuss\"          \n",
       "[48] \"period develop final report will submit council ear 2002 inform view\"        \n",
       "[49] \"live video webcast symposium plea go httpwwwcecorgelectr may download\"       \n",
       "[50] \"work paper support document\"                                                 \n",
       "[51] \"httpwwwcecorgprogramsprojectsotherinitiativeselectricitydocscfmvarlanenglish\"\n",
       "[52] \"commiss environ cooper 393 rue stjacqu ouest bureau 200 montr茅al\"           \n",
       "[53] \"qu茅bec canada h2i 1n9 tel 514 3504300 fax 514 3504314 email\"                \n",
       "[54] \"infoccemtlorg\"                                                               "
      ]
     },
     "execution_count": 14,
     "metadata": {},
     "output_type": "execute_result"
    }
   ],
   "source": [
    "strwrap(corpus[[1]])"
   ]
  },
  {
   "cell_type": "code",
   "execution_count": 15,
   "metadata": {
    "collapsed": false
   },
   "outputs": [
    {
     "data": {
      "text/plain": [
       "<<DocumentTermMatrix (documents: 855, terms: 22319)>>\n",
       "Non-/sparse entries: 102917/18979828\n",
       "Sparsity           : 99%\n",
       "Maximal term length: 168\n",
       "Weighting          : term frequency (tf)"
      ]
     },
     "execution_count": 15,
     "metadata": {},
     "output_type": "execute_result"
    }
   ],
   "source": [
    "dtm = DocumentTermMatrix(corpus)\n",
    "dtm"
   ]
  },
  {
   "cell_type": "code",
   "execution_count": 16,
   "metadata": {
    "collapsed": false
   },
   "outputs": [
    {
     "data": {
      "text/plain": [
       "<<DocumentTermMatrix (documents: 855, terms: 787)>>\n",
       "Non-/sparse entries: 51493/621392\n",
       "Sparsity           : 92%\n",
       "Maximal term length: 19\n",
       "Weighting          : term frequency (tf)"
      ]
     },
     "execution_count": 16,
     "metadata": {},
     "output_type": "execute_result"
    }
   ],
   "source": [
    "dtm = removeSparseTerms(dtm, 0.97)\n",
    "dtm"
   ]
  },
  {
   "cell_type": "code",
   "execution_count": 17,
   "metadata": {
    "collapsed": false
   },
   "outputs": [
    {
     "name": "stdout",
     "output_type": "stream",
     "text": [
      "'data.frame':\t855 obs. of  788 variables:\n",
      " $ 100                : num  0 0 0 0 0 0 5 0 0 0 ...\n",
      " $ 1400               : num  0 0 0 0 0 0 0 0 0 0 ...\n",
      " $ 1999               : num  0 0 0 0 0 0 0 0 0 0 ...\n",
      " $ 2000               : num  0 0 1 0 1 0 2 0 1 0 ...\n",
      " $ 2001               : num  2 1 0 0 0 0 7 0 0 0 ...\n",
      " $ 713                : num  0 0 0 0 0 0 0 0 0 0 ...\n",
      " $ 77002              : num  0 0 0 0 0 0 0 0 0 0 ...\n",
      " $ abl                : num  0 0 0 0 0 0 2 0 0 0 ...\n",
      " $ accept             : num  0 0 0 0 0 0 1 0 0 0 ...\n",
      " $ access             : num  0 0 0 0 0 0 0 0 0 0 ...\n",
      " $ accord             : num  0 0 0 0 0 0 1 0 0 0 ...\n",
      " $ account            : num  0 0 0 0 0 0 3 0 0 0 ...\n",
      " $ act                : num  0 0 0 0 0 0 1 0 0 0 ...\n",
      " $ action             : num  0 0 0 0 1 0 0 0 0 0 ...\n",
      " $ activ              : num  0 0 1 0 1 0 1 0 0 0 ...\n",
      " $ actual             : num  0 0 0 0 0 0 0 0 0 0 ...\n",
      " $ add                : num  0 0 0 0 0 0 1 0 0 0 ...\n",
      " $ addit              : num  1 0 0 0 0 0 1 0 0 0 ...\n",
      " $ address            : num  3 0 0 0 2 0 0 0 0 1 ...\n",
      " $ administr          : num  0 0 0 0 0 0 1 0 0 0 ...\n",
      " $ advanc             : num  0 0 0 0 0 0 0 0 0 0 ...\n",
      " $ advi               : num  0 0 0 0 0 0 0 0 0 0 ...\n",
      " $ affect             : num  0 0 0 0 2 0 0 0 0 0 ...\n",
      " $ afternoon          : num  0 0 0 0 0 0 0 0 0 0 ...\n",
      " $ agenc              : num  0 0 0 0 1 0 0 0 0 0 ...\n",
      " $ ago                : num  0 0 0 0 0 0 1 0 0 0 ...\n",
      " $ agr                : num  0 0 0 0 0 0 0 0 0 0 ...\n",
      " $ agreement          : num  2 0 0 0 2 0 1 0 0 1 ...\n",
      " $ alan               : num  0 0 0 0 0 1 0 0 0 0 ...\n",
      " $ allow              : num  0 0 0 0 0 0 2 0 0 0 ...\n",
      " $ along              : num  1 0 0 0 1 0 1 0 0 0 ...\n",
      " $ alreadi            : num  0 0 0 0 0 0 0 0 0 0 ...\n",
      " $ also               : num  1 0 0 0 0 0 8 0 0 0 ...\n",
      " $ although           : num  0 0 0 0 0 0 6 0 0 0 ...\n",
      " $ amend              : num  0 0 0 0 0 0 0 0 0 0 ...\n",
      " $ america            : num  4 0 0 0 0 0 0 0 1 0 ...\n",
      " $ among              : num  0 0 0 0 0 0 3 0 0 0 ...\n",
      " $ amount             : num  0 0 0 0 0 0 1 0 0 0 ...\n",
      " $ analysi            : num  0 0 0 2 0 0 0 0 0 0 ...\n",
      " $ analyst            : num  0 0 0 0 0 0 6 0 0 0 ...\n",
      " $ andor              : num  0 0 0 0 0 0 0 0 0 0 ...\n",
      " $ andrew             : num  0 0 0 0 0 0 0 0 0 0 ...\n",
      " $ ani                : num  0 0 0 0 0 0 0 1 0 0 ...\n",
      " $ announc            : num  0 0 0 0 0 0 2 0 0 0 ...\n",
      " $ anoth              : num  0 0 0 0 0 0 6 0 0 0 ...\n",
      " $ answer             : num  0 0 0 0 0 0 2 0 0 0 ...\n",
      " $ anyon              : num  0 0 0 0 0 0 0 0 0 0 ...\n",
      " $ anyth              : num  0 0 0 0 0 0 0 0 0 0 ...\n",
      " $ appear             : num  0 0 0 0 0 0 3 0 0 0 ...\n",
      " $ appli              : num  0 0 0 0 0 0 0 0 0 0 ...\n",
      " $ applic             : num  0 0 0 0 0 0 0 0 0 0 ...\n",
      " $ appreci            : num  0 0 0 0 1 0 0 0 0 0 ...\n",
      " $ approach           : num  3 0 0 0 0 0 1 0 0 0 ...\n",
      " $ appropri           : num  0 0 0 0 0 0 0 1 0 0 ...\n",
      " $ approv             : num  0 0 0 0 0 0 1 0 0 0 ...\n",
      " $ approxim           : num  1 0 0 0 0 0 1 0 0 0 ...\n",
      " $ april              : num  0 0 0 0 0 0 3 0 0 0 ...\n",
      " $ area               : num  0 0 0 0 1 0 3 0 0 0 ...\n",
      " $ around             : num  2 0 0 0 0 0 1 0 0 0 ...\n",
      " $ arrang             : num  0 0 0 0 0 0 0 0 0 0 ...\n",
      " $ articl             : num  0 0 0 0 0 0 1 0 0 0 ...\n",
      " $ ask                : num  0 0 0 0 0 1 0 0 0 0 ...\n",
      " $ asset              : num  0 0 0 0 0 0 2 0 0 0 ...\n",
      " $ assist             : num  0 0 0 0 0 0 0 0 0 0 ...\n",
      " $ associ             : num  0 0 1 0 0 0 0 0 0 0 ...\n",
      " $ associat           : num  0 0 0 0 1 0 0 0 0 0 ...\n",
      " $ assum              : num  0 0 0 0 0 1 0 0 0 0 ...\n",
      " $ attach             : num  0 1 0 1 1 0 1 0 3 1 ...\n",
      " $ attend             : num  0 0 0 0 0 0 0 0 1 0 ...\n",
      " $ attent             : num  0 0 0 0 0 0 1 0 0 0 ...\n",
      " $ attorney           : num  0 0 0 0 0 0 0 0 0 0 ...\n",
      " $ august             : num  0 0 0 0 0 0 0 0 0 0 ...\n",
      " $ author             : num  0 0 1 0 0 0 0 0 0 0 ...\n",
      " $ avail              : num  0 0 0 0 0 0 0 0 0 0 ...\n",
      " $ averag             : num  0 0 0 0 0 0 5 0 0 0 ...\n",
      " $ avoid              : num  1 0 0 0 1 0 2 0 0 0 ...\n",
      " $ awar               : num  0 0 0 0 0 0 0 0 0 0 ...\n",
      " $ back               : num  0 0 0 0 1 1 1 0 0 0 ...\n",
      " $ balanc             : num  0 0 0 0 0 0 0 0 0 0 ...\n",
      " $ bank               : num  0 0 0 0 0 0 2 0 0 0 ...\n",
      " $ base               : num  0 0 0 0 1 0 9 0 0 0 ...\n",
      " $ basi               : num  0 0 0 0 0 0 1 0 0 0 ...\n",
      " $ becom              : num  1 0 0 0 0 0 4 0 0 0 ...\n",
      " $ begin              : num  0 0 0 0 0 0 0 0 0 0 ...\n",
      " $ believ             : num  1 0 0 0 0 0 0 0 0 0 ...\n",
      " $ benefit            : num  1 0 0 0 0 0 5 0 0 0 ...\n",
      " $ best               : num  0 0 0 0 0 0 0 0 0 1 ...\n",
      " $ better             : num  0 0 0 0 0 0 2 0 0 0 ...\n",
      " $ bid                : num  0 0 0 0 0 0 1 0 0 0 ...\n",
      " $ big                : num  0 0 0 0 0 1 6 0 0 0 ...\n",
      " $ bill               : num  0 0 0 0 0 0 0 0 0 0 ...\n",
      " $ billion            : num  0 0 0 0 0 0 2 0 0 0 ...\n",
      " $ bit                : num  0 0 0 0 0 1 2 0 0 0 ...\n",
      " $ board              : num  1 0 0 0 0 0 0 0 0 0 ...\n",
      " $ bob                : num  0 0 0 0 0 0 0 0 0 0 ...\n",
      " $ book               : num  0 0 0 0 0 0 0 0 0 0 ...\n",
      " $ brian              : num  0 1 0 0 0 0 0 0 0 0 ...\n",
      " $ brief              : num  0 0 0 0 0 0 0 0 0 0 ...\n",
      " $ bring              : num  1 0 0 0 0 0 2 0 0 0 ...\n",
      "  [list output truncated]\n"
     ]
    }
   ],
   "source": [
    "labeledTerms = as.data.frame(as.matrix(dtm))\n",
    "labeledTerms$responsive = emails$responsive\n",
    "str(labeledTerms)"
   ]
  },
  {
   "cell_type": "code",
   "execution_count": 18,
   "metadata": {
    "collapsed": true
   },
   "outputs": [],
   "source": [
    "library(caTools)\n",
    "set.seed(144)\n",
    "split = sample.split(labeledTerms$responsive, 0.7)\n",
    "train = subset(labeledTerms, split==TRUE)\n",
    "test = subset(labeledTerms, split==FALSE)"
   ]
  },
  {
   "cell_type": "code",
   "execution_count": 19,
   "metadata": {
    "collapsed": false
   },
   "outputs": [
    {
     "data": {
      "application/pdf": "[encoded data removed]",
      "image/jpeg": "[encoded data removed]",
      "image/png": "[encoded data removed]",
      "text/plain": [
       "plot without title"
      ]
     },
     "metadata": {
      "image/svg+xml": {
       "isolated": true
      }
     },
     "output_type": "display_data"
    }
   ],
   "source": [
    "library(rpart)\n",
    "library(rpart.plot)\n",
    "emailCART = rpart(responsive~., data=train, method=\"class\")\n",
    "prp(emailCART)"
   ]
  },
  {
   "cell_type": "code",
   "execution_count": 20,
   "metadata": {
    "collapsed": false
   },
   "outputs": [
    {
     "data": {
      "text/html": [
       "<table>\n",
       "<thead><tr><th></th><th scope=col>0</th><th scope=col>1</th></tr></thead>\n",
       "<tbody>\n",
       "\t<tr><th scope=row>character(0)</th><td>0.2156863</td><td>0.7843137</td></tr>\n",
       "\t<tr><th scope=row>character(0).1</th><td>0.95575221</td><td>0.04424779</td></tr>\n",
       "\t<tr><th scope=row>character(0).2</th><td>0.95575221</td><td>0.04424779</td></tr>\n",
       "\t<tr><th scope=row>character(0).3</th><td>0.8125</td><td>0.1875</td></tr>\n",
       "\t<tr><th scope=row>character(0).4</th><td>0.4</td><td>0.6</td></tr>\n",
       "\t<tr><th scope=row>character(0).5</th><td>0.95575221</td><td>0.04424779</td></tr>\n",
       "\t<tr><th scope=row>character(0).6</th><td>0.95575221</td><td>0.04424779</td></tr>\n",
       "\t<tr><th scope=row>character(0).7</th><td>0.95575221</td><td>0.04424779</td></tr>\n",
       "\t<tr><th scope=row>character(0).8</th><td>0.125</td><td>0.875</td></tr>\n",
       "\t<tr><th scope=row>character(0).9</th><td>0.125</td><td>0.875</td></tr>\n",
       "</tbody>\n",
       "</table>\n"
      ],
      "text/latex": [
       "\\begin{tabular}{r|ll}\n",
       "  & 0 & 1\\\\\n",
       "\\hline\n",
       "\tcharacter(0) & 0.2156863 & 0.7843137\\\\\n",
       "\tcharacter(0).1 & 0.95575221 & 0.04424779\\\\\n",
       "\tcharacter(0).2 & 0.95575221 & 0.04424779\\\\\n",
       "\tcharacter(0).3 & 0.8125 & 0.1875\\\\\n",
       "\tcharacter(0).4 & 0.4 & 0.6\\\\\n",
       "\tcharacter(0).5 & 0.95575221 & 0.04424779\\\\\n",
       "\tcharacter(0).6 & 0.95575221 & 0.04424779\\\\\n",
       "\tcharacter(0).7 & 0.95575221 & 0.04424779\\\\\n",
       "\tcharacter(0).8 & 0.125 & 0.875\\\\\n",
       "\tcharacter(0).9 & 0.125 & 0.875\\\\\n",
       "\\end{tabular}\n"
      ],
      "text/markdown": [
       "1. 0.215686274509804\n",
       "2. 0.955752212389381\n",
       "3. 0.955752212389381\n",
       "4. 0.8125\n",
       "5. 0.4\n",
       "6. 0.955752212389381\n",
       "7. 0.955752212389381\n",
       "8. 0.955752212389381\n",
       "9. 0.125\n",
       "10. 0.125\n",
       "11. 0.784313725490196\n",
       "12. 0.0442477876106195\n",
       "13. 0.0442477876106195\n",
       "14. 0.1875\n",
       "15. 0.6\n",
       "16. 0.0442477876106195\n",
       "17. 0.0442477876106195\n",
       "18. 0.0442477876106195\n",
       "19. 0.875\n",
       "20. 0.875\n",
       "\n",
       "\n"
      ],
      "text/plain": [
       "                       0          1\n",
       "character(0)   0.2156863 0.78431373\n",
       "character(0).1 0.9557522 0.04424779\n",
       "character(0).2 0.9557522 0.04424779\n",
       "character(0).3 0.8125000 0.18750000\n",
       "character(0).4 0.4000000 0.60000000\n",
       "character(0).5 0.9557522 0.04424779\n",
       "character(0).6 0.9557522 0.04424779\n",
       "character(0).7 0.9557522 0.04424779\n",
       "character(0).8 0.1250000 0.87500000\n",
       "character(0).9 0.1250000 0.87500000"
      ]
     },
     "execution_count": 20,
     "metadata": {},
     "output_type": "execute_result"
    }
   ],
   "source": [
    "pred = predict(emailCART, newdata=test)\n",
    "pred[1:10,]"
   ]
  },
  {
   "cell_type": "code",
   "execution_count": 21,
   "metadata": {
    "collapsed": false
   },
   "outputs": [
    {
     "data": {
      "text/plain": [
       "   \n",
       "    FALSE TRUE\n",
       "  0   195   20\n",
       "  1    17   25"
      ]
     },
     "execution_count": 21,
     "metadata": {},
     "output_type": "execute_result"
    }
   ],
   "source": [
    "pred.prob = pred[,2]\n",
    "table(test$responsive, pred.prob >= 0.5)"
   ]
  },
  {
   "cell_type": "code",
   "execution_count": 22,
   "metadata": {
    "collapsed": false
   },
   "outputs": [
    {
     "data": {
      "text/html": [
       "0.856031128404669"
      ],
      "text/latex": [
       "0.856031128404669"
      ],
      "text/markdown": [
       "0.856031128404669"
      ],
      "text/plain": [
       "[1] 0.8560311"
      ]
     },
     "execution_count": 22,
     "metadata": {},
     "output_type": "execute_result"
    }
   ],
   "source": [
    "(195+25)/(195+20+17+25)"
   ]
  },
  {
   "cell_type": "markdown",
   "metadata": {},
   "source": [
    "基准模型"
   ]
  },
  {
   "cell_type": "code",
   "execution_count": 23,
   "metadata": {
    "collapsed": false
   },
   "outputs": [
    {
     "data": {
      "text/plain": [
       "\n",
       "  0   1 \n",
       "215  42 "
      ]
     },
     "execution_count": 23,
     "metadata": {},
     "output_type": "execute_result"
    }
   ],
   "source": [
    "table(test$responsive)"
   ]
  },
  {
   "cell_type": "code",
   "execution_count": 24,
   "metadata": {
    "collapsed": false
   },
   "outputs": [
    {
     "data": {
      "text/html": [
       "0.836575875486381"
      ],
      "text/latex": [
       "0.836575875486381"
      ],
      "text/markdown": [
       "0.836575875486381"
      ],
      "text/plain": [
       "[1] 0.8365759"
      ]
     },
     "execution_count": 24,
     "metadata": {},
     "output_type": "execute_result"
    }
   ],
   "source": [
    "215/(215+42)"
   ]
  },
  {
   "cell_type": "markdown",
   "metadata": {},
   "source": [
    "在本应用中，“预测为相关，而实际为无关”是可以接受的错误，因为被预测为相关的文档会被人工审查。而“预测为无关，实则相关”（false negative）是难以接受的错误。因此需要对FN施加更大的惩罚。"
   ]
  },
  {
   "cell_type": "code",
   "execution_count": 25,
   "metadata": {
    "collapsed": false
   },
   "outputs": [
    {
     "name": "stderr",
     "output_type": "stream",
     "text": [
      "Loading required package: gplots\n",
      "\n",
      "Attaching package: 'gplots'\n",
      "\n",
      "The following object is masked from 'package:stats':\n",
      "\n",
      "    lowess\n",
      "\n"
     ]
    }
   ],
   "source": [
    "library(ROCR)"
   ]
  },
  {
   "cell_type": "code",
   "execution_count": 28,
   "metadata": {
    "collapsed": false
   },
   "outputs": [
    {
     "data": {
      "application/pdf": "[encoded data removed]",
      "image/jpeg": "[encoded data removed]",
      "image/png": "[encoded data removed]",
      "text/plain": [
       "plot without title"
      ]
     },
     "metadata": {
      "image/svg+xml": {
       "isolated": true
      }
     },
     "output_type": "display_data"
    }
   ],
   "source": [
    "predROCR = prediction(pred.prob, test$responsive)\n",
    "perfROCR = performance(predROCR, \"tpr\", \"fpr\")\n",
    "plot(perfROCR, colorize=TRUE)"
   ]
  },
  {
   "cell_type": "code",
   "execution_count": 29,
   "metadata": {
    "collapsed": false
   },
   "outputs": [
    {
     "data": {
      "text/html": [
       "<ol>\n",
       "\t<li>0.793632336655593</li>\n",
       "</ol>\n"
      ],
      "text/latex": [
       "\\begin{enumerate}\n",
       "\\item 0.793632336655593\n",
       "\\end{enumerate}\n"
      ],
      "text/markdown": [
       "1. 0.793632336655593\n",
       "\n",
       "\n"
      ],
      "text/plain": [
       "[[1]]\n",
       "[1] 0.7936323\n"
      ]
     },
     "execution_count": 29,
     "metadata": {},
     "output_type": "execute_result"
    }
   ],
   "source": [
    "performance(predROCR, \"auc\")@y.values"
   ]
  },
  {
   "cell_type": "code",
   "execution_count": null,
   "metadata": {
    "collapsed": true
   },
   "outputs": [],
   "source": []
  }
 ],
 "metadata": {
  "kernelspec": {
   "display_name": "R",
   "language": "R",
   "name": "ir"
  },
  "language_info": {
   "codemirror_mode": "r",
   "file_extension": ".r",
   "mimetype": "text/x-r-source",
   "name": "R",
   "pygments_lexer": "r",
   "version": "3.1.3"
  }
 },
 "nbformat": 4,
 "nbformat_minor": 0
}
