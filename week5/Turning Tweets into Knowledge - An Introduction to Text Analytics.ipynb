{
 "cells": [
  {
   "cell_type": "markdown",
   "metadata": {},
   "source": [
    "### 目的\n",
    "\n",
    "借助tweets进行关于苹果公司的情感分析。\n",
    "\n",
    "### 因变量\n",
    "\n",
    "单条tweet的情感评分。由课程小组发布在Amazon Mechanical Turk上。评分取[-2,2]，五人打分取平均值。\n",
    "\n",
    "### 自变量\n",
    "\n",
    "**Bag of Words**：单词出现的个数。"
   ]
  },
  {
   "cell_type": "code",
   "execution_count": 2,
   "metadata": {
    "collapsed": false
   },
   "outputs": [
    {
     "name": "stdout",
     "output_type": "stream",
     "text": [
      "'data.frame':\t1181 obs. of  2 variables:\n",
      " $ Tweet: chr  \"I have to say, Apple has by far the best customer care service I have ever received! @Apple @AppStore\" \"iOS 7 is so fricking smooth & beautiful!! #ThanxApple @Apple\" \"LOVE U @APPLE\" \"Thank you @apple, loving my new iPhone 5S!!!!!  #apple #iphone5S pic.twitter.com/XmHJCU4pcb\" ...\n",
      " $ Avg  : num  2 2 1.8 1.8 1.8 1.8 1.8 1.6 1.6 1.6 ...\n"
     ]
    }
   ],
   "source": [
    "tweets = read.csv(\"./data//tweets.csv\", stringsAsFactors=FALSE)\n",
    "str(tweets)"
   ]
  },
  {
   "cell_type": "code",
   "execution_count": 3,
   "metadata": {
    "collapsed": false
   },
   "outputs": [
    {
     "data": {
      "text/plain": [
       "\n",
       "FALSE  TRUE \n",
       "  999   182 "
      ]
     },
     "execution_count": 3,
     "metadata": {},
     "output_type": "execute_result"
    }
   ],
   "source": [
    "tweets$Negative = as.factor(tweets$Avg <= -1)\n",
    "table(tweets$Negative)"
   ]
  },
  {
   "cell_type": "markdown",
   "metadata": {},
   "source": [
    "安装text mining包`tm`。"
   ]
  },
  {
   "cell_type": "code",
   "execution_count": 4,
   "metadata": {
    "collapsed": false
   },
   "outputs": [
    {
     "name": "stderr",
     "output_type": "stream",
     "text": [
      "also installing the dependencies 'NLP', 'slam'\n",
      "\n"
     ]
    },
    {
     "name": "stdout",
     "output_type": "stream",
     "text": [
      "package 'NLP' successfully unpacked and MD5 sums checked\n",
      "package 'slam' successfully unpacked and MD5 sums checked\n",
      "package 'tm' successfully unpacked and MD5 sums checked\n",
      "\n",
      "The downloaded binary packages are in\n",
      "\tC:\\Users\\CYS\\AppData\\Local\\Temp\\Rtmpk5edOd\\downloaded_packages\n"
     ]
    }
   ],
   "source": [
    "install.packages(\"tm\", repos = \"http://cran.us.r-project.org\")"
   ]
  },
  {
   "cell_type": "code",
   "execution_count": 5,
   "metadata": {
    "collapsed": false
   },
   "outputs": [
    {
     "name": "stderr",
     "output_type": "stream",
     "text": [
      "Loading required package: NLP\n"
     ]
    }
   ],
   "source": [
    "library(tm)"
   ]
  },
  {
   "cell_type": "code",
   "execution_count": 6,
   "metadata": {
    "collapsed": false
   },
   "outputs": [
    {
     "name": "stdout",
     "output_type": "stream",
     "text": [
      "package 'SnowballC' successfully unpacked and MD5 sums checked\n",
      "\n",
      "The downloaded binary packages are in\n",
      "\tC:\\Users\\CYS\\AppData\\Local\\Temp\\Rtmpk5edOd\\downloaded_packages\n"
     ]
    }
   ],
   "source": [
    "install.packages(\"SnowballC\", repos = \"http://cran.us.r-project.org\")"
   ]
  },
  {
   "cell_type": "code",
   "execution_count": 7,
   "metadata": {
    "collapsed": true
   },
   "outputs": [],
   "source": [
    "library(SnowballC)"
   ]
  },
  {
   "cell_type": "markdown",
   "metadata": {},
   "source": [
    "创建语料库，并进行预处理。"
   ]
  },
  {
   "cell_type": "code",
   "execution_count": 20,
   "metadata": {
    "collapsed": false
   },
   "outputs": [
    {
     "data": {
      "text/plain": [
       "<<VCorpus>>\n",
       "Metadata:  corpus specific: 0, document level (indexed): 0\n",
       "Content:  documents: 1181"
      ]
     },
     "execution_count": 20,
     "metadata": {},
     "output_type": "execute_result"
    }
   ],
   "source": [
    "corpus = Corpus(VectorSource(tweets$Tweet))\n",
    "corpus"
   ]
  },
  {
   "cell_type": "markdown",
   "metadata": {},
   "source": [
    "要以`content_transformer(tolower)`取代`tolower`。参考文献：[DocumentTermMatrix error on Corpus argument](http://stackoverflow.com/questions/24191728/documenttermmatrix-error-on-corpus-argument)"
   ]
  },
  {
   "cell_type": "code",
   "execution_count": 21,
   "metadata": {
    "collapsed": false
   },
   "outputs": [],
   "source": [
    "corpus = tm_map(corpus, content_transformer(tolower))\n",
    "corpus = tm_map(corpus, removePunctuation)"
   ]
  },
  {
   "cell_type": "code",
   "execution_count": 22,
   "metadata": {
    "collapsed": false
   },
   "outputs": [
    {
     "data": {
      "text/html": [
       "<ol class=list-inline>\n",
       "\t<li>\"i\"</li>\n",
       "\t<li>\"me\"</li>\n",
       "\t<li>\"my\"</li>\n",
       "\t<li>\"myself\"</li>\n",
       "\t<li>\"we\"</li>\n",
       "\t<li>\"our\"</li>\n",
       "\t<li>\"ours\"</li>\n",
       "\t<li>\"ourselves\"</li>\n",
       "\t<li>\"you\"</li>\n",
       "\t<li>\"your\"</li>\n",
       "</ol>\n"
      ],
      "text/latex": [
       "\\begin{enumerate*}\n",
       "\\item \"i\"\n",
       "\\item \"me\"\n",
       "\\item \"my\"\n",
       "\\item \"myself\"\n",
       "\\item \"we\"\n",
       "\\item \"our\"\n",
       "\\item \"ours\"\n",
       "\\item \"ourselves\"\n",
       "\\item \"you\"\n",
       "\\item \"your\"\n",
       "\\end{enumerate*}\n"
      ],
      "text/markdown": [
       "1. \"i\"\n",
       "2. \"me\"\n",
       "3. \"my\"\n",
       "4. \"myself\"\n",
       "5. \"we\"\n",
       "6. \"our\"\n",
       "7. \"ours\"\n",
       "8. \"ourselves\"\n",
       "9. \"you\"\n",
       "10. \"your\"\n",
       "\n",
       "\n"
      ],
      "text/plain": [
       " [1] \"i\"         \"me\"        \"my\"        \"myself\"    \"we\"        \"our\"      \n",
       " [7] \"ours\"      \"ourselves\" \"you\"       \"your\"     "
      ]
     },
     "execution_count": 22,
     "metadata": {},
     "output_type": "execute_result"
    }
   ],
   "source": [
    "stopwords(\"english\")[1:10]"
   ]
  },
  {
   "cell_type": "code",
   "execution_count": 23,
   "metadata": {
    "collapsed": true
   },
   "outputs": [],
   "source": [
    "corpus = tm_map(corpus, removeWords, c(\"apple\", stopwords(\"english\")))"
   ]
  },
  {
   "cell_type": "code",
   "execution_count": 24,
   "metadata": {
    "collapsed": true
   },
   "outputs": [],
   "source": [
    "corpus = tm_map(corpus, stemDocument)"
   ]
  },
  {
   "cell_type": "markdown",
   "metadata": {},
   "source": [
    "Bag of Words。矩阵的每一行代表一条tweet，每一列代表一个词，矩阵中的值是词频。"
   ]
  },
  {
   "cell_type": "code",
   "execution_count": 26,
   "metadata": {
    "collapsed": false
   },
   "outputs": [
    {
     "data": {
      "text/plain": [
       "<<DocumentTermMatrix (documents: 1181, terms: 3289)>>\n",
       "Non-/sparse entries: 8980/3875329\n",
       "Sparsity           : 100%\n",
       "Maximal term length: 115\n",
       "Weighting          : term frequency (tf)"
      ]
     },
     "execution_count": 26,
     "metadata": {},
     "output_type": "execute_result"
    }
   ],
   "source": [
    "frequencies = DocumentTermMatrix(corpus)\n",
    "frequencies"
   ]
  },
  {
   "cell_type": "markdown",
   "metadata": {},
   "source": [
    "观察矩阵的局部，非常稀疏。"
   ]
  },
  {
   "cell_type": "code",
   "execution_count": 28,
   "metadata": {
    "collapsed": false
   },
   "outputs": [
    {
     "name": "stdout",
     "output_type": "stream",
     "text": [
      "<<DocumentTermMatrix (documents: 6, terms: 10)>>\n",
      "Non-/sparse entries: 1/59\n",
      "Sparsity           : 98%\n",
      "Maximal term length: 9\n",
      "Weighting          : term frequency (tf)\n",
      "\n",
      "      Terms\n",
      "Docs   cheapen cheaper check cheep cheer cheerio cherylcol chief chiiiiqu child\n",
      "  1000       0       0     0     0     0       0         0     0        0     0\n",
      "  1001       0       0     0     0     0       0         0     0        0     0\n",
      "  1002       0       0     0     0     0       0         0     0        0     0\n",
      "  1003       0       0     0     0     0       0         0     0        0     0\n",
      "  1004       0       0     0     0     0       0         0     0        0     0\n",
      "  1005       0       0     0     0     1       0         0     0        0     0\n"
     ]
    }
   ],
   "source": [
    "inspect(frequencies[1000:1005, 505:514])"
   ]
  },
  {
   "cell_type": "markdown",
   "metadata": {},
   "source": [
    "至少出现20次的单词。"
   ]
  },
  {
   "cell_type": "code",
   "execution_count": 29,
   "metadata": {
    "collapsed": false
   },
   "outputs": [
    {
     "data": {
      "text/html": [
       "<ol class=list-inline>\n",
       "\t<li>\"android\"</li>\n",
       "\t<li>\"anyon\"</li>\n",
       "\t<li>\"app\"</li>\n",
       "\t<li>\"appl\"</li>\n",
       "\t<li>\"back\"</li>\n",
       "\t<li>\"batteri\"</li>\n",
       "\t<li>\"better\"</li>\n",
       "\t<li>\"buy\"</li>\n",
       "\t<li>\"can\"</li>\n",
       "\t<li>\"cant\"</li>\n",
       "\t<li>\"come\"</li>\n",
       "\t<li>\"dont\"</li>\n",
       "\t<li>\"fingerprint\"</li>\n",
       "\t<li>\"freak\"</li>\n",
       "\t<li>\"get\"</li>\n",
       "\t<li>\"googl\"</li>\n",
       "\t<li>\"ios7\"</li>\n",
       "\t<li>\"ipad\"</li>\n",
       "\t<li>\"iphon\"</li>\n",
       "\t<li>\"iphone5\"</li>\n",
       "\t<li>\"iphone5c\"</li>\n",
       "\t<li>\"ipod\"</li>\n",
       "\t<li>\"ipodplayerpromo\"</li>\n",
       "\t<li>\"itun\"</li>\n",
       "\t<li>\"just\"</li>\n",
       "\t<li>\"like\"</li>\n",
       "\t<li>\"lol\"</li>\n",
       "\t<li>\"look\"</li>\n",
       "\t<li>\"love\"</li>\n",
       "\t<li>\"make\"</li>\n",
       "\t<li>\"market\"</li>\n",
       "\t<li>\"microsoft\"</li>\n",
       "\t<li>\"need\"</li>\n",
       "\t<li>\"new\"</li>\n",
       "\t<li>\"now\"</li>\n",
       "\t<li>\"one\"</li>\n",
       "\t<li>\"phone\"</li>\n",
       "\t<li>\"pleas\"</li>\n",
       "\t<li>\"promo\"</li>\n",
       "\t<li>\"promoipodplayerpromo\"</li>\n",
       "\t<li>\"realli\"</li>\n",
       "\t<li>\"releas\"</li>\n",
       "\t<li>\"samsung\"</li>\n",
       "\t<li>\"say\"</li>\n",
       "\t<li>\"store\"</li>\n",
       "\t<li>\"thank\"</li>\n",
       "\t<li>\"think\"</li>\n",
       "\t<li>\"time\"</li>\n",
       "\t<li>\"twitter\"</li>\n",
       "\t<li>\"updat\"</li>\n",
       "\t<li>\"use\"</li>\n",
       "\t<li>\"via\"</li>\n",
       "\t<li>\"want\"</li>\n",
       "\t<li>\"well\"</li>\n",
       "\t<li>\"will\"</li>\n",
       "\t<li>\"work\"</li>\n",
       "</ol>\n"
      ],
      "text/latex": [
       "\\begin{enumerate*}\n",
       "\\item \"android\"\n",
       "\\item \"anyon\"\n",
       "\\item \"app\"\n",
       "\\item \"appl\"\n",
       "\\item \"back\"\n",
       "\\item \"batteri\"\n",
       "\\item \"better\"\n",
       "\\item \"buy\"\n",
       "\\item \"can\"\n",
       "\\item \"cant\"\n",
       "\\item \"come\"\n",
       "\\item \"dont\"\n",
       "\\item \"fingerprint\"\n",
       "\\item \"freak\"\n",
       "\\item \"get\"\n",
       "\\item \"googl\"\n",
       "\\item \"ios7\"\n",
       "\\item \"ipad\"\n",
       "\\item \"iphon\"\n",
       "\\item \"iphone5\"\n",
       "\\item \"iphone5c\"\n",
       "\\item \"ipod\"\n",
       "\\item \"ipodplayerpromo\"\n",
       "\\item \"itun\"\n",
       "\\item \"just\"\n",
       "\\item \"like\"\n",
       "\\item \"lol\"\n",
       "\\item \"look\"\n",
       "\\item \"love\"\n",
       "\\item \"make\"\n",
       "\\item \"market\"\n",
       "\\item \"microsoft\"\n",
       "\\item \"need\"\n",
       "\\item \"new\"\n",
       "\\item \"now\"\n",
       "\\item \"one\"\n",
       "\\item \"phone\"\n",
       "\\item \"pleas\"\n",
       "\\item \"promo\"\n",
       "\\item \"promoipodplayerpromo\"\n",
       "\\item \"realli\"\n",
       "\\item \"releas\"\n",
       "\\item \"samsung\"\n",
       "\\item \"say\"\n",
       "\\item \"store\"\n",
       "\\item \"thank\"\n",
       "\\item \"think\"\n",
       "\\item \"time\"\n",
       "\\item \"twitter\"\n",
       "\\item \"updat\"\n",
       "\\item \"use\"\n",
       "\\item \"via\"\n",
       "\\item \"want\"\n",
       "\\item \"well\"\n",
       "\\item \"will\"\n",
       "\\item \"work\"\n",
       "\\end{enumerate*}\n"
      ],
      "text/markdown": [
       "1. \"android\"\n",
       "2. \"anyon\"\n",
       "3. \"app\"\n",
       "4. \"appl\"\n",
       "5. \"back\"\n",
       "6. \"batteri\"\n",
       "7. \"better\"\n",
       "8. \"buy\"\n",
       "9. \"can\"\n",
       "10. \"cant\"\n",
       "11. \"come\"\n",
       "12. \"dont\"\n",
       "13. \"fingerprint\"\n",
       "14. \"freak\"\n",
       "15. \"get\"\n",
       "16. \"googl\"\n",
       "17. \"ios7\"\n",
       "18. \"ipad\"\n",
       "19. \"iphon\"\n",
       "20. \"iphone5\"\n",
       "21. \"iphone5c\"\n",
       "22. \"ipod\"\n",
       "23. \"ipodplayerpromo\"\n",
       "24. \"itun\"\n",
       "25. \"just\"\n",
       "26. \"like\"\n",
       "27. \"lol\"\n",
       "28. \"look\"\n",
       "29. \"love\"\n",
       "30. \"make\"\n",
       "31. \"market\"\n",
       "32. \"microsoft\"\n",
       "33. \"need\"\n",
       "34. \"new\"\n",
       "35. \"now\"\n",
       "36. \"one\"\n",
       "37. \"phone\"\n",
       "38. \"pleas\"\n",
       "39. \"promo\"\n",
       "40. \"promoipodplayerpromo\"\n",
       "41. \"realli\"\n",
       "42. \"releas\"\n",
       "43. \"samsung\"\n",
       "44. \"say\"\n",
       "45. \"store\"\n",
       "46. \"thank\"\n",
       "47. \"think\"\n",
       "48. \"time\"\n",
       "49. \"twitter\"\n",
       "50. \"updat\"\n",
       "51. \"use\"\n",
       "52. \"via\"\n",
       "53. \"want\"\n",
       "54. \"well\"\n",
       "55. \"will\"\n",
       "56. \"work\"\n",
       "\n",
       "\n"
      ],
      "text/plain": [
       " [1] \"android\"              \"anyon\"                \"app\"                 \n",
       " [4] \"appl\"                 \"back\"                 \"batteri\"             \n",
       " [7] \"better\"               \"buy\"                  \"can\"                 \n",
       "[10] \"cant\"                 \"come\"                 \"dont\"                \n",
       "[13] \"fingerprint\"          \"freak\"                \"get\"                 \n",
       "[16] \"googl\"                \"ios7\"                 \"ipad\"                \n",
       "[19] \"iphon\"                \"iphone5\"              \"iphone5c\"            \n",
       "[22] \"ipod\"                 \"ipodplayerpromo\"      \"itun\"                \n",
       "[25] \"just\"                 \"like\"                 \"lol\"                 \n",
       "[28] \"look\"                 \"love\"                 \"make\"                \n",
       "[31] \"market\"               \"microsoft\"            \"need\"                \n",
       "[34] \"new\"                  \"now\"                  \"one\"                 \n",
       "[37] \"phone\"                \"pleas\"                \"promo\"               \n",
       "[40] \"promoipodplayerpromo\" \"realli\"               \"releas\"              \n",
       "[43] \"samsung\"              \"say\"                  \"store\"               \n",
       "[46] \"thank\"                \"think\"                \"time\"                \n",
       "[49] \"twitter\"              \"updat\"                \"use\"                 \n",
       "[52] \"via\"                  \"want\"                 \"well\"                \n",
       "[55] \"will\"                 \"work\"                "
      ]
     },
     "execution_count": 29,
     "metadata": {},
     "output_type": "execute_result"
    }
   ],
   "source": [
    "findFreqTerms(frequencies, lowfreq=20)"
   ]
  },
  {
   "cell_type": "markdown",
   "metadata": {},
   "source": [
    "只保留在超过0.5%的tweet中出现过的单词。只剩下309个单词。"
   ]
  },
  {
   "cell_type": "code",
   "execution_count": 31,
   "metadata": {
    "collapsed": false
   },
   "outputs": [
    {
     "data": {
      "text/plain": [
       "<<DocumentTermMatrix (documents: 1181, terms: 309)>>\n",
       "Non-/sparse entries: 4669/360260\n",
       "Sparsity           : 99%\n",
       "Maximal term length: 20\n",
       "Weighting          : term frequency (tf)"
      ]
     },
     "execution_count": 31,
     "metadata": {},
     "output_type": "execute_result"
    }
   ],
   "source": [
    "sparse = removeSparseTerms(frequencies, 0.995)\n",
    "sparse"
   ]
  },
  {
   "cell_type": "markdown",
   "metadata": {},
   "source": [
    "转换成一个dataframe，同时令列名的首元素不为数字。"
   ]
  },
  {
   "cell_type": "code",
   "execution_count": 32,
   "metadata": {
    "collapsed": true
   },
   "outputs": [],
   "source": [
    "tweetsSparse = as.data.frame(as.matrix(sparse))\n",
    "colnames(tweetsSparse) = make.names(colnames(tweetsSparse))\n",
    "tweetsSparse$Negative = tweets$Negative"
   ]
  },
  {
   "cell_type": "code",
   "execution_count": 33,
   "metadata": {
    "collapsed": true
   },
   "outputs": [],
   "source": [
    "library(caTools)\n",
    "set.seed(123)\n",
    "split = sample.split(tweetsSparse$Negative, SplitRatio=0.7)\n",
    "train = subset(tweetsSparse, split==TRUE)\n",
    "test = subset(tweetsSparse, split==FALSE)"
   ]
  },
  {
   "cell_type": "markdown",
   "metadata": {},
   "source": [
    "分类树"
   ]
  },
  {
   "cell_type": "code",
   "execution_count": 35,
   "metadata": {
    "collapsed": false
   },
   "outputs": [
    {
     "data": {
      "application/pdf": "[encoded data removed]",
      "image/jpeg": "[encoded data removed]",
      "image/png": "[encoded data removed]",
      "text/plain": [
       "plot without title"
      ]
     },
     "metadata": {
      "image/svg+xml": {
       "isolated": true
      }
     },
     "output_type": "display_data"
    }
   ],
   "source": [
    "library(rpart)\n",
    "library(rpart.plot)\n",
    "tweetCART = rpart(Negative ~ ., data=train, method=\"class\")\n",
    "prp(tweetCART)"
   ]
  },
  {
   "cell_type": "code",
   "execution_count": 36,
   "metadata": {
    "collapsed": false
   },
   "outputs": [
    {
     "data": {
      "text/plain": [
       "       predictCART\n",
       "        FALSE TRUE\n",
       "  FALSE   294    6\n",
       "  TRUE     37   18"
      ]
     },
     "execution_count": 36,
     "metadata": {},
     "output_type": "execute_result"
    }
   ],
   "source": [
    "predictCART = predict(tweetCART, newdata=test, type=\"class\")\n",
    "table(test$Negative, predictCART)"
   ]
  },
  {
   "cell_type": "code",
   "execution_count": 37,
   "metadata": {
    "collapsed": false
   },
   "outputs": [
    {
     "data": {
      "text/html": [
       "0.87887323943662"
      ],
      "text/latex": [
       "0.87887323943662"
      ],
      "text/markdown": [
       "0.87887323943662"
      ],
      "text/plain": [
       "[1] 0.8788732"
      ]
     },
     "execution_count": 37,
     "metadata": {},
     "output_type": "execute_result"
    }
   ],
   "source": [
    "(294+18)/(294+6+37+18)"
   ]
  },
  {
   "cell_type": "markdown",
   "metadata": {},
   "source": [
    "基准模型：总预测为非消极。"
   ]
  },
  {
   "cell_type": "code",
   "execution_count": 38,
   "metadata": {
    "collapsed": false
   },
   "outputs": [
    {
     "data": {
      "text/plain": [
       "\n",
       "FALSE  TRUE \n",
       "  300    55 "
      ]
     },
     "execution_count": 38,
     "metadata": {},
     "output_type": "execute_result"
    }
   ],
   "source": [
    "table(test$Negative)"
   ]
  },
  {
   "cell_type": "code",
   "execution_count": 39,
   "metadata": {
    "collapsed": false
   },
   "outputs": [
    {
     "data": {
      "text/html": [
       "0.845070422535211"
      ],
      "text/latex": [
       "0.845070422535211"
      ],
      "text/markdown": [
       "0.845070422535211"
      ],
      "text/plain": [
       "[1] 0.8450704"
      ]
     },
     "execution_count": 39,
     "metadata": {},
     "output_type": "execute_result"
    }
   ],
   "source": [
    "300/355"
   ]
  },
  {
   "cell_type": "markdown",
   "metadata": {},
   "source": [
    "随机森林"
   ]
  },
  {
   "cell_type": "code",
   "execution_count": 40,
   "metadata": {
    "collapsed": false
   },
   "outputs": [
    {
     "name": "stderr",
     "output_type": "stream",
     "text": [
      "randomForest 4.6-12\n",
      "Type rfNews() to see new features/changes/bug fixes.\n"
     ]
    }
   ],
   "source": [
    "library(randomForest)\n",
    "set.seed(123)\n",
    "tweetRF = randomForest(Negative ~ ., data=train)"
   ]
  },
  {
   "cell_type": "code",
   "execution_count": 41,
   "metadata": {
    "collapsed": false
   },
   "outputs": [
    {
     "data": {
      "text/plain": [
       "       predictRF\n",
       "        FALSE TRUE\n",
       "  FALSE   293    7\n",
       "  TRUE     34   21"
      ]
     },
     "execution_count": 41,
     "metadata": {},
     "output_type": "execute_result"
    }
   ],
   "source": [
    "predictRF = predict(tweetRF, newdata=test)\n",
    "table(test$Negative, predictRF)"
   ]
  },
  {
   "cell_type": "code",
   "execution_count": 42,
   "metadata": {
    "collapsed": false
   },
   "outputs": [
    {
     "data": {
      "text/html": [
       "0.884507042253521"
      ],
      "text/latex": [
       "0.884507042253521"
      ],
      "text/markdown": [
       "0.884507042253521"
      ],
      "text/plain": [
       "[1] 0.884507"
      ]
     },
     "execution_count": 42,
     "metadata": {},
     "output_type": "execute_result"
    }
   ],
   "source": [
    "(293+21)/(293+7+34+21)"
   ]
  },
  {
   "cell_type": "markdown",
   "metadata": {},
   "source": [
    "逻辑斯蒂"
   ]
  },
  {
   "cell_type": "code",
   "execution_count": 44,
   "metadata": {
    "collapsed": false
   },
   "outputs": [
    {
     "name": "stderr",
     "output_type": "stream",
     "text": [
      "Warning message:\n",
      ": glm.fit: algorithm did not convergeWarning message:\n",
      ": glm.fit: fitted probabilities numerically 0 or 1 occurredWarning message:\n",
      "In predict.lm(object, newdata, se.fit, scale = 1, type = ifelse(type == : prediction from a rank-deficient fit may be misleading"
     ]
    },
    {
     "data": {
      "text/plain": [
       "       \n",
       "        FALSE TRUE\n",
       "  FALSE   253   47\n",
       "  TRUE     22   33"
      ]
     },
     "execution_count": 44,
     "metadata": {},
     "output_type": "execute_result"
    }
   ],
   "source": [
    "tweetLog = glm(Negative ~ ., data=train, family=binomial)\n",
    "predictLog = predict(tweetLog, newdata=test, type=\"response\")\n",
    "table(test$Negative, predictLog > 0.5)"
   ]
  },
  {
   "cell_type": "code",
   "execution_count": 45,
   "metadata": {
    "collapsed": false
   },
   "outputs": [
    {
     "data": {
      "text/html": [
       "0.805633802816901"
      ],
      "text/latex": [
       "0.805633802816901"
      ],
      "text/markdown": [
       "0.805633802816901"
      ],
      "text/plain": [
       "[1] 0.8056338"
      ]
     },
     "execution_count": 45,
     "metadata": {},
     "output_type": "execute_result"
    }
   ],
   "source": [
    "(253+33)/(253+47+22+33)"
   ]
  },
  {
   "cell_type": "code",
   "execution_count": null,
   "metadata": {
    "collapsed": true
   },
   "outputs": [],
   "source": []
  }
 ],
 "metadata": {
  "kernelspec": {
   "display_name": "R",
   "language": "R",
   "name": "ir"
  },
  "language_info": {
   "codemirror_mode": "r",
   "file_extension": ".r",
   "mimetype": "text/x-r-source",
   "name": "R",
   "pygments_lexer": "r",
   "version": "3.1.3"
  }
 },
 "nbformat": 4,
 "nbformat_minor": 0
}
