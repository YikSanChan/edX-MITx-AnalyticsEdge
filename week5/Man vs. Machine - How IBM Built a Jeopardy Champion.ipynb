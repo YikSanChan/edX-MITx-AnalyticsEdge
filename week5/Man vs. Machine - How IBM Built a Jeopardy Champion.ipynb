{
 "cells": [
  {
   "cell_type": "markdown",
   "metadata": {},
   "source": [
    "### 目标\n",
    "\n",
    "Watson如何应答Jeopardy的问题？\n",
    "\n",
    "### Watson\n",
    "\n",
    "工具\n",
    "\n",
    "- Lexicon：描述单词间的关系，如“水是干净的液体”，但“不是所有干净的液体都是水”。\n",
    "- Part of speech tagger and parser：描述词性。\n",
    "\n",
    "步骤\n",
    "\n",
    "- 找到LAT（Lexical Answer Type）。如，“莫扎特最后的交响乐，与该星球同名”。则该问题的LAT是“该星球”。即，如果知道答案是X，则将X代入该句，该句会成为一个正确的陈述句。类似地，在“它是世界第二大的岛屿”中，“它”是LAT。因此，LAT有时很具体，“该星球”；有时很模糊，“它”。在20000个样例问题中，有2500个LAT；12%的问题只有类似“它”的LAT；最常见的200个LAT只覆盖了不到一半的问题。\n",
    "- 搜索数据库，生成假设。在“莫扎特”问题中，可能答案有水星、地球和木星等等。将可能答案分别代入LAT，生成三个假设。如果假设中没有正确答案，那么Watson就没希望答对了。\n",
    "- 给假设打分，当得分最高的假设超过一定门槛，Watson选择答题。打分的办法是，对假设陈述句进行页面检索，根据匹配度进行打分。\n",
    "- 合并类似答案，给出最终得分和答案。"
   ]
  },
  {
   "cell_type": "code",
   "execution_count": null,
   "metadata": {
    "collapsed": true
   },
   "outputs": [],
   "source": []
  }
 ],
 "metadata": {
  "kernelspec": {
   "display_name": "R",
   "language": "R",
   "name": "ir"
  },
  "language_info": {
   "codemirror_mode": "r",
   "file_extension": ".r",
   "mimetype": "text/x-r-source",
   "name": "R",
   "pygments_lexer": "r",
   "version": "3.1.3"
  }
 },
 "nbformat": 4,
 "nbformat_minor": 0
}
