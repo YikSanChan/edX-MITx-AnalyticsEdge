{
 "cells": [
  {
   "cell_type": "code",
   "execution_count": 1,
   "metadata": {
    "collapsed": true
   },
   "outputs": [],
   "source": [
    "mvt = read.csv(\"./data/mvtWeek1.csv\")"
   ]
  },
  {
   "cell_type": "code",
   "execution_count": 2,
   "metadata": {
    "collapsed": false
   },
   "outputs": [
    {
     "name": "stdout",
     "output_type": "stream",
     "text": [
      "'data.frame':\t191641 obs. of  11 variables:\n",
      " $ ID                 : int  8951354 8951141 8952745 8952223 8951608 8950793 8950760 8951611 8951802 8950706 ...\n",
      " $ Date               : Factor w/ 131680 levels \"1/1/01 0:01\",..: 42824 42823 42823 42823 42822 42821 42820 42819 42817 42816 ...\n",
      " $ LocationDescription: Factor w/ 78 levels \"ABANDONED BUILDING\",..: 72 72 62 72 72 72 72 72 72 72 ...\n",
      " $ Arrest             : logi  FALSE FALSE FALSE FALSE FALSE TRUE ...\n",
      " $ Domestic           : logi  FALSE FALSE FALSE FALSE FALSE FALSE ...\n",
      " $ Beat               : int  623 1213 1622 724 211 2521 423 231 1021 1215 ...\n",
      " $ District           : int  6 12 16 7 2 25 4 2 10 12 ...\n",
      " $ CommunityArea      : int  69 24 11 67 35 19 48 40 29 24 ...\n",
      " $ Year               : int  2012 2012 2012 2012 2012 2012 2012 2012 2012 2012 ...\n",
      " $ Latitude           : num  41.8 41.9 42 41.8 41.8 ...\n",
      " $ Longitude          : num  -87.6 -87.7 -87.8 -87.7 -87.6 ...\n"
     ]
    }
   ],
   "source": [
    "str(mvt)"
   ]
  },
  {
   "cell_type": "code",
   "execution_count": 3,
   "metadata": {
    "collapsed": false
   },
   "outputs": [
    {
     "data": {
      "text/html": [
       "9181151"
      ],
      "text/latex": [
       "9181151"
      ],
      "text/markdown": [
       "9181151"
      ],
      "text/plain": [
       "[1] 9181151"
      ]
     },
     "execution_count": 3,
     "metadata": {},
     "output_type": "execute_result"
    }
   ],
   "source": [
    "max(mvt$ID)#Problem 1.3"
   ]
  },
  {
   "cell_type": "code",
   "execution_count": 4,
   "metadata": {
    "collapsed": false
   },
   "outputs": [
    {
     "data": {
      "text/html": [
       "111"
      ],
      "text/latex": [
       "111"
      ],
      "text/markdown": [
       "111"
      ],
      "text/plain": [
       "[1] 111"
      ]
     },
     "execution_count": 4,
     "metadata": {},
     "output_type": "execute_result"
    }
   ],
   "source": [
    "min(mvt$Beat)#Problem 1.4"
   ]
  },
  {
   "cell_type": "code",
   "execution_count": 5,
   "metadata": {
    "collapsed": false
   },
   "outputs": [
    {
     "data": {
      "text/plain": [
       "\n",
       " FALSE   TRUE \n",
       "176105  15536 "
      ]
     },
     "execution_count": 5,
     "metadata": {},
     "output_type": "execute_result"
    }
   ],
   "source": [
    "table(mvt$Arrest)#Problem 1.5"
   ]
  },
  {
   "cell_type": "code",
   "execution_count": 8,
   "metadata": {
    "collapsed": false
   },
   "outputs": [
    {
     "data": {
      "text/html": [
       "2308"
      ],
      "text/latex": [
       "2308"
      ],
      "text/markdown": [
       "2308"
      ],
      "text/plain": [
       "[1] 2308"
      ]
     },
     "execution_count": 8,
     "metadata": {},
     "output_type": "execute_result"
    }
   ],
   "source": [
    "nrow(subset(mvt, LocationDescription == \"ALLEY\"))#Problem 1.6"
   ]
  },
  {
   "cell_type": "code",
   "execution_count": 11,
   "metadata": {
    "collapsed": false
   },
   "outputs": [
    {
     "data": {
      "text/html": [
       "12/31/12 23:15"
      ],
      "text/latex": [
       "12/31/12 23:15"
      ],
      "text/markdown": [
       "12/31/12 23:15"
      ],
      "text/plain": [
       "[1] 12/31/12 23:15\n",
       "131680 Levels: 1/1/01 0:01 1/1/01 0:05 1/1/01 0:30 1/1/01 1:17 ... 9/9/12 9:50"
      ]
     },
     "execution_count": 11,
     "metadata": {},
     "output_type": "execute_result"
    }
   ],
   "source": [
    "mvt$Date[1]#Problem 2.1"
   ]
  },
  {
   "cell_type": "code",
   "execution_count": 2,
   "metadata": {
    "collapsed": false
   },
   "outputs": [
    {
     "data": {
      "text/plain": [
       "        Min.      1st Qu.       Median         Mean      3rd Qu.         Max. \n",
       "\"2001-01-01\" \"2003-07-10\" \"2006-05-21\" \"2006-08-23\" \"2009-10-24\" \"2012-12-31\" "
      ]
     },
     "execution_count": 2,
     "metadata": {},
     "output_type": "execute_result"
    }
   ],
   "source": [
    "DateConvert = as.Date(strptime(mvt$Date, \"%m/%d/%y %H:%M\"))\n",
    "summary(DateConvert)#Problem 2.2"
   ]
  },
  {
   "cell_type": "code",
   "execution_count": 3,
   "metadata": {
    "collapsed": true
   },
   "outputs": [],
   "source": [
    "mvt$Month = months(DateConvert)\n",
    "mvt$Weekday = weekdays(DateConvert)\n",
    "mvt$Date = DateConvert"
   ]
  },
  {
   "cell_type": "code",
   "execution_count": 16,
   "metadata": {
    "collapsed": false
   },
   "outputs": [
    {
     "data": {
      "text/plain": [
       "\n",
       "  八月   二月   九月   六月   七月   三月 十二月 十一月   十月   四月   五月 \n",
       " 16572  13511  16060  16002  16801  15758  16426  16063  17086  15280  16035 \n",
       "  一月 \n",
       " 16047 "
      ]
     },
     "execution_count": 16,
     "metadata": {},
     "output_type": "execute_result"
    }
   ],
   "source": [
    "table(mvt$Month)#Problem 2.3"
   ]
  },
  {
   "cell_type": "code",
   "execution_count": 17,
   "metadata": {
    "collapsed": false
   },
   "outputs": [
    {
     "data": {
      "text/plain": [
       "\n",
       "星期二 星期六 星期日 星期三 星期四 星期五 星期一 \n",
       " 26791  27118  26316  27416  27319  29284  27397 "
      ]
     },
     "execution_count": 17,
     "metadata": {},
     "output_type": "execute_result"
    }
   ],
   "source": [
    "table(mvt$Weekday)#Problem 2.4"
   ]
  },
  {
   "cell_type": "code",
   "execution_count": 19,
   "metadata": {
    "collapsed": false
   },
   "outputs": [
    {
     "data": {
      "text/html": [
       "<dl class=dl-horizontal>\n",
       "\t<dt>八月</dt>\n",
       "\t\t<dd>1329</dd>\n",
       "\t<dt>二月</dt>\n",
       "\t\t<dd>1238</dd>\n",
       "\t<dt>九月</dt>\n",
       "\t\t<dd>1248</dd>\n",
       "\t<dt>六月</dt>\n",
       "\t\t<dd>1230</dd>\n",
       "\t<dt>七月</dt>\n",
       "\t\t<dd>1324</dd>\n",
       "\t<dt>三月</dt>\n",
       "\t\t<dd>1298</dd>\n",
       "\t<dt>十二月</dt>\n",
       "\t\t<dd>1397</dd>\n",
       "\t<dt>十一月</dt>\n",
       "\t\t<dd>1256</dd>\n",
       "\t<dt>十月</dt>\n",
       "\t\t<dd>1342</dd>\n",
       "\t<dt>四月</dt>\n",
       "\t\t<dd>1252</dd>\n",
       "\t<dt>五月</dt>\n",
       "\t\t<dd>1187</dd>\n",
       "\t<dt>一月</dt>\n",
       "\t\t<dd>1435</dd>\n",
       "</dl>\n"
      ],
      "text/latex": [
       "\\begin{description*}\n",
       "\\item[八月] 1329\n",
       "\\item[二月] 1238\n",
       "\\item[九月] 1248\n",
       "\\item[六月] 1230\n",
       "\\item[七月] 1324\n",
       "\\item[三月] 1298\n",
       "\\item[十二月] 1397\n",
       "\\item[十一月] 1256\n",
       "\\item[十月] 1342\n",
       "\\item[四月] 1252\n",
       "\\item[五月] 1187\n",
       "\\item[一月] 1435\n",
       "\\end{description*}\n"
      ],
      "text/markdown": [
       "八月\n",
       ":   1329二月\n",
       ":   1238九月\n",
       ":   1248六月\n",
       ":   1230七月\n",
       ":   1324三月\n",
       ":   1298十二月\n",
       ":   1397十一月\n",
       ":   1256十月\n",
       ":   1342四月\n",
       ":   1252五月\n",
       ":   1187一月\n",
       ":   1435\n",
       "\n"
      ],
      "text/plain": [
       "  八月   二月   九月   六月   七月   三月 十二月 十一月   十月   四月   五月 \n",
       "  1329   1238   1248   1230   1324   1298   1397   1256   1342   1252   1187 \n",
       "  一月 \n",
       "  1435 "
      ]
     },
     "execution_count": 19,
     "metadata": {},
     "output_type": "execute_result"
    }
   ],
   "source": [
    "tapply(mvt$Arrest, mvt$Month, sum, na.rm=TRUE)#Problem 2.5"
   ]
  },
  {
   "cell_type": "code",
   "execution_count": 20,
   "metadata": {
    "collapsed": false
   },
   "outputs": [
    {
     "data": {
      "application/pdf": "[encoded data removed]",
      "image/jpeg": "[encoded data removed]",
      "image/png": "[encoded data removed]",
      "text/plain": [
       "Plot with title \"Histogram of mvt$Date\""
      ]
     },
     "metadata": {
      "image/svg+xml": {
       "isolated": true
      }
     },
     "output_type": "display_data"
    }
   ],
   "source": [
    "hist(mvt$Date, breaks=100)#Problem 3.1"
   ]
  },
  {
   "cell_type": "code",
   "execution_count": 23,
   "metadata": {
    "collapsed": false
   },
   "outputs": [
    {
     "data": {
      "application/pdf": "[encoded data removed]",
      "image/jpeg": "[encoded data removed]",
      "image/png": "[encoded data removed]",
      "text/plain": [
       "plot without title"
      ]
     },
     "metadata": {
      "image/svg+xml": {
       "isolated": true
      }
     },
     "output_type": "display_data"
    }
   ],
   "source": [
    "boxplot(mvt$Date ~ mvt$Arrest)#Problem 3.2\n",
    "# 开始阶段arrest的比较多"
   ]
  },
  {
   "cell_type": "code",
   "execution_count": 25,
   "metadata": {
    "collapsed": false
   },
   "outputs": [
    {
     "data": {
      "text/plain": [
       "\n",
       "FALSE  TRUE \n",
       "18517  2152 "
      ]
     },
     "execution_count": 25,
     "metadata": {},
     "output_type": "execute_result"
    }
   ],
   "source": [
    "table(subset(mvt, Year == 2001)$Arrest)#Problem 3.3"
   ]
  },
  {
   "cell_type": "code",
   "execution_count": 26,
   "metadata": {
    "collapsed": false
   },
   "outputs": [
    {
     "data": {
      "text/html": [
       "0.10411727708162"
      ],
      "text/latex": [
       "0.10411727708162"
      ],
      "text/markdown": [
       "0.10411727708162"
      ],
      "text/plain": [
       "[1] 0.1041173"
      ]
     },
     "execution_count": 26,
     "metadata": {},
     "output_type": "execute_result"
    }
   ],
   "source": [
    "2152/(18517+2152)"
   ]
  },
  {
   "cell_type": "code",
   "execution_count": 27,
   "metadata": {
    "collapsed": false
   },
   "outputs": [
    {
     "data": {
      "text/plain": [
       "\n",
       "FALSE  TRUE \n",
       "13068  1212 "
      ]
     },
     "execution_count": 27,
     "metadata": {},
     "output_type": "execute_result"
    }
   ],
   "source": [
    "table(subset(mvt, Year == 2007)$Arrest)#Problem 3.3"
   ]
  },
  {
   "cell_type": "code",
   "execution_count": 28,
   "metadata": {
    "collapsed": false
   },
   "outputs": [
    {
     "data": {
      "text/html": [
       "0.0848739495798319"
      ],
      "text/latex": [
       "0.0848739495798319"
      ],
      "text/markdown": [
       "0.0848739495798319"
      ],
      "text/plain": [
       "[1] 0.08487395"
      ]
     },
     "execution_count": 28,
     "metadata": {},
     "output_type": "execute_result"
    }
   ],
   "source": [
    "1212/(13068+1212)#Problem 3.4"
   ]
  },
  {
   "cell_type": "code",
   "execution_count": 29,
   "metadata": {
    "collapsed": false
   },
   "outputs": [
    {
     "data": {
      "text/plain": [
       "\n",
       "FALSE  TRUE \n",
       "13542   550 "
      ]
     },
     "execution_count": 29,
     "metadata": {},
     "output_type": "execute_result"
    }
   ],
   "source": [
    "table(subset(mvt, Year == 2012)$Arrest)#Problem 3.4"
   ]
  },
  {
   "cell_type": "code",
   "execution_count": 30,
   "metadata": {
    "collapsed": false
   },
   "outputs": [
    {
     "data": {
      "text/html": [
       "0.0390292364462106"
      ],
      "text/latex": [
       "0.0390292364462106"
      ],
      "text/markdown": [
       "0.0390292364462106"
      ],
      "text/plain": [
       "[1] 0.03902924"
      ]
     },
     "execution_count": 30,
     "metadata": {},
     "output_type": "execute_result"
    }
   ],
   "source": [
    "550/(13542+550)"
   ]
  },
  {
   "cell_type": "code",
   "execution_count": 31,
   "metadata": {
    "collapsed": false
   },
   "outputs": [
    {
     "data": {
      "text/html": [
       "<dl class=dl-horizontal>\n",
       "\t<dt>AIRPORT BUILDING NON-TERMINAL - SECURE AREA</dt>\n",
       "\t\t<dd>1</dd>\n",
       "\t<dt>AIRPORT EXTERIOR - SECURE AREA</dt>\n",
       "\t\t<dd>1</dd>\n",
       "\t<dt>ANIMAL HOSPITAL</dt>\n",
       "\t\t<dd>1</dd>\n",
       "\t<dt>APPLIANCE STORE</dt>\n",
       "\t\t<dd>1</dd>\n",
       "\t<dt>CTA TRAIN</dt>\n",
       "\t\t<dd>1</dd>\n",
       "\t<dt>JAIL / LOCK-UP FACILITY</dt>\n",
       "\t\t<dd>1</dd>\n",
       "\t<dt>NEWSSTAND</dt>\n",
       "\t\t<dd>1</dd>\n",
       "\t<dt>BRIDGE</dt>\n",
       "\t\t<dd>2</dd>\n",
       "\t<dt>COLLEGE/UNIVERSITY RESIDENCE HALL</dt>\n",
       "\t\t<dd>2</dd>\n",
       "\t<dt>CURRENCY EXCHANGE</dt>\n",
       "\t\t<dd>2</dd>\n",
       "\t<dt>BOWLING ALLEY</dt>\n",
       "\t\t<dd>3</dd>\n",
       "\t<dt>CLEANING STORE</dt>\n",
       "\t\t<dd>3</dd>\n",
       "\t<dt>MEDICAL/DENTAL OFFICE</dt>\n",
       "\t\t<dd>3</dd>\n",
       "\t<dt>ABANDONED BUILDING</dt>\n",
       "\t\t<dd>4</dd>\n",
       "\t<dt>AIRPORT BUILDING NON-TERMINAL - NON-SECURE AREA</dt>\n",
       "\t\t<dd>4</dd>\n",
       "\t<dt>BARBERSHOP</dt>\n",
       "\t\t<dd>4</dd>\n",
       "\t<dt>LAKEFRONT/WATERFRONT/RIVERBANK</dt>\n",
       "\t\t<dd>4</dd>\n",
       "\t<dt>LIBRARY</dt>\n",
       "\t\t<dd>4</dd>\n",
       "\t<dt>SAVINGS AND LOAN</dt>\n",
       "\t\t<dd>4</dd>\n",
       "\t<dt>AIRPORT TERMINAL UPPER LEVEL - NON-SECURE AREA</dt>\n",
       "\t\t<dd>5</dd>\n",
       "\t<dt>CHA APARTMENT</dt>\n",
       "\t\t<dd>5</dd>\n",
       "\t<dt>DAY CARE CENTER</dt>\n",
       "\t\t<dd>5</dd>\n",
       "\t<dt>FIRE STATION</dt>\n",
       "\t\t<dd>5</dd>\n",
       "\t<dt>FOREST PRESERVE</dt>\n",
       "\t\t<dd>6</dd>\n",
       "\t<dt>BANK</dt>\n",
       "\t\t<dd>7</dd>\n",
       "\t<dt>CONVENIENCE STORE</dt>\n",
       "\t\t<dd>7</dd>\n",
       "\t<dt>DRUG STORE</dt>\n",
       "\t\t<dd>8</dd>\n",
       "\t<dt>OTHER COMMERCIAL TRANSPORTATION</dt>\n",
       "\t\t<dd>8</dd>\n",
       "\t<dt>ATHLETIC CLUB</dt>\n",
       "\t\t<dd>9</dd>\n",
       "\t<dt>AIRPORT VENDING ESTABLISHMENT</dt>\n",
       "\t\t<dd>10</dd>\n",
       "\t<dt>AIRPORT PARKING LOT</dt>\n",
       "\t\t<dd>11</dd>\n",
       "\t<dt>SCHOOL, PRIVATE, BUILDING</dt>\n",
       "\t\t<dd>14</dd>\n",
       "\t<dt>TAVERN/LIQUOR STORE</dt>\n",
       "\t\t<dd>14</dd>\n",
       "\t<dt>FACTORY/MANUFACTURING BUILDING</dt>\n",
       "\t\t<dd>16</dd>\n",
       "\t<dt>BAR OR TAVERN</dt>\n",
       "\t\t<dd>17</dd>\n",
       "\t<dt>WAREHOUSE</dt>\n",
       "\t\t<dd>17</dd>\n",
       "\t<dt>MOVIE HOUSE/THEATER</dt>\n",
       "\t\t<dd>18</dd>\n",
       "\t<dt>RESIDENCE PORCH/HALLWAY</dt>\n",
       "\t\t<dd>18</dd>\n",
       "\t<dt>NURSING HOME/RETIREMENT HOME</dt>\n",
       "\t\t<dd>21</dd>\n",
       "\t<dt>TAXICAB</dt>\n",
       "\t\t<dd>21</dd>\n",
       "\t<dt>DEPARTMENT STORE</dt>\n",
       "\t\t<dd>22</dd>\n",
       "\t<dt>HIGHWAY/EXPRESSWAY</dt>\n",
       "\t\t<dd>22</dd>\n",
       "\t<dt>SCHOOL, PRIVATE, GROUNDS</dt>\n",
       "\t\t<dd>23</dd>\n",
       "\t<dt>VEHICLE-COMMERCIAL</dt>\n",
       "\t\t<dd>23</dd>\n",
       "\t<dt>AIRPORT EXTERIOR - NON-SECURE AREA</dt>\n",
       "\t\t<dd>24</dd>\n",
       "\t<dt>OTHER RAILROAD PROP / TRAIN DEPOT</dt>\n",
       "\t\t<dd>28</dd>\n",
       "\t<dt>SMALL RETAIL STORE</dt>\n",
       "\t\t<dd>33</dd>\n",
       "\t<dt>CONSTRUCTION SITE</dt>\n",
       "\t\t<dd>35</dd>\n",
       "\t<dt>CAR WASH</dt>\n",
       "\t\t<dd>44</dd>\n",
       "\t<dt>COLLEGE/UNIVERSITY GROUNDS</dt>\n",
       "\t\t<dd>47</dd>\n",
       "\t<dt>GOVERNMENT BUILDING/PROPERTY</dt>\n",
       "\t\t<dd>48</dd>\n",
       "\t<dt>RESTAURANT</dt>\n",
       "\t\t<dd>49</dd>\n",
       "\t<dt>CHURCH/SYNAGOGUE/PLACE OF WORSHIP</dt>\n",
       "\t\t<dd>56</dd>\n",
       "\t<dt>GROCERY FOOD STORE</dt>\n",
       "\t\t<dd>80</dd>\n",
       "\t<dt>HOSPITAL BUILDING/GROUNDS</dt>\n",
       "\t\t<dd>101</dd>\n",
       "\t<dt>SCHOOL, PUBLIC, BUILDING</dt>\n",
       "\t\t<dd>114</dd>\n",
       "\t<dt>HOTEL/MOTEL</dt>\n",
       "\t\t<dd>124</dd>\n",
       "\t<dt>COMMERCIAL / BUSINESS OFFICE</dt>\n",
       "\t\t<dd>126</dd>\n",
       "\t<dt>CTA GARAGE / OTHER PROPERTY</dt>\n",
       "\t\t<dd>148</dd>\n",
       "\t<dt>SPORTS ARENA/STADIUM</dt>\n",
       "\t\t<dd>166</dd>\n",
       "\t<dt>APARTMENT</dt>\n",
       "\t\t<dd>184</dd>\n",
       "\t<dt>SCHOOL, PUBLIC, GROUNDS</dt>\n",
       "\t\t<dd>206</dd>\n",
       "\t<dt>PARK PROPERTY</dt>\n",
       "\t\t<dd>255</dd>\n",
       "\t<dt>POLICE FACILITY/VEH PARKING LOT</dt>\n",
       "\t\t<dd>266</dd>\n",
       "\t<dt>AIRPORT/AIRCRAFT</dt>\n",
       "\t\t<dd>363</dd>\n",
       "\t<dt>CHA PARKING LOT/GROUNDS</dt>\n",
       "\t\t<dd>405</dd>\n",
       "\t<dt>SIDEWALK</dt>\n",
       "\t\t<dd>462</dd>\n",
       "\t<dt>VEHICLE NON-COMMERCIAL</dt>\n",
       "\t\t<dd>817</dd>\n",
       "\t<dt>VACANT LOT/LAND</dt>\n",
       "\t\t<dd>985</dd>\n",
       "\t<dt>RESIDENCE-GARAGE</dt>\n",
       "\t\t<dd>1176</dd>\n",
       "\t<dt>RESIDENCE</dt>\n",
       "\t\t<dd>1302</dd>\n",
       "\t<dt>RESIDENTIAL YARD (FRONT/BACK)</dt>\n",
       "\t\t<dd>1536</dd>\n",
       "\t<dt>DRIVEWAY - RESIDENTIAL</dt>\n",
       "\t\t<dd>1675</dd>\n",
       "\t<dt>GAS STATION</dt>\n",
       "\t\t<dd>2111</dd>\n",
       "\t<dt>ALLEY</dt>\n",
       "\t\t<dd>2308</dd>\n",
       "\t<dt>OTHER</dt>\n",
       "\t\t<dd>4573</dd>\n",
       "\t<dt>PARKING LOT/GARAGE(NON.RESID.)</dt>\n",
       "\t\t<dd>14852</dd>\n",
       "\t<dt>STREET</dt>\n",
       "\t\t<dd>156564</dd>\n",
       "</dl>\n"
      ],
      "text/latex": [
       "\\begin{description*}\n",
       "\\item[AIRPORT BUILDING NON-TERMINAL - SECURE AREA] 1\n",
       "\\item[AIRPORT EXTERIOR - SECURE AREA] 1\n",
       "\\item[ANIMAL HOSPITAL] 1\n",
       "\\item[APPLIANCE STORE] 1\n",
       "\\item[CTA TRAIN] 1\n",
       "\\item[JAIL / LOCK-UP FACILITY] 1\n",
       "\\item[NEWSSTAND] 1\n",
       "\\item[BRIDGE] 2\n",
       "\\item[COLLEGE/UNIVERSITY RESIDENCE HALL] 2\n",
       "\\item[CURRENCY EXCHANGE] 2\n",
       "\\item[BOWLING ALLEY] 3\n",
       "\\item[CLEANING STORE] 3\n",
       "\\item[MEDICAL/DENTAL OFFICE] 3\n",
       "\\item[ABANDONED BUILDING] 4\n",
       "\\item[AIRPORT BUILDING NON-TERMINAL - NON-SECURE AREA] 4\n",
       "\\item[BARBERSHOP] 4\n",
       "\\item[LAKEFRONT/WATERFRONT/RIVERBANK] 4\n",
       "\\item[LIBRARY] 4\n",
       "\\item[SAVINGS AND LOAN] 4\n",
       "\\item[AIRPORT TERMINAL UPPER LEVEL - NON-SECURE AREA] 5\n",
       "\\item[CHA APARTMENT] 5\n",
       "\\item[DAY CARE CENTER] 5\n",
       "\\item[FIRE STATION] 5\n",
       "\\item[FOREST PRESERVE] 6\n",
       "\\item[BANK] 7\n",
       "\\item[CONVENIENCE STORE] 7\n",
       "\\item[DRUG STORE] 8\n",
       "\\item[OTHER COMMERCIAL TRANSPORTATION] 8\n",
       "\\item[ATHLETIC CLUB] 9\n",
       "\\item[AIRPORT VENDING ESTABLISHMENT] 10\n",
       "\\item[AIRPORT PARKING LOT] 11\n",
       "\\item[SCHOOL, PRIVATE, BUILDING] 14\n",
       "\\item[TAVERN/LIQUOR STORE] 14\n",
       "\\item[FACTORY/MANUFACTURING BUILDING] 16\n",
       "\\item[BAR OR TAVERN] 17\n",
       "\\item[WAREHOUSE] 17\n",
       "\\item[MOVIE HOUSE/THEATER] 18\n",
       "\\item[RESIDENCE PORCH/HALLWAY] 18\n",
       "\\item[NURSING HOME/RETIREMENT HOME] 21\n",
       "\\item[TAXICAB] 21\n",
       "\\item[DEPARTMENT STORE] 22\n",
       "\\item[HIGHWAY/EXPRESSWAY] 22\n",
       "\\item[SCHOOL, PRIVATE, GROUNDS] 23\n",
       "\\item[VEHICLE-COMMERCIAL] 23\n",
       "\\item[AIRPORT EXTERIOR - NON-SECURE AREA] 24\n",
       "\\item[OTHER RAILROAD PROP / TRAIN DEPOT] 28\n",
       "\\item[SMALL RETAIL STORE] 33\n",
       "\\item[CONSTRUCTION SITE] 35\n",
       "\\item[CAR WASH] 44\n",
       "\\item[COLLEGE/UNIVERSITY GROUNDS] 47\n",
       "\\item[GOVERNMENT BUILDING/PROPERTY] 48\n",
       "\\item[RESTAURANT] 49\n",
       "\\item[CHURCH/SYNAGOGUE/PLACE OF WORSHIP] 56\n",
       "\\item[GROCERY FOOD STORE] 80\n",
       "\\item[HOSPITAL BUILDING/GROUNDS] 101\n",
       "\\item[SCHOOL, PUBLIC, BUILDING] 114\n",
       "\\item[HOTEL/MOTEL] 124\n",
       "\\item[COMMERCIAL / BUSINESS OFFICE] 126\n",
       "\\item[CTA GARAGE / OTHER PROPERTY] 148\n",
       "\\item[SPORTS ARENA/STADIUM] 166\n",
       "\\item[APARTMENT] 184\n",
       "\\item[SCHOOL, PUBLIC, GROUNDS] 206\n",
       "\\item[PARK PROPERTY] 255\n",
       "\\item[POLICE FACILITY/VEH PARKING LOT] 266\n",
       "\\item[AIRPORT/AIRCRAFT] 363\n",
       "\\item[CHA PARKING LOT/GROUNDS] 405\n",
       "\\item[SIDEWALK] 462\n",
       "\\item[VEHICLE NON-COMMERCIAL] 817\n",
       "\\item[VACANT LOT/LAND] 985\n",
       "\\item[RESIDENCE-GARAGE] 1176\n",
       "\\item[RESIDENCE] 1302\n",
       "\\item[RESIDENTIAL YARD (FRONT/BACK)] 1536\n",
       "\\item[DRIVEWAY - RESIDENTIAL] 1675\n",
       "\\item[GAS STATION] 2111\n",
       "\\item[ALLEY] 2308\n",
       "\\item[OTHER] 4573\n",
       "\\item[PARKING LOT/GARAGE(NON.RESID.)] 14852\n",
       "\\item[STREET] 156564\n",
       "\\end{description*}\n"
      ],
      "text/markdown": [
       "AIRPORT BUILDING NON-TERMINAL - SECURE AREA\n",
       ":   1AIRPORT EXTERIOR - SECURE AREA\n",
       ":   1ANIMAL HOSPITAL\n",
       ":   1APPLIANCE STORE\n",
       ":   1CTA TRAIN\n",
       ":   1JAIL / LOCK-UP FACILITY\n",
       ":   1NEWSSTAND\n",
       ":   1BRIDGE\n",
       ":   2COLLEGE/UNIVERSITY RESIDENCE HALL\n",
       ":   2CURRENCY EXCHANGE\n",
       ":   2BOWLING ALLEY\n",
       ":   3CLEANING STORE\n",
       ":   3MEDICAL/DENTAL OFFICE\n",
       ":   3ABANDONED BUILDING\n",
       ":   4AIRPORT BUILDING NON-TERMINAL - NON-SECURE AREA\n",
       ":   4BARBERSHOP\n",
       ":   4LAKEFRONT/WATERFRONT/RIVERBANK\n",
       ":   4LIBRARY\n",
       ":   4SAVINGS AND LOAN\n",
       ":   4AIRPORT TERMINAL UPPER LEVEL - NON-SECURE AREA\n",
       ":   5CHA APARTMENT\n",
       ":   5DAY CARE CENTER\n",
       ":   5FIRE STATION\n",
       ":   5FOREST PRESERVE\n",
       ":   6BANK\n",
       ":   7CONVENIENCE STORE\n",
       ":   7DRUG STORE\n",
       ":   8OTHER COMMERCIAL TRANSPORTATION\n",
       ":   8ATHLETIC CLUB\n",
       ":   9AIRPORT VENDING ESTABLISHMENT\n",
       ":   10AIRPORT PARKING LOT\n",
       ":   11SCHOOL, PRIVATE, BUILDING\n",
       ":   14TAVERN/LIQUOR STORE\n",
       ":   14FACTORY/MANUFACTURING BUILDING\n",
       ":   16BAR OR TAVERN\n",
       ":   17WAREHOUSE\n",
       ":   17MOVIE HOUSE/THEATER\n",
       ":   18RESIDENCE PORCH/HALLWAY\n",
       ":   18NURSING HOME/RETIREMENT HOME\n",
       ":   21TAXICAB\n",
       ":   21DEPARTMENT STORE\n",
       ":   22HIGHWAY/EXPRESSWAY\n",
       ":   22SCHOOL, PRIVATE, GROUNDS\n",
       ":   23VEHICLE-COMMERCIAL\n",
       ":   23AIRPORT EXTERIOR - NON-SECURE AREA\n",
       ":   24OTHER RAILROAD PROP / TRAIN DEPOT\n",
       ":   28SMALL RETAIL STORE\n",
       ":   33CONSTRUCTION SITE\n",
       ":   35CAR WASH\n",
       ":   44COLLEGE/UNIVERSITY GROUNDS\n",
       ":   47GOVERNMENT BUILDING/PROPERTY\n",
       ":   48RESTAURANT\n",
       ":   49CHURCH/SYNAGOGUE/PLACE OF WORSHIP\n",
       ":   56GROCERY FOOD STORE\n",
       ":   80HOSPITAL BUILDING/GROUNDS\n",
       ":   101SCHOOL, PUBLIC, BUILDING\n",
       ":   114HOTEL/MOTEL\n",
       ":   124COMMERCIAL / BUSINESS OFFICE\n",
       ":   126CTA GARAGE / OTHER PROPERTY\n",
       ":   148SPORTS ARENA/STADIUM\n",
       ":   166APARTMENT\n",
       ":   184SCHOOL, PUBLIC, GROUNDS\n",
       ":   206PARK PROPERTY\n",
       ":   255POLICE FACILITY/VEH PARKING LOT\n",
       ":   266AIRPORT/AIRCRAFT\n",
       ":   363CHA PARKING LOT/GROUNDS\n",
       ":   405SIDEWALK\n",
       ":   462VEHICLE NON-COMMERCIAL\n",
       ":   817VACANT LOT/LAND\n",
       ":   985RESIDENCE-GARAGE\n",
       ":   1176RESIDENCE\n",
       ":   1302RESIDENTIAL YARD (FRONT/BACK)\n",
       ":   1536DRIVEWAY - RESIDENTIAL\n",
       ":   1675GAS STATION\n",
       ":   2111ALLEY\n",
       ":   2308OTHER\n",
       ":   4573PARKING LOT/GARAGE(NON.RESID.)\n",
       ":   14852STREET\n",
       ":   156564\n",
       "\n"
      ],
      "text/plain": [
       "\n",
       "    AIRPORT BUILDING NON-TERMINAL - SECURE AREA \n",
       "                                              1 \n",
       "                 AIRPORT EXTERIOR - SECURE AREA \n",
       "                                              1 \n",
       "                                ANIMAL HOSPITAL \n",
       "                                              1 \n",
       "                                APPLIANCE STORE \n",
       "                                              1 \n",
       "                                      CTA TRAIN \n",
       "                                              1 \n",
       "                        JAIL / LOCK-UP FACILITY \n",
       "                                              1 \n",
       "                                      NEWSSTAND \n",
       "                                              1 \n",
       "                                         BRIDGE \n",
       "                                              2 \n",
       "              COLLEGE/UNIVERSITY RESIDENCE HALL \n",
       "                                              2 \n",
       "                              CURRENCY EXCHANGE \n",
       "                                              2 \n",
       "                                  BOWLING ALLEY \n",
       "                                              3 \n",
       "                                 CLEANING STORE \n",
       "                                              3 \n",
       "                          MEDICAL/DENTAL OFFICE \n",
       "                                              3 \n",
       "                             ABANDONED BUILDING \n",
       "                                              4 \n",
       "AIRPORT BUILDING NON-TERMINAL - NON-SECURE AREA \n",
       "                                              4 \n",
       "                                     BARBERSHOP \n",
       "                                              4 \n",
       "                 LAKEFRONT/WATERFRONT/RIVERBANK \n",
       "                                              4 \n",
       "                                        LIBRARY \n",
       "                                              4 \n",
       "                               SAVINGS AND LOAN \n",
       "                                              4 \n",
       " AIRPORT TERMINAL UPPER LEVEL - NON-SECURE AREA \n",
       "                                              5 \n",
       "                                  CHA APARTMENT \n",
       "                                              5 \n",
       "                                DAY CARE CENTER \n",
       "                                              5 \n",
       "                                   FIRE STATION \n",
       "                                              5 \n",
       "                                FOREST PRESERVE \n",
       "                                              6 \n",
       "                                           BANK \n",
       "                                              7 \n",
       "                              CONVENIENCE STORE \n",
       "                                              7 \n",
       "                                     DRUG STORE \n",
       "                                              8 \n",
       "                OTHER COMMERCIAL TRANSPORTATION \n",
       "                                              8 \n",
       "                                  ATHLETIC CLUB \n",
       "                                              9 \n",
       "                  AIRPORT VENDING ESTABLISHMENT \n",
       "                                             10 \n",
       "                            AIRPORT PARKING LOT \n",
       "                                             11 \n",
       "                      SCHOOL, PRIVATE, BUILDING \n",
       "                                             14 \n",
       "                            TAVERN/LIQUOR STORE \n",
       "                                             14 \n",
       "                 FACTORY/MANUFACTURING BUILDING \n",
       "                                             16 \n",
       "                                  BAR OR TAVERN \n",
       "                                             17 \n",
       "                                      WAREHOUSE \n",
       "                                             17 \n",
       "                            MOVIE HOUSE/THEATER \n",
       "                                             18 \n",
       "                        RESIDENCE PORCH/HALLWAY \n",
       "                                             18 \n",
       "                   NURSING HOME/RETIREMENT HOME \n",
       "                                             21 \n",
       "                                        TAXICAB \n",
       "                                             21 \n",
       "                               DEPARTMENT STORE \n",
       "                                             22 \n",
       "                             HIGHWAY/EXPRESSWAY \n",
       "                                             22 \n",
       "                       SCHOOL, PRIVATE, GROUNDS \n",
       "                                             23 \n",
       "                             VEHICLE-COMMERCIAL \n",
       "                                             23 \n",
       "             AIRPORT EXTERIOR - NON-SECURE AREA \n",
       "                                             24 \n",
       "              OTHER RAILROAD PROP / TRAIN DEPOT \n",
       "                                             28 \n",
       "                             SMALL RETAIL STORE \n",
       "                                             33 \n",
       "                              CONSTRUCTION SITE \n",
       "                                             35 \n",
       "                                       CAR WASH \n",
       "                                             44 \n",
       "                     COLLEGE/UNIVERSITY GROUNDS \n",
       "                                             47 \n",
       "                   GOVERNMENT BUILDING/PROPERTY \n",
       "                                             48 \n",
       "                                     RESTAURANT \n",
       "                                             49 \n",
       "              CHURCH/SYNAGOGUE/PLACE OF WORSHIP \n",
       "                                             56 \n",
       "                             GROCERY FOOD STORE \n",
       "                                             80 \n",
       "                      HOSPITAL BUILDING/GROUNDS \n",
       "                                            101 \n",
       "                       SCHOOL, PUBLIC, BUILDING \n",
       "                                            114 \n",
       "                                    HOTEL/MOTEL \n",
       "                                            124 \n",
       "                   COMMERCIAL / BUSINESS OFFICE \n",
       "                                            126 \n",
       "                    CTA GARAGE / OTHER PROPERTY \n",
       "                                            148 \n",
       "                           SPORTS ARENA/STADIUM \n",
       "                                            166 \n",
       "                                      APARTMENT \n",
       "                                            184 \n",
       "                        SCHOOL, PUBLIC, GROUNDS \n",
       "                                            206 \n",
       "                                  PARK PROPERTY \n",
       "                                            255 \n",
       "                POLICE FACILITY/VEH PARKING LOT \n",
       "                                            266 \n",
       "                               AIRPORT/AIRCRAFT \n",
       "                                            363 \n",
       "                        CHA PARKING LOT/GROUNDS \n",
       "                                            405 \n",
       "                                       SIDEWALK \n",
       "                                            462 \n",
       "                         VEHICLE NON-COMMERCIAL \n",
       "                                            817 \n",
       "                                VACANT LOT/LAND \n",
       "                                            985 \n",
       "                               RESIDENCE-GARAGE \n",
       "                                           1176 \n",
       "                                      RESIDENCE \n",
       "                                           1302 \n",
       "                  RESIDENTIAL YARD (FRONT/BACK) \n",
       "                                           1536 \n",
       "                         DRIVEWAY - RESIDENTIAL \n",
       "                                           1675 \n",
       "                                    GAS STATION \n",
       "                                           2111 \n",
       "                                          ALLEY \n",
       "                                           2308 \n",
       "                                          OTHER \n",
       "                                           4573 \n",
       "                 PARKING LOT/GARAGE(NON.RESID.) \n",
       "                                          14852 \n",
       "                                         STREET \n",
       "                                         156564 "
      ]
     },
     "execution_count": 31,
     "metadata": {},
     "output_type": "execute_result"
    }
   ],
   "source": [
    "sort(table(mvt$LocationDescription))#Problem 4.1"
   ]
  },
  {
   "cell_type": "code",
   "execution_count": 4,
   "metadata": {
    "collapsed": false
   },
   "outputs": [],
   "source": [
    "RANK1 = subset(mvt, LocationDescription==\"STREET\")\n",
    "RANK2 = subset(mvt, LocationDescription==\"PARKING LOT/GARAGE(NON.RESID.)\")\n",
    "RANK3 = subset(mvt, LocationDescription==\"ALLEY\")\n",
    "RANK4 = subset(mvt, LocationDescription==\"GAS STATION\")\n",
    "RANK5 = subset(mvt, LocationDescription==\"DRIVEWAY - RESIDENTIAL\")\n",
    "TOP5 = rbind(RANK1, RANK2, RANK3, RANK4, RANK5)"
   ]
  },
  {
   "cell_type": "code",
   "execution_count": 5,
   "metadata": {
    "collapsed": false,
    "scrolled": false
   },
   "outputs": [
    {
     "name": "stdout",
     "output_type": "stream",
     "text": [
      "'data.frame':\t177510 obs. of  11 variables:\n",
      " $ ID                 : int  8951354 8951141 8952223 8951608 8950793 8950760 8951611 8951802 8950706 8951585 ...\n",
      " $ Date               : Factor w/ 131680 levels \"1/1/01 0:01\",..: 42824 42823 42823 42822 42821 42820 42819 42817 42816 42816 ...\n",
      " $ LocationDescription: Factor w/ 78 levels \"ABANDONED BUILDING\",..: 72 72 72 72 72 72 72 72 72 72 ...\n",
      " $ Arrest             : logi  FALSE FALSE FALSE FALSE TRUE FALSE ...\n",
      " $ Domestic           : logi  FALSE FALSE FALSE FALSE FALSE FALSE ...\n",
      " $ Beat               : int  623 1213 724 211 2521 423 231 1021 1215 1011 ...\n",
      " $ District           : int  6 12 7 2 25 4 2 10 12 10 ...\n",
      " $ CommunityArea      : int  69 24 67 35 19 48 40 29 24 29 ...\n",
      " $ Year               : int  2012 2012 2012 2012 2012 2012 2012 2012 2012 2012 ...\n",
      " $ Latitude           : num  41.8 41.9 41.8 41.8 41.9 ...\n",
      " $ Longitude          : num  -87.6 -87.7 -87.7 -87.6 -87.8 ...\n"
     ]
    }
   ],
   "source": [
    "str(TOP5)#Problem 4.2"
   ]
  },
  {
   "cell_type": "code",
   "execution_count": 5,
   "metadata": {
    "collapsed": false
   },
   "outputs": [
    {
     "data": {
      "text/plain": [
       "\n",
       "                         ALLEY         DRIVEWAY - RESIDENTIAL \n",
       "                          2308                           1675 \n",
       "                   GAS STATION PARKING LOT/GARAGE(NON.RESID.) \n",
       "                          2111                          14852 \n",
       "                        STREET \n",
       "                        156564 "
      ]
     },
     "execution_count": 5,
     "metadata": {},
     "output_type": "execute_result"
    }
   ],
   "source": [
    "TOP5$LocationDescription = factor(TOP5$LocationDescription)\n",
    "table(TOP5$LocationDescription)"
   ]
  },
  {
   "cell_type": "code",
   "execution_count": 10,
   "metadata": {
    "collapsed": false
   },
   "outputs": [
    {
     "data": {
      "text/html": [
       "<dl class=dl-horizontal>\n",
       "\t<dt>ALLEY</dt>\n",
       "\t\t<dd>249</dd>\n",
       "\t<dt>DRIVEWAY - RESIDENTIAL</dt>\n",
       "\t\t<dd>132</dd>\n",
       "\t<dt>GAS STATION</dt>\n",
       "\t\t<dd>439</dd>\n",
       "\t<dt>PARKING LOT/GARAGE(NON.RESID.)</dt>\n",
       "\t\t<dd>1603</dd>\n",
       "\t<dt>STREET</dt>\n",
       "\t\t<dd>11595</dd>\n",
       "</dl>\n"
      ],
      "text/latex": [
       "\\begin{description*}\n",
       "\\item[ALLEY] 249\n",
       "\\item[DRIVEWAY - RESIDENTIAL] 132\n",
       "\\item[GAS STATION] 439\n",
       "\\item[PARKING LOT/GARAGE(NON.RESID.)] 1603\n",
       "\\item[STREET] 11595\n",
       "\\end{description*}\n"
      ],
      "text/markdown": [
       "ALLEY\n",
       ":   249DRIVEWAY - RESIDENTIAL\n",
       ":   132GAS STATION\n",
       ":   439PARKING LOT/GARAGE(NON.RESID.)\n",
       ":   1603STREET\n",
       ":   11595\n",
       "\n"
      ],
      "text/plain": [
       "                         ALLEY         DRIVEWAY - RESIDENTIAL \n",
       "                           249                            132 \n",
       "                   GAS STATION PARKING LOT/GARAGE(NON.RESID.) \n",
       "                           439                           1603 \n",
       "                        STREET \n",
       "                         11595 "
      ]
     },
     "execution_count": 10,
     "metadata": {},
     "output_type": "execute_result"
    }
   ],
   "source": [
    "tapply(TOP5$Arrest, TOP5$LocationDescription, sum, na.rm=TRUE)#Problem 4.3"
   ]
  },
  {
   "cell_type": "code",
   "execution_count": 11,
   "metadata": {
    "collapsed": false
   },
   "outputs": [
    {
     "data": {
      "text/html": [
       "0.1078856152513"
      ],
      "text/latex": [
       "0.1078856152513"
      ],
      "text/markdown": [
       "0.1078856152513"
      ],
      "text/plain": [
       "[1] 0.1078856"
      ]
     },
     "execution_count": 11,
     "metadata": {},
     "output_type": "execute_result"
    }
   ],
   "source": [
    "249/2308"
   ]
  },
  {
   "cell_type": "code",
   "execution_count": 12,
   "metadata": {
    "collapsed": false
   },
   "outputs": [
    {
     "data": {
      "text/html": [
       "0.0788059701492537"
      ],
      "text/latex": [
       "0.0788059701492537"
      ],
      "text/markdown": [
       "0.0788059701492537"
      ],
      "text/plain": [
       "[1] 0.07880597"
      ]
     },
     "execution_count": 12,
     "metadata": {},
     "output_type": "execute_result"
    }
   ],
   "source": [
    "132/1675"
   ]
  },
  {
   "cell_type": "code",
   "execution_count": 13,
   "metadata": {
    "collapsed": false
   },
   "outputs": [
    {
     "data": {
      "text/html": [
       "0.207958313595452"
      ],
      "text/latex": [
       "0.207958313595452"
      ],
      "text/markdown": [
       "0.207958313595452"
      ],
      "text/plain": [
       "[1] 0.2079583"
      ]
     },
     "execution_count": 13,
     "metadata": {},
     "output_type": "execute_result"
    }
   ],
   "source": [
    "439/2111"
   ]
  },
  {
   "cell_type": "code",
   "execution_count": 14,
   "metadata": {
    "collapsed": false
   },
   "outputs": [
    {
     "data": {
      "text/html": [
       "0.107931591704821"
      ],
      "text/latex": [
       "0.107931591704821"
      ],
      "text/markdown": [
       "0.107931591704821"
      ],
      "text/plain": [
       "[1] 0.1079316"
      ]
     },
     "execution_count": 14,
     "metadata": {},
     "output_type": "execute_result"
    }
   ],
   "source": [
    "1603/14852"
   ]
  },
  {
   "cell_type": "code",
   "execution_count": 15,
   "metadata": {
    "collapsed": false
   },
   "outputs": [
    {
     "data": {
      "text/html": [
       "0.0740591706905802"
      ],
      "text/latex": [
       "0.0740591706905802"
      ],
      "text/markdown": [
       "0.0740591706905802"
      ],
      "text/plain": [
       "[1] 0.07405917"
      ]
     },
     "execution_count": 15,
     "metadata": {},
     "output_type": "execute_result"
    }
   ],
   "source": [
    "11595/156564"
   ]
  },
  {
   "cell_type": "code",
   "execution_count": 6,
   "metadata": {
    "collapsed": false
   },
   "outputs": [
    {
     "data": {
      "text/html": [
       "<dl class=dl-horizontal>\n",
       "\t<dt>星期二</dt>\n",
       "\t\t<dd>270</dd>\n",
       "\t<dt>星期三</dt>\n",
       "\t\t<dd>273</dd>\n",
       "\t<dt>星期一</dt>\n",
       "\t\t<dd>280</dd>\n",
       "\t<dt>星期四</dt>\n",
       "\t\t<dd>282</dd>\n",
       "\t<dt>星期五</dt>\n",
       "\t\t<dd>332</dd>\n",
       "\t<dt>星期日</dt>\n",
       "\t\t<dd>336</dd>\n",
       "\t<dt>星期六</dt>\n",
       "\t\t<dd>338</dd>\n",
       "</dl>\n"
      ],
      "text/latex": [
       "\\begin{description*}\n",
       "\\item[星期二] 270\n",
       "\\item[星期三] 273\n",
       "\\item[星期一] 280\n",
       "\\item[星期四] 282\n",
       "\\item[星期五] 332\n",
       "\\item[星期日] 336\n",
       "\\item[星期六] 338\n",
       "\\end{description*}\n"
      ],
      "text/markdown": [
       "星期二\n",
       ":   270星期三\n",
       ":   273星期一\n",
       ":   280星期四\n",
       ":   282星期五\n",
       ":   332星期日\n",
       ":   336星期六\n",
       ":   338\n",
       "\n"
      ],
      "text/plain": [
       "\n",
       "星期二 星期三 星期一 星期四 星期五 星期日 星期六 \n",
       "   270    273    280    282    332    336    338 "
      ]
     },
     "execution_count": 6,
     "metadata": {},
     "output_type": "execute_result"
    }
   ],
   "source": [
    "sort(table(subset(TOP5, LocationDescription==\"GAS STATION\")$Weekday))#Problem 4.4"
   ]
  },
  {
   "cell_type": "code",
   "execution_count": 7,
   "metadata": {
    "collapsed": false
   },
   "outputs": [
    {
     "data": {
      "text/html": [
       "<dl class=dl-horizontal>\n",
       "\t<dt>星期六</dt>\n",
       "\t\t<dd>202</dd>\n",
       "\t<dt>星期日</dt>\n",
       "\t\t<dd>221</dd>\n",
       "\t<dt>星期三</dt>\n",
       "\t\t<dd>234</dd>\n",
       "\t<dt>星期二</dt>\n",
       "\t\t<dd>243</dd>\n",
       "\t<dt>星期一</dt>\n",
       "\t\t<dd>255</dd>\n",
       "\t<dt>星期五</dt>\n",
       "\t\t<dd>257</dd>\n",
       "\t<dt>星期四</dt>\n",
       "\t\t<dd>263</dd>\n",
       "</dl>\n"
      ],
      "text/latex": [
       "\\begin{description*}\n",
       "\\item[星期六] 202\n",
       "\\item[星期日] 221\n",
       "\\item[星期三] 234\n",
       "\\item[星期二] 243\n",
       "\\item[星期一] 255\n",
       "\\item[星期五] 257\n",
       "\\item[星期四] 263\n",
       "\\end{description*}\n"
      ],
      "text/markdown": [
       "星期六\n",
       ":   202星期日\n",
       ":   221星期三\n",
       ":   234星期二\n",
       ":   243星期一\n",
       ":   255星期五\n",
       ":   257星期四\n",
       ":   263\n",
       "\n"
      ],
      "text/plain": [
       "\n",
       "星期六 星期日 星期三 星期二 星期一 星期五 星期四 \n",
       "   202    221    234    243    255    257    263 "
      ]
     },
     "execution_count": 7,
     "metadata": {},
     "output_type": "execute_result"
    }
   ],
   "source": [
    "sort(table(subset(TOP5, LocationDescription==\"DRIVEWAY - RESIDENTIAL\")$Weekday))#Problem 4.5"
   ]
  },
  {
   "cell_type": "code",
   "execution_count": null,
   "metadata": {
    "collapsed": true
   },
   "outputs": [],
   "source": []
  }
 ],
 "metadata": {
  "kernelspec": {
   "display_name": "R",
   "language": "R",
   "name": "ir"
  },
  "language_info": {
   "codemirror_mode": "r",
   "file_extension": ".r",
   "mimetype": "text/x-r-source",
   "name": "R",
   "pygments_lexer": "r",
   "version": "3.1.3"
  }
 },
 "nbformat": 4,
 "nbformat_minor": 0
}
