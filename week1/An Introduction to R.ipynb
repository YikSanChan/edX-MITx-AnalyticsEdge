{
 "cells": [
  {
   "cell_type": "markdown",
   "metadata": {},
   "source": [
    "### 基本命令\n",
    "\n",
    "- `?`\n",
    "- `ls`, `rm`"
   ]
  },
  {
   "cell_type": "code",
   "execution_count": 8,
   "metadata": {
    "collapsed": true
   },
   "outputs": [],
   "source": [
    "a = 1\n",
    "b = 1"
   ]
  },
  {
   "cell_type": "markdown",
   "metadata": {},
   "source": [
    "列出工作环境中的变量。"
   ]
  },
  {
   "cell_type": "code",
   "execution_count": 9,
   "metadata": {
    "collapsed": false
   },
   "outputs": [
    {
     "data": {
      "text/html": [
       "<ol class=list-inline>\n",
       "\t<li>\"a\"</li>\n",
       "\t<li>\"b\"</li>\n",
       "</ol>\n"
      ],
      "text/latex": [
       "\\begin{enumerate*}\n",
       "\\item \"a\"\n",
       "\\item \"b\"\n",
       "\\end{enumerate*}\n"
      ],
      "text/markdown": [
       "1. \"a\"\n",
       "2. \"b\"\n",
       "\n",
       "\n"
      ],
      "text/plain": [
       "[1] \"a\" \"b\""
      ]
     },
     "execution_count": 9,
     "metadata": {},
     "output_type": "execute_result"
    }
   ],
   "source": [
    "ls()"
   ]
  },
  {
   "cell_type": "markdown",
   "metadata": {},
   "source": [
    "使用`?`获得函数的手册。"
   ]
  },
  {
   "cell_type": "code",
   "execution_count": 10,
   "metadata": {
    "collapsed": false
   },
   "outputs": [
    {
     "data": {
      "text/html": [
       "\n",
       "<table width=\"100%\" summary=\"page for ls {base}\"><tr><td>ls {base}</td><td align=\"right\">R Documentation</td></tr></table>\n",
       "\n",
       "<h2>List Objects</h2>\n",
       "\n",
       "<h3>Description</h3>\n",
       "\n",
       "<p><code>ls</code> and <code>objects</code> return a vector of character strings\n",
       "giving the names of the objects in the specified environment.  When\n",
       "invoked with no argument at the top level prompt, <code>ls</code> shows what\n",
       "data sets and functions a user has defined.  When invoked with no\n",
       "argument inside a function, <code>ls</code> returns the names of the\n",
       "function's local variables: this is useful in conjunction with\n",
       "<code>browser</code>.\n",
       "</p>\n",
       "\n",
       "\n",
       "<h3>Usage</h3>\n",
       "\n",
       "<pre>\n",
       "ls(name, pos = -1L, envir = as.environment(pos),\n",
       "   all.names = FALSE, pattern)\n",
       "objects(name, pos= -1L, envir = as.environment(pos),\n",
       "        all.names = FALSE, pattern)\n",
       "</pre>\n",
       "\n",
       "\n",
       "<h3>Arguments</h3>\n",
       "\n",
       "<table summary=\"R argblock\">\n",
       "<tr valign=\"top\"><td><code>name</code></td>\n",
       "<td>\n",
       "<p>which environment to use in listing the available objects.\n",
       "Defaults to the <EM>current</EM> environment.  Although called\n",
       "<code>name</code> for back compatibility, in fact this argument can\n",
       "specify the environment in any form; see the &lsquo;Details&rsquo; section.</p>\n",
       "</td></tr>\n",
       "<tr valign=\"top\"><td><code>pos</code></td>\n",
       "<td>\n",
       "<p>an alternative argument to <code>name</code> for specifying the\n",
       "environment as a position in the search list.  Mostly there for\n",
       "back compatibility.</p>\n",
       "</td></tr>\n",
       "<tr valign=\"top\"><td><code>envir</code></td>\n",
       "<td>\n",
       "<p>an alternative argument to <code>name</code> for specifying the\n",
       "environment.  Mostly there for back compatibility.</p>\n",
       "</td></tr>\n",
       "<tr valign=\"top\"><td><code>all.names</code></td>\n",
       "<td>\n",
       "<p>a logical value.  If <code>TRUE</code>, all\n",
       "object names are returned.  If <code>FALSE</code>, names which begin with a\n",
       "<span class=\"samp\">.</span> are omitted.</p>\n",
       "</td></tr>\n",
       "<tr valign=\"top\"><td><code>pattern</code></td>\n",
       "<td>\n",
       "<p>an optional regular expression.  Only names\n",
       "matching <code>pattern</code> are returned.  <code>glob2rx</code> can be\n",
       "used to convert wildcard patterns to regular expressions.</p>\n",
       "</td></tr>\n",
       "</table>\n",
       "\n",
       "\n",
       "<h3>Details</h3>\n",
       "\n",
       "<p>The <code>name</code> argument can specify the  environment from which\n",
       "object names are taken in one of several forms:\n",
       "as an integer (the position in the <code>search</code> list); as\n",
       "the character string name of an element in the search list; or as an\n",
       "explicit <code>environment</code> (including using\n",
       "<code>sys.frame</code> to access the currently active function calls).\n",
       "By default, the environment of the call to <code>ls</code> or <code>objects</code>\n",
       "is used. The <code>pos</code> and <code>envir</code> arguments are an alternative\n",
       "way to specify an environment, but are primarily there for back\n",
       "compatibility.\n",
       "</p>\n",
       "<p>Note that the <EM>order</EM> of the resulting strings is locale\n",
       "dependent, see <code>Sys.getlocale</code>.\n",
       "</p>\n",
       "\n",
       "\n",
       "<h3>References</h3>\n",
       "\n",
       "<p>Becker, R. A., Chambers, J. M. and Wilks, A. R. (1988)\n",
       "<EM>The New S Language</EM>.\n",
       "Wadsworth &amp; Brooks/Cole.\n",
       "</p>\n",
       "\n",
       "\n",
       "<h3>See Also</h3>\n",
       "\n",
       "<p><code>glob2rx</code> for converting wildcard patterns to regular\n",
       "expressions.\n",
       "</p>\n",
       "<p><code>ls.str</code> for a long listing based on <code>str</code>.\n",
       "<code>apropos</code> (or <code>find</code>)\n",
       "for finding objects in the whole search path;\n",
       "<code>grep</code> for more details on &lsquo;regular expressions&rsquo;;\n",
       "<code>class</code>, <code>methods</code>, etc., for\n",
       "object-oriented programming.\n",
       "</p>\n",
       "\n",
       "\n",
       "<h3>Examples</h3>\n",
       "\n",
       "<pre>\n",
       ".Ob &lt;- 1\n",
       "ls(pattern = \"O\")\n",
       "ls(pattern= \"O\", all.names = TRUE)    # also shows \".[foo]\"\n",
       "\n",
       "# shows an empty list because inside myfunc no variables are defined\n",
       "myfunc &lt;- function() {ls()}\n",
       "myfunc()\n",
       "\n",
       "# define a local variable inside myfunc\n",
       "myfunc &lt;- function() {y &lt;- 1; ls()}\n",
       "myfunc()                # shows \"y\"\n",
       "</pre>\n",
       "\n",
       "<hr><div align=\"center\">[Package <em>base</em> version 3.1.3 ]</div>"
      ],
      "text/latex": [
       "\\inputencoding{utf8}\n",
       "\\HeaderA{ls}{List Objects}{ls}\n",
       "\\aliasA{objects}{ls}{objects}\n",
       "\\keyword{environment}{ls}\n",
       "%\n",
       "\\begin{Description}\\relax\n",
       "\\code{ls} and \\code{objects} return a vector of character strings\n",
       "giving the names of the objects in the specified environment.  When\n",
       "invoked with no argument at the top level prompt, \\code{ls} shows what\n",
       "data sets and functions a user has defined.  When invoked with no\n",
       "argument inside a function, \\code{ls} returns the names of the\n",
       "function's local variables: this is useful in conjunction with\n",
       "\\code{browser}.\n",
       "\\end{Description}\n",
       "%\n",
       "\\begin{Usage}\n",
       "\\begin{verbatim}\n",
       "ls(name, pos = -1L, envir = as.environment(pos),\n",
       "   all.names = FALSE, pattern)\n",
       "objects(name, pos= -1L, envir = as.environment(pos),\n",
       "        all.names = FALSE, pattern)\n",
       "\\end{verbatim}\n",
       "\\end{Usage}\n",
       "%\n",
       "\\begin{Arguments}\n",
       "\\begin{ldescription}\n",
       "\\item[\\code{name}] which environment to use in listing the available objects.\n",
       "Defaults to the \\emph{current} environment.  Although called\n",
       "\\code{name} for back compatibility, in fact this argument can\n",
       "specify the environment in any form; see the `Details' section.\n",
       "\\item[\\code{pos}] an alternative argument to \\code{name} for specifying the\n",
       "environment as a position in the search list.  Mostly there for\n",
       "back compatibility.\n",
       "\\item[\\code{envir}] an alternative argument to \\code{name} for specifying the\n",
       "environment.  Mostly there for back compatibility.\n",
       "\\item[\\code{all.names}] a logical value.  If \\code{TRUE}, all\n",
       "object names are returned.  If \\code{FALSE}, names which begin with a\n",
       "\\samp{.} are omitted.\n",
       "\\item[\\code{pattern}] an optional \\LinkA{regular expression}{regular expression}.  Only names\n",
       "matching \\code{pattern} are returned.  \\code{\\LinkA{glob2rx}{glob2rx}} can be\n",
       "used to convert wildcard patterns to regular expressions.\n",
       "\\end{ldescription}\n",
       "\\end{Arguments}\n",
       "%\n",
       "\\begin{Details}\\relax\n",
       "The \\code{name} argument can specify the  environment from which\n",
       "object names are taken in one of several forms:\n",
       "as an integer (the position in the \\code{\\LinkA{search}{search}} list); as\n",
       "the character string name of an element in the search list; or as an\n",
       "explicit \\code{\\LinkA{environment}{environment}} (including using\n",
       "\\code{\\LinkA{sys.frame}{sys.frame}} to access the currently active function calls).\n",
       "By default, the environment of the call to \\code{ls} or \\code{objects}\n",
       "is used. The \\code{pos} and \\code{envir} arguments are an alternative\n",
       "way to specify an environment, but are primarily there for back\n",
       "compatibility.\n",
       "\n",
       "Note that the \\emph{order} of the resulting strings is locale\n",
       "dependent, see \\code{\\LinkA{Sys.getlocale}{Sys.getlocale}}.\n",
       "\\end{Details}\n",
       "%\n",
       "\\begin{References}\\relax\n",
       "Becker, R. A., Chambers, J. M. and Wilks, A. R. (1988)\n",
       "\\emph{The New S Language}.\n",
       "Wadsworth \\& Brooks/Cole.\n",
       "\\end{References}\n",
       "%\n",
       "\\begin{SeeAlso}\\relax\n",
       "\\code{\\LinkA{glob2rx}{glob2rx}} for converting wildcard patterns to regular\n",
       "expressions.\n",
       "\n",
       "\\code{\\LinkA{ls.str}{ls.str}} for a long listing based on \\code{\\LinkA{str}{str}}.\n",
       "\\code{\\LinkA{apropos}{apropos}} (or \\code{\\LinkA{find}{find}})\n",
       "for finding objects in the whole search path;\n",
       "\\code{\\LinkA{grep}{grep}} for more details on `regular expressions';\n",
       "\\code{\\LinkA{class}{class}}, \\code{\\LinkA{methods}{methods}}, etc., for\n",
       "object-oriented programming.\n",
       "\\end{SeeAlso}\n",
       "%\n",
       "\\begin{Examples}\n",
       "\\begin{ExampleCode}\n",
       ".Ob <- 1\n",
       "ls(pattern = \"O\")\n",
       "ls(pattern= \"O\", all.names = TRUE)    # also shows \".[foo]\"\n",
       "\n",
       "# shows an empty list because inside myfunc no variables are defined\n",
       "myfunc <- function() {ls()}\n",
       "myfunc()\n",
       "\n",
       "# define a local variable inside myfunc\n",
       "myfunc <- function() {y <- 1; ls()}\n",
       "myfunc()                # shows \"y\"\n",
       "\\end{ExampleCode}\n",
       "\\end{Examples}"
      ],
      "text/plain": [
       "ls                    package:base                     R Documentation\n",
       "\n",
       "_\bL_\bi_\bs_\bt _\bO_\bb_\bj_\be_\bc_\bt_\bs\n",
       "\n",
       "_\bD_\be_\bs_\bc_\br_\bi_\bp_\bt_\bi_\bo_\bn:\n",
       "\n",
       "     'ls' and 'objects' return a vector of character strings giving the\n",
       "     names of the objects in the specified environment.  When invoked\n",
       "     with no argument at the top level prompt, 'ls' shows what data\n",
       "     sets and functions a user has defined.  When invoked with no\n",
       "     argument inside a function, 'ls' returns the names of the\n",
       "     function's local variables: this is useful in conjunction with\n",
       "     'browser'.\n",
       "\n",
       "_\bU_\bs_\ba_\bg_\be:\n",
       "\n",
       "     ls(name, pos = -1L, envir = as.environment(pos),\n",
       "        all.names = FALSE, pattern)\n",
       "     objects(name, pos= -1L, envir = as.environment(pos),\n",
       "             all.names = FALSE, pattern)\n",
       "     \n",
       "_\bA_\br_\bg_\bu_\bm_\be_\bn_\bt_\bs:\n",
       "\n",
       "    name: which environment to use in listing the available objects.\n",
       "          Defaults to the _current_ environment.  Although called\n",
       "          'name' for back compatibility, in fact this argument can\n",
       "          specify the environment in any form; see the 'Details'\n",
       "          section.\n",
       "\n",
       "     pos: an alternative argument to 'name' for specifying the\n",
       "          environment as a position in the search list.  Mostly there\n",
       "          for back compatibility.\n",
       "\n",
       "   envir: an alternative argument to 'name' for specifying the\n",
       "          environment.  Mostly there for back compatibility.\n",
       "\n",
       "all.names: a logical value.  If 'TRUE', all object names are returned.\n",
       "          If 'FALSE', names which begin with a '.' are omitted.\n",
       "\n",
       " pattern: an optional regular expression.  Only names matching\n",
       "          'pattern' are returned.  'glob2rx' can be used to convert\n",
       "          wildcard patterns to regular expressions.\n",
       "\n",
       "_\bD_\be_\bt_\ba_\bi_\bl_\bs:\n",
       "\n",
       "     The 'name' argument can specify the environment from which object\n",
       "     names are taken in one of several forms: as an integer (the\n",
       "     position in the 'search' list); as the character string name of an\n",
       "     element in the search list; or as an explicit 'environment'\n",
       "     (including using 'sys.frame' to access the currently active\n",
       "     function calls).  By default, the environment of the call to 'ls'\n",
       "     or 'objects' is used. The 'pos' and 'envir' arguments are an\n",
       "     alternative way to specify an environment, but are primarily there\n",
       "     for back compatibility.\n",
       "\n",
       "     Note that the _order_ of the resulting strings is locale\n",
       "     dependent, see 'Sys.getlocale'.\n",
       "\n",
       "_\bR_\be_\bf_\be_\br_\be_\bn_\bc_\be_\bs:\n",
       "\n",
       "     Becker, R. A., Chambers, J. M. and Wilks, A. R. (1988) _The New S\n",
       "     Language_.  Wadsworth & Brooks/Cole.\n",
       "\n",
       "_\bS_\be_\be _\bA_\bl_\bs_\bo:\n",
       "\n",
       "     'glob2rx' for converting wildcard patterns to regular expressions.\n",
       "\n",
       "     'ls.str' for a long listing based on 'str'.  'apropos' (or 'find')\n",
       "     for finding objects in the whole search path; 'grep' for more\n",
       "     details on 'regular expressions'; 'class', 'methods', etc., for\n",
       "     object-oriented programming.\n",
       "\n",
       "_\bE_\bx_\ba_\bm_\bp_\bl_\be_\bs:\n",
       "\n",
       "     .Ob <- 1\n",
       "     ls(pattern = \"O\")\n",
       "     ls(pattern= \"O\", all.names = TRUE)    # also shows \".[foo]\"\n",
       "     \n",
       "     # shows an empty list because inside myfunc no variables are defined\n",
       "     myfunc <- function() {ls()}\n",
       "     myfunc()\n",
       "     \n",
       "     # define a local variable inside myfunc\n",
       "     myfunc <- function() {y <- 1; ls()}\n",
       "     myfunc()                # shows \"y\"\n",
       "     "
      ]
     },
     "execution_count": 10,
     "metadata": {},
     "output_type": "execute_result"
    }
   ],
   "source": [
    "?ls"
   ]
  },
  {
   "cell_type": "markdown",
   "metadata": {},
   "source": [
    "使用`rm`移除工作环境中的变量。"
   ]
  },
  {
   "cell_type": "code",
   "execution_count": 11,
   "metadata": {
    "collapsed": false
   },
   "outputs": [
    {
     "data": {
      "text/html": [
       "\"b\""
      ],
      "text/latex": [
       "\"b\""
      ],
      "text/markdown": [
       "\"b\""
      ],
      "text/plain": [
       "[1] \"b\""
      ]
     },
     "execution_count": 11,
     "metadata": {},
     "output_type": "execute_result"
    }
   ],
   "source": [
    "rm(a)\n",
    "ls()"
   ]
  },
  {
   "cell_type": "code",
   "execution_count": 12,
   "metadata": {
    "collapsed": false
   },
   "outputs": [
    {
     "data": {
      "text/html": [
       "\"\""
      ],
      "text/latex": [
       "\"\""
      ],
      "text/markdown": [
       "\"\""
      ],
      "text/plain": [
       "character(0)"
      ]
     },
     "execution_count": 12,
     "metadata": {},
     "output_type": "execute_result"
    }
   ],
   "source": [
    "rm(b)\n",
    "ls()"
   ]
  },
  {
   "cell_type": "markdown",
   "metadata": {},
   "source": [
    "### vector与dataframe\n",
    "\n",
    "- `c`\n",
    "- `vector[]`\n",
    "- `seq`\n",
    "- `data.frame`\n",
    "- `dataframe$column`\n",
    "- `rbind`"
   ]
  },
  {
   "cell_type": "markdown",
   "metadata": {},
   "source": [
    "`c`即`combine`，用于生成向量。向量中只有存放一种数据类型。"
   ]
  },
  {
   "cell_type": "code",
   "execution_count": 14,
   "metadata": {
    "collapsed": true
   },
   "outputs": [],
   "source": [
    "name = c(\"Allen\", \"Black\", \"Clark\")\n",
    "height = c(180, 201, 196)"
   ]
  },
  {
   "cell_type": "markdown",
   "metadata": {},
   "source": [
    "`[]`用于按秩访问。`R`语言中，秩从1开始。"
   ]
  },
  {
   "cell_type": "code",
   "execution_count": 15,
   "metadata": {
    "collapsed": false
   },
   "outputs": [
    {
     "data": {
      "text/html": [
       "\"Allen\""
      ],
      "text/latex": [
       "\"Allen\""
      ],
      "text/markdown": [
       "\"Allen\""
      ],
      "text/plain": [
       "[1] \"Allen\""
      ]
     },
     "execution_count": 15,
     "metadata": {},
     "output_type": "execute_result"
    }
   ],
   "source": [
    "name[1]"
   ]
  },
  {
   "cell_type": "markdown",
   "metadata": {},
   "source": [
    "常用`seq`生成用于数值向量。"
   ]
  },
  {
   "cell_type": "code",
   "execution_count": 16,
   "metadata": {
    "collapsed": false
   },
   "outputs": [
    {
     "data": {
      "text/html": [
       "<ol class=list-inline>\n",
       "\t<li>0</li>\n",
       "\t<li>2</li>\n",
       "\t<li>4</li>\n",
       "\t<li>6</li>\n",
       "\t<li>8</li>\n",
       "\t<li>10</li>\n",
       "\t<li>12</li>\n",
       "\t<li>14</li>\n",
       "\t<li>16</li>\n",
       "\t<li>18</li>\n",
       "\t<li>20</li>\n",
       "\t<li>22</li>\n",
       "\t<li>24</li>\n",
       "\t<li>26</li>\n",
       "\t<li>28</li>\n",
       "\t<li>30</li>\n",
       "\t<li>32</li>\n",
       "\t<li>34</li>\n",
       "\t<li>36</li>\n",
       "\t<li>38</li>\n",
       "\t<li>40</li>\n",
       "\t<li>42</li>\n",
       "\t<li>44</li>\n",
       "\t<li>46</li>\n",
       "\t<li>48</li>\n",
       "\t<li>50</li>\n",
       "\t<li>52</li>\n",
       "\t<li>54</li>\n",
       "\t<li>56</li>\n",
       "\t<li>58</li>\n",
       "\t<li>60</li>\n",
       "\t<li>62</li>\n",
       "\t<li>64</li>\n",
       "\t<li>66</li>\n",
       "\t<li>68</li>\n",
       "\t<li>70</li>\n",
       "\t<li>72</li>\n",
       "\t<li>74</li>\n",
       "\t<li>76</li>\n",
       "\t<li>78</li>\n",
       "\t<li>80</li>\n",
       "\t<li>82</li>\n",
       "\t<li>84</li>\n",
       "\t<li>86</li>\n",
       "\t<li>88</li>\n",
       "\t<li>90</li>\n",
       "\t<li>92</li>\n",
       "\t<li>94</li>\n",
       "\t<li>96</li>\n",
       "\t<li>98</li>\n",
       "\t<li>100</li>\n",
       "</ol>\n"
      ],
      "text/latex": [
       "\\begin{enumerate*}\n",
       "\\item 0\n",
       "\\item 2\n",
       "\\item 4\n",
       "\\item 6\n",
       "\\item 8\n",
       "\\item 10\n",
       "\\item 12\n",
       "\\item 14\n",
       "\\item 16\n",
       "\\item 18\n",
       "\\item 20\n",
       "\\item 22\n",
       "\\item 24\n",
       "\\item 26\n",
       "\\item 28\n",
       "\\item 30\n",
       "\\item 32\n",
       "\\item 34\n",
       "\\item 36\n",
       "\\item 38\n",
       "\\item 40\n",
       "\\item 42\n",
       "\\item 44\n",
       "\\item 46\n",
       "\\item 48\n",
       "\\item 50\n",
       "\\item 52\n",
       "\\item 54\n",
       "\\item 56\n",
       "\\item 58\n",
       "\\item 60\n",
       "\\item 62\n",
       "\\item 64\n",
       "\\item 66\n",
       "\\item 68\n",
       "\\item 70\n",
       "\\item 72\n",
       "\\item 74\n",
       "\\item 76\n",
       "\\item 78\n",
       "\\item 80\n",
       "\\item 82\n",
       "\\item 84\n",
       "\\item 86\n",
       "\\item 88\n",
       "\\item 90\n",
       "\\item 92\n",
       "\\item 94\n",
       "\\item 96\n",
       "\\item 98\n",
       "\\item 100\n",
       "\\end{enumerate*}\n"
      ],
      "text/markdown": [
       "1. 0\n",
       "2. 2\n",
       "3. 4\n",
       "4. 6\n",
       "5. 8\n",
       "6. 10\n",
       "7. 12\n",
       "8. 14\n",
       "9. 16\n",
       "10. 18\n",
       "11. 20\n",
       "12. 22\n",
       "13. 24\n",
       "14. 26\n",
       "15. 28\n",
       "16. 30\n",
       "17. 32\n",
       "18. 34\n",
       "19. 36\n",
       "20. 38\n",
       "21. 40\n",
       "22. 42\n",
       "23. 44\n",
       "24. 46\n",
       "25. 48\n",
       "26. 50\n",
       "27. 52\n",
       "28. 54\n",
       "29. 56\n",
       "30. 58\n",
       "31. 60\n",
       "32. 62\n",
       "33. 64\n",
       "34. 66\n",
       "35. 68\n",
       "36. 70\n",
       "37. 72\n",
       "38. 74\n",
       "39. 76\n",
       "40. 78\n",
       "41. 80\n",
       "42. 82\n",
       "43. 84\n",
       "44. 86\n",
       "45. 88\n",
       "46. 90\n",
       "47. 92\n",
       "48. 94\n",
       "49. 96\n",
       "50. 98\n",
       "51. 100\n",
       "\n",
       "\n"
      ],
      "text/plain": [
       " [1]   0   2   4   6   8  10  12  14  16  18  20  22  24  26  28  30  32  34  36\n",
       "[20]  38  40  42  44  46  48  50  52  54  56  58  60  62  64  66  68  70  72  74\n",
       "[39]  76  78  80  82  84  86  88  90  92  94  96  98 100"
      ]
     },
     "execution_count": 16,
     "metadata": {},
     "output_type": "execute_result"
    }
   ],
   "source": [
    "seq(0,100,2)"
   ]
  },
  {
   "cell_type": "markdown",
   "metadata": {},
   "source": [
    "`data.frame(vector1, vector2)`生成`dataframe`。"
   ]
  },
  {
   "cell_type": "code",
   "execution_count": 18,
   "metadata": {
    "collapsed": false
   },
   "outputs": [
    {
     "data": {
      "text/html": [
       "<table>\n",
       "<thead><tr><th></th><th scope=col>name</th><th scope=col>height</th></tr></thead>\n",
       "<tbody>\n",
       "\t<tr><th scope=row>1</th><td>Allen</td><td>180</td></tr>\n",
       "\t<tr><th scope=row>2</th><td>Black</td><td>201</td></tr>\n",
       "\t<tr><th scope=row>3</th><td>Clark</td><td>196</td></tr>\n",
       "</tbody>\n",
       "</table>\n"
      ],
      "text/latex": [
       "\\begin{tabular}{r|ll}\n",
       "  & name & height\\\\\n",
       "\\hline\n",
       "\t1 & Allen & 180\\\\\n",
       "\t2 & Black & 201\\\\\n",
       "\t3 & Clark & 196\\\\\n",
       "\\end{tabular}\n"
      ],
      "text/plain": [
       "   name height\n",
       "1 Allen    180\n",
       "2 Black    201\n",
       "3 Clark    196"
      ]
     },
     "execution_count": 18,
     "metadata": {},
     "output_type": "execute_result"
    }
   ],
   "source": [
    "players = data.frame(name, height)\n",
    "players"
   ]
  },
  {
   "cell_type": "markdown",
   "metadata": {},
   "source": [
    "`$`为`dataframe`增加新列。"
   ]
  },
  {
   "cell_type": "code",
   "execution_count": 19,
   "metadata": {
    "collapsed": false
   },
   "outputs": [
    {
     "data": {
      "text/html": [
       "<table>\n",
       "<thead><tr><th></th><th scope=col>name</th><th scope=col>height</th><th scope=col>position</th></tr></thead>\n",
       "<tbody>\n",
       "\t<tr><th scope=row>1</th><td>Allen</td><td>180</td><td>PG</td></tr>\n",
       "\t<tr><th scope=row>2</th><td>Black</td><td>201</td><td>C</td></tr>\n",
       "\t<tr><th scope=row>3</th><td>Clark</td><td>196</td><td>SG</td></tr>\n",
       "</tbody>\n",
       "</table>\n"
      ],
      "text/latex": [
       "\\begin{tabular}{r|lll}\n",
       "  & name & height & position\\\\\n",
       "\\hline\n",
       "\t1 & Allen & 180 & PG\\\\\n",
       "\t2 & Black & 201 & C\\\\\n",
       "\t3 & Clark & 196 & SG\\\\\n",
       "\\end{tabular}\n"
      ],
      "text/plain": [
       "   name height position\n",
       "1 Allen    180       PG\n",
       "2 Black    201        C\n",
       "3 Clark    196       SG"
      ]
     },
     "execution_count": 19,
     "metadata": {},
     "output_type": "execute_result"
    }
   ],
   "source": [
    "players$position = c(\"PG\", \"C\", \"SG\")\n",
    "players"
   ]
  },
  {
   "cell_type": "markdown",
   "metadata": {},
   "source": [
    "`rbind`为`dataframe`增加新行。"
   ]
  },
  {
   "cell_type": "code",
   "execution_count": 20,
   "metadata": {
    "collapsed": false
   },
   "outputs": [
    {
     "data": {
      "text/html": [
       "<table>\n",
       "<thead><tr><th></th><th scope=col>name</th><th scope=col>height</th><th scope=col>position</th></tr></thead>\n",
       "<tbody>\n",
       "\t<tr><th scope=row>1</th><td>Allen</td><td>180</td><td>PG</td></tr>\n",
       "\t<tr><th scope=row>2</th><td>Black</td><td>201</td><td>C</td></tr>\n",
       "\t<tr><th scope=row>3</th><td>Clark</td><td>196</td><td>SG</td></tr>\n",
       "\t<tr><th scope=row>4</th><td>Davis</td><td>211</td><td>PF</td></tr>\n",
       "\t<tr><th scope=row>5</th><td>Harder</td><td>196</td><td>SG</td></tr>\n",
       "</tbody>\n",
       "</table>\n"
      ],
      "text/latex": [
       "\\begin{tabular}{r|lll}\n",
       "  & name & height & position\\\\\n",
       "\\hline\n",
       "\t1 & Allen & 180 & PG\\\\\n",
       "\t2 & Black & 201 & C\\\\\n",
       "\t3 & Clark & 196 & SG\\\\\n",
       "\t4 & Davis & 211 & PF\\\\\n",
       "\t5 & Harder & 196 & SG\\\\\n",
       "\\end{tabular}\n"
      ],
      "text/plain": [
       "    name height position\n",
       "1  Allen    180       PG\n",
       "2  Black    201        C\n",
       "3  Clark    196       SG\n",
       "4  Davis    211       PF\n",
       "5 Harder    196       SG"
      ]
     },
     "execution_count": 20,
     "metadata": {},
     "output_type": "execute_result"
    }
   ],
   "source": [
    "name = c(\"Davis\", \"Harder\")\n",
    "height = c(211, 196)\n",
    "position = c(\"PF\", \"SG\")\n",
    "newPlayers = data.frame(name, height, position)\n",
    "allPlayers = rbind(players, newPlayers)\n",
    "allPlayers"
   ]
  },
  {
   "cell_type": "markdown",
   "metadata": {},
   "source": [
    "### 读入数据\n",
    "\n",
    "- `getwd()`\n",
    "- `read.csv`\n",
    "- `str`\n",
    "- `summary`\n",
    "- `subset`"
   ]
  },
  {
   "cell_type": "markdown",
   "metadata": {},
   "source": [
    "`getwd()`即`get working directory`，返回当前工作目录。"
   ]
  },
  {
   "cell_type": "code",
   "execution_count": 21,
   "metadata": {
    "collapsed": false
   },
   "outputs": [
    {
     "data": {
      "text/html": [
       "\"C:/Users/CYS/Desktop/edX-MITx-AnalyticsEdge/week1\""
      ],
      "text/latex": [
       "\"C:/Users/CYS/Desktop/edX-MITx-AnalyticsEdge/week1\""
      ],
      "text/markdown": [
       "\"C:/Users/CYS/Desktop/edX-MITx-AnalyticsEdge/week1\""
      ],
      "text/plain": [
       "[1] \"C:/Users/CYS/Desktop/edX-MITx-AnalyticsEdge/week1\""
      ]
     },
     "execution_count": 21,
     "metadata": {},
     "output_type": "execute_result"
    }
   ],
   "source": [
    "getwd()"
   ]
  },
  {
   "cell_type": "markdown",
   "metadata": {},
   "source": [
    "`read.csv`读入csv格式的数据。"
   ]
  },
  {
   "cell_type": "code",
   "execution_count": 1,
   "metadata": {
    "collapsed": true
   },
   "outputs": [],
   "source": [
    "WHO = read.csv(\"./data/WHO.csv\")"
   ]
  },
  {
   "cell_type": "markdown",
   "metadata": {},
   "source": [
    "常用的了解数据文件的函数：\n",
    "- `str`\n",
    "- `summary`"
   ]
  },
  {
   "cell_type": "code",
   "execution_count": 23,
   "metadata": {
    "collapsed": false
   },
   "outputs": [
    {
     "name": "stdout",
     "output_type": "stream",
     "text": [
      "'data.frame':\t194 obs. of  13 variables:\n",
      " $ Country                      : Factor w/ 194 levels \"Afghanistan\",..: 1 2 3 4 5 6 7 8 9 10 ...\n",
      " $ Region                       : Factor w/ 6 levels \"Africa\",\"Americas\",..: 3 4 1 4 1 2 2 4 6 4 ...\n",
      " $ Population                   : int  29825 3162 38482 78 20821 89 41087 2969 23050 8464 ...\n",
      " $ Under15                      : num  47.4 21.3 27.4 15.2 47.6 ...\n",
      " $ Over60                       : num  3.82 14.93 7.17 22.86 3.84 ...\n",
      " $ FertilityRate                : num  5.4 1.75 2.83 NA 6.1 2.12 2.2 1.74 1.89 1.44 ...\n",
      " $ LifeExpectancy               : int  60 74 73 82 51 75 76 71 82 81 ...\n",
      " $ ChildMortality               : num  98.5 16.7 20 3.2 163.5 ...\n",
      " $ CellularSubscribers          : num  54.3 96.4 99 75.5 48.4 ...\n",
      " $ LiteracyRate                 : num  NA NA NA NA 70.1 99 97.8 99.6 NA NA ...\n",
      " $ GNI                          : num  1140 8820 8310 NA 5230 ...\n",
      " $ PrimarySchoolEnrollmentMale  : num  NA NA 98.2 78.4 93.1 91.1 NA NA 96.9 NA ...\n",
      " $ PrimarySchoolEnrollmentFemale: num  NA NA 96.4 79.4 78.2 84.5 NA NA 97.5 NA ...\n"
     ]
    }
   ],
   "source": [
    "str(WHO)"
   ]
  },
  {
   "cell_type": "markdown",
   "metadata": {},
   "source": [
    "`Factor`变量拥有多种类型，而不一定是数值型的。例如`Country`有194类，因为每个国家的名字都不一样。而`Region`有6类。"
   ]
  },
  {
   "cell_type": "code",
   "execution_count": 24,
   "metadata": {
    "collapsed": false
   },
   "outputs": [
    {
     "data": {
      "text/plain": [
       "                Country                      Region     Population     \n",
       " Afghanistan        :  1   Africa               :46   Min.   :      1  \n",
       " Albania            :  1   Americas             :35   1st Qu.:   1696  \n",
       " Algeria            :  1   Eastern Mediterranean:22   Median :   7790  \n",
       " Andorra            :  1   Europe               :53   Mean   :  36360  \n",
       " Angola             :  1   South-East Asia      :11   3rd Qu.:  24535  \n",
       " Antigua and Barbuda:  1   Western Pacific      :27   Max.   :1390000  \n",
       " (Other)            :188                                               \n",
       "    Under15          Over60      FertilityRate   LifeExpectancy \n",
       " Min.   :13.12   Min.   : 0.81   Min.   :1.260   Min.   :47.00  \n",
       " 1st Qu.:18.72   1st Qu.: 5.20   1st Qu.:1.835   1st Qu.:64.00  \n",
       " Median :28.65   Median : 8.53   Median :2.400   Median :72.50  \n",
       " Mean   :28.73   Mean   :11.16   Mean   :2.941   Mean   :70.01  \n",
       " 3rd Qu.:37.75   3rd Qu.:16.69   3rd Qu.:3.905   3rd Qu.:76.00  \n",
       " Max.   :49.99   Max.   :31.92   Max.   :7.580   Max.   :83.00  \n",
       "                                 NA's   :11                     \n",
       " ChildMortality    CellularSubscribers  LiteracyRate        GNI       \n",
       " Min.   :  2.200   Min.   :  2.57      Min.   :31.10   Min.   :  340  \n",
       " 1st Qu.:  8.425   1st Qu.: 63.57      1st Qu.:71.60   1st Qu.: 2335  \n",
       " Median : 18.600   Median : 97.75      Median :91.80   Median : 7870  \n",
       " Mean   : 36.149   Mean   : 93.64      Mean   :83.71   Mean   :13321  \n",
       " 3rd Qu.: 55.975   3rd Qu.:120.81      3rd Qu.:97.85   3rd Qu.:17558  \n",
       " Max.   :181.600   Max.   :196.41      Max.   :99.80   Max.   :86440  \n",
       "                   NA's   :10          NA's   :91      NA's   :32     \n",
       " PrimarySchoolEnrollmentMale PrimarySchoolEnrollmentFemale\n",
       " Min.   : 37.20              Min.   : 32.50               \n",
       " 1st Qu.: 87.70              1st Qu.: 87.30               \n",
       " Median : 94.70              Median : 95.10               \n",
       " Mean   : 90.85              Mean   : 89.63               \n",
       " 3rd Qu.: 98.10              3rd Qu.: 97.90               \n",
       " Max.   :100.00              Max.   :100.00               \n",
       " NA's   :93                  NA's   :93                   "
      ]
     },
     "execution_count": 24,
     "metadata": {},
     "output_type": "execute_result"
    }
   ],
   "source": [
    "summary(WHO)"
   ]
  },
  {
   "cell_type": "markdown",
   "metadata": {},
   "source": [
    "可以看出，做了一些描述统计。"
   ]
  },
  {
   "cell_type": "markdown",
   "metadata": {},
   "source": [
    "`subset`取出`dataframe`的子集。"
   ]
  },
  {
   "cell_type": "code",
   "execution_count": 25,
   "metadata": {
    "collapsed": true
   },
   "outputs": [],
   "source": [
    "WHO_Europe = subset(WHO, Region == \"Europe\")"
   ]
  },
  {
   "cell_type": "code",
   "execution_count": 26,
   "metadata": {
    "collapsed": false
   },
   "outputs": [
    {
     "data": {
      "text/html": [
       "<ol class=list-inline>\n",
       "\t<li>\"allPlayers\"</li>\n",
       "\t<li>\"height\"</li>\n",
       "\t<li>\"name\"</li>\n",
       "\t<li>\"newPlayers\"</li>\n",
       "\t<li>\"players\"</li>\n",
       "\t<li>\"position\"</li>\n",
       "\t<li>\"WHO\"</li>\n",
       "\t<li>\"WHO_Europe\"</li>\n",
       "</ol>\n"
      ],
      "text/latex": [
       "\\begin{enumerate*}\n",
       "\\item \"allPlayers\"\n",
       "\\item \"height\"\n",
       "\\item \"name\"\n",
       "\\item \"newPlayers\"\n",
       "\\item \"players\"\n",
       "\\item \"position\"\n",
       "\\item \"WHO\"\n",
       "\\item \"WHO_Europe\"\n",
       "\\end{enumerate*}\n"
      ],
      "text/markdown": [
       "1. \"allPlayers\"\n",
       "2. \"height\"\n",
       "3. \"name\"\n",
       "4. \"newPlayers\"\n",
       "5. \"players\"\n",
       "6. \"position\"\n",
       "7. \"WHO\"\n",
       "8. \"WHO_Europe\"\n",
       "\n",
       "\n"
      ],
      "text/plain": [
       "[1] \"allPlayers\" \"height\"     \"name\"       \"newPlayers\" \"players\"   \n",
       "[6] \"position\"   \"WHO\"        \"WHO_Europe\""
      ]
     },
     "execution_count": 26,
     "metadata": {},
     "output_type": "execute_result"
    }
   ],
   "source": [
    "ls()"
   ]
  },
  {
   "cell_type": "markdown",
   "metadata": {},
   "source": [
    "`write`将数据写入文件。"
   ]
  },
  {
   "cell_type": "code",
   "execution_count": 27,
   "metadata": {
    "collapsed": true
   },
   "outputs": [],
   "source": [
    "write.csv(WHO_Europe, \"WHO_Europe.csv\")"
   ]
  },
  {
   "cell_type": "markdown",
   "metadata": {},
   "source": [
    "`rm`将暂时不用的`dataframe`移出工作环境。"
   ]
  },
  {
   "cell_type": "code",
   "execution_count": 28,
   "metadata": {
    "collapsed": true
   },
   "outputs": [],
   "source": [
    "rm(WHO_Europe)"
   ]
  },
  {
   "cell_type": "code",
   "execution_count": 29,
   "metadata": {
    "collapsed": false
   },
   "outputs": [
    {
     "data": {
      "text/html": [
       "<ol class=list-inline>\n",
       "\t<li>\"allPlayers\"</li>\n",
       "\t<li>\"height\"</li>\n",
       "\t<li>\"name\"</li>\n",
       "\t<li>\"newPlayers\"</li>\n",
       "\t<li>\"players\"</li>\n",
       "\t<li>\"position\"</li>\n",
       "\t<li>\"WHO\"</li>\n",
       "</ol>\n"
      ],
      "text/latex": [
       "\\begin{enumerate*}\n",
       "\\item \"allPlayers\"\n",
       "\\item \"height\"\n",
       "\\item \"name\"\n",
       "\\item \"newPlayers\"\n",
       "\\item \"players\"\n",
       "\\item \"position\"\n",
       "\\item \"WHO\"\n",
       "\\end{enumerate*}\n"
      ],
      "text/markdown": [
       "1. \"allPlayers\"\n",
       "2. \"height\"\n",
       "3. \"name\"\n",
       "4. \"newPlayers\"\n",
       "5. \"players\"\n",
       "6. \"position\"\n",
       "7. \"WHO\"\n",
       "\n",
       "\n"
      ],
      "text/plain": [
       "[1] \"allPlayers\" \"height\"     \"name\"       \"newPlayers\" \"players\"   \n",
       "[6] \"position\"   \"WHO\"       "
      ]
     },
     "execution_count": 29,
     "metadata": {},
     "output_type": "execute_result"
    }
   ],
   "source": [
    "ls()"
   ]
  },
  {
   "cell_type": "markdown",
   "metadata": {},
   "source": [
    "### 数据分析\n",
    "\n",
    "- `mean`, `sd`\n",
    "- `which.min`, `which.max`\n",
    "- `plot`\n",
    "- `nrow`\n",
    "- `dataframe[vector]`\n",
    "- `hist`\n",
    "- `boxplot`\n",
    "- `table`\n",
    "- `tapply`"
   ]
  },
  {
   "cell_type": "markdown",
   "metadata": {},
   "source": [
    "`$`取出`dataframe`中的向量。"
   ]
  },
  {
   "cell_type": "code",
   "execution_count": 30,
   "metadata": {
    "collapsed": false
   },
   "outputs": [
    {
     "data": {
      "text/html": [
       "<ol class=list-inline>\n",
       "\t<li>47.42</li>\n",
       "\t<li>21.33</li>\n",
       "\t<li>27.42</li>\n",
       "\t<li>15.2</li>\n",
       "\t<li>47.58</li>\n",
       "\t<li>25.96</li>\n",
       "\t<li>24.42</li>\n",
       "\t<li>20.34</li>\n",
       "\t<li>18.95</li>\n",
       "\t<li>14.51</li>\n",
       "\t<li>22.25</li>\n",
       "\t<li>21.62</li>\n",
       "\t<li>20.16</li>\n",
       "\t<li>30.57</li>\n",
       "\t<li>18.99</li>\n",
       "\t<li>15.1</li>\n",
       "\t<li>16.88</li>\n",
       "\t<li>34.4</li>\n",
       "\t<li>42.95</li>\n",
       "\t<li>28.53</li>\n",
       "\t<li>35.23</li>\n",
       "\t<li>16.35</li>\n",
       "\t<li>33.75</li>\n",
       "\t<li>24.56</li>\n",
       "\t<li>25.75</li>\n",
       "\t<li>13.53</li>\n",
       "\t<li>45.66</li>\n",
       "\t<li>44.2</li>\n",
       "\t<li>31.23</li>\n",
       "\t<li>43.08</li>\n",
       "\t<li>16.37</li>\n",
       "\t<li>30.17</li>\n",
       "\t<li>40.07</li>\n",
       "\t<li>48.52</li>\n",
       "\t<li>21.38</li>\n",
       "\t<li>17.95</li>\n",
       "\t<li>28.03</li>\n",
       "\t<li>42.17</li>\n",
       "\t<li>42.37</li>\n",
       "\t<li>30.61</li>\n",
       "\t<li>23.94</li>\n",
       "\t<li>41.48</li>\n",
       "\t<li>14.98</li>\n",
       "\t<li>16.58</li>\n",
       "\t<li>17.16</li>\n",
       "\t<li>14.56</li>\n",
       "\t<li>21.98</li>\n",
       "\t<li>45.11</li>\n",
       "\t<li>17.66</li>\n",
       "\t<li>33.72</li>\n",
       "\t<li>25.96</li>\n",
       "\t<li>30.53</li>\n",
       "\t<li>30.29</li>\n",
       "\t<li>31.25</li>\n",
       "\t<li>30.62</li>\n",
       "\t<li>38.95</li>\n",
       "\t<li>43.1</li>\n",
       "\t<li>15.69</li>\n",
       "\t<li>43.29</li>\n",
       "\t<li>28.88</li>\n",
       "\t<li>16.42</li>\n",
       "\t<li>18.26</li>\n",
       "\t<li>38.49</li>\n",
       "\t<li>45.9</li>\n",
       "\t<li>17.62</li>\n",
       "\t<li>13.17</li>\n",
       "\t<li>38.59</li>\n",
       "\t<li>14.6</li>\n",
       "\t<li>26.96</li>\n",
       "\t<li>40.8</li>\n",
       "\t<li>42.46</li>\n",
       "\t<li>41.55</li>\n",
       "\t<li>36.77</li>\n",
       "\t<li>35.35</li>\n",
       "\t<li>35.72</li>\n",
       "\t<li>14.62</li>\n",
       "\t<li>20.71</li>\n",
       "\t<li>29.43</li>\n",
       "\t<li>29.27</li>\n",
       "\t<li>23.68</li>\n",
       "\t<li>40.51</li>\n",
       "\t<li>21.54</li>\n",
       "\t<li>27.53</li>\n",
       "\t<li>14.04</li>\n",
       "\t<li>27.78</li>\n",
       "\t<li>13.12</li>\n",
       "\t<li>34.13</li>\n",
       "\t<li>25.46</li>\n",
       "\t<li>42.37</li>\n",
       "\t<li>30.1</li>\n",
       "\t<li>24.9</li>\n",
       "\t<li>30.21</li>\n",
       "\t<li>35.61</li>\n",
       "\t<li>14.57</li>\n",
       "\t<li>21.64</li>\n",
       "\t<li>36.75</li>\n",
       "\t<li>43.06</li>\n",
       "\t<li>29.45</li>\n",
       "\t<li>15.13</li>\n",
       "\t<li>17.46</li>\n",
       "\t<li>42.72</li>\n",
       "\t<li>45.44</li>\n",
       "\t<li>26.65</li>\n",
       "\t<li>29.03</li>\n",
       "\t<li>47.14</li>\n",
       "\t<li>14.98</li>\n",
       "\t<li>30.1</li>\n",
       "\t<li>40.22</li>\n",
       "\t<li>20.17</li>\n",
       "\t<li>29.02</li>\n",
       "\t<li>35.81</li>\n",
       "\t<li>18.26</li>\n",
       "\t<li>27.05</li>\n",
       "\t<li>19.01</li>\n",
       "\t<li>27.85</li>\n",
       "\t<li>45.38</li>\n",
       "\t<li>25.28</li>\n",
       "\t<li>36.59</li>\n",
       "\t<li>30.1</li>\n",
       "\t<li>35.58</li>\n",
       "\t<li>17.21</li>\n",
       "\t<li>20.26</li>\n",
       "\t<li>33.37</li>\n",
       "\t<li>49.99</li>\n",
       "\t<li>44.23</li>\n",
       "\t<li>30.61</li>\n",
       "\t<li>18.64</li>\n",
       "\t<li>24.19</li>\n",
       "\t<li>34.31</li>\n",
       "\t<li>30.1</li>\n",
       "\t<li>28.65</li>\n",
       "\t<li>38.37</li>\n",
       "\t<li>32.78</li>\n",
       "\t<li>29.18</li>\n",
       "\t<li>34.53</li>\n",
       "\t<li>14.91</li>\n",
       "\t<li>14.92</li>\n",
       "\t<li>13.28</li>\n",
       "\t<li>15.25</li>\n",
       "\t<li>16.52</li>\n",
       "\t<li>15.05</li>\n",
       "\t<li>15.45</li>\n",
       "\t<li>43.56</li>\n",
       "\t<li>25.96</li>\n",
       "\t<li>24.31</li>\n",
       "\t<li>25.7</li>\n",
       "\t<li>37.88</li>\n",
       "\t<li>14.04</li>\n",
       "\t<li>41.6</li>\n",
       "\t<li>29.69</li>\n",
       "\t<li>43.54</li>\n",
       "\t<li>16.45</li>\n",
       "\t<li>21.95</li>\n",
       "\t<li>41.74</li>\n",
       "\t<li>16.48</li>\n",
       "\t<li>15</li>\n",
       "\t<li>14.16</li>\n",
       "\t<li>40.37</li>\n",
       "\t<li>47.35</li>\n",
       "\t<li>29.53</li>\n",
       "\t<li>42.28</li>\n",
       "\t<li>15.2</li>\n",
       "\t<li>25.15</li>\n",
       "\t<li>41.48</li>\n",
       "\t<li>27.83</li>\n",
       "\t<li>38.05</li>\n",
       "\t<li>16.71</li>\n",
       "\t<li>14.79</li>\n",
       "\t<li>35.35</li>\n",
       "\t<li>35.75</li>\n",
       "\t<li>18.47</li>\n",
       "\t<li>16.89</li>\n",
       "\t<li>46.33</li>\n",
       "\t<li>41.89</li>\n",
       "\t<li>37.33</li>\n",
       "\t<li>20.73</li>\n",
       "\t<li>23.22</li>\n",
       "\t<li>26</li>\n",
       "\t<li>28.65</li>\n",
       "\t<li>30.61</li>\n",
       "\t<li>48.54</li>\n",
       "\t<li>14.18</li>\n",
       "\t<li>14.41</li>\n",
       "\t<li>17.54</li>\n",
       "\t<li>44.85</li>\n",
       "\t<li>19.63</li>\n",
       "\t<li>22.05</li>\n",
       "\t<li>28.9</li>\n",
       "\t<li>37.37</li>\n",
       "\t<li>28.84</li>\n",
       "\t<li>22.87</li>\n",
       "\t<li>40.72</li>\n",
       "\t<li>46.73</li>\n",
       "\t<li>40.24</li>\n",
       "</ol>\n"
      ],
      "text/latex": [
       "\\begin{enumerate*}\n",
       "\\item 47.42\n",
       "\\item 21.33\n",
       "\\item 27.42\n",
       "\\item 15.2\n",
       "\\item 47.58\n",
       "\\item 25.96\n",
       "\\item 24.42\n",
       "\\item 20.34\n",
       "\\item 18.95\n",
       "\\item 14.51\n",
       "\\item 22.25\n",
       "\\item 21.62\n",
       "\\item 20.16\n",
       "\\item 30.57\n",
       "\\item 18.99\n",
       "\\item 15.1\n",
       "\\item 16.88\n",
       "\\item 34.4\n",
       "\\item 42.95\n",
       "\\item 28.53\n",
       "\\item 35.23\n",
       "\\item 16.35\n",
       "\\item 33.75\n",
       "\\item 24.56\n",
       "\\item 25.75\n",
       "\\item 13.53\n",
       "\\item 45.66\n",
       "\\item 44.2\n",
       "\\item 31.23\n",
       "\\item 43.08\n",
       "\\item 16.37\n",
       "\\item 30.17\n",
       "\\item 40.07\n",
       "\\item 48.52\n",
       "\\item 21.38\n",
       "\\item 17.95\n",
       "\\item 28.03\n",
       "\\item 42.17\n",
       "\\item 42.37\n",
       "\\item 30.61\n",
       "\\item 23.94\n",
       "\\item 41.48\n",
       "\\item 14.98\n",
       "\\item 16.58\n",
       "\\item 17.16\n",
       "\\item 14.56\n",
       "\\item 21.98\n",
       "\\item 45.11\n",
       "\\item 17.66\n",
       "\\item 33.72\n",
       "\\item 25.96\n",
       "\\item 30.53\n",
       "\\item 30.29\n",
       "\\item 31.25\n",
       "\\item 30.62\n",
       "\\item 38.95\n",
       "\\item 43.1\n",
       "\\item 15.69\n",
       "\\item 43.29\n",
       "\\item 28.88\n",
       "\\item 16.42\n",
       "\\item 18.26\n",
       "\\item 38.49\n",
       "\\item 45.9\n",
       "\\item 17.62\n",
       "\\item 13.17\n",
       "\\item 38.59\n",
       "\\item 14.6\n",
       "\\item 26.96\n",
       "\\item 40.8\n",
       "\\item 42.46\n",
       "\\item 41.55\n",
       "\\item 36.77\n",
       "\\item 35.35\n",
       "\\item 35.72\n",
       "\\item 14.62\n",
       "\\item 20.71\n",
       "\\item 29.43\n",
       "\\item 29.27\n",
       "\\item 23.68\n",
       "\\item 40.51\n",
       "\\item 21.54\n",
       "\\item 27.53\n",
       "\\item 14.04\n",
       "\\item 27.78\n",
       "\\item 13.12\n",
       "\\item 34.13\n",
       "\\item 25.46\n",
       "\\item 42.37\n",
       "\\item 30.1\n",
       "\\item 24.9\n",
       "\\item 30.21\n",
       "\\item 35.61\n",
       "\\item 14.57\n",
       "\\item 21.64\n",
       "\\item 36.75\n",
       "\\item 43.06\n",
       "\\item 29.45\n",
       "\\item 15.13\n",
       "\\item 17.46\n",
       "\\item 42.72\n",
       "\\item 45.44\n",
       "\\item 26.65\n",
       "\\item 29.03\n",
       "\\item 47.14\n",
       "\\item 14.98\n",
       "\\item 30.1\n",
       "\\item 40.22\n",
       "\\item 20.17\n",
       "\\item 29.02\n",
       "\\item 35.81\n",
       "\\item 18.26\n",
       "\\item 27.05\n",
       "\\item 19.01\n",
       "\\item 27.85\n",
       "\\item 45.38\n",
       "\\item 25.28\n",
       "\\item 36.59\n",
       "\\item 30.1\n",
       "\\item 35.58\n",
       "\\item 17.21\n",
       "\\item 20.26\n",
       "\\item 33.37\n",
       "\\item 49.99\n",
       "\\item 44.23\n",
       "\\item 30.61\n",
       "\\item 18.64\n",
       "\\item 24.19\n",
       "\\item 34.31\n",
       "\\item 30.1\n",
       "\\item 28.65\n",
       "\\item 38.37\n",
       "\\item 32.78\n",
       "\\item 29.18\n",
       "\\item 34.53\n",
       "\\item 14.91\n",
       "\\item 14.92\n",
       "\\item 13.28\n",
       "\\item 15.25\n",
       "\\item 16.52\n",
       "\\item 15.05\n",
       "\\item 15.45\n",
       "\\item 43.56\n",
       "\\item 25.96\n",
       "\\item 24.31\n",
       "\\item 25.7\n",
       "\\item 37.88\n",
       "\\item 14.04\n",
       "\\item 41.6\n",
       "\\item 29.69\n",
       "\\item 43.54\n",
       "\\item 16.45\n",
       "\\item 21.95\n",
       "\\item 41.74\n",
       "\\item 16.48\n",
       "\\item 15\n",
       "\\item 14.16\n",
       "\\item 40.37\n",
       "\\item 47.35\n",
       "\\item 29.53\n",
       "\\item 42.28\n",
       "\\item 15.2\n",
       "\\item 25.15\n",
       "\\item 41.48\n",
       "\\item 27.83\n",
       "\\item 38.05\n",
       "\\item 16.71\n",
       "\\item 14.79\n",
       "\\item 35.35\n",
       "\\item 35.75\n",
       "\\item 18.47\n",
       "\\item 16.89\n",
       "\\item 46.33\n",
       "\\item 41.89\n",
       "\\item 37.33\n",
       "\\item 20.73\n",
       "\\item 23.22\n",
       "\\item 26\n",
       "\\item 28.65\n",
       "\\item 30.61\n",
       "\\item 48.54\n",
       "\\item 14.18\n",
       "\\item 14.41\n",
       "\\item 17.54\n",
       "\\item 44.85\n",
       "\\item 19.63\n",
       "\\item 22.05\n",
       "\\item 28.9\n",
       "\\item 37.37\n",
       "\\item 28.84\n",
       "\\item 22.87\n",
       "\\item 40.72\n",
       "\\item 46.73\n",
       "\\item 40.24\n",
       "\\end{enumerate*}\n"
      ],
      "text/markdown": [
       "1. 47.42\n",
       "2. 21.33\n",
       "3. 27.42\n",
       "4. 15.2\n",
       "5. 47.58\n",
       "6. 25.96\n",
       "7. 24.42\n",
       "8. 20.34\n",
       "9. 18.95\n",
       "10. 14.51\n",
       "11. 22.25\n",
       "12. 21.62\n",
       "13. 20.16\n",
       "14. 30.57\n",
       "15. 18.99\n",
       "16. 15.1\n",
       "17. 16.88\n",
       "18. 34.4\n",
       "19. 42.95\n",
       "20. 28.53\n",
       "21. 35.23\n",
       "22. 16.35\n",
       "23. 33.75\n",
       "24. 24.56\n",
       "25. 25.75\n",
       "26. 13.53\n",
       "27. 45.66\n",
       "28. 44.2\n",
       "29. 31.23\n",
       "30. 43.08\n",
       "31. 16.37\n",
       "32. 30.17\n",
       "33. 40.07\n",
       "34. 48.52\n",
       "35. 21.38\n",
       "36. 17.95\n",
       "37. 28.03\n",
       "38. 42.17\n",
       "39. 42.37\n",
       "40. 30.61\n",
       "41. 23.94\n",
       "42. 41.48\n",
       "43. 14.98\n",
       "44. 16.58\n",
       "45. 17.16\n",
       "46. 14.56\n",
       "47. 21.98\n",
       "48. 45.11\n",
       "49. 17.66\n",
       "50. 33.72\n",
       "51. 25.96\n",
       "52. 30.53\n",
       "53. 30.29\n",
       "54. 31.25\n",
       "55. 30.62\n",
       "56. 38.95\n",
       "57. 43.1\n",
       "58. 15.69\n",
       "59. 43.29\n",
       "60. 28.88\n",
       "61. 16.42\n",
       "62. 18.26\n",
       "63. 38.49\n",
       "64. 45.9\n",
       "65. 17.62\n",
       "66. 13.17\n",
       "67. 38.59\n",
       "68. 14.6\n",
       "69. 26.96\n",
       "70. 40.8\n",
       "71. 42.46\n",
       "72. 41.55\n",
       "73. 36.77\n",
       "74. 35.35\n",
       "75. 35.72\n",
       "76. 14.62\n",
       "77. 20.71\n",
       "78. 29.43\n",
       "79. 29.27\n",
       "80. 23.68\n",
       "81. 40.51\n",
       "82. 21.54\n",
       "83. 27.53\n",
       "84. 14.04\n",
       "85. 27.78\n",
       "86. 13.12\n",
       "87. 34.13\n",
       "88. 25.46\n",
       "89. 42.37\n",
       "90. 30.1\n",
       "91. 24.9\n",
       "92. 30.21\n",
       "93. 35.61\n",
       "94. 14.57\n",
       "95. 21.64\n",
       "96. 36.75\n",
       "97. 43.06\n",
       "98. 29.45\n",
       "99. 15.13\n",
       "100. 17.46\n",
       "101. 42.72\n",
       "102. 45.44\n",
       "103. 26.65\n",
       "104. 29.03\n",
       "105. 47.14\n",
       "106. 14.98\n",
       "107. 30.1\n",
       "108. 40.22\n",
       "109. 20.17\n",
       "110. 29.02\n",
       "111. 35.81\n",
       "112. 18.26\n",
       "113. 27.05\n",
       "114. 19.01\n",
       "115. 27.85\n",
       "116. 45.38\n",
       "117. 25.28\n",
       "118. 36.59\n",
       "119. 30.1\n",
       "120. 35.58\n",
       "121. 17.21\n",
       "122. 20.26\n",
       "123. 33.37\n",
       "124. 49.99\n",
       "125. 44.23\n",
       "126. 30.61\n",
       "127. 18.64\n",
       "128. 24.19\n",
       "129. 34.31\n",
       "130. 30.1\n",
       "131. 28.65\n",
       "132. 38.37\n",
       "133. 32.78\n",
       "134. 29.18\n",
       "135. 34.53\n",
       "136. 14.91\n",
       "137. 14.92\n",
       "138. 13.28\n",
       "139. 15.25\n",
       "140. 16.52\n",
       "141. 15.05\n",
       "142. 15.45\n",
       "143. 43.56\n",
       "144. 25.96\n",
       "145. 24.31\n",
       "146. 25.7\n",
       "147. 37.88\n",
       "148. 14.04\n",
       "149. 41.6\n",
       "150. 29.69\n",
       "151. 43.54\n",
       "152. 16.45\n",
       "153. 21.95\n",
       "154. 41.74\n",
       "155. 16.48\n",
       "156. 15\n",
       "157. 14.16\n",
       "158. 40.37\n",
       "159. 47.35\n",
       "160. 29.53\n",
       "161. 42.28\n",
       "162. 15.2\n",
       "163. 25.15\n",
       "164. 41.48\n",
       "165. 27.83\n",
       "166. 38.05\n",
       "167. 16.71\n",
       "168. 14.79\n",
       "169. 35.35\n",
       "170. 35.75\n",
       "171. 18.47\n",
       "172. 16.89\n",
       "173. 46.33\n",
       "174. 41.89\n",
       "175. 37.33\n",
       "176. 20.73\n",
       "177. 23.22\n",
       "178. 26\n",
       "179. 28.65\n",
       "180. 30.61\n",
       "181. 48.54\n",
       "182. 14.18\n",
       "183. 14.41\n",
       "184. 17.54\n",
       "185. 44.85\n",
       "186. 19.63\n",
       "187. 22.05\n",
       "188. 28.9\n",
       "189. 37.37\n",
       "190. 28.84\n",
       "191. 22.87\n",
       "192. 40.72\n",
       "193. 46.73\n",
       "194. 40.24\n",
       "\n",
       "\n"
      ],
      "text/plain": [
       "  [1] 47.42 21.33 27.42 15.20 47.58 25.96 24.42 20.34 18.95 14.51 22.25 21.62\n",
       " [13] 20.16 30.57 18.99 15.10 16.88 34.40 42.95 28.53 35.23 16.35 33.75 24.56\n",
       " [25] 25.75 13.53 45.66 44.20 31.23 43.08 16.37 30.17 40.07 48.52 21.38 17.95\n",
       " [37] 28.03 42.17 42.37 30.61 23.94 41.48 14.98 16.58 17.16 14.56 21.98 45.11\n",
       " [49] 17.66 33.72 25.96 30.53 30.29 31.25 30.62 38.95 43.10 15.69 43.29 28.88\n",
       " [61] 16.42 18.26 38.49 45.90 17.62 13.17 38.59 14.60 26.96 40.80 42.46 41.55\n",
       " [73] 36.77 35.35 35.72 14.62 20.71 29.43 29.27 23.68 40.51 21.54 27.53 14.04\n",
       " [85] 27.78 13.12 34.13 25.46 42.37 30.10 24.90 30.21 35.61 14.57 21.64 36.75\n",
       " [97] 43.06 29.45 15.13 17.46 42.72 45.44 26.65 29.03 47.14 14.98 30.10 40.22\n",
       "[109] 20.17 29.02 35.81 18.26 27.05 19.01 27.85 45.38 25.28 36.59 30.10 35.58\n",
       "[121] 17.21 20.26 33.37 49.99 44.23 30.61 18.64 24.19 34.31 30.10 28.65 38.37\n",
       "[133] 32.78 29.18 34.53 14.91 14.92 13.28 15.25 16.52 15.05 15.45 43.56 25.96\n",
       "[145] 24.31 25.70 37.88 14.04 41.60 29.69 43.54 16.45 21.95 41.74 16.48 15.00\n",
       "[157] 14.16 40.37 47.35 29.53 42.28 15.20 25.15 41.48 27.83 38.05 16.71 14.79\n",
       "[169] 35.35 35.75 18.47 16.89 46.33 41.89 37.33 20.73 23.22 26.00 28.65 30.61\n",
       "[181] 48.54 14.18 14.41 17.54 44.85 19.63 22.05 28.90 37.37 28.84 22.87 40.72\n",
       "[193] 46.73 40.24"
      ]
     },
     "execution_count": 30,
     "metadata": {},
     "output_type": "execute_result"
    }
   ],
   "source": [
    "WHO$Under15"
   ]
  },
  {
   "cell_type": "markdown",
   "metadata": {},
   "source": [
    "`mean`计算向量的均值，`sd`计算向量的标准差，`summmary`用于描述统计。"
   ]
  },
  {
   "cell_type": "code",
   "execution_count": 31,
   "metadata": {
    "collapsed": false
   },
   "outputs": [
    {
     "data": {
      "text/html": [
       "28.7324226804124"
      ],
      "text/latex": [
       "28.7324226804124"
      ],
      "text/markdown": [
       "28.7324226804124"
      ],
      "text/plain": [
       "[1] 28.73242"
      ]
     },
     "execution_count": 31,
     "metadata": {},
     "output_type": "execute_result"
    }
   ],
   "source": [
    "mean(WHO$Under15)"
   ]
  },
  {
   "cell_type": "code",
   "execution_count": 32,
   "metadata": {
    "collapsed": false
   },
   "outputs": [
    {
     "data": {
      "text/html": [
       "10.5345733199238"
      ],
      "text/latex": [
       "10.5345733199238"
      ],
      "text/markdown": [
       "10.5345733199238"
      ],
      "text/plain": [
       "[1] 10.53457"
      ]
     },
     "execution_count": 32,
     "metadata": {},
     "output_type": "execute_result"
    }
   ],
   "source": [
    "sd(WHO$Under15)"
   ]
  },
  {
   "cell_type": "code",
   "execution_count": 33,
   "metadata": {
    "collapsed": false
   },
   "outputs": [
    {
     "data": {
      "text/plain": [
       "   Min. 1st Qu.  Median    Mean 3rd Qu.    Max. \n",
       "  13.12   18.72   28.65   28.73   37.75   49.99 "
      ]
     },
     "execution_count": 33,
     "metadata": {},
     "output_type": "execute_result"
    }
   ],
   "source": [
    "summary(WHO$Under15)"
   ]
  },
  {
   "cell_type": "markdown",
   "metadata": {},
   "source": [
    "对`Under15`中取值最小的国家感兴趣，用`which`找出该行。"
   ]
  },
  {
   "cell_type": "code",
   "execution_count": 34,
   "metadata": {
    "collapsed": false
   },
   "outputs": [
    {
     "data": {
      "text/html": [
       "86"
      ],
      "text/latex": [
       "86"
      ],
      "text/markdown": [
       "86"
      ],
      "text/plain": [
       "[1] 86"
      ]
     },
     "execution_count": 34,
     "metadata": {},
     "output_type": "execute_result"
    }
   ],
   "source": [
    "which.min(WHO$Under15)"
   ]
  },
  {
   "cell_type": "code",
   "execution_count": 36,
   "metadata": {
    "collapsed": false
   },
   "outputs": [
    {
     "data": {
      "text/html": [
       "Japan"
      ],
      "text/latex": [
       "Japan"
      ],
      "text/markdown": [
       "Japan"
      ],
      "text/plain": [
       "[1] Japan\n",
       "194 Levels: Afghanistan Albania Algeria Andorra Angola ... Zimbabwe"
      ]
     },
     "execution_count": 36,
     "metadata": {},
     "output_type": "execute_result"
    }
   ],
   "source": [
    "WHO$Country[86]"
   ]
  },
  {
   "cell_type": "markdown",
   "metadata": {},
   "source": [
    "类似地，找出最年轻的国家。"
   ]
  },
  {
   "cell_type": "code",
   "execution_count": 37,
   "metadata": {
    "collapsed": false
   },
   "outputs": [
    {
     "data": {
      "text/html": [
       "Niger"
      ],
      "text/latex": [
       "Niger"
      ],
      "text/markdown": [
       "Niger"
      ],
      "text/plain": [
       "[1] Niger\n",
       "194 Levels: Afghanistan Albania Algeria Andorra Angola ... Zimbabwe"
      ]
     },
     "execution_count": 37,
     "metadata": {},
     "output_type": "execute_result"
    }
   ],
   "source": [
    "WHO$Country[which.max(WHO$Under15)]"
   ]
  },
  {
   "cell_type": "markdown",
   "metadata": {},
   "source": [
    "`plot`画图，表明收入越高，出生率越低。"
   ]
  },
  {
   "cell_type": "code",
   "execution_count": 38,
   "metadata": {
    "collapsed": false
   },
   "outputs": [
    {
     "data": {
      "application/pdf": "[encoded data removed]",
      "image/jpeg": "[encoded data removed]",
      "image/png": "[encoded data removed]",
      "text/plain": [
       "plot without title"
      ]
     },
     "metadata": {
      "image/svg+xml": {
       "isolated": true
      }
     },
     "output_type": "display_data"
    }
   ],
   "source": [
    "plot(WHO$GNI, WHO$FertilityRate)"
   ]
  },
  {
   "cell_type": "markdown",
   "metadata": {},
   "source": [
    "对其中`GNI`（收入）和出生率都高的国家感兴趣。使用`&`构造筛选条件，使用`nrow`计算符合条件的记录个数。"
   ]
  },
  {
   "cell_type": "code",
   "execution_count": 39,
   "metadata": {
    "collapsed": false
   },
   "outputs": [
    {
     "data": {
      "text/html": [
       "7"
      ],
      "text/latex": [
       "7"
      ],
      "text/markdown": [
       "7"
      ],
      "text/plain": [
       "[1] 7"
      ]
     },
     "execution_count": 39,
     "metadata": {},
     "output_type": "execute_result"
    }
   ],
   "source": [
    "Outliers = subset(WHO, GNI > 10000 & FertilityRate > 2.5)\n",
    "nrow(Outliers)"
   ]
  },
  {
   "cell_type": "markdown",
   "metadata": {},
   "source": [
    "`dataframe[vector]`取出`dataframe`中的指定列。"
   ]
  },
  {
   "cell_type": "code",
   "execution_count": 40,
   "metadata": {
    "collapsed": false
   },
   "outputs": [
    {
     "data": {
      "text/html": [
       "<table>\n",
       "<thead><tr><th></th><th scope=col>Country</th><th scope=col>GNI</th><th scope=col>FertilityRate</th></tr></thead>\n",
       "<tbody>\n",
       "\t<tr><th scope=row>23</th><td>Botswana</td><td>14550</td><td>2.71</td></tr>\n",
       "\t<tr><th scope=row>56</th><td>Equatorial Guinea</td><td>25620</td><td>5.04</td></tr>\n",
       "\t<tr><th scope=row>63</th><td>Gabon</td><td>13740</td><td>4.18</td></tr>\n",
       "\t<tr><th scope=row>83</th><td>Israel</td><td>27110</td><td>2.92</td></tr>\n",
       "\t<tr><th scope=row>88</th><td>Kazakhstan</td><td>11250</td><td>2.52</td></tr>\n",
       "\t<tr><th scope=row>131</th><td>Panama</td><td>14510</td><td>2.52</td></tr>\n",
       "\t<tr><th scope=row>150</th><td>Saudi Arabia</td><td>24700</td><td>2.76</td></tr>\n",
       "</tbody>\n",
       "</table>\n"
      ],
      "text/latex": [
       "\\begin{tabular}{r|lll}\n",
       "  & Country & GNI & FertilityRate\\\\\n",
       "\\hline\n",
       "\t23 & Botswana & 14550 & 2.71\\\\\n",
       "\t56 & Equatorial Guinea & 25620 & 5.04\\\\\n",
       "\t63 & Gabon & 13740 & 4.18\\\\\n",
       "\t83 & Israel & 27110 & 2.92\\\\\n",
       "\t88 & Kazakhstan & 11250 & 2.52\\\\\n",
       "\t131 & Panama & 14510 & 2.52\\\\\n",
       "\t150 & Saudi Arabia & 24700 & 2.76\\\\\n",
       "\\end{tabular}\n"
      ],
      "text/plain": [
       "              Country   GNI FertilityRate\n",
       "23           Botswana 14550          2.71\n",
       "56  Equatorial Guinea 25620          5.04\n",
       "63              Gabon 13740          4.18\n",
       "83             Israel 27110          2.92\n",
       "88         Kazakhstan 11250          2.52\n",
       "131            Panama 14510          2.52\n",
       "150      Saudi Arabia 24700          2.76"
      ]
     },
     "execution_count": 40,
     "metadata": {},
     "output_type": "execute_result"
    }
   ],
   "source": [
    "Outliers[c(\"Country\", \"GNI\", \"FertilityRate\")]"
   ]
  },
  {
   "cell_type": "markdown",
   "metadata": {},
   "source": [
    "`hist`绘制直方图。"
   ]
  },
  {
   "cell_type": "code",
   "execution_count": 46,
   "metadata": {
    "collapsed": false
   },
   "outputs": [
    {
     "data": {
      "application/pdf": "[encoded data removed]",
      "image/jpeg": "[encoded data removed]",
      "image/png": "[encoded data removed]",
      "text/plain": [
       "Plot with title \"Histogram of WHO$CellularSubscribers\""
      ]
     },
     "metadata": {
      "image/svg+xml": {
       "isolated": true
      }
     },
     "output_type": "display_data"
    }
   ],
   "source": [
    "hist(WHO$CellularSubscribers)"
   ]
  },
  {
   "cell_type": "markdown",
   "metadata": {},
   "source": [
    "`boxplot`绘制箱型图，用于表明数据的分散程度。下图表明`LifeExpectancy`在不同`Region`的分布情况。最粗的黑线表示中位数，两旁的细线表示上下四分位数，虚线的终点是最小值和最大值，空心点表示`outliers`。大于`上四分位数+四分位距`或小于`下四分位数-四分位距`的值都被定义为`outlier`，其中四分位距是上下四分位数之差。"
   ]
  },
  {
   "cell_type": "code",
   "execution_count": 47,
   "metadata": {
    "collapsed": false
   },
   "outputs": [
    {
     "data": {
      "application/pdf": "[encoded data removed]",
      "image/jpeg": "[encoded data removed]",
      "image/png": "[encoded data removed]",
      "text/plain": [
       "plot without title"
      ]
     },
     "metadata": {
      "image/svg+xml": {
       "isolated": true
      }
     },
     "output_type": "display_data"
    }
   ],
   "source": [
    "boxplot(WHO$LifeExpectancy ~ WHO$Region)"
   ]
  },
  {
   "cell_type": "markdown",
   "metadata": {},
   "source": [
    "加上几个参数，绘制更好看的图。"
   ]
  },
  {
   "cell_type": "code",
   "execution_count": 48,
   "metadata": {
    "collapsed": false
   },
   "outputs": [
    {
     "data": {
      "application/pdf": "[encoded data removed]",
      "image/jpeg": "[encoded data removed]",
      "image/png": "[encoded data removed]",
      "text/plain": [
       "Plot with title \"Life Expectancy of Countries by Region\""
      ]
     },
     "metadata": {
      "image/svg+xml": {
       "isolated": true
      }
     },
     "output_type": "display_data"
    }
   ],
   "source": [
    "boxplot(WHO$LifeExpectancy ~ WHO$Region, xlab=\"\", ylab=\"Life Expectancy\", main=\"Life Expectancy of Countries by Region\")"
   ]
  },
  {
   "cell_type": "markdown",
   "metadata": {},
   "source": [
    "`table`统计出不同取值的个数。"
   ]
  },
  {
   "cell_type": "code",
   "execution_count": 49,
   "metadata": {
    "collapsed": false
   },
   "outputs": [
    {
     "data": {
      "text/plain": [
       "\n",
       "               Africa              Americas Eastern Mediterranean \n",
       "                   46                    35                    22 \n",
       "               Europe       South-East Asia       Western Pacific \n",
       "                   53                    11                    27 "
      ]
     },
     "execution_count": 49,
     "metadata": {},
     "output_type": "execute_result"
    }
   ],
   "source": [
    "table(WHO$Region)"
   ]
  },
  {
   "cell_type": "markdown",
   "metadata": {},
   "source": [
    "`tapply`使用聚合函数。"
   ]
  },
  {
   "cell_type": "code",
   "execution_count": 51,
   "metadata": {
    "collapsed": false,
    "scrolled": true
   },
   "outputs": [
    {
     "data": {
      "text/html": [
       "<dl class=dl-horizontal>\n",
       "\t<dt>Africa</dt>\n",
       "\t\t<dd>5.22065217391304</dd>\n",
       "\t<dt>Americas</dt>\n",
       "\t\t<dd>10.9437142857143</dd>\n",
       "\t<dt>Eastern Mediterranean</dt>\n",
       "\t\t<dd>5.62</dd>\n",
       "\t<dt>Europe</dt>\n",
       "\t\t<dd>19.7749056603774</dd>\n",
       "\t<dt>South-East Asia</dt>\n",
       "\t\t<dd>8.76909090909091</dd>\n",
       "\t<dt>Western Pacific</dt>\n",
       "\t\t<dd>10.162962962963</dd>\n",
       "</dl>\n"
      ],
      "text/latex": [
       "\\begin{description*}\n",
       "\\item[Africa] 5.22065217391304\n",
       "\\item[Americas] 10.9437142857143\n",
       "\\item[Eastern Mediterranean] 5.62\n",
       "\\item[Europe] 19.7749056603774\n",
       "\\item[South-East Asia] 8.76909090909091\n",
       "\\item[Western Pacific] 10.162962962963\n",
       "\\end{description*}\n"
      ],
      "text/markdown": [
       "Africa\n",
       ":   5.22065217391304Americas\n",
       ":   10.9437142857143Eastern Mediterranean\n",
       ":   5.62Europe\n",
       ":   19.7749056603774South-East Asia\n",
       ":   8.76909090909091Western Pacific\n",
       ":   10.162962962963\n",
       "\n"
      ],
      "text/plain": [
       "               Africa              Americas Eastern Mediterranean \n",
       "             5.220652             10.943714              5.620000 \n",
       "               Europe       South-East Asia       Western Pacific \n",
       "            19.774906              8.769091             10.162963 "
      ]
     },
     "execution_count": 51,
     "metadata": {},
     "output_type": "execute_result"
    }
   ],
   "source": [
    "tapply(WHO$Over60, WHO$Region, mean)"
   ]
  },
  {
   "cell_type": "code",
   "execution_count": 52,
   "metadata": {
    "collapsed": false
   },
   "outputs": [
    {
     "data": {
      "text/html": [
       "<dl class=dl-horizontal>\n",
       "\t<dt>Africa</dt>\n",
       "\t\t<dd>NA</dd>\n",
       "\t<dt>Americas</dt>\n",
       "\t\t<dd>NA</dd>\n",
       "\t<dt>Eastern Mediterranean</dt>\n",
       "\t\t<dd>NA</dd>\n",
       "\t<dt>Europe</dt>\n",
       "\t\t<dd>NA</dd>\n",
       "\t<dt>South-East Asia</dt>\n",
       "\t\t<dd>NA</dd>\n",
       "\t<dt>Western Pacific</dt>\n",
       "\t\t<dd>NA</dd>\n",
       "</dl>\n"
      ],
      "text/latex": [
       "\\begin{description*}\n",
       "\\item[Africa] NA\n",
       "\\item[Americas] NA\n",
       "\\item[Eastern Mediterranean] NA\n",
       "\\item[Europe] NA\n",
       "\\item[South-East Asia] NA\n",
       "\\item[Western Pacific] NA\n",
       "\\end{description*}\n"
      ],
      "text/markdown": [
       "Africa\n",
       ":   NAAmericas\n",
       ":   NAEastern Mediterranean\n",
       ":   NAEurope\n",
       ":   NASouth-East Asia\n",
       ":   NAWestern Pacific\n",
       ":   NA\n",
       "\n"
      ],
      "text/plain": [
       "               Africa              Americas Eastern Mediterranean \n",
       "                   NA                    NA                    NA \n",
       "               Europe       South-East Asia       Western Pacific \n",
       "                   NA                    NA                    NA "
      ]
     },
     "execution_count": 52,
     "metadata": {},
     "output_type": "execute_result"
    }
   ],
   "source": [
    "tapply(WHO$LiteracyRate, WHO$Region, min)"
   ]
  },
  {
   "cell_type": "markdown",
   "metadata": {},
   "source": [
    "原因在于`LiteracyRate`中存在很多缺失值。`na.rm=TRUE`移除缺失值。"
   ]
  },
  {
   "cell_type": "code",
   "execution_count": 53,
   "metadata": {
    "collapsed": false
   },
   "outputs": [
    {
     "data": {
      "text/html": [
       "<dl class=dl-horizontal>\n",
       "\t<dt>Africa</dt>\n",
       "\t\t<dd>31.1</dd>\n",
       "\t<dt>Americas</dt>\n",
       "\t\t<dd>75.2</dd>\n",
       "\t<dt>Eastern Mediterranean</dt>\n",
       "\t\t<dd>63.9</dd>\n",
       "\t<dt>Europe</dt>\n",
       "\t\t<dd>95.2</dd>\n",
       "\t<dt>South-East Asia</dt>\n",
       "\t\t<dd>56.8</dd>\n",
       "\t<dt>Western Pacific</dt>\n",
       "\t\t<dd>60.6</dd>\n",
       "</dl>\n"
      ],
      "text/latex": [
       "\\begin{description*}\n",
       "\\item[Africa] 31.1\n",
       "\\item[Americas] 75.2\n",
       "\\item[Eastern Mediterranean] 63.9\n",
       "\\item[Europe] 95.2\n",
       "\\item[South-East Asia] 56.8\n",
       "\\item[Western Pacific] 60.6\n",
       "\\end{description*}\n"
      ],
      "text/markdown": [
       "Africa\n",
       ":   31.1Americas\n",
       ":   75.2Eastern Mediterranean\n",
       ":   63.9Europe\n",
       ":   95.2South-East Asia\n",
       ":   56.8Western Pacific\n",
       ":   60.6\n",
       "\n"
      ],
      "text/plain": [
       "               Africa              Americas Eastern Mediterranean \n",
       "                 31.1                  75.2                  63.9 \n",
       "               Europe       South-East Asia       Western Pacific \n",
       "                 95.2                  56.8                  60.6 "
      ]
     },
     "execution_count": 53,
     "metadata": {},
     "output_type": "execute_result"
    }
   ],
   "source": [
    "tapply(WHO$LiteracyRate, WHO$Region, min, na.rm=TRUE)"
   ]
  },
  {
   "cell_type": "code",
   "execution_count": null,
   "metadata": {
    "collapsed": true
   },
   "outputs": [],
   "source": []
  }
 ],
 "metadata": {
  "kernelspec": {
   "display_name": "R",
   "language": "R",
   "name": "ir"
  },
  "language_info": {
   "codemirror_mode": "r",
   "file_extension": ".r",
   "mimetype": "text/x-r-source",
   "name": "R",
   "pygments_lexer": "r",
   "version": "3.1.3"
  }
 },
 "nbformat": 4,
 "nbformat_minor": 0
}
