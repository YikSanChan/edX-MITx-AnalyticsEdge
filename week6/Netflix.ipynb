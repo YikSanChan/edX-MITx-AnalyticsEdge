{
 "cells": [
  {
   "cell_type": "markdown",
   "metadata": {},
   "source": [
    "### 目标\n",
    "\n",
    "将合适的电影推荐给用户。\n",
    "\n",
    "### 数据\n",
    "\n",
    "- 用户对电影的评分\n",
    "- 电影本身的信息\n",
    "\n",
    "### 推荐方法\n",
    "\n",
    "- collaborative filtering（协同过滤）：只根据用户对电影的评分，找出品味相近的用户A和B，将A对其评分高而B未看过的电影推荐给B\n",
    "    - 优点：准确地预测复杂的事物（而无需了解其内容）\n",
    "    - 缺点：相似性计算要求很大数据量和强计算能力\n",
    "- content filtering（内容过滤）：结合用户对电影的评分和电影信息，若A喜欢看电影X，X由演员B主演，可以将B主演的其它电影推荐给A\n",
    "    - 优点：无需那么大的数据量\n",
    "    - 缺点：预测能力有限，因难以了解复杂事物的内容\n",
    "- hybrid recommendation systems：两种方法的结合\n",
    "    - 步骤1：发现A和B的喜好相似\n",
    "    - 步骤2：发现A和B共同喜欢的电影C与它们都未看过的电影D在演员、风格上都相近\n",
    "    - 步骤3：将D推荐给A和B\n",
    "    - 优点：做到了只用其中一种方法实现不了的事\n",
    "        - 在A和B都没有看过电影D的情况下，向A和B推荐电影D（collaborative filtering只有在A看过时才能向B推荐）\n",
    "        - 将一部电影推荐给两个人（content filtering只能一次推荐给一人）\n",
    "\n",
    "### 内容过滤实践\n",
    "\n",
    "- 数据：MovieLens中的电影被划分为18个类型，包括unknown。每部电影可能被归为多个类型\n",
    "- 目的：找到类型相近的电影\n",
    "- 方法：聚类（非监督学习方法）模型，将相近（用距离度量）的数据点尽可能归为一类。聚类模型不预测结果，但可以用于优化预测结果。在某一类中使用预测模型，能提高预测模型的准确度。将学习最常用Hierarchical clustering（层次聚类）和k-means。\n",
    "- 点间距度量\n",
    "    - 欧氏距离\n",
    "    - 曼哈顿距离（用绝对值取代平方，源于曼哈顿的网格状布局）\n",
    "    - 切比雪夫距离（各坐标数值差的最大值）\n",
    "- 类间距度量\n",
    "    - 最小距离（找到类A中点a与类B中点b，使得二者距离最小）\n",
    "    - 最大距离（找到类A中点a与类B中点b，使得二者距离最大）\n",
    "    - centriod distance（中心距离，类间中心的欧氏距离）\n",
    "\n",
    "#### 层次聚类\n",
    "\n",
    "- 使用间距度量：欧氏距离和中心距离。\n",
    "- 算法：找出距离最小的两个类（若二者为均为单点，使用欧氏距离，否则使用中心距离），聚为新类，直至所有数据被聚为一类。\n",
    "- dendrogram：算法逐次将两个旧类聚为一个新类。dendrogram中竖线的的高度代表“当两个类被聚为一类时，旧类与新类的类间距”。用水平的线去截树，可以得出特定类数目下的聚类结果。在下图中，聚为两类的情况，水平线可以上下滑动的距离大，说明两类合并为一类时，两个类的类间距很大，则说明两个类区别很大，则选择将数据总体分为两类是好的选择。反之，分为三类并不是好选择。\n",
    "\n",
    "![层次聚类树](http://static.zybuluo.com/cys/7mb6rj70sduw2vp2lhzwvp96/image_1ak14cef35hbli41tdu1qec1htgm.png)\n",
    "\n",
    "下面使用层次聚类进行内容过滤。`header=FALSE`因为文件中无属性名字行；`quote`保证正确读入。"
   ]
  },
  {
   "cell_type": "code",
   "execution_count": 1,
   "metadata": {
    "collapsed": false
   },
   "outputs": [
    {
     "name": "stdout",
     "output_type": "stream",
     "text": [
      "'data.frame':\t1682 obs. of  24 variables:\n",
      " $ V1 : int  1 2 3 4 5 6 7 8 9 10 ...\n",
      " $ V2 : Factor w/ 1664 levels \"Metisse (Caf锟\\xbd au Lait) (1993)\",..: 1524 618 555 594 343 1317 1544 112 391 1239 ...\n",
      " $ V3 : Factor w/ 241 levels \"\",\"01-Aug-1997\",..: 71 71 71 71 71 71 71 71 71 182 ...\n",
      " $ V4 : logi  NA NA NA NA NA NA ...\n",
      " $ V5 : Factor w/ 1661 levels \"\",\"http://us.imdb.com/M/title-exact/Independence%20(1997)\",..: 1431 565 505 543 310 1661 1453 103 357 1183 ...\n",
      " $ V6 : int  0 0 0 0 0 0 0 0 0 0 ...\n",
      " $ V7 : int  0 1 0 1 0 0 0 0 0 0 ...\n",
      " $ V8 : int  0 1 0 0 0 0 0 0 0 0 ...\n",
      " $ V9 : int  1 0 0 0 0 0 0 0 0 0 ...\n",
      " $ V10: int  1 0 0 0 0 0 0 1 0 0 ...\n",
      " $ V11: int  1 0 0 1 0 0 0 1 0 0 ...\n",
      " $ V12: int  0 0 0 0 1 0 0 0 0 0 ...\n",
      " $ V13: int  0 0 0 0 0 0 0 0 0 0 ...\n",
      " $ V14: int  0 0 0 1 1 1 1 1 1 1 ...\n",
      " $ V15: int  0 0 0 0 0 0 0 0 0 0 ...\n",
      " $ V16: int  0 0 0 0 0 0 0 0 0 0 ...\n",
      " $ V17: int  0 0 0 0 0 0 0 0 0 0 ...\n",
      " $ V18: int  0 0 0 0 0 0 0 0 0 0 ...\n",
      " $ V19: int  0 0 0 0 0 0 0 0 0 0 ...\n",
      " $ V20: int  0 0 0 0 0 0 0 0 0 0 ...\n",
      " $ V21: int  0 0 0 0 0 0 1 0 0 0 ...\n",
      " $ V22: int  0 1 1 0 1 0 0 0 0 0 ...\n",
      " $ V23: int  0 0 0 0 0 0 0 0 0 1 ...\n",
      " $ V24: int  0 0 0 0 0 0 0 0 0 0 ...\n"
     ]
    }
   ],
   "source": [
    "movies = read.table(\"./data/movieLens.txt\", header=FALSE, sep=\"|\", quote=\"\\\"\")\n",
    "str(movies)"
   ]
  },
  {
   "cell_type": "markdown",
   "metadata": {},
   "source": [
    "加入列名。"
   ]
  },
  {
   "cell_type": "code",
   "execution_count": 2,
   "metadata": {
    "collapsed": false
   },
   "outputs": [
    {
     "name": "stdout",
     "output_type": "stream",
     "text": [
      "'data.frame':\t1682 obs. of  24 variables:\n",
      " $ ID              : int  1 2 3 4 5 6 7 8 9 10 ...\n",
      " $ Title           : Factor w/ 1664 levels \"Metisse (Caf锟\\xbd au Lait) (1993)\",..: 1524 618 555 594 343 1317 1544 112 391 1239 ...\n",
      " $ ReleaseDate     : Factor w/ 241 levels \"\",\"01-Aug-1997\",..: 71 71 71 71 71 71 71 71 71 182 ...\n",
      " $ VideoReleaseDate: logi  NA NA NA NA NA NA ...\n",
      " $ IMDB            : Factor w/ 1661 levels \"\",\"http://us.imdb.com/M/title-exact/Independence%20(1997)\",..: 1431 565 505 543 310 1661 1453 103 357 1183 ...\n",
      " $ Unknown         : int  0 0 0 0 0 0 0 0 0 0 ...\n",
      " $ Action          : int  0 1 0 1 0 0 0 0 0 0 ...\n",
      " $ Adventure       : int  0 1 0 0 0 0 0 0 0 0 ...\n",
      " $ Animation       : int  1 0 0 0 0 0 0 0 0 0 ...\n",
      " $ Childrens       : int  1 0 0 0 0 0 0 1 0 0 ...\n",
      " $ Comedy          : int  1 0 0 1 0 0 0 1 0 0 ...\n",
      " $ Crime           : int  0 0 0 0 1 0 0 0 0 0 ...\n",
      " $ Documentary     : int  0 0 0 0 0 0 0 0 0 0 ...\n",
      " $ Drama           : int  0 0 0 1 1 1 1 1 1 1 ...\n",
      " $ Fantasy         : int  0 0 0 0 0 0 0 0 0 0 ...\n",
      " $ FilmNoir        : int  0 0 0 0 0 0 0 0 0 0 ...\n",
      " $ Horror          : int  0 0 0 0 0 0 0 0 0 0 ...\n",
      " $ Musical         : int  0 0 0 0 0 0 0 0 0 0 ...\n",
      " $ Mystery         : int  0 0 0 0 0 0 0 0 0 0 ...\n",
      " $ Romance         : int  0 0 0 0 0 0 0 0 0 0 ...\n",
      " $ SciFi           : int  0 0 0 0 0 0 1 0 0 0 ...\n",
      " $ Thriller        : int  0 1 1 0 1 0 0 0 0 0 ...\n",
      " $ War             : int  0 0 0 0 0 0 0 0 0 1 ...\n",
      " $ Western         : int  0 0 0 0 0 0 0 0 0 0 ...\n"
     ]
    }
   ],
   "source": [
    "colnames(movies) = c(\"ID\", \"Title\", \"ReleaseDate\", \"VideoReleaseDate\", \"IMDB\", \"Unknown\", \"Action\", \"Adventure\", \"Animation\", \"Childrens\", \"Comedy\", \"Crime\", \"Documentary\", \"Drama\", \"Fantasy\", \"FilmNoir\", \"Horror\", \"Musical\", \"Mystery\", \"Romance\", \"SciFi\", \"Thriller\", \"War\", \"Western\")\n",
    "str(movies)"
   ]
  },
  {
   "cell_type": "markdown",
   "metadata": {},
   "source": [
    "不需要的数据，设为`NULL`。此外，去重。"
   ]
  },
  {
   "cell_type": "code",
   "execution_count": 3,
   "metadata": {
    "collapsed": true
   },
   "outputs": [],
   "source": [
    "movies$ID = NULL\n",
    "movies$ReleaseDate = NULL\n",
    "movies$VideoReleaseDate = NULL\n",
    "movies$IMDB = NULL\n",
    "movies = unique(movies)"
   ]
  },
  {
   "cell_type": "markdown",
   "metadata": {},
   "source": [
    "得到电影所属的流派。"
   ]
  },
  {
   "cell_type": "code",
   "execution_count": 4,
   "metadata": {
    "collapsed": false
   },
   "outputs": [
    {
     "name": "stdout",
     "output_type": "stream",
     "text": [
      "'data.frame':\t1664 obs. of  20 variables:\n",
      " $ Title      : Factor w/ 1664 levels \"Metisse (Caf锟\\xbd au Lait) (1993)\",..: 1524 618 555 594 343 1317 1544 112 391 1239 ...\n",
      " $ Unknown    : int  0 0 0 0 0 0 0 0 0 0 ...\n",
      " $ Action     : int  0 1 0 1 0 0 0 0 0 0 ...\n",
      " $ Adventure  : int  0 1 0 0 0 0 0 0 0 0 ...\n",
      " $ Animation  : int  1 0 0 0 0 0 0 0 0 0 ...\n",
      " $ Childrens  : int  1 0 0 0 0 0 0 1 0 0 ...\n",
      " $ Comedy     : int  1 0 0 1 0 0 0 1 0 0 ...\n",
      " $ Crime      : int  0 0 0 0 1 0 0 0 0 0 ...\n",
      " $ Documentary: int  0 0 0 0 0 0 0 0 0 0 ...\n",
      " $ Drama      : int  0 0 0 1 1 1 1 1 1 1 ...\n",
      " $ Fantasy    : int  0 0 0 0 0 0 0 0 0 0 ...\n",
      " $ FilmNoir   : int  0 0 0 0 0 0 0 0 0 0 ...\n",
      " $ Horror     : int  0 0 0 0 0 0 0 0 0 0 ...\n",
      " $ Musical    : int  0 0 0 0 0 0 0 0 0 0 ...\n",
      " $ Mystery    : int  0 0 0 0 0 0 0 0 0 0 ...\n",
      " $ Romance    : int  0 0 0 0 0 0 0 0 0 0 ...\n",
      " $ SciFi      : int  0 0 0 0 0 0 1 0 0 0 ...\n",
      " $ Thriller   : int  0 1 1 0 1 0 0 0 0 0 ...\n",
      " $ War        : int  0 0 0 0 0 0 0 0 0 1 ...\n",
      " $ Western    : int  0 0 0 0 0 0 0 0 0 0 ...\n"
     ]
    }
   ],
   "source": [
    "str(movies)"
   ]
  },
  {
   "cell_type": "markdown",
   "metadata": {},
   "source": [
    "使用层次聚类，将电影按流派进行聚类。聚类结果将用于推荐。\n",
    "\n",
    "首先计算所有点之间的距离（只考虑流派，故取2-20列）。随后使用`hclust`和`ward.D`进行层次聚类。"
   ]
  },
  {
   "cell_type": "code",
   "execution_count": 9,
   "metadata": {
    "collapsed": false
   },
   "outputs": [
    {
     "data": {
      "application/pdf": "[encoded data removed]",
      "image/jpeg": "[encoded data removed]",
      "image/png": "[encoded data removed]",
      "text/plain": [
       "Plot with title \"Cluster Dendrogram\""
      ]
     },
     "metadata": {
      "image/svg+xml": {
       "isolated": true
      }
     },
     "output_type": "display_data"
    }
   ],
   "source": [
    "distances = dist(movies[2:20], method=\"euclidean\")\n",
    "clusterMovies = hclust(distances, method=\"ward.D\")\n",
    "plot(clusterMovies)"
   ]
  },
  {
   "cell_type": "markdown",
   "metadata": {},
   "source": [
    "不妨考虑将数据聚为十个类。`cutree`根据某一数据点被聚到哪一类，对它进行标记。"
   ]
  },
  {
   "cell_type": "code",
   "execution_count": 10,
   "metadata": {
    "collapsed": true
   },
   "outputs": [],
   "source": [
    "clusterGroups = cutree(clusterMovies, k=10)"
   ]
  },
  {
   "cell_type": "markdown",
   "metadata": {},
   "source": [
    "计算在10个类中，流派为`Action`的电影的比例。第2类中，78%的电影的流派是`Action`。"
   ]
  },
  {
   "cell_type": "code",
   "execution_count": 11,
   "metadata": {
    "collapsed": false
   },
   "outputs": [
    {
     "data": {
      "text/html": [
       "<dl class=dl-horizontal>\n",
       "\t<dt>1</dt>\n",
       "\t\t<dd>0.178451178451178</dd>\n",
       "\t<dt>2</dt>\n",
       "\t\t<dd>0.78391959798995</dd>\n",
       "\t<dt>3</dt>\n",
       "\t\t<dd>0.123853211009174</dd>\n",
       "\t<dt>4</dt>\n",
       "\t\t<dd>0</dd>\n",
       "\t<dt>5</dt>\n",
       "\t\t<dd>0</dd>\n",
       "\t<dt>6</dt>\n",
       "\t\t<dd>0.1015625</dd>\n",
       "\t<dt>7</dt>\n",
       "\t\t<dd>0</dd>\n",
       "\t<dt>8</dt>\n",
       "\t\t<dd>0</dd>\n",
       "\t<dt>9</dt>\n",
       "\t\t<dd>0</dd>\n",
       "\t<dt>10</dt>\n",
       "\t\t<dd>0</dd>\n",
       "</dl>\n"
      ],
      "text/latex": [
       "\\begin{description*}\n",
       "\\item[1] 0.178451178451178\n",
       "\\item[2] 0.78391959798995\n",
       "\\item[3] 0.123853211009174\n",
       "\\item[4] 0\n",
       "\\item[5] 0\n",
       "\\item[6] 0.1015625\n",
       "\\item[7] 0\n",
       "\\item[8] 0\n",
       "\\item[9] 0\n",
       "\\item[10] 0\n",
       "\\end{description*}\n"
      ],
      "text/markdown": [
       "1\n",
       ":   0.1784511784511782\n",
       ":   0.783919597989953\n",
       ":   0.1238532110091744\n",
       ":   05\n",
       ":   06\n",
       ":   0.10156257\n",
       ":   08\n",
       ":   09\n",
       ":   010\n",
       ":   0\n",
       "\n"
      ],
      "text/plain": [
       "        1         2         3         4         5         6         7         8 \n",
       "0.1784512 0.7839196 0.1238532 0.0000000 0.0000000 0.1015625 0.0000000 0.0000000 \n",
       "        9        10 \n",
       "0.0000000 0.0000000 "
      ]
     },
     "execution_count": 11,
     "metadata": {},
     "output_type": "execute_result"
    }
   ],
   "source": [
    "tapply(movies$Action, clusterGroups, mean)"
   ]
  },
  {
   "cell_type": "markdown",
   "metadata": {},
   "source": [
    "使用以上的`tapply`方法，则对每一个列属性都要执行一条指令。下面介绍对每一类执行一条指令的方法`colMeans`（mean of columns, 对列求均值）。"
   ]
  },
  {
   "cell_type": "code",
   "execution_count": 18,
   "metadata": {
    "collapsed": false
   },
   "outputs": [
    {
     "data": {
      "text/html": [
       "<dl class=dl-horizontal>\n",
       "\t<dt>Unknown</dt>\n",
       "\t\t<dd>0.00673400673400673</dd>\n",
       "\t<dt>Action</dt>\n",
       "\t\t<dd>0.178451178451178</dd>\n",
       "\t<dt>Adventure</dt>\n",
       "\t\t<dd>0.185185185185185</dd>\n",
       "\t<dt>Animation</dt>\n",
       "\t\t<dd>0.134680134680135</dd>\n",
       "\t<dt>Childrens</dt>\n",
       "\t\t<dd>0.393939393939394</dd>\n",
       "\t<dt>Comedy</dt>\n",
       "\t\t<dd>0.363636363636364</dd>\n",
       "\t<dt>Crime</dt>\n",
       "\t\t<dd>0.0336700336700337</dd>\n",
       "\t<dt>Documentary</dt>\n",
       "\t\t<dd>0.0101010101010101</dd>\n",
       "\t<dt>Drama</dt>\n",
       "\t\t<dd>0.306397306397306</dd>\n",
       "\t<dt>Fantasy</dt>\n",
       "\t\t<dd>0.0707070707070707</dd>\n",
       "\t<dt>FilmNoir</dt>\n",
       "\t\t<dd>0</dd>\n",
       "\t<dt>Horror</dt>\n",
       "\t\t<dd>0.0168350168350168</dd>\n",
       "\t<dt>Musical</dt>\n",
       "\t\t<dd>0.188552188552189</dd>\n",
       "\t<dt>Mystery</dt>\n",
       "\t\t<dd>0</dd>\n",
       "\t<dt>Romance</dt>\n",
       "\t\t<dd>0.104377104377104</dd>\n",
       "\t<dt>SciFi</dt>\n",
       "\t\t<dd>0.0740740740740741</dd>\n",
       "\t<dt>Thriller</dt>\n",
       "\t\t<dd>0.0404040404040404</dd>\n",
       "\t<dt>War</dt>\n",
       "\t\t<dd>0.225589225589226</dd>\n",
       "\t<dt>Western</dt>\n",
       "\t\t<dd>0.0909090909090909</dd>\n",
       "</dl>\n"
      ],
      "text/latex": [
       "\\begin{description*}\n",
       "\\item[Unknown] 0.00673400673400673\n",
       "\\item[Action] 0.178451178451178\n",
       "\\item[Adventure] 0.185185185185185\n",
       "\\item[Animation] 0.134680134680135\n",
       "\\item[Childrens] 0.393939393939394\n",
       "\\item[Comedy] 0.363636363636364\n",
       "\\item[Crime] 0.0336700336700337\n",
       "\\item[Documentary] 0.0101010101010101\n",
       "\\item[Drama] 0.306397306397306\n",
       "\\item[Fantasy] 0.0707070707070707\n",
       "\\item[FilmNoir] 0\n",
       "\\item[Horror] 0.0168350168350168\n",
       "\\item[Musical] 0.188552188552189\n",
       "\\item[Mystery] 0\n",
       "\\item[Romance] 0.104377104377104\n",
       "\\item[SciFi] 0.0740740740740741\n",
       "\\item[Thriller] 0.0404040404040404\n",
       "\\item[War] 0.225589225589226\n",
       "\\item[Western] 0.0909090909090909\n",
       "\\end{description*}\n"
      ],
      "text/markdown": [
       "Unknown\n",
       ":   0.00673400673400673Action\n",
       ":   0.178451178451178Adventure\n",
       ":   0.185185185185185Animation\n",
       ":   0.134680134680135Childrens\n",
       ":   0.393939393939394Comedy\n",
       ":   0.363636363636364Crime\n",
       ":   0.0336700336700337Documentary\n",
       ":   0.0101010101010101Drama\n",
       ":   0.306397306397306Fantasy\n",
       ":   0.0707070707070707FilmNoir\n",
       ":   0Horror\n",
       ":   0.0168350168350168Musical\n",
       ":   0.188552188552189Mystery\n",
       ":   0Romance\n",
       ":   0.104377104377104SciFi\n",
       ":   0.0740740740740741Thriller\n",
       ":   0.0404040404040404War\n",
       ":   0.225589225589226Western\n",
       ":   0.0909090909090909\n",
       "\n"
      ],
      "text/plain": [
       "    Unknown      Action   Adventure   Animation   Childrens      Comedy \n",
       "0.006734007 0.178451178 0.185185185 0.134680135 0.393939394 0.363636364 \n",
       "      Crime Documentary       Drama     Fantasy    FilmNoir      Horror \n",
       "0.033670034 0.010101010 0.306397306 0.070707071 0.000000000 0.016835017 \n",
       "    Musical     Mystery     Romance       SciFi    Thriller         War \n",
       "0.188552189 0.000000000 0.104377104 0.074074074 0.040404040 0.225589226 \n",
       "    Western \n",
       "0.090909091 "
      ]
     },
     "execution_count": 18,
     "metadata": {},
     "output_type": "execute_result"
    }
   ],
   "source": [
    "colMeans(subset(movies[2:20], clusterGroups==1))"
   ]
  },
  {
   "cell_type": "markdown",
   "metadata": {},
   "source": [
    "一共聚为10类，则该指令要执行十次，也很麻烦。可以用`split`来替代`subset`，它在语法上更简单。但还是要执行10次，才能生成想要的全表。"
   ]
  },
  {
   "cell_type": "code",
   "execution_count": 20,
   "metadata": {
    "collapsed": false
   },
   "outputs": [
    {
     "data": {
      "text/html": [
       "<dl class=dl-horizontal>\n",
       "\t<dt>Unknown</dt>\n",
       "\t\t<dd>0.00673400673400673</dd>\n",
       "\t<dt>Action</dt>\n",
       "\t\t<dd>0.178451178451178</dd>\n",
       "\t<dt>Adventure</dt>\n",
       "\t\t<dd>0.185185185185185</dd>\n",
       "\t<dt>Animation</dt>\n",
       "\t\t<dd>0.134680134680135</dd>\n",
       "\t<dt>Childrens</dt>\n",
       "\t\t<dd>0.393939393939394</dd>\n",
       "\t<dt>Comedy</dt>\n",
       "\t\t<dd>0.363636363636364</dd>\n",
       "\t<dt>Crime</dt>\n",
       "\t\t<dd>0.0336700336700337</dd>\n",
       "\t<dt>Documentary</dt>\n",
       "\t\t<dd>0.0101010101010101</dd>\n",
       "\t<dt>Drama</dt>\n",
       "\t\t<dd>0.306397306397306</dd>\n",
       "\t<dt>Fantasy</dt>\n",
       "\t\t<dd>0.0707070707070707</dd>\n",
       "\t<dt>FilmNoir</dt>\n",
       "\t\t<dd>0</dd>\n",
       "\t<dt>Horror</dt>\n",
       "\t\t<dd>0.0168350168350168</dd>\n",
       "\t<dt>Musical</dt>\n",
       "\t\t<dd>0.188552188552189</dd>\n",
       "\t<dt>Mystery</dt>\n",
       "\t\t<dd>0</dd>\n",
       "\t<dt>Romance</dt>\n",
       "\t\t<dd>0.104377104377104</dd>\n",
       "\t<dt>SciFi</dt>\n",
       "\t\t<dd>0.0740740740740741</dd>\n",
       "\t<dt>Thriller</dt>\n",
       "\t\t<dd>0.0404040404040404</dd>\n",
       "\t<dt>War</dt>\n",
       "\t\t<dd>0.225589225589226</dd>\n",
       "\t<dt>Western</dt>\n",
       "\t\t<dd>0.0909090909090909</dd>\n",
       "</dl>\n"
      ],
      "text/latex": [
       "\\begin{description*}\n",
       "\\item[Unknown] 0.00673400673400673\n",
       "\\item[Action] 0.178451178451178\n",
       "\\item[Adventure] 0.185185185185185\n",
       "\\item[Animation] 0.134680134680135\n",
       "\\item[Childrens] 0.393939393939394\n",
       "\\item[Comedy] 0.363636363636364\n",
       "\\item[Crime] 0.0336700336700337\n",
       "\\item[Documentary] 0.0101010101010101\n",
       "\\item[Drama] 0.306397306397306\n",
       "\\item[Fantasy] 0.0707070707070707\n",
       "\\item[FilmNoir] 0\n",
       "\\item[Horror] 0.0168350168350168\n",
       "\\item[Musical] 0.188552188552189\n",
       "\\item[Mystery] 0\n",
       "\\item[Romance] 0.104377104377104\n",
       "\\item[SciFi] 0.0740740740740741\n",
       "\\item[Thriller] 0.0404040404040404\n",
       "\\item[War] 0.225589225589226\n",
       "\\item[Western] 0.0909090909090909\n",
       "\\end{description*}\n"
      ],
      "text/markdown": [
       "Unknown\n",
       ":   0.00673400673400673Action\n",
       ":   0.178451178451178Adventure\n",
       ":   0.185185185185185Animation\n",
       ":   0.134680134680135Childrens\n",
       ":   0.393939393939394Comedy\n",
       ":   0.363636363636364Crime\n",
       ":   0.0336700336700337Documentary\n",
       ":   0.0101010101010101Drama\n",
       ":   0.306397306397306Fantasy\n",
       ":   0.0707070707070707FilmNoir\n",
       ":   0Horror\n",
       ":   0.0168350168350168Musical\n",
       ":   0.188552188552189Mystery\n",
       ":   0Romance\n",
       ":   0.104377104377104SciFi\n",
       ":   0.0740740740740741Thriller\n",
       ":   0.0404040404040404War\n",
       ":   0.225589225589226Western\n",
       ":   0.0909090909090909\n",
       "\n"
      ],
      "text/plain": [
       "    Unknown      Action   Adventure   Animation   Childrens      Comedy \n",
       "0.006734007 0.178451178 0.185185185 0.134680135 0.393939394 0.363636364 \n",
       "      Crime Documentary       Drama     Fantasy    FilmNoir      Horror \n",
       "0.033670034 0.010101010 0.306397306 0.070707071 0.000000000 0.016835017 \n",
       "    Musical     Mystery     Romance       SciFi    Thriller         War \n",
       "0.188552189 0.000000000 0.104377104 0.074074074 0.040404040 0.225589226 \n",
       "    Western \n",
       "0.090909091 "
      ]
     },
     "execution_count": 20,
     "metadata": {},
     "output_type": "execute_result"
    }
   ],
   "source": [
    "spl = split(movies[2:20], clusterGroups)\n",
    "colMeans(spl[[1]])"
   ]
  },
  {
   "cell_type": "markdown",
   "metadata": {},
   "source": [
    "`lapply(spl, colMeans)`将`colMeans`作用在`spl`的每一个元素上，生成在所有类中，各种流派的电影所占的比重。语法最简单，而且只需执行一条指令。\n",
    "\n",
    "下面只取第一类中的结果。"
   ]
  },
  {
   "cell_type": "code",
   "execution_count": 24,
   "metadata": {
    "collapsed": false
   },
   "outputs": [
    {
     "data": {
      "text/html": [
       "<strong>$1</strong> = <dl class=dl-horizontal>\n",
       "\t<dt>Unknown</dt>\n",
       "\t\t<dd>0.00673400673400673</dd>\n",
       "\t<dt>Action</dt>\n",
       "\t\t<dd>0.178451178451178</dd>\n",
       "\t<dt>Adventure</dt>\n",
       "\t\t<dd>0.185185185185185</dd>\n",
       "\t<dt>Animation</dt>\n",
       "\t\t<dd>0.134680134680135</dd>\n",
       "\t<dt>Childrens</dt>\n",
       "\t\t<dd>0.393939393939394</dd>\n",
       "\t<dt>Comedy</dt>\n",
       "\t\t<dd>0.363636363636364</dd>\n",
       "\t<dt>Crime</dt>\n",
       "\t\t<dd>0.0336700336700337</dd>\n",
       "\t<dt>Documentary</dt>\n",
       "\t\t<dd>0.0101010101010101</dd>\n",
       "\t<dt>Drama</dt>\n",
       "\t\t<dd>0.306397306397306</dd>\n",
       "\t<dt>Fantasy</dt>\n",
       "\t\t<dd>0.0707070707070707</dd>\n",
       "\t<dt>FilmNoir</dt>\n",
       "\t\t<dd>0</dd>\n",
       "\t<dt>Horror</dt>\n",
       "\t\t<dd>0.0168350168350168</dd>\n",
       "\t<dt>Musical</dt>\n",
       "\t\t<dd>0.188552188552189</dd>\n",
       "\t<dt>Mystery</dt>\n",
       "\t\t<dd>0</dd>\n",
       "\t<dt>Romance</dt>\n",
       "\t\t<dd>0.104377104377104</dd>\n",
       "\t<dt>SciFi</dt>\n",
       "\t\t<dd>0.0740740740740741</dd>\n",
       "\t<dt>Thriller</dt>\n",
       "\t\t<dd>0.0404040404040404</dd>\n",
       "\t<dt>War</dt>\n",
       "\t\t<dd>0.225589225589226</dd>\n",
       "\t<dt>Western</dt>\n",
       "\t\t<dd>0.0909090909090909</dd>\n",
       "</dl>\n"
      ],
      "text/latex": [
       "\\textbf{\\$1} = \\begin{description*}\n",
       "\\item[Unknown] 0.00673400673400673\n",
       "\\item[Action] 0.178451178451178\n",
       "\\item[Adventure] 0.185185185185185\n",
       "\\item[Animation] 0.134680134680135\n",
       "\\item[Childrens] 0.393939393939394\n",
       "\\item[Comedy] 0.363636363636364\n",
       "\\item[Crime] 0.0336700336700337\n",
       "\\item[Documentary] 0.0101010101010101\n",
       "\\item[Drama] 0.306397306397306\n",
       "\\item[Fantasy] 0.0707070707070707\n",
       "\\item[FilmNoir] 0\n",
       "\\item[Horror] 0.0168350168350168\n",
       "\\item[Musical] 0.188552188552189\n",
       "\\item[Mystery] 0\n",
       "\\item[Romance] 0.104377104377104\n",
       "\\item[SciFi] 0.0740740740740741\n",
       "\\item[Thriller] 0.0404040404040404\n",
       "\\item[War] 0.225589225589226\n",
       "\\item[Western] 0.0909090909090909\n",
       "\\end{description*}\n"
      ],
      "text/markdown": [
       "**$1** = Unknown\n",
       ":   0.00673400673400673Action\n",
       ":   0.178451178451178Adventure\n",
       ":   0.185185185185185Animation\n",
       ":   0.134680134680135Childrens\n",
       ":   0.393939393939394Comedy\n",
       ":   0.363636363636364Crime\n",
       ":   0.0336700336700337Documentary\n",
       ":   0.0101010101010101Drama\n",
       ":   0.306397306397306Fantasy\n",
       ":   0.0707070707070707FilmNoir\n",
       ":   0Horror\n",
       ":   0.0168350168350168Musical\n",
       ":   0.188552188552189Mystery\n",
       ":   0Romance\n",
       ":   0.104377104377104SciFi\n",
       ":   0.0740740740740741Thriller\n",
       ":   0.0404040404040404War\n",
       ":   0.225589225589226Western\n",
       ":   0.0909090909090909\n",
       "\n"
      ],
      "text/plain": [
       "$`1`\n",
       "    Unknown      Action   Adventure   Animation   Childrens      Comedy \n",
       "0.006734007 0.178451178 0.185185185 0.134680135 0.393939394 0.363636364 \n",
       "      Crime Documentary       Drama     Fantasy    FilmNoir      Horror \n",
       "0.033670034 0.010101010 0.306397306 0.070707071 0.000000000 0.016835017 \n",
       "    Musical     Mystery     Romance       SciFi    Thriller         War \n",
       "0.188552189 0.000000000 0.104377104 0.074074074 0.040404040 0.225589226 \n",
       "    Western \n",
       "0.090909091 \n"
      ]
     },
     "execution_count": 24,
     "metadata": {},
     "output_type": "execute_result"
    }
   ],
   "source": [
    "lapply(spl, colMeans)[1]"
   ]
  },
  {
   "cell_type": "markdown",
   "metadata": {},
   "source": [
    "找出Amy喜欢的`Men in Black (1997)`所在的类。"
   ]
  },
  {
   "cell_type": "code",
   "execution_count": 12,
   "metadata": {
    "collapsed": false
   },
   "outputs": [
    {
     "data": {
      "text/html": [
       "<table>\n",
       "<thead><tr><th></th><th scope=col>Title</th><th scope=col>Unknown</th><th scope=col>Action</th><th scope=col>Adventure</th><th scope=col>Animation</th><th scope=col>Childrens</th><th scope=col>Comedy</th><th scope=col>Crime</th><th scope=col>Documentary</th><th scope=col>Drama</th><th scope=col>Fantasy</th><th scope=col>FilmNoir</th><th scope=col>Horror</th><th scope=col>Musical</th><th scope=col>Mystery</th><th scope=col>Romance</th><th scope=col>SciFi</th><th scope=col>Thriller</th><th scope=col>War</th><th scope=col>Western</th></tr></thead>\n",
       "<tbody>\n",
       "\t<tr><th scope=row>257</th><td>Men in Black (1997)</td><td>0</td><td>1</td><td>1</td><td>0</td><td>0</td><td>1</td><td>0</td><td>0</td><td>0</td><td>0</td><td>0</td><td>0</td><td>0</td><td>0</td><td>0</td><td>1</td><td>0</td><td>0</td><td>0</td></tr>\n",
       "</tbody>\n",
       "</table>\n"
      ],
      "text/latex": [
       "\\begin{tabular}{r|llllllllllllllllllll}\n",
       "  & Title & Unknown & Action & Adventure & Animation & Childrens & Comedy & Crime & Documentary & Drama & Fantasy & FilmNoir & Horror & Musical & Mystery & Romance & SciFi & Thriller & War & Western\\\\\n",
       "\\hline\n",
       "\t257 & Men in Black (1997) & 0 & 1 & 1 & 0 & 0 & 1 & 0 & 0 & 0 & 0 & 0 & 0 & 0 & 0 & 0 & 1 & 0 & 0 & 0\\\\\n",
       "\\end{tabular}\n"
      ],
      "text/plain": [
       "                  Title Unknown Action Adventure Animation Childrens Comedy\n",
       "257 Men in Black (1997)       0      1         1         0         0      1\n",
       "    Crime Documentary Drama Fantasy FilmNoir Horror Musical Mystery Romance\n",
       "257     0           0     0       0        0      0       0       0       0\n",
       "    SciFi Thriller War Western\n",
       "257     1        0   0       0"
      ]
     },
     "execution_count": 12,
     "metadata": {},
     "output_type": "execute_result"
    }
   ],
   "source": [
    "subset(movies, Title==\"Men in Black (1997)\")"
   ]
  },
  {
   "cell_type": "code",
   "execution_count": 13,
   "metadata": {
    "collapsed": false
   },
   "outputs": [
    {
     "data": {
      "text/html": [
       "<strong>257:</strong> 2"
      ],
      "text/latex": [
       "\\textbf{257:} 2"
      ],
      "text/markdown": [
       "**257:** 2"
      ],
      "text/plain": [
       "257 \n",
       "  2 "
      ]
     },
     "execution_count": 13,
     "metadata": {},
     "output_type": "execute_result"
    }
   ],
   "source": [
    "clusterGroups[257]"
   ]
  },
  {
   "cell_type": "markdown",
   "metadata": {},
   "source": [
    "第二类中有哪些电影？"
   ]
  },
  {
   "cell_type": "code",
   "execution_count": 17,
   "metadata": {
    "collapsed": false,
    "scrolled": false
   },
   "outputs": [
    {
     "data": {
      "text/html": [
       "<ol class=list-inline>\n",
       "\t<li>GoldenEye (1995)</li>\n",
       "\t<li>Bad Boys (1995)</li>\n",
       "\t<li>Apollo 13 (1995)</li>\n",
       "\t<li>Net, The (1995)</li>\n",
       "\t<li>Natural Born Killers (1994)</li>\n",
       "\t<li>Outbreak (1995)</li>\n",
       "\t<li>Stargate (1994)</li>\n",
       "\t<li>Fugitive, The (1993)</li>\n",
       "\t<li>Jurassic Park (1993)</li>\n",
       "\t<li>Robert A. Heinlein's The Puppet Masters (1994)</li>\n",
       "</ol>\n"
      ],
      "text/latex": [
       "\\begin{enumerate*}\n",
       "\\item GoldenEye (1995)\n",
       "\\item Bad Boys (1995)\n",
       "\\item Apollo 13 (1995)\n",
       "\\item Net, The (1995)\n",
       "\\item Natural Born Killers (1994)\n",
       "\\item Outbreak (1995)\n",
       "\\item Stargate (1994)\n",
       "\\item Fugitive, The (1993)\n",
       "\\item Jurassic Park (1993)\n",
       "\\item Robert A. Heinlein's The Puppet Masters (1994)\n",
       "\\end{enumerate*}\n"
      ],
      "text/markdown": [
       "1. GoldenEye (1995)\n",
       "2. Bad Boys (1995)\n",
       "3. Apollo 13 (1995)\n",
       "4. Net, The (1995)\n",
       "5. Natural Born Killers (1994)\n",
       "6. Outbreak (1995)\n",
       "7. Stargate (1994)\n",
       "8. Fugitive, The (1993)\n",
       "9. Jurassic Park (1993)\n",
       "10. Robert A. Heinlein's The Puppet Masters (1994)\n",
       "\n",
       "\n"
      ],
      "text/plain": [
       " [1] GoldenEye (1995)                              \n",
       " [2] Bad Boys (1995)                               \n",
       " [3] Apollo 13 (1995)                              \n",
       " [4] Net, The (1995)                               \n",
       " [5] Natural Born Killers (1994)                   \n",
       " [6] Outbreak (1995)                               \n",
       " [7] Stargate (1994)                               \n",
       " [8] Fugitive, The (1993)                          \n",
       " [9] Jurassic Park (1993)                          \n",
       "[10] Robert A. Heinlein's The Puppet Masters (1994)\n",
       "1664 Levels: Metisse (Caf锟\\xbd au Lait) (1993) ... C'est arriv锟\\xbd pr閼\\xa3 de chez vous (1992)"
      ]
     },
     "execution_count": 17,
     "metadata": {},
     "output_type": "execute_result"
    }
   ],
   "source": [
    "cluster2 = subset(movies, clusterGroups == 2)\n",
    "cluster2$Title[1:10]"
   ]
  },
  {
   "cell_type": "code",
   "execution_count": null,
   "metadata": {
    "collapsed": true
   },
   "outputs": [],
   "source": []
  }
 ],
 "metadata": {
  "kernelspec": {
   "display_name": "R",
   "language": "R",
   "name": "ir"
  },
  "language_info": {
   "codemirror_mode": "r",
   "file_extension": ".r",
   "mimetype": "text/x-r-source",
   "name": "R",
   "pygments_lexer": "r",
   "version": "3.1.3"
  }
 },
 "nbformat": 4,
 "nbformat_minor": 0
}
