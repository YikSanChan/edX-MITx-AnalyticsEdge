{
 "cells": [
  {
   "cell_type": "markdown",
   "metadata": {},
   "source": [
    "### 目标\n",
    "\n",
    "根据某年前十一个月的股价，预测十二月的股价是涨还是跌。\n",
    "\n",
    "### 数据\n",
    "\n",
    "股价十二个月份的收益率。"
   ]
  },
  {
   "cell_type": "code",
   "execution_count": 1,
   "metadata": {
    "collapsed": false
   },
   "outputs": [
    {
     "name": "stdout",
     "output_type": "stream",
     "text": [
      "'data.frame':\t11580 obs. of  12 variables:\n",
      " $ ReturnJan  : num  0.0807 -0.0107 0.0477 -0.074 -0.031 ...\n",
      " $ ReturnFeb  : num  0.0663 0.1021 0.036 -0.0482 -0.2127 ...\n",
      " $ ReturnMar  : num  0.0329 0.1455 0.0397 0.0182 0.0915 ...\n",
      " $ ReturnApr  : num  0.1831 -0.0844 -0.1624 -0.0247 0.1893 ...\n",
      " $ ReturnMay  : num  0.13033 -0.3273 -0.14743 -0.00604 -0.15385 ...\n",
      " $ ReturnJune : num  -0.0176 -0.3593 0.0486 -0.0253 -0.1061 ...\n",
      " $ ReturnJuly : num  -0.0205 -0.0253 -0.1354 -0.094 0.3553 ...\n",
      " $ ReturnAug  : num  0.0247 0.2113 0.0334 0.0953 0.0568 ...\n",
      " $ ReturnSep  : num  -0.0204 -0.58 0 0.0567 0.0336 ...\n",
      " $ ReturnOct  : num  -0.1733 -0.2671 0.0917 -0.0963 0.0363 ...\n",
      " $ ReturnNov  : num  -0.0254 -0.1512 -0.0596 -0.0405 -0.0853 ...\n",
      " $ PositiveDec: int  0 0 0 1 1 1 1 0 0 0 ...\n"
     ]
    }
   ],
   "source": [
    "stocks = read.csv(\"./data/StocksCluster.csv\")\n",
    "str(stocks)"
   ]
  },
  {
   "cell_type": "code",
   "execution_count": 2,
   "metadata": {
    "collapsed": false
   },
   "outputs": [
    {
     "data": {
      "text/plain": [
       "\n",
       "   0    1 \n",
       "5256 6324 "
      ]
     },
     "execution_count": 2,
     "metadata": {},
     "output_type": "execute_result"
    }
   ],
   "source": [
    "table(stocks$PositiveDec)"
   ]
  },
  {
   "cell_type": "code",
   "execution_count": 3,
   "metadata": {
    "collapsed": false
   },
   "outputs": [
    {
     "data": {
      "text/html": [
       "0.546113989637306"
      ],
      "text/latex": [
       "0.546113989637306"
      ],
      "text/markdown": [
       "0.546113989637306"
      ],
      "text/plain": [
       "[1] 0.546114"
      ]
     },
     "execution_count": 3,
     "metadata": {},
     "output_type": "execute_result"
    }
   ],
   "source": [
    "6324/11580"
   ]
  },
  {
   "cell_type": "code",
   "execution_count": 8,
   "metadata": {
    "collapsed": false
   },
   "outputs": [
    {
     "data": {
      "text/html": [
       "<table>\n",
       "<thead><tr><th></th><th scope=col>ReturnJan</th><th scope=col>ReturnFeb</th><th scope=col>ReturnMar</th><th scope=col>ReturnApr</th><th scope=col>ReturnMay</th><th scope=col>ReturnJune</th><th scope=col>ReturnJuly</th><th scope=col>ReturnAug</th><th scope=col>ReturnSep</th><th scope=col>ReturnOct</th><th scope=col>ReturnNov</th><th scope=col>PositiveDec</th></tr></thead>\n",
       "<tbody>\n",
       "\t<tr><th scope=row>ReturnJan</th><td> 1.000000000</td><td> 0.066774583</td><td>-0.090496798</td><td>-0.037678006</td><td>-0.044411417</td><td> 0.092238307</td><td>-0.081429765</td><td>-0.022792019</td><td>-0.026437153</td><td> 0.142977229</td><td> 0.067632333</td><td> 0.004728518</td></tr>\n",
       "\t<tr><th scope=row>ReturnFeb</th><td> 0.06677458</td><td> 1.00000000</td><td>-0.15598326</td><td>-0.19135192</td><td>-0.09552092</td><td> 0.16999448</td><td>-0.06177851</td><td> 0.13155979</td><td> 0.04350177</td><td>-0.08732427</td><td>-0.15465828</td><td>-0.03817318</td></tr>\n",
       "\t<tr><th scope=row>ReturnMar</th><td>-0.090496798</td><td>-0.155983263</td><td> 1.000000000</td><td> 0.009726288</td><td>-0.003892789</td><td>-0.085905486</td><td> 0.003374160</td><td>-0.022005400</td><td> 0.076518327</td><td>-0.011923758</td><td> 0.037323535</td><td> 0.022408661</td></tr>\n",
       "\t<tr><th scope=row>ReturnApr</th><td>-0.037678006</td><td>-0.191351924</td><td> 0.009726288</td><td> 1.000000000</td><td> 0.063822504</td><td>-0.011027752</td><td> 0.080631932</td><td>-0.051756051</td><td>-0.028920972</td><td> 0.048540025</td><td> 0.031761837</td><td> 0.094353528</td></tr>\n",
       "\t<tr><th scope=row>ReturnMay</th><td>-0.044411417</td><td>-0.095520920</td><td>-0.003892789</td><td> 0.063822504</td><td> 1.000000000</td><td>-0.021074539</td><td> 0.090850264</td><td>-0.033125658</td><td> 0.021962862</td><td> 0.017166728</td><td> 0.048046590</td><td> 0.058201934</td></tr>\n",
       "\t<tr><th scope=row>ReturnJune</th><td> 0.09223831</td><td> 0.16999448</td><td>-0.08590549</td><td>-0.01102775</td><td>-0.02107454</td><td> 1.00000000</td><td>-0.02915260</td><td> 0.01071053</td><td> 0.04474727</td><td>-0.02263599</td><td>-0.06527054</td><td> 0.02340975</td></tr>\n",
       "\t<tr><th scope=row>ReturnJuly</th><td>-0.0814297650</td><td>-0.0617785094</td><td> 0.0033741597</td><td> 0.0806319317</td><td> 0.0908502642</td><td>-0.0291525996</td><td> 1.0000000000</td><td> 0.0007137558</td><td> 0.0689478037</td><td>-0.0547089088</td><td>-0.0483738369</td><td> 0.0743642097</td></tr>\n",
       "\t<tr><th scope=row>ReturnAug</th><td>-0.0227920187</td><td> 0.1315597863</td><td>-0.0220053995</td><td>-0.0517560510</td><td>-0.0331256580</td><td> 0.0107105260</td><td> 0.0007137558</td><td> 1.0000000000</td><td> 0.0007407139</td><td>-0.0755945614</td><td>-0.1164890345</td><td> 0.0041669657</td></tr>\n",
       "\t<tr><th scope=row>ReturnSep</th><td>-0.0264371526</td><td> 0.0435017706</td><td> 0.0765183267</td><td>-0.0289209718</td><td> 0.0219628623</td><td> 0.0447472692</td><td> 0.0689478037</td><td> 0.0007407139</td><td> 1.0000000000</td><td>-0.0580792362</td><td>-0.0197197998</td><td> 0.0416302863</td></tr>\n",
       "\t<tr><th scope=row>ReturnOct</th><td> 0.14297723</td><td>-0.08732427</td><td>-0.01192376</td><td> 0.04854003</td><td> 0.01716673</td><td>-0.02263599</td><td>-0.05470891</td><td>-0.07559456</td><td>-0.05807924</td><td> 1.00000000</td><td> 0.19167279</td><td>-0.05257496</td></tr>\n",
       "\t<tr><th scope=row>ReturnNov</th><td> 0.06763233</td><td>-0.15465828</td><td> 0.03732353</td><td> 0.03176184</td><td> 0.04804659</td><td>-0.06527054</td><td>-0.04837384</td><td>-0.11648903</td><td>-0.01971980</td><td> 0.19167279</td><td> 1.00000000</td><td>-0.06234656</td></tr>\n",
       "\t<tr><th scope=row>PositiveDec</th><td> 0.004728518</td><td>-0.038173184</td><td> 0.022408661</td><td> 0.094353528</td><td> 0.058201934</td><td> 0.023409745</td><td> 0.074364210</td><td> 0.004166966</td><td> 0.041630286</td><td>-0.052574956</td><td>-0.062346556</td><td> 1.000000000</td></tr>\n",
       "</tbody>\n",
       "</table>\n"
      ],
      "text/latex": [
       "\\begin{tabular}{r|llllllllllll}\n",
       "  & ReturnJan & ReturnFeb & ReturnMar & ReturnApr & ReturnMay & ReturnJune & ReturnJuly & ReturnAug & ReturnSep & ReturnOct & ReturnNov & PositiveDec\\\\\n",
       "\\hline\n",
       "\tReturnJan &  1.000000000 &  0.066774583 & -0.090496798 & -0.037678006 & -0.044411417 &  0.092238307 & -0.081429765 & -0.022792019 & -0.026437153 &  0.142977229 &  0.067632333 &  0.004728518\\\\\n",
       "\tReturnFeb &  0.06677458 &  1.00000000 & -0.15598326 & -0.19135192 & -0.09552092 &  0.16999448 & -0.06177851 &  0.13155979 &  0.04350177 & -0.08732427 & -0.15465828 & -0.03817318\\\\\n",
       "\tReturnMar & -0.090496798 & -0.155983263 &  1.000000000 &  0.009726288 & -0.003892789 & -0.085905486 &  0.003374160 & -0.022005400 &  0.076518327 & -0.011923758 &  0.037323535 &  0.022408661\\\\\n",
       "\tReturnApr & -0.037678006 & -0.191351924 &  0.009726288 &  1.000000000 &  0.063822504 & -0.011027752 &  0.080631932 & -0.051756051 & -0.028920972 &  0.048540025 &  0.031761837 &  0.094353528\\\\\n",
       "\tReturnMay & -0.044411417 & -0.095520920 & -0.003892789 &  0.063822504 &  1.000000000 & -0.021074539 &  0.090850264 & -0.033125658 &  0.021962862 &  0.017166728 &  0.048046590 &  0.058201934\\\\\n",
       "\tReturnJune &  0.09223831 &  0.16999448 & -0.08590549 & -0.01102775 & -0.02107454 &  1.00000000 & -0.02915260 &  0.01071053 &  0.04474727 & -0.02263599 & -0.06527054 &  0.02340975\\\\\n",
       "\tReturnJuly & -0.0814297650 & -0.0617785094 &  0.0033741597 &  0.0806319317 &  0.0908502642 & -0.0291525996 &  1.0000000000 &  0.0007137558 &  0.0689478037 & -0.0547089088 & -0.0483738369 &  0.0743642097\\\\\n",
       "\tReturnAug & -0.0227920187 &  0.1315597863 & -0.0220053995 & -0.0517560510 & -0.0331256580 &  0.0107105260 &  0.0007137558 &  1.0000000000 &  0.0007407139 & -0.0755945614 & -0.1164890345 &  0.0041669657\\\\\n",
       "\tReturnSep & -0.0264371526 &  0.0435017706 &  0.0765183267 & -0.0289209718 &  0.0219628623 &  0.0447472692 &  0.0689478037 &  0.0007407139 &  1.0000000000 & -0.0580792362 & -0.0197197998 &  0.0416302863\\\\\n",
       "\tReturnOct &  0.14297723 & -0.08732427 & -0.01192376 &  0.04854003 &  0.01716673 & -0.02263599 & -0.05470891 & -0.07559456 & -0.05807924 &  1.00000000 &  0.19167279 & -0.05257496\\\\\n",
       "\tReturnNov &  0.06763233 & -0.15465828 &  0.03732353 &  0.03176184 &  0.04804659 & -0.06527054 & -0.04837384 & -0.11648903 & -0.01971980 &  0.19167279 &  1.00000000 & -0.06234656\\\\\n",
       "\tPositiveDec &  0.004728518 & -0.038173184 &  0.022408661 &  0.094353528 &  0.058201934 &  0.023409745 &  0.074364210 &  0.004166966 &  0.041630286 & -0.052574956 & -0.062346556 &  1.000000000\\\\\n",
       "\\end{tabular}\n"
      ],
      "text/markdown": [
       "1. 1\n",
       "2. 0.066774583067731\n",
       "3. -0.0904967978082892\n",
       "4. -0.0376780059738025\n",
       "5. -0.0444114168206573\n",
       "6. 0.0922383068359878\n",
       "7. -0.0814297649789913\n",
       "8. -0.0227920187246281\n",
       "9. -0.0264371526294706\n",
       "10. 0.142977228620078\n",
       "11. 0.0676323332733198\n",
       "12. 0.00472851816210438\n",
       "13. 0.066774583067731\n",
       "14. 1\n",
       "15. -0.155983263045423\n",
       "16. -0.191351923912839\n",
       "17. -0.0955209197412307\n",
       "18. 0.169994483267404\n",
       "19. -0.0617785093728109\n",
       "20. 0.131559786257804\n",
       "21. 0.0435017706470365\n",
       "22. -0.0873242671628062\n",
       "23. -0.154658281491813\n",
       "24. -0.038173183907419\n",
       "25. -0.0904967978082892\n",
       "26. -0.155983263045423\n",
       "27. 1\n",
       "28. 0.00972628763899142\n",
       "29. -0.00389278936721106\n",
       "30. -0.0859054861675458\n",
       "31. 0.00337415970672835\n",
       "32. -0.0220053995350278\n",
       "33. 0.0765183266866572\n",
       "34. -0.0119237577353289\n",
       "35. 0.0373235348774903\n",
       "36. 0.0224086612225876\n",
       "37. -0.0376780059738025\n",
       "38. -0.191351923912839\n",
       "39. 0.00972628763899142\n",
       "40. 1\n",
       "41. 0.0638225039221518\n",
       "42. -0.0110277521891467\n",
       "43. 0.0806319317301162\n",
       "44. -0.0517560510181903\n",
       "45. -0.0289209718220434\n",
       "46. 0.0485400253647801\n",
       "47. 0.0317618366115435\n",
       "48. 0.0943535281161153\n",
       "49. -0.0444114168206573\n",
       "50. -0.0955209197412307\n",
       "51. -0.00389278936721106\n",
       "52. 0.0638225039221518\n",
       "53. 1\n",
       "54. -0.0210745388011446\n",
       "55. 0.0908502641893604\n",
       "56. -0.0331256580042424\n",
       "57. 0.021962862273366\n",
       "58. 0.0171667279196336\n",
       "59. 0.0480465902082418\n",
       "60. 0.0582019336365801\n",
       "61. 0.0922383068359878\n",
       "62. 0.169994483267404\n",
       "63. -0.0859054861675458\n",
       "64. -0.0110277521891467\n",
       "65. -0.0210745388011446\n",
       "66. 1\n",
       "67. -0.0291525995563477\n",
       "68. 0.0107105260352835\n",
       "69. 0.0447472692158743\n",
       "70. -0.0226359936356001\n",
       "71. -0.0652705412973485\n",
       "72. 0.0234097450840245\n",
       "73. -0.0814297649789913\n",
       "74. -0.0617785093728109\n",
       "75. 0.00337415970672835\n",
       "76. 0.0806319317301162\n",
       "77. 0.0908502641893604\n",
       "78. -0.0291525995563477\n",
       "79. 1\n",
       "80. 0.000713755829037745\n",
       "81. 0.0689478037162552\n",
       "82. -0.0547089087613605\n",
       "83. -0.0483738369012076\n",
       "84. 0.0743642096708865\n",
       "85. -0.0227920187246281\n",
       "86. 0.131559786257804\n",
       "87. -0.0220053995350278\n",
       "88. -0.0517560510181903\n",
       "89. -0.0331256580042424\n",
       "90. 0.0107105260352835\n",
       "91. 0.000713755829037745\n",
       "92. 1\n",
       "93. 0.000740713888793172\n",
       "94. -0.0755945614104149\n",
       "95. -0.116489034470395\n",
       "96. 0.0041669657255641\n",
       "97. -0.0264371526294706\n",
       "98. 0.0435017706470365\n",
       "99. 0.0765183266866572\n",
       "100. -0.0289209718220434\n",
       "101. 0.021962862273366\n",
       "102. 0.0447472692158743\n",
       "103. 0.0689478037162552\n",
       "104. 0.000740713888793172\n",
       "105. 1\n",
       "106. -0.0580792362175669\n",
       "107. -0.0197197997571471\n",
       "108. 0.0416302863147643\n",
       "109. 0.142977228620078\n",
       "110. -0.0873242671628062\n",
       "111. -0.0119237577353289\n",
       "112. 0.0485400253647801\n",
       "113. 0.0171667279196336\n",
       "114. -0.0226359936356001\n",
       "115. -0.0547089087613605\n",
       "116. -0.0755945614104149\n",
       "117. -0.0580792362175669\n",
       "118. 1\n",
       "119. 0.191672785553102\n",
       "120. -0.0525749562816702\n",
       "121. 0.0676323332733198\n",
       "122. -0.154658281491813\n",
       "123. 0.0373235348774903\n",
       "124. 0.0317618366115435\n",
       "125. 0.0480465902082418\n",
       "126. -0.0652705412973485\n",
       "127. -0.0483738369012076\n",
       "128. -0.116489034470395\n",
       "129. -0.0197197997571471\n",
       "130. 0.191672785553102\n",
       "131. 1\n",
       "132. -0.0623465558789451\n",
       "133. 0.00472851816210438\n",
       "134. -0.038173183907419\n",
       "135. 0.0224086612225876\n",
       "136. 0.0943535281161153\n",
       "137. 0.0582019336365801\n",
       "138. 0.0234097450840245\n",
       "139. 0.0743642096708865\n",
       "140. 0.0041669657255641\n",
       "141. 0.0416302863147643\n",
       "142. -0.0525749562816702\n",
       "143. -0.0623465558789451\n",
       "144. 1\n",
       "\n",
       "\n"
      ],
      "text/plain": [
       "               ReturnJan   ReturnFeb    ReturnMar    ReturnApr    ReturnMay\n",
       "ReturnJan    1.000000000  0.06677458 -0.090496798 -0.037678006 -0.044411417\n",
       "ReturnFeb    0.066774583  1.00000000 -0.155983263 -0.191351924 -0.095520920\n",
       "ReturnMar   -0.090496798 -0.15598326  1.000000000  0.009726288 -0.003892789\n",
       "ReturnApr   -0.037678006 -0.19135192  0.009726288  1.000000000  0.063822504\n",
       "ReturnMay   -0.044411417 -0.09552092 -0.003892789  0.063822504  1.000000000\n",
       "ReturnJune   0.092238307  0.16999448 -0.085905486 -0.011027752 -0.021074539\n",
       "ReturnJuly  -0.081429765 -0.06177851  0.003374160  0.080631932  0.090850264\n",
       "ReturnAug   -0.022792019  0.13155979 -0.022005400 -0.051756051 -0.033125658\n",
       "ReturnSep   -0.026437153  0.04350177  0.076518327 -0.028920972  0.021962862\n",
       "ReturnOct    0.142977229 -0.08732427 -0.011923758  0.048540025  0.017166728\n",
       "ReturnNov    0.067632333 -0.15465828  0.037323535  0.031761837  0.048046590\n",
       "PositiveDec  0.004728518 -0.03817318  0.022408661  0.094353528  0.058201934\n",
       "             ReturnJune    ReturnJuly     ReturnAug     ReturnSep   ReturnOct\n",
       "ReturnJan    0.09223831 -0.0814297650 -0.0227920187 -0.0264371526  0.14297723\n",
       "ReturnFeb    0.16999448 -0.0617785094  0.1315597863  0.0435017706 -0.08732427\n",
       "ReturnMar   -0.08590549  0.0033741597 -0.0220053995  0.0765183267 -0.01192376\n",
       "ReturnApr   -0.01102775  0.0806319317 -0.0517560510 -0.0289209718  0.04854003\n",
       "ReturnMay   -0.02107454  0.0908502642 -0.0331256580  0.0219628623  0.01716673\n",
       "ReturnJune   1.00000000 -0.0291525996  0.0107105260  0.0447472692 -0.02263599\n",
       "ReturnJuly  -0.02915260  1.0000000000  0.0007137558  0.0689478037 -0.05470891\n",
       "ReturnAug    0.01071053  0.0007137558  1.0000000000  0.0007407139 -0.07559456\n",
       "ReturnSep    0.04474727  0.0689478037  0.0007407139  1.0000000000 -0.05807924\n",
       "ReturnOct   -0.02263599 -0.0547089088 -0.0755945614 -0.0580792362  1.00000000\n",
       "ReturnNov   -0.06527054 -0.0483738369 -0.1164890345 -0.0197197998  0.19167279\n",
       "PositiveDec  0.02340975  0.0743642097  0.0041669657  0.0416302863 -0.05257496\n",
       "              ReturnNov  PositiveDec\n",
       "ReturnJan    0.06763233  0.004728518\n",
       "ReturnFeb   -0.15465828 -0.038173184\n",
       "ReturnMar    0.03732353  0.022408661\n",
       "ReturnApr    0.03176184  0.094353528\n",
       "ReturnMay    0.04804659  0.058201934\n",
       "ReturnJune  -0.06527054  0.023409745\n",
       "ReturnJuly  -0.04837384  0.074364210\n",
       "ReturnAug   -0.11648903  0.004166966\n",
       "ReturnSep   -0.01971980  0.041630286\n",
       "ReturnOct    0.19167279 -0.052574956\n",
       "ReturnNov    1.00000000 -0.062346556\n",
       "PositiveDec -0.06234656  1.000000000"
      ]
     },
     "execution_count": 8,
     "metadata": {},
     "output_type": "execute_result"
    }
   ],
   "source": [
    "cor(stocks)"
   ]
  },
  {
   "cell_type": "code",
   "execution_count": 9,
   "metadata": {
    "collapsed": false
   },
   "outputs": [
    {
     "data": {
      "text/plain": [
       "   ReturnJan            ReturnFeb           ReturnMar        \n",
       " Min.   :-0.7616205   Min.   :-0.690000   Min.   :-0.712994  \n",
       " 1st Qu.:-0.0691663   1st Qu.:-0.077748   1st Qu.:-0.046389  \n",
       " Median : 0.0009965   Median :-0.010626   Median : 0.009878  \n",
       " Mean   : 0.0126316   Mean   :-0.007605   Mean   : 0.019402  \n",
       " 3rd Qu.: 0.0732606   3rd Qu.: 0.043600   3rd Qu.: 0.077066  \n",
       " Max.   : 3.0683060   Max.   : 6.943694   Max.   : 4.008621  \n",
       "   ReturnApr           ReturnMay          ReturnJune       \n",
       " Min.   :-0.826503   Min.   :-0.92207   Min.   :-0.717920  \n",
       " 1st Qu.:-0.054468   1st Qu.:-0.04640   1st Qu.:-0.063966  \n",
       " Median : 0.009059   Median : 0.01293   Median :-0.000880  \n",
       " Mean   : 0.026308   Mean   : 0.02474   Mean   : 0.005938  \n",
       " 3rd Qu.: 0.085338   3rd Qu.: 0.08396   3rd Qu.: 0.061566  \n",
       " Max.   : 2.528827   Max.   : 6.93013   Max.   : 4.339713  \n",
       "   ReturnJuly           ReturnAug           ReturnSep        \n",
       " Min.   :-0.7613096   Min.   :-0.726800   Min.   :-0.839730  \n",
       " 1st Qu.:-0.0731917   1st Qu.:-0.046272   1st Qu.:-0.074648  \n",
       " Median :-0.0008047   Median : 0.007205   Median :-0.007616  \n",
       " Mean   : 0.0030509   Mean   : 0.016198   Mean   :-0.014721  \n",
       " 3rd Qu.: 0.0718205   3rd Qu.: 0.070783   3rd Qu.: 0.049476  \n",
       " Max.   : 2.5500000   Max.   : 3.626609   Max.   : 5.863980  \n",
       "   ReturnOct           ReturnNov          PositiveDec    \n",
       " Min.   :-0.685504   Min.   :-0.747171   Min.   :0.0000  \n",
       " 1st Qu.:-0.070915   1st Qu.:-0.054890   1st Qu.:0.0000  \n",
       " Median : 0.002115   Median : 0.008522   Median :1.0000  \n",
       " Mean   : 0.005651   Mean   : 0.011387   Mean   :0.5461  \n",
       " 3rd Qu.: 0.074542   3rd Qu.: 0.076576   3rd Qu.:1.0000  \n",
       " Max.   : 5.665138   Max.   : 3.271676   Max.   :1.0000  "
      ]
     },
     "execution_count": 9,
     "metadata": {},
     "output_type": "execute_result"
    }
   ],
   "source": [
    "summary(stocks)"
   ]
  },
  {
   "cell_type": "code",
   "execution_count": 11,
   "metadata": {
    "collapsed": true
   },
   "outputs": [],
   "source": [
    "library(caTools)"
   ]
  },
  {
   "cell_type": "code",
   "execution_count": 12,
   "metadata": {
    "collapsed": false
   },
   "outputs": [],
   "source": [
    "set.seed(144)\n",
    "spl = sample.split(stocks$PositiveDec, SplitRatio = 0.7)\n",
    "stocksTrain = subset(stocks, spl == TRUE)\n",
    "stocksTest = subset(stocks, spl == FALSE)"
   ]
  },
  {
   "cell_type": "code",
   "execution_count": 16,
   "metadata": {
    "collapsed": false
   },
   "outputs": [
    {
     "data": {
      "text/plain": [
       "   \n",
       "    FALSE TRUE\n",
       "  0   990 2689\n",
       "  1   787 3640"
      ]
     },
     "execution_count": 16,
     "metadata": {},
     "output_type": "execute_result"
    }
   ],
   "source": [
    "StocksModel = glm(PositiveDec ~ ., data=stocksTrain, family=binomial)\n",
    "train.pred = predict(StocksModel, type=\"response\", newdata=stocksTrain)\n",
    "table(stocksTrain$PositiveDec, train.pred>=0.5)"
   ]
  },
  {
   "cell_type": "code",
   "execution_count": 17,
   "metadata": {
    "collapsed": false
   },
   "outputs": [
    {
     "data": {
      "text/html": [
       "0.571181840611892"
      ],
      "text/latex": [
       "0.571181840611892"
      ],
      "text/markdown": [
       "0.571181840611892"
      ],
      "text/plain": [
       "[1] 0.5711818"
      ]
     },
     "execution_count": 17,
     "metadata": {},
     "output_type": "execute_result"
    }
   ],
   "source": [
    "(3640+990)/nrow(stocksTrain)"
   ]
  },
  {
   "cell_type": "code",
   "execution_count": 18,
   "metadata": {
    "collapsed": false
   },
   "outputs": [
    {
     "data": {
      "text/plain": [
       "   \n",
       "    FALSE TRUE\n",
       "  0   417 1160\n",
       "  1   344 1553"
      ]
     },
     "execution_count": 18,
     "metadata": {},
     "output_type": "execute_result"
    }
   ],
   "source": [
    "test.pred = predict(StocksModel, type=\"response\", newdata=stocksTest)\n",
    "table(stocksTest$PositiveDec, test.pred>=0.5)"
   ]
  },
  {
   "cell_type": "code",
   "execution_count": 19,
   "metadata": {
    "collapsed": false
   },
   "outputs": [
    {
     "data": {
      "text/html": [
       "0.567069660333909"
      ],
      "text/latex": [
       "0.567069660333909"
      ],
      "text/markdown": [
       "0.567069660333909"
      ],
      "text/plain": [
       "[1] 0.5670697"
      ]
     },
     "execution_count": 19,
     "metadata": {},
     "output_type": "execute_result"
    }
   ],
   "source": [
    "(417+1553)/nrow(stocksTest)"
   ]
  },
  {
   "cell_type": "code",
   "execution_count": 20,
   "metadata": {
    "collapsed": false
   },
   "outputs": [
    {
     "data": {
      "text/plain": [
       "\n",
       "   0    1 \n",
       "1577 1897 "
      ]
     },
     "execution_count": 20,
     "metadata": {},
     "output_type": "execute_result"
    }
   ],
   "source": [
    "table(stocksTest$PositiveDec)"
   ]
  },
  {
   "cell_type": "code",
   "execution_count": 21,
   "metadata": {
    "collapsed": false
   },
   "outputs": [
    {
     "data": {
      "text/html": [
       "0.546056419113414"
      ],
      "text/latex": [
       "0.546056419113414"
      ],
      "text/markdown": [
       "0.546056419113414"
      ],
      "text/plain": [
       "[1] 0.5460564"
      ]
     },
     "execution_count": 21,
     "metadata": {},
     "output_type": "execute_result"
    }
   ],
   "source": [
    "1897/nrow(stocksTest)"
   ]
  },
  {
   "cell_type": "code",
   "execution_count": 22,
   "metadata": {
    "collapsed": true
   },
   "outputs": [],
   "source": [
    "limitedTrain = stocksTrain\n",
    "limitedTrain$PositiveDec = NULL\n",
    "limitedTest = stocksTest\n",
    "limitedTest$PositiveDec = NULL"
   ]
  },
  {
   "cell_type": "code",
   "execution_count": 23,
   "metadata": {
    "collapsed": false
   },
   "outputs": [
    {
     "name": "stderr",
     "output_type": "stream",
     "text": [
      "Loading required package: lattice\n",
      "Loading required package: ggplot2\n"
     ]
    }
   ],
   "source": [
    "library(caret)\n",
    "preproc = preProcess(limitedTrain)\n",
    "normTrain = predict(preproc, limitedTrain)\n",
    "normTest = predict(preproc, limitedTest)"
   ]
  },
  {
   "cell_type": "code",
   "execution_count": 24,
   "metadata": {
    "collapsed": false
   },
   "outputs": [
    {
     "data": {
      "text/plain": [
       "   ReturnJan          ReturnFeb          ReturnMar          ReturnApr      \n",
       " Min.   :-4.57682   Min.   :-3.43004   Min.   :-4.54609   Min.   :-5.0227  \n",
       " 1st Qu.:-0.48271   1st Qu.:-0.35589   1st Qu.:-0.40758   1st Qu.:-0.4757  \n",
       " Median :-0.07055   Median :-0.01875   Median :-0.05778   Median :-0.1104  \n",
       " Mean   : 0.00000   Mean   : 0.00000   Mean   : 0.00000   Mean   : 0.0000  \n",
       " 3rd Qu.: 0.35898   3rd Qu.: 0.25337   3rd Qu.: 0.36106   3rd Qu.: 0.3400  \n",
       " Max.   :18.06234   Max.   :34.92751   Max.   :24.77296   Max.   :14.6959  \n",
       "   ReturnMay          ReturnJune         ReturnJuly         ReturnAug       \n",
       " Min.   :-4.96759   Min.   :-4.82957   Min.   :-5.19139   Min.   :-5.60378  \n",
       " 1st Qu.:-0.43045   1st Qu.:-0.45602   1st Qu.:-0.51832   1st Qu.:-0.47163  \n",
       " Median :-0.06983   Median :-0.04354   Median :-0.02372   Median :-0.07393  \n",
       " Mean   : 0.00000   Mean   : 0.00000   Mean   : 0.00000   Mean   : 0.00000  \n",
       " 3rd Qu.: 0.35906   3rd Qu.: 0.37273   3rd Qu.: 0.47735   3rd Qu.: 0.39967  \n",
       " Max.   :42.69158   Max.   :10.84515   Max.   :17.33975   Max.   :27.14273  \n",
       "   ReturnSep          ReturnOct          ReturnNov       \n",
       " Min.   :-5.47078   Min.   :-3.53719   Min.   :-4.31684  \n",
       " 1st Qu.:-0.39604   1st Qu.:-0.42176   1st Qu.:-0.43564  \n",
       " Median : 0.04767   Median :-0.01891   Median :-0.01878  \n",
       " Mean   : 0.00000   Mean   : 0.00000   Mean   : 0.00000  \n",
       " 3rd Qu.: 0.42287   3rd Qu.: 0.37451   3rd Qu.: 0.42560  \n",
       " Max.   :39.05435   Max.   :31.25996   Max.   :17.18255  "
      ]
     },
     "execution_count": 24,
     "metadata": {},
     "output_type": "execute_result"
    }
   ],
   "source": [
    "summary(normTrain)"
   ]
  },
  {
   "cell_type": "code",
   "execution_count": 25,
   "metadata": {
    "collapsed": false
   },
   "outputs": [
    {
     "data": {
      "text/plain": [
       "   ReturnJan           ReturnFeb           ReturnMar          ReturnApr       \n",
       " Min.   :-3.743836   Min.   :-3.251044   Min.   :-4.07731   Min.   :-4.47865  \n",
       " 1st Qu.:-0.485690   1st Qu.:-0.348951   1st Qu.:-0.40662   1st Qu.:-0.51121  \n",
       " Median :-0.066856   Median :-0.006860   Median :-0.05674   Median :-0.11414  \n",
       " Mean   :-0.000419   Mean   :-0.003862   Mean   : 0.00583   Mean   :-0.03638  \n",
       " 3rd Qu.: 0.357729   3rd Qu.: 0.264647   3rd Qu.: 0.35653   3rd Qu.: 0.32742  \n",
       " Max.   : 8.412973   Max.   : 9.552365   Max.   : 9.00982   Max.   : 6.84589  \n",
       "   ReturnMay          ReturnJune         ReturnJuly          ReturnAug       \n",
       " Min.   :-5.84445   Min.   :-4.73628   Min.   :-5.201454   Min.   :-4.62097  \n",
       " 1st Qu.:-0.43819   1st Qu.:-0.44968   1st Qu.:-0.512039   1st Qu.:-0.51546  \n",
       " Median :-0.05346   Median :-0.02678   Median :-0.026576   Median :-0.10277  \n",
       " Mean   : 0.02651   Mean   : 0.04315   Mean   : 0.006016   Mean   :-0.04973  \n",
       " 3rd Qu.: 0.42290   3rd Qu.: 0.43010   3rd Qu.: 0.457193   3rd Qu.: 0.38781  \n",
       " Max.   : 7.21362   Max.   :29.00534   Max.   :12.790901   Max.   : 6.66889  \n",
       "   ReturnSep          ReturnOct           ReturnNov        \n",
       " Min.   :-3.57222   Min.   :-3.807577   Min.   :-4.881463  \n",
       " 1st Qu.:-0.38067   1st Qu.:-0.393856   1st Qu.:-0.396764  \n",
       " Median : 0.08215   Median : 0.006783   Median :-0.002337  \n",
       " Mean   : 0.02939   Mean   : 0.029672   Mean   : 0.017128  \n",
       " 3rd Qu.: 0.45847   3rd Qu.: 0.419005   3rd Qu.: 0.424617  \n",
       " Max.   : 7.09106   Max.   : 7.428466   Max.   :21.007786  "
      ]
     },
     "execution_count": 25,
     "metadata": {},
     "output_type": "execute_result"
    }
   ],
   "source": [
    "summary(normTest)"
   ]
  },
  {
   "cell_type": "code",
   "execution_count": 26,
   "metadata": {
    "collapsed": true
   },
   "outputs": [],
   "source": [
    "set.seed(144)\n",
    "k = 3\n",
    "km = kmeans(normTrain, centers=k, iter.max=1000)"
   ]
  },
  {
   "cell_type": "code",
   "execution_count": 27,
   "metadata": {
    "collapsed": false
   },
   "outputs": [
    {
     "name": "stdout",
     "output_type": "stream",
     "text": [
      "List of 9\n",
      " $ cluster     : Named int [1:8106] 1 1 1 3 1 3 2 2 1 3 ...\n",
      "  ..- attr(*, \"names\")= chr [1:8106] \"1\" \"2\" \"4\" \"6\" ...\n",
      " $ centers     : num [1:3, 1:11] -0.4523 0.2641 0.7425 -0.1497 -0.0415 ...\n",
      "  ..- attr(*, \"dimnames\")=List of 2\n",
      "  .. ..$ : chr [1:3] \"1\" \"2\" \"3\"\n",
      "  .. ..$ : chr [1:11] \"ReturnJan\" \"ReturnFeb\" \"ReturnMar\" \"ReturnApr\" ...\n",
      " $ totss       : num 89155\n",
      " $ withinss    : num [1:3] 31204 38032 9937\n",
      " $ tot.withinss: num 79173\n",
      " $ betweenss   : num 9982\n",
      " $ size        : int [1:3] 3157 4696 253\n",
      " $ iter        : int 5\n",
      " $ ifault      : int 0\n",
      " - attr(*, \"class\")= chr \"kmeans\"\n"
     ]
    }
   ],
   "source": [
    "str(km)"
   ]
  },
  {
   "cell_type": "code",
   "execution_count": 28,
   "metadata": {
    "collapsed": false
   },
   "outputs": [
    {
     "name": "stderr",
     "output_type": "stream",
     "text": [
      "Loading required package: grid\n",
      "Loading required package: modeltools\n",
      "Loading required package: stats4\n"
     ]
    }
   ],
   "source": [
    "library(flexclust)\n",
    "km.kcca = as.kcca(km, normTrain)\n",
    "clusterTrain = predict(km.kcca)\n",
    "clusterTest = predict(km.kcca, newdata=normTest)"
   ]
  },
  {
   "cell_type": "code",
   "execution_count": 30,
   "metadata": {
    "collapsed": false
   },
   "outputs": [
    {
     "data": {
      "text/plain": [
       "clusterTest\n",
       "   1    2    3 \n",
       "1298 2080   96 "
      ]
     },
     "execution_count": 30,
     "metadata": {},
     "output_type": "execute_result"
    }
   ],
   "source": [
    "table(clusterTest)"
   ]
  },
  {
   "cell_type": "code",
   "execution_count": 36,
   "metadata": {
    "collapsed": true
   },
   "outputs": [],
   "source": [
    "stocksTrain1 = subset(stocksTrain, clusterTrain==1)\n",
    "stocksTrain2 = subset(stocksTrain, clusterTrain==2)\n",
    "stocksTrain3 = subset(stocksTrain, clusterTrain==3)\n",
    "\n",
    "stocksTest1 = subset(stocksTest, clusterTest==1)\n",
    "stocksTest2 = subset(stocksTest, clusterTest==2)\n",
    "stocksTest3 = subset(stocksTest, clusterTest==3)"
   ]
  },
  {
   "cell_type": "code",
   "execution_count": 37,
   "metadata": {
    "collapsed": false
   },
   "outputs": [
    {
     "data": {
      "text/plain": [
       "   Min. 1st Qu.  Median    Mean 3rd Qu.    Max. \n",
       " 0.0000  0.0000  1.0000  0.6025  1.0000  1.0000 "
      ]
     },
     "execution_count": 37,
     "metadata": {},
     "output_type": "execute_result"
    }
   ],
   "source": [
    "summary(stocksTrain1$PositiveDec)"
   ]
  },
  {
   "cell_type": "code",
   "execution_count": 38,
   "metadata": {
    "collapsed": false
   },
   "outputs": [
    {
     "data": {
      "text/plain": [
       "   Min. 1st Qu.  Median    Mean 3rd Qu.    Max. \n",
       " 0.0000  0.0000  1.0000  0.5141  1.0000  1.0000 "
      ]
     },
     "execution_count": 38,
     "metadata": {},
     "output_type": "execute_result"
    }
   ],
   "source": [
    "summary(stocksTrain2$PositiveDec)"
   ]
  },
  {
   "cell_type": "code",
   "execution_count": 39,
   "metadata": {
    "collapsed": false
   },
   "outputs": [
    {
     "data": {
      "text/plain": [
       "   Min. 1st Qu.  Median    Mean 3rd Qu.    Max. \n",
       " 0.0000  0.0000  0.0000  0.4387  1.0000  1.0000 "
      ]
     },
     "execution_count": 39,
     "metadata": {},
     "output_type": "execute_result"
    }
   ],
   "source": [
    "summary(stocksTrain3$PositiveDec)"
   ]
  },
  {
   "cell_type": "code",
   "execution_count": 40,
   "metadata": {
    "collapsed": true
   },
   "outputs": [],
   "source": [
    "StocksModel1 = glm(PositiveDec ~ ., data=stocksTrain1, family=binomial)\n",
    "StocksModel2 = glm(PositiveDec ~ ., data=stocksTrain2, family=binomial)\n",
    "StocksModel3 = glm(PositiveDec ~ ., data=stocksTrain3, family=binomial)"
   ]
  },
  {
   "cell_type": "code",
   "execution_count": 42,
   "metadata": {
    "collapsed": false,
    "scrolled": false
   },
   "outputs": [
    {
     "data": {
      "text/plain": [
       "\n",
       "Call:\n",
       "glm(formula = PositiveDec ~ ., family = binomial, data = stocksTrain1)\n",
       "\n",
       "Deviance Residuals: \n",
       "    Min       1Q   Median       3Q      Max  \n",
       "-2.7307  -1.2910   0.8878   1.0280   1.5023  \n",
       "\n",
       "Coefficients:\n",
       "            Estimate Std. Error z value Pr(>|z|)    \n",
       "(Intercept)  0.17224    0.06302   2.733  0.00628 ** \n",
       "ReturnJan    0.02498    0.29306   0.085  0.93206    \n",
       "ReturnFeb   -0.37207    0.29123  -1.278  0.20139    \n",
       "ReturnMar    0.59555    0.23325   2.553  0.01067 *  \n",
       "ReturnApr    1.19048    0.22439   5.305 1.12e-07 ***\n",
       "ReturnMay    0.30421    0.22845   1.332  0.18298    \n",
       "ReturnJune  -0.01165    0.29993  -0.039  0.96901    \n",
       "ReturnJuly   0.19769    0.27790   0.711  0.47685    \n",
       "ReturnAug    0.51273    0.30858   1.662  0.09660 .  \n",
       "ReturnSep    0.58833    0.28133   2.091  0.03651 *  \n",
       "ReturnOct   -1.02254    0.26007  -3.932 8.43e-05 ***\n",
       "ReturnNov   -0.74847    0.28280  -2.647  0.00813 ** \n",
       "---\n",
       "Signif. codes:  0 '***' 0.001 '**' 0.01 '*' 0.05 '.' 0.1 ' ' 1\n",
       "\n",
       "(Dispersion parameter for binomial family taken to be 1)\n",
       "\n",
       "    Null deviance: 4243.0  on 3156  degrees of freedom\n",
       "Residual deviance: 4172.9  on 3145  degrees of freedom\n",
       "AIC: 4196.9\n",
       "\n",
       "Number of Fisher Scoring iterations: 4\n"
      ]
     },
     "execution_count": 42,
     "metadata": {},
     "output_type": "execute_result"
    }
   ],
   "source": [
    "summary(StocksModel1)"
   ]
  },
  {
   "cell_type": "code",
   "execution_count": 43,
   "metadata": {
    "collapsed": false
   },
   "outputs": [
    {
     "data": {
      "text/plain": [
       "\n",
       "Call:\n",
       "glm(formula = PositiveDec ~ ., family = binomial, data = stocksTrain2)\n",
       "\n",
       "Deviance Residuals: \n",
       "    Min       1Q   Median       3Q      Max  \n",
       "-2.2012  -1.1941   0.8583   1.1334   1.9424  \n",
       "\n",
       "Coefficients:\n",
       "            Estimate Std. Error z value Pr(>|z|)    \n",
       "(Intercept)  0.10293    0.03785   2.719 0.006540 ** \n",
       "ReturnJan    0.88451    0.20276   4.362 1.29e-05 ***\n",
       "ReturnFeb    0.31762    0.26624   1.193 0.232878    \n",
       "ReturnMar   -0.37978    0.24045  -1.579 0.114231    \n",
       "ReturnApr    0.49291    0.22460   2.195 0.028189 *  \n",
       "ReturnMay    0.89655    0.25492   3.517 0.000436 ***\n",
       "ReturnJune   1.50088    0.26014   5.770 7.95e-09 ***\n",
       "ReturnJuly   0.78315    0.26864   2.915 0.003554 ** \n",
       "ReturnAug   -0.24486    0.27080  -0.904 0.365876    \n",
       "ReturnSep    0.73685    0.24820   2.969 0.002989 ** \n",
       "ReturnOct   -0.27756    0.18400  -1.509 0.131419    \n",
       "ReturnNov   -0.78747    0.22458  -3.506 0.000454 ***\n",
       "---\n",
       "Signif. codes:  0 '***' 0.001 '**' 0.01 '*' 0.05 '.' 0.1 ' ' 1\n",
       "\n",
       "(Dispersion parameter for binomial family taken to be 1)\n",
       "\n",
       "    Null deviance: 6506.3  on 4695  degrees of freedom\n",
       "Residual deviance: 6362.2  on 4684  degrees of freedom\n",
       "AIC: 6386.2\n",
       "\n",
       "Number of Fisher Scoring iterations: 4\n"
      ]
     },
     "execution_count": 43,
     "metadata": {},
     "output_type": "execute_result"
    }
   ],
   "source": [
    "summary(StocksModel2)"
   ]
  },
  {
   "cell_type": "code",
   "execution_count": 44,
   "metadata": {
    "collapsed": false
   },
   "outputs": [
    {
     "data": {
      "text/plain": [
       "\n",
       "Call:\n",
       "glm(formula = PositiveDec ~ ., family = binomial, data = stocksTrain3)\n",
       "\n",
       "Deviance Residuals: \n",
       "    Min       1Q   Median       3Q      Max  \n",
       "-1.9146  -1.0393  -0.7689   1.1921   1.6939  \n",
       "\n",
       "Coefficients:\n",
       "             Estimate Std. Error z value Pr(>|z|)  \n",
       "(Intercept) -0.181896   0.325182  -0.559   0.5759  \n",
       "ReturnJan   -0.009789   0.448943  -0.022   0.9826  \n",
       "ReturnFeb   -0.046883   0.213432  -0.220   0.8261  \n",
       "ReturnMar    0.674179   0.564790   1.194   0.2326  \n",
       "ReturnApr    1.281466   0.602672   2.126   0.0335 *\n",
       "ReturnMay    0.762512   0.647783   1.177   0.2392  \n",
       "ReturnJune   0.329434   0.408038   0.807   0.4195  \n",
       "ReturnJuly   0.774164   0.729360   1.061   0.2885  \n",
       "ReturnAug    0.982605   0.533158   1.843   0.0653 .\n",
       "ReturnSep    0.363807   0.627774   0.580   0.5622  \n",
       "ReturnOct    0.782242   0.733123   1.067   0.2860  \n",
       "ReturnNov   -0.873752   0.738480  -1.183   0.2367  \n",
       "---\n",
       "Signif. codes:  0 '***' 0.001 '**' 0.01 '*' 0.05 '.' 0.1 ' ' 1\n",
       "\n",
       "(Dispersion parameter for binomial family taken to be 1)\n",
       "\n",
       "    Null deviance: 346.92  on 252  degrees of freedom\n",
       "Residual deviance: 328.29  on 241  degrees of freedom\n",
       "AIC: 352.29\n",
       "\n",
       "Number of Fisher Scoring iterations: 4\n"
      ]
     },
     "execution_count": 44,
     "metadata": {},
     "output_type": "execute_result"
    }
   ],
   "source": [
    "summary(StocksModel3)"
   ]
  },
  {
   "cell_type": "code",
   "execution_count": 53,
   "metadata": {
    "collapsed": false
   },
   "outputs": [
    {
     "data": {
      "text/plain": [
       "   \n",
       "    FALSE TRUE\n",
       "  0    30  471\n",
       "  1    23  774"
      ]
     },
     "execution_count": 53,
     "metadata": {},
     "output_type": "execute_result"
    }
   ],
   "source": [
    "PredictTest1 = predict(StocksModel1, type=\"response\", newdata=stocksTest1)\n",
    "table(stocksTest1$PositiveDec, PredictTest1>=0.5)"
   ]
  },
  {
   "cell_type": "code",
   "execution_count": 46,
   "metadata": {
    "collapsed": false
   },
   "outputs": [
    {
     "data": {
      "text/html": [
       "0.619414483821264"
      ],
      "text/latex": [
       "0.619414483821264"
      ],
      "text/markdown": [
       "0.619414483821264"
      ],
      "text/plain": [
       "[1] 0.6194145"
      ]
     },
     "execution_count": 46,
     "metadata": {},
     "output_type": "execute_result"
    }
   ],
   "source": [
    "(30+774)/nrow(stocksTest1)"
   ]
  },
  {
   "cell_type": "code",
   "execution_count": 54,
   "metadata": {
    "collapsed": false
   },
   "outputs": [
    {
     "data": {
      "text/plain": [
       "   \n",
       "    FALSE TRUE\n",
       "  0   388  626\n",
       "  1   309  757"
      ]
     },
     "execution_count": 54,
     "metadata": {},
     "output_type": "execute_result"
    }
   ],
   "source": [
    "PredictTest2 = predict(StocksModel2, type=\"response\", newdata=stocksTest2)\n",
    "table(stocksTest2$PositiveDec, PredictTest2>=0.5)"
   ]
  },
  {
   "cell_type": "code",
   "execution_count": 49,
   "metadata": {
    "collapsed": false
   },
   "outputs": [
    {
     "data": {
      "text/html": [
       "0.550480769230769"
      ],
      "text/latex": [
       "0.550480769230769"
      ],
      "text/markdown": [
       "0.550480769230769"
      ],
      "text/plain": [
       "[1] 0.5504808"
      ]
     },
     "execution_count": 49,
     "metadata": {},
     "output_type": "execute_result"
    }
   ],
   "source": [
    "(388+757)/nrow(stocksTest2)"
   ]
  },
  {
   "cell_type": "code",
   "execution_count": 55,
   "metadata": {
    "collapsed": false
   },
   "outputs": [
    {
     "data": {
      "text/plain": [
       "   \n",
       "    FALSE TRUE\n",
       "  0    49   13\n",
       "  1    21   13"
      ]
     },
     "execution_count": 55,
     "metadata": {},
     "output_type": "execute_result"
    }
   ],
   "source": [
    "PredictTest3 = predict(StocksModel3, type=\"response\", newdata=stocksTest3)\n",
    "table(stocksTest3$PositiveDec, PredictTest3>=0.5)"
   ]
  },
  {
   "cell_type": "code",
   "execution_count": 51,
   "metadata": {
    "collapsed": false
   },
   "outputs": [
    {
     "data": {
      "text/html": [
       "0.645833333333333"
      ],
      "text/latex": [
       "0.645833333333333"
      ],
      "text/markdown": [
       "0.645833333333333"
      ],
      "text/plain": [
       "[1] 0.6458333"
      ]
     },
     "execution_count": 51,
     "metadata": {},
     "output_type": "execute_result"
    }
   ],
   "source": [
    "(49+13)/nrow(stocksTest3)"
   ]
  },
  {
   "cell_type": "code",
   "execution_count": 56,
   "metadata": {
    "collapsed": false
   },
   "outputs": [
    {
     "data": {
      "text/plain": [
       "           \n",
       "AllOutcomes FALSE TRUE\n",
       "          0   467 1110\n",
       "          1   353 1544"
      ]
     },
     "execution_count": 56,
     "metadata": {},
     "output_type": "execute_result"
    }
   ],
   "source": [
    "AllPredictions = c(PredictTest1, PredictTest2, PredictTest3)\n",
    "AllOutcomes = c(stocksTest1$PositiveDec, stocksTest2$PositiveDec, stocksTest3$PositiveDec)\n",
    "table(AllOutcomes, AllPredictions>=0.5)"
   ]
  },
  {
   "cell_type": "code",
   "execution_count": 57,
   "metadata": {
    "collapsed": false
   },
   "outputs": [
    {
     "data": {
      "text/html": [
       "0.578871617731721"
      ],
      "text/latex": [
       "0.578871617731721"
      ],
      "text/markdown": [
       "0.578871617731721"
      ],
      "text/plain": [
       "[1] 0.5788716"
      ]
     },
     "execution_count": 57,
     "metadata": {},
     "output_type": "execute_result"
    }
   ],
   "source": [
    "(467+1544)/(467+1110+353+1544)"
   ]
  },
  {
   "cell_type": "code",
   "execution_count": null,
   "metadata": {
    "collapsed": true
   },
   "outputs": [],
   "source": []
  }
 ],
 "metadata": {
  "kernelspec": {
   "display_name": "R",
   "language": "R",
   "name": "ir"
  },
  "language_info": {
   "codemirror_mode": "r",
   "file_extension": ".r",
   "mimetype": "text/x-r-source",
   "name": "R",
   "pygments_lexer": "r",
   "version": "3.1.3"
  }
 },
 "nbformat": 4,
 "nbformat_minor": 0
}
