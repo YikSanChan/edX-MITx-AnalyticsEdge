{
 "cells": [
  {
   "cell_type": "markdown",
   "metadata": {},
   "source": [
    "### 目标\n",
    "\n",
    "对Daily Kos上发表的文章进行聚类分析。\n",
    "\n",
    "### 数据\n",
    "\n",
    "文章所包含单词及单词出现次数。"
   ]
  },
  {
   "cell_type": "code",
   "execution_count": 1,
   "metadata": {
    "collapsed": false
   },
   "outputs": [
    {
     "name": "stdout",
     "output_type": "stream",
     "text": [
      "'data.frame':\t3430 obs. of  1545 variables:\n",
      " $ abandon                                 : int  0 0 0 0 0 0 0 0 0 0 ...\n",
      " $ abc                                     : int  0 0 0 0 0 0 0 0 0 0 ...\n",
      " $ ability                                 : int  0 0 0 0 0 0 0 0 0 0 ...\n",
      " $ abortion                                : int  0 0 0 0 0 0 0 0 0 0 ...\n",
      " $ absolute                                : int  0 0 0 0 0 0 0 0 0 0 ...\n",
      " $ abstain                                 : int  0 0 1 0 0 0 0 0 0 0 ...\n",
      " $ abu                                     : int  0 0 0 0 0 0 0 0 0 0 ...\n",
      " $ abuse                                   : int  0 0 0 0 0 0 0 0 0 0 ...\n",
      " $ accept                                  : int  0 0 0 0 0 0 0 0 0 0 ...\n",
      " $ access                                  : int  0 0 0 0 0 0 0 0 0 0 ...\n",
      " $ accomplish                              : int  0 0 0 0 0 0 0 0 0 0 ...\n",
      " $ account                                 : int  0 0 2 0 0 0 0 0 0 0 ...\n",
      " $ accurate                                : int  0 0 0 0 0 0 0 0 0 0 ...\n",
      " $ accusations                             : int  0 0 0 2 0 0 0 0 0 0 ...\n",
      " $ achieve                                 : int  0 0 0 0 0 0 0 0 0 0 ...\n",
      " $ acknowledge                             : int  0 0 0 0 0 0 0 0 0 0 ...\n",
      " $ act                                     : int  0 0 0 0 0 0 0 0 0 0 ...\n",
      " $ action                                  : int  2 0 0 0 0 0 0 0 0 0 ...\n",
      " $ active                                  : int  0 0 0 0 0 0 0 0 0 0 ...\n",
      " $ activist                                : int  0 0 0 0 0 0 0 0 0 0 ...\n",
      " $ actual                                  : int  0 0 0 0 0 0 0 0 0 0 ...\n",
      " $ add                                     : int  0 0 0 0 0 0 0 0 0 0 ...\n",
      " $ added                                   : int  1 0 0 0 1 0 0 0 1 0 ...\n",
      " $ addition                                : int  0 0 0 0 0 0 0 0 0 0 ...\n",
      " $ address                                 : int  0 0 0 0 0 0 0 0 0 0 ...\n",
      " $ admin                                   : int  0 0 1 0 0 0 0 0 0 0 ...\n",
      " $ administration                          : int  1 0 0 0 0 0 0 0 0 0 ...\n",
      " $ admit                                   : int  0 0 0 0 1 0 0 0 0 0 ...\n",
      " $ advance                                 : int  0 0 0 0 0 0 0 0 0 0 ...\n",
      " $ advantage                               : int  0 0 0 1 0 0 0 0 0 0 ...\n",
      " $ advertise                               : int  0 0 1 0 0 0 0 0 0 0 ...\n",
      " $ advised                                 : int  0 0 0 0 0 0 0 0 0 0 ...\n",
      " $ affair                                  : int  0 0 0 0 0 0 0 0 0 0 ...\n",
      " $ affect                                  : int  0 0 0 0 0 0 0 0 0 0 ...\n",
      " $ affiliate                               : int  0 0 0 0 0 0 0 0 0 0 ...\n",
      " $ afghanistan                             : int  0 0 0 0 0 0 0 0 0 0 ...\n",
      " $ afraid                                  : int  0 0 0 0 0 0 0 0 0 0 ...\n",
      " $ afternoon                               : int  0 0 0 0 0 0 0 0 0 0 ...\n",
      " $ age                                     : int  0 0 0 0 0 0 0 0 0 0 ...\n",
      " $ agencies                                : int  0 0 0 0 0 0 0 0 0 0 ...\n",
      " $ agenda                                  : int  0 0 0 0 0 0 0 0 0 0 ...\n",
      " $ agree                                   : int  0 0 0 0 0 0 0 0 0 0 ...\n",
      " $ ahead                                   : int  0 0 0 0 0 0 0 0 0 0 ...\n",
      " $ aid                                     : int  0 0 0 1 1 0 0 0 0 0 ...\n",
      " $ aim                                     : int  0 0 0 0 0 0 0 0 0 0 ...\n",
      " $ air                                     : int  0 0 0 0 0 0 0 0 0 0 ...\n",
      " $ alaska                                  : int  0 0 0 0 0 0 0 0 0 0 ...\n",
      " $ allegation                              : int  0 0 0 0 0 0 0 0 0 0 ...\n",
      " $ allegory                                : int  0 0 0 0 0 0 0 0 0 0 ...\n",
      " $ allied                                  : int  0 0 0 0 0 0 0 0 0 0 ...\n",
      " $ allowed                                 : int  0 0 0 0 0 0 0 0 0 0 ...\n",
      " $ alternative                             : int  0 0 0 0 0 0 0 0 0 0 ...\n",
      " $ altsite                                 : int  0 0 1 0 0 0 0 0 0 0 ...\n",
      " $ amazing                                 : int  0 0 0 0 0 0 0 0 0 0 ...\n",
      " $ amendment                               : int  0 0 0 0 0 0 0 0 0 0 ...\n",
      " $ america                                 : int  0 0 0 0 0 0 0 0 0 0 ...\n",
      " $ american                                : int  0 0 0 0 1 0 0 0 0 0 ...\n",
      " $ amount                                  : int  0 0 0 0 0 0 0 0 0 0 ...\n",
      " $ amp                                     : int  0 0 0 0 0 0 0 0 0 0 ...\n",
      " $ analysis                                : int  0 0 0 0 1 0 0 0 0 0 ...\n",
      " $ analyst                                 : int  0 0 0 0 0 0 0 0 0 0 ...\n",
      " $ anecdotal                               : int  0 0 1 0 0 0 0 0 0 0 ...\n",
      " $ anger                                   : int  0 0 0 0 0 0 0 0 0 0 ...\n",
      " $ angry                                   : int  0 0 0 0 0 0 0 0 0 0 ...\n",
      " $ announce                                : int  0 0 0 0 0 0 0 0 0 0 ...\n",
      " $ annual                                  : int  0 0 0 0 0 0 0 0 0 0 ...\n",
      " $ answer                                  : int  0 0 0 1 0 0 1 0 0 0 ...\n",
      " $ apologies                               : int  0 0 0 0 0 0 0 0 0 0 ...\n",
      " $ apparent                                : int  0 0 0 0 0 0 0 0 0 0 ...\n",
      " $ appeal                                  : int  0 0 0 0 0 0 0 0 0 0 ...\n",
      " $ appearance                              : int  0 0 0 0 0 0 0 0 0 0 ...\n",
      " $ applied                                 : int  0 0 0 0 0 0 0 0 0 0 ...\n",
      " $ appointed                               : int  0 0 0 0 0 0 0 0 0 0 ...\n",
      " $ approach                                : int  0 0 0 0 0 0 1 0 0 0 ...\n",
      " $ approval                                : int  1 0 0 0 1 0 0 0 1 0 ...\n",
      " $ apr                                     : int  0 0 0 0 0 0 0 0 0 0 ...\n",
      " $ april                                   : int  0 0 0 0 0 0 0 0 0 0 ...\n",
      " $ arab                                    : int  0 0 0 0 0 0 0 0 0 0 ...\n",
      " $ area                                    : int  0 0 0 0 0 0 0 0 0 0 ...\n",
      " $ arent                                   : int  0 0 0 0 0 0 0 0 0 0 ...\n",
      " $ arg                                     : int  0 0 0 0 0 0 0 0 0 0 ...\n",
      " $ argue                                   : int  0 0 0 0 0 0 0 0 0 0 ...\n",
      " $ argument                                : int  0 0 0 0 0 0 0 0 0 0 ...\n",
      " $ arizona                                 : int  0 0 0 0 0 0 0 0 0 0 ...\n",
      " $ arm                                     : int  0 0 0 0 0 0 0 0 0 0 ...\n",
      " $ armstrong                               : int  0 0 0 0 0 0 0 0 0 0 ...\n",
      " $ army                                    : int  0 0 0 0 0 0 0 0 0 0 ...\n",
      " $ arrest                                  : int  0 0 0 0 0 0 0 0 0 0 ...\n",
      " $ arrive                                  : int  0 0 0 0 0 0 0 0 0 0 ...\n",
      " $ article                                 : int  0 0 0 0 0 0 0 0 0 0 ...\n",
      " $ asap                                    : int  0 0 1 0 0 0 0 0 0 0 ...\n",
      " $ asked                                   : int  0 0 0 0 0 0 0 0 0 0 ...\n",
      " $ ass                                     : int  0 0 0 0 0 0 0 0 0 0 ...\n",
      " $ assess                                  : int  0 0 0 0 0 0 0 0 0 0 ...\n",
      " $ assist                                  : int  0 0 0 0 0 0 0 0 0 0 ...\n",
      " $ associate                               : int  0 0 0 0 0 0 0 0 0 0 ...\n",
      " $ assume                                  : int  0 0 0 0 0 0 0 0 0 0 ...\n",
      " $ atlanta                                 : int  0 0 1 0 0 0 0 0 0 0 ...\n",
      " $ atrios                                  : int  0 0 0 0 0 0 1 0 0 0 ...\n",
      "  [list output truncated]\n"
     ]
    }
   ],
   "source": [
    "dailykos = read.csv(\"./data/dailykos.csv\")\n",
    "str(dailykos)"
   ]
  },
  {
   "cell_type": "code",
   "execution_count": 2,
   "metadata": {
    "collapsed": false
   },
   "outputs": [],
   "source": [
    "distances = dist(dailykos, method=\"euclidean\")\n",
    "clusterDailykos = hclust(distances, method=\"ward.D\")"
   ]
  },
  {
   "cell_type": "code",
   "execution_count": 3,
   "metadata": {
    "collapsed": false
   },
   "outputs": [
    {
     "data": {
      "application/pdf": "[encoded data removed]",
      "image/jpeg": "[encoded data removed]",
      "image/png": "[encoded data removed]",
      "text/plain": [
       "Plot with title \"Cluster Dendrogram\""
      ]
     },
     "metadata": {
      "image/svg+xml": {
       "isolated": true
      }
     },
     "output_type": "display_data"
    }
   ],
   "source": [
    "plot(clusterDailykos)"
   ]
  },
  {
   "cell_type": "code",
   "execution_count": 4,
   "metadata": {
    "collapsed": true
   },
   "outputs": [],
   "source": [
    "clusterGroups = cutree(clusterDailykos, k=7)"
   ]
  },
  {
   "cell_type": "code",
   "execution_count": 15,
   "metadata": {
    "collapsed": false
   },
   "outputs": [
    {
     "data": {
      "text/html": [
       "1266"
      ],
      "text/latex": [
       "1266"
      ],
      "text/markdown": [
       "1266"
      ],
      "text/plain": [
       "[1] 1266"
      ]
     },
     "execution_count": 15,
     "metadata": {},
     "output_type": "execute_result"
    }
   ],
   "source": [
    "cluster1 = subset(dailykos, clusterGroups==1)\n",
    "nrow(cluster1)"
   ]
  },
  {
   "cell_type": "code",
   "execution_count": 14,
   "metadata": {
    "collapsed": false
   },
   "outputs": [
    {
     "data": {
      "text/html": [
       "321"
      ],
      "text/latex": [
       "321"
      ],
      "text/markdown": [
       "321"
      ],
      "text/plain": [
       "[1] 321"
      ]
     },
     "execution_count": 14,
     "metadata": {},
     "output_type": "execute_result"
    }
   ],
   "source": [
    "cluster2 = subset(dailykos, clusterGroups==2)\n",
    "nrow(cluster2)"
   ]
  },
  {
   "cell_type": "code",
   "execution_count": 13,
   "metadata": {
    "collapsed": false
   },
   "outputs": [
    {
     "data": {
      "text/html": [
       "374"
      ],
      "text/latex": [
       "374"
      ],
      "text/markdown": [
       "374"
      ],
      "text/plain": [
       "[1] 374"
      ]
     },
     "execution_count": 13,
     "metadata": {},
     "output_type": "execute_result"
    }
   ],
   "source": [
    "cluster3 = subset(dailykos, clusterGroups==3)\n",
    "nrow(cluster3)"
   ]
  },
  {
   "cell_type": "code",
   "execution_count": 12,
   "metadata": {
    "collapsed": false
   },
   "outputs": [
    {
     "data": {
      "text/html": [
       "139"
      ],
      "text/latex": [
       "139"
      ],
      "text/markdown": [
       "139"
      ],
      "text/plain": [
       "[1] 139"
      ]
     },
     "execution_count": 12,
     "metadata": {},
     "output_type": "execute_result"
    }
   ],
   "source": [
    "cluster4 = subset(dailykos, clusterGroups==4)\n",
    "nrow(cluster4)"
   ]
  },
  {
   "cell_type": "code",
   "execution_count": 11,
   "metadata": {
    "collapsed": false
   },
   "outputs": [
    {
     "data": {
      "text/html": [
       "407"
      ],
      "text/latex": [
       "407"
      ],
      "text/markdown": [
       "407"
      ],
      "text/plain": [
       "[1] 407"
      ]
     },
     "execution_count": 11,
     "metadata": {},
     "output_type": "execute_result"
    }
   ],
   "source": [
    "cluster5 = subset(dailykos, clusterGroups==5)\n",
    "nrow(cluster5)"
   ]
  },
  {
   "cell_type": "code",
   "execution_count": 16,
   "metadata": {
    "collapsed": false
   },
   "outputs": [
    {
     "data": {
      "text/html": [
       "714"
      ],
      "text/latex": [
       "714"
      ],
      "text/markdown": [
       "714"
      ],
      "text/plain": [
       "[1] 714"
      ]
     },
     "execution_count": 16,
     "metadata": {},
     "output_type": "execute_result"
    }
   ],
   "source": [
    "cluster6 = subset(dailykos, clusterGroups==6)\n",
    "nrow(cluster6)"
   ]
  },
  {
   "cell_type": "code",
   "execution_count": 18,
   "metadata": {
    "collapsed": false
   },
   "outputs": [
    {
     "data": {
      "text/html": [
       "209"
      ],
      "text/latex": [
       "209"
      ],
      "text/markdown": [
       "209"
      ],
      "text/plain": [
       "[1] 209"
      ]
     },
     "execution_count": 18,
     "metadata": {},
     "output_type": "execute_result"
    }
   ],
   "source": [
    "cluster7 = subset(dailykos, clusterGroups==7)\n",
    "nrow(cluster7)"
   ]
  },
  {
   "cell_type": "code",
   "execution_count": 19,
   "metadata": {
    "collapsed": false
   },
   "outputs": [
    {
     "data": {
      "text/html": [
       "<dl class=dl-horizontal>\n",
       "\t<dt>state</dt>\n",
       "\t\t<dd>0.757503949447077</dd>\n",
       "\t<dt>republican</dt>\n",
       "\t\t<dd>0.759083728278041</dd>\n",
       "\t<dt>poll</dt>\n",
       "\t\t<dd>0.903633491311216</dd>\n",
       "\t<dt>democrat</dt>\n",
       "\t\t<dd>0.919431279620853</dd>\n",
       "\t<dt>kerry</dt>\n",
       "\t\t<dd>1.06240126382306</dd>\n",
       "\t<dt>bush</dt>\n",
       "\t\t<dd>1.70537124802528</dd>\n",
       "</dl>\n"
      ],
      "text/latex": [
       "\\begin{description*}\n",
       "\\item[state] 0.757503949447077\n",
       "\\item[republican] 0.759083728278041\n",
       "\\item[poll] 0.903633491311216\n",
       "\\item[democrat] 0.919431279620853\n",
       "\\item[kerry] 1.06240126382306\n",
       "\\item[bush] 1.70537124802528\n",
       "\\end{description*}\n"
      ],
      "text/markdown": [
       "state\n",
       ":   0.757503949447077republican\n",
       ":   0.759083728278041poll\n",
       ":   0.903633491311216democrat\n",
       ":   0.919431279620853kerry\n",
       ":   1.06240126382306bush\n",
       ":   1.70537124802528\n",
       "\n"
      ],
      "text/plain": [
       "     state republican       poll   democrat      kerry       bush \n",
       " 0.7575039  0.7590837  0.9036335  0.9194313  1.0624013  1.7053712 "
      ]
     },
     "execution_count": 19,
     "metadata": {},
     "output_type": "execute_result"
    }
   ],
   "source": [
    "tail(sort(colMeans(cluster1)))"
   ]
  },
  {
   "cell_type": "code",
   "execution_count": 20,
   "metadata": {
    "collapsed": false
   },
   "outputs": [
    {
     "data": {
      "text/html": [
       "<dl class=dl-horizontal>\n",
       "\t<dt>bush</dt>\n",
       "\t\t<dd>2.84735202492212</dd>\n",
       "\t<dt>democrat</dt>\n",
       "\t\t<dd>2.85046728971963</dd>\n",
       "\t<dt>challenge</dt>\n",
       "\t\t<dd>4.09657320872274</dd>\n",
       "\t<dt>vote</dt>\n",
       "\t\t<dd>4.398753894081</dd>\n",
       "\t<dt>poll</dt>\n",
       "\t\t<dd>4.84735202492212</dd>\n",
       "\t<dt>november</dt>\n",
       "\t\t<dd>10.3395638629283</dd>\n",
       "</dl>\n"
      ],
      "text/latex": [
       "\\begin{description*}\n",
       "\\item[bush] 2.84735202492212\n",
       "\\item[democrat] 2.85046728971963\n",
       "\\item[challenge] 4.09657320872274\n",
       "\\item[vote] 4.398753894081\n",
       "\\item[poll] 4.84735202492212\n",
       "\\item[november] 10.3395638629283\n",
       "\\end{description*}\n"
      ],
      "text/markdown": [
       "bush\n",
       ":   2.84735202492212democrat\n",
       ":   2.85046728971963challenge\n",
       ":   4.09657320872274vote\n",
       ":   4.398753894081poll\n",
       ":   4.84735202492212november\n",
       ":   10.3395638629283\n",
       "\n"
      ],
      "text/plain": [
       "     bush  democrat challenge      vote      poll  november \n",
       " 2.847352  2.850467  4.096573  4.398754  4.847352 10.339564 "
      ]
     },
     "execution_count": 20,
     "metadata": {},
     "output_type": "execute_result"
    }
   ],
   "source": [
    "tail(sort(colMeans(cluster2)))"
   ]
  },
  {
   "cell_type": "code",
   "execution_count": 21,
   "metadata": {
    "collapsed": false
   },
   "outputs": [
    {
     "data": {
      "text/html": [
       "<dl class=dl-horizontal>\n",
       "\t<dt>elect</dt>\n",
       "\t\t<dd>1.64705882352941</dd>\n",
       "\t<dt>parties</dt>\n",
       "\t\t<dd>1.66577540106952</dd>\n",
       "\t<dt>state</dt>\n",
       "\t\t<dd>2.32085561497326</dd>\n",
       "\t<dt>republican</dt>\n",
       "\t\t<dd>2.52406417112299</dd>\n",
       "\t<dt>democrat</dt>\n",
       "\t\t<dd>3.82352941176471</dd>\n",
       "\t<dt>bush</dt>\n",
       "\t\t<dd>4.40641711229947</dd>\n",
       "</dl>\n"
      ],
      "text/latex": [
       "\\begin{description*}\n",
       "\\item[elect] 1.64705882352941\n",
       "\\item[parties] 1.66577540106952\n",
       "\\item[state] 2.32085561497326\n",
       "\\item[republican] 2.52406417112299\n",
       "\\item[democrat] 3.82352941176471\n",
       "\\item[bush] 4.40641711229947\n",
       "\\end{description*}\n"
      ],
      "text/markdown": [
       "elect\n",
       ":   1.64705882352941parties\n",
       ":   1.66577540106952state\n",
       ":   2.32085561497326republican\n",
       ":   2.52406417112299democrat\n",
       ":   3.82352941176471bush\n",
       ":   4.40641711229947\n",
       "\n"
      ],
      "text/plain": [
       "     elect    parties      state republican   democrat       bush \n",
       "  1.647059   1.665775   2.320856   2.524064   3.823529   4.406417 "
      ]
     },
     "execution_count": 21,
     "metadata": {},
     "output_type": "execute_result"
    }
   ],
   "source": [
    "tail(sort(colMeans(cluster3)))"
   ]
  },
  {
   "cell_type": "code",
   "execution_count": 22,
   "metadata": {
    "collapsed": false
   },
   "outputs": [
    {
     "data": {
      "text/html": [
       "<dl class=dl-horizontal>\n",
       "\t<dt>campaign</dt>\n",
       "\t\t<dd>1.43165467625899</dd>\n",
       "\t<dt>voter</dt>\n",
       "\t\t<dd>1.53956834532374</dd>\n",
       "\t<dt>presided</dt>\n",
       "\t\t<dd>1.62589928057554</dd>\n",
       "\t<dt>poll</dt>\n",
       "\t\t<dd>3.58992805755396</dd>\n",
       "\t<dt>bush</dt>\n",
       "\t\t<dd>7.83453237410072</dd>\n",
       "\t<dt>kerry</dt>\n",
       "\t\t<dd>8.43884892086331</dd>\n",
       "</dl>\n"
      ],
      "text/latex": [
       "\\begin{description*}\n",
       "\\item[campaign] 1.43165467625899\n",
       "\\item[voter] 1.53956834532374\n",
       "\\item[presided] 1.62589928057554\n",
       "\\item[poll] 3.58992805755396\n",
       "\\item[bush] 7.83453237410072\n",
       "\\item[kerry] 8.43884892086331\n",
       "\\end{description*}\n"
      ],
      "text/markdown": [
       "campaign\n",
       ":   1.43165467625899voter\n",
       ":   1.53956834532374presided\n",
       ":   1.62589928057554poll\n",
       ":   3.58992805755396bush\n",
       ":   7.83453237410072kerry\n",
       ":   8.43884892086331\n",
       "\n"
      ],
      "text/plain": [
       "campaign    voter presided     poll     bush    kerry \n",
       "1.431655 1.539568 1.625899 3.589928 7.834532 8.438849 "
      ]
     },
     "execution_count": 22,
     "metadata": {},
     "output_type": "execute_result"
    }
   ],
   "source": [
    "tail(sort(colMeans(cluster4)))"
   ]
  },
  {
   "cell_type": "code",
   "execution_count": 23,
   "metadata": {
    "collapsed": false
   },
   "outputs": [
    {
     "data": {
      "text/html": [
       "<dl class=dl-horizontal>\n",
       "\t<dt>american</dt>\n",
       "\t\t<dd>1.09090909090909</dd>\n",
       "\t<dt>presided</dt>\n",
       "\t\t<dd>1.12039312039312</dd>\n",
       "\t<dt>administration</dt>\n",
       "\t\t<dd>1.23095823095823</dd>\n",
       "\t<dt>war</dt>\n",
       "\t\t<dd>1.77641277641278</dd>\n",
       "\t<dt>iraq</dt>\n",
       "\t\t<dd>2.42751842751843</dd>\n",
       "\t<dt>bush</dt>\n",
       "\t\t<dd>3.94103194103194</dd>\n",
       "</dl>\n"
      ],
      "text/latex": [
       "\\begin{description*}\n",
       "\\item[american] 1.09090909090909\n",
       "\\item[presided] 1.12039312039312\n",
       "\\item[administration] 1.23095823095823\n",
       "\\item[war] 1.77641277641278\n",
       "\\item[iraq] 2.42751842751843\n",
       "\\item[bush] 3.94103194103194\n",
       "\\end{description*}\n"
      ],
      "text/markdown": [
       "american\n",
       ":   1.09090909090909presided\n",
       ":   1.12039312039312administration\n",
       ":   1.23095823095823war\n",
       ":   1.77641277641278iraq\n",
       ":   2.42751842751843bush\n",
       ":   3.94103194103194\n",
       "\n"
      ],
      "text/plain": [
       "      american       presided administration            war           iraq \n",
       "      1.090909       1.120393       1.230958       1.776413       2.427518 \n",
       "          bush \n",
       "      3.941032 "
      ]
     },
     "execution_count": 23,
     "metadata": {},
     "output_type": "execute_result"
    }
   ],
   "source": [
    "tail(sort(colMeans(cluster5)))"
   ]
  },
  {
   "cell_type": "code",
   "execution_count": 24,
   "metadata": {
    "collapsed": false
   },
   "outputs": [
    {
     "data": {
      "text/html": [
       "<dl class=dl-horizontal>\n",
       "\t<dt>race</dt>\n",
       "\t\t<dd>0.457983193277311</dd>\n",
       "\t<dt>bush</dt>\n",
       "\t\t<dd>0.488795518207283</dd>\n",
       "\t<dt>kerry</dt>\n",
       "\t\t<dd>0.516806722689076</dd>\n",
       "\t<dt>elect</dt>\n",
       "\t\t<dd>0.535014005602241</dd>\n",
       "\t<dt>democrat</dt>\n",
       "\t\t<dd>0.564425770308123</dd>\n",
       "\t<dt>poll</dt>\n",
       "\t\t<dd>0.581232492997199</dd>\n",
       "</dl>\n"
      ],
      "text/latex": [
       "\\begin{description*}\n",
       "\\item[race] 0.457983193277311\n",
       "\\item[bush] 0.488795518207283\n",
       "\\item[kerry] 0.516806722689076\n",
       "\\item[elect] 0.535014005602241\n",
       "\\item[democrat] 0.564425770308123\n",
       "\\item[poll] 0.581232492997199\n",
       "\\end{description*}\n"
      ],
      "text/markdown": [
       "race\n",
       ":   0.457983193277311bush\n",
       ":   0.488795518207283kerry\n",
       ":   0.516806722689076elect\n",
       ":   0.535014005602241democrat\n",
       ":   0.564425770308123poll\n",
       ":   0.581232492997199\n",
       "\n"
      ],
      "text/plain": [
       "     race      bush     kerry     elect  democrat      poll \n",
       "0.4579832 0.4887955 0.5168067 0.5350140 0.5644258 0.5812325 "
      ]
     },
     "execution_count": 24,
     "metadata": {},
     "output_type": "execute_result"
    }
   ],
   "source": [
    "tail(sort(colMeans(cluster6)))"
   ]
  },
  {
   "cell_type": "code",
   "execution_count": 25,
   "metadata": {
    "collapsed": false
   },
   "outputs": [
    {
     "data": {
      "text/html": [
       "<dl class=dl-horizontal>\n",
       "\t<dt>democrat</dt>\n",
       "\t\t<dd>2.14832535885167</dd>\n",
       "\t<dt>clark</dt>\n",
       "\t\t<dd>2.49760765550239</dd>\n",
       "\t<dt>edward</dt>\n",
       "\t\t<dd>2.60765550239234</dd>\n",
       "\t<dt>poll</dt>\n",
       "\t\t<dd>2.76555023923445</dd>\n",
       "\t<dt>kerry</dt>\n",
       "\t\t<dd>3.95215311004785</dd>\n",
       "\t<dt>dean</dt>\n",
       "\t\t<dd>5.80382775119617</dd>\n",
       "</dl>\n"
      ],
      "text/latex": [
       "\\begin{description*}\n",
       "\\item[democrat] 2.14832535885167\n",
       "\\item[clark] 2.49760765550239\n",
       "\\item[edward] 2.60765550239234\n",
       "\\item[poll] 2.76555023923445\n",
       "\\item[kerry] 3.95215311004785\n",
       "\\item[dean] 5.80382775119617\n",
       "\\end{description*}\n"
      ],
      "text/markdown": [
       "democrat\n",
       ":   2.14832535885167clark\n",
       ":   2.49760765550239edward\n",
       ":   2.60765550239234poll\n",
       ":   2.76555023923445kerry\n",
       ":   3.95215311004785dean\n",
       ":   5.80382775119617\n",
       "\n"
      ],
      "text/plain": [
       "democrat    clark   edward     poll    kerry     dean \n",
       "2.148325 2.497608 2.607656 2.765550 3.952153 5.803828 "
      ]
     },
     "execution_count": 25,
     "metadata": {},
     "output_type": "execute_result"
    }
   ],
   "source": [
    "tail(sort(colMeans(cluster7)))"
   ]
  },
  {
   "cell_type": "code",
   "execution_count": 2,
   "metadata": {
    "collapsed": true
   },
   "outputs": [],
   "source": [
    "set.seed(1000)\n",
    "k = 7\n",
    "KMC = kmeans(dailykos, centers=k)"
   ]
  },
  {
   "cell_type": "code",
   "execution_count": 3,
   "metadata": {
    "collapsed": false
   },
   "outputs": [
    {
     "name": "stdout",
     "output_type": "stream",
     "text": [
      "List of 9\n",
      " $ cluster     : int [1:3430] 4 4 6 4 1 4 7 4 4 4 ...\n",
      " $ centers     : num [1:7, 1:1545] 0.0342 0.0556 0.0253 0.0136 0.0491 ...\n",
      "  ..- attr(*, \"dimnames\")=List of 2\n",
      "  .. ..$ : chr [1:7] \"1\" \"2\" \"3\" \"4\" ...\n",
      "  .. ..$ : chr [1:1545] \"abandon\" \"abc\" \"ability\" \"abortion\" ...\n",
      " $ totss       : num 896461\n",
      " $ withinss    : num [1:7] 76583 52693 99504 258927 88632 ...\n",
      " $ tot.withinss: num 730632\n",
      " $ betweenss   : num 165829\n",
      " $ size        : int [1:7] 146 144 277 2063 163 329 308\n",
      " $ iter        : int 7\n",
      " $ ifault      : int 0\n",
      " - attr(*, \"class\")= chr \"kmeans\"\n"
     ]
    }
   ],
   "source": [
    "str(KMC)"
   ]
  },
  {
   "cell_type": "code",
   "execution_count": 5,
   "metadata": {
    "collapsed": true
   },
   "outputs": [],
   "source": [
    "kmeansCluster1 = subset(dailykos, KMC$cluster==1)\n",
    "kmeansCluster2 = subset(dailykos, KMC$cluster==2)\n",
    "kmeansCluster3 = subset(dailykos, KMC$cluster==3)\n",
    "kmeansCluster4 = subset(dailykos, KMC$cluster==4)\n",
    "kmeansCluster5 = subset(dailykos, KMC$cluster==5)\n",
    "kmeansCluster6 = subset(dailykos, KMC$cluster==6)\n",
    "kmeansCluster7 = subset(dailykos, KMC$cluster==7)"
   ]
  },
  {
   "cell_type": "code",
   "execution_count": 7,
   "metadata": {
    "collapsed": false
   },
   "outputs": [
    {
     "data": {
      "text/html": [
       "<dl class=dl-horizontal>\n",
       "\t<dt>state</dt>\n",
       "\t\t<dd>1.60958904109589</dd>\n",
       "\t<dt>iraq</dt>\n",
       "\t\t<dd>1.61643835616438</dd>\n",
       "\t<dt>kerry</dt>\n",
       "\t\t<dd>1.63698630136986</dd>\n",
       "\t<dt>administration</dt>\n",
       "\t\t<dd>2.66438356164384</dd>\n",
       "\t<dt>presided</dt>\n",
       "\t\t<dd>2.76712328767123</dd>\n",
       "\t<dt>bush</dt>\n",
       "\t\t<dd>11.4315068493151</dd>\n",
       "</dl>\n"
      ],
      "text/latex": [
       "\\begin{description*}\n",
       "\\item[state] 1.60958904109589\n",
       "\\item[iraq] 1.61643835616438\n",
       "\\item[kerry] 1.63698630136986\n",
       "\\item[administration] 2.66438356164384\n",
       "\\item[presided] 2.76712328767123\n",
       "\\item[bush] 11.4315068493151\n",
       "\\end{description*}\n"
      ],
      "text/markdown": [
       "state\n",
       ":   1.60958904109589iraq\n",
       ":   1.61643835616438kerry\n",
       ":   1.63698630136986administration\n",
       ":   2.66438356164384presided\n",
       ":   2.76712328767123bush\n",
       ":   11.4315068493151\n",
       "\n"
      ],
      "text/plain": [
       "         state           iraq          kerry administration       presided \n",
       "      1.609589       1.616438       1.636986       2.664384       2.767123 \n",
       "          bush \n",
       "     11.431507 "
      ]
     },
     "execution_count": 7,
     "metadata": {},
     "output_type": "execute_result"
    }
   ],
   "source": [
    "tail(sort(colMeans(kmeansCluster1)))"
   ]
  },
  {
   "cell_type": "code",
   "execution_count": 8,
   "metadata": {
    "collapsed": false
   },
   "outputs": [
    {
     "data": {
      "text/html": [
       "<dl class=dl-horizontal>\n",
       "\t<dt>primaries</dt>\n",
       "\t\t<dd>2.31944444444444</dd>\n",
       "\t<dt>democrat</dt>\n",
       "\t\t<dd>2.69444444444444</dd>\n",
       "\t<dt>edward</dt>\n",
       "\t\t<dd>2.79861111111111</dd>\n",
       "\t<dt>clark</dt>\n",
       "\t\t<dd>3.09027777777778</dd>\n",
       "\t<dt>kerry</dt>\n",
       "\t\t<dd>4.97916666666667</dd>\n",
       "\t<dt>dean</dt>\n",
       "\t\t<dd>8.27777777777778</dd>\n",
       "</dl>\n"
      ],
      "text/latex": [
       "\\begin{description*}\n",
       "\\item[primaries] 2.31944444444444\n",
       "\\item[democrat] 2.69444444444444\n",
       "\\item[edward] 2.79861111111111\n",
       "\\item[clark] 3.09027777777778\n",
       "\\item[kerry] 4.97916666666667\n",
       "\\item[dean] 8.27777777777778\n",
       "\\end{description*}\n"
      ],
      "text/markdown": [
       "primaries\n",
       ":   2.31944444444444democrat\n",
       ":   2.69444444444444edward\n",
       ":   2.79861111111111clark\n",
       ":   3.09027777777778kerry\n",
       ":   4.97916666666667dean\n",
       ":   8.27777777777778\n",
       "\n"
      ],
      "text/plain": [
       "primaries  democrat    edward     clark     kerry      dean \n",
       " 2.319444  2.694444  2.798611  3.090278  4.979167  8.277778 "
      ]
     },
     "execution_count": 8,
     "metadata": {},
     "output_type": "execute_result"
    }
   ],
   "source": [
    "tail(sort(colMeans(kmeansCluster2)))"
   ]
  },
  {
   "cell_type": "code",
   "execution_count": 9,
   "metadata": {
    "collapsed": false
   },
   "outputs": [
    {
     "data": {
      "text/html": [
       "<dl class=dl-horizontal>\n",
       "\t<dt>administration</dt>\n",
       "\t\t<dd>1.3898916967509</dd>\n",
       "\t<dt>iraqi</dt>\n",
       "\t\t<dd>1.6101083032491</dd>\n",
       "\t<dt>american</dt>\n",
       "\t\t<dd>1.68592057761733</dd>\n",
       "\t<dt>bush</dt>\n",
       "\t\t<dd>2.6101083032491</dd>\n",
       "\t<dt>war</dt>\n",
       "\t\t<dd>3.02527075812274</dd>\n",
       "\t<dt>iraq</dt>\n",
       "\t\t<dd>4.09386281588448</dd>\n",
       "</dl>\n"
      ],
      "text/latex": [
       "\\begin{description*}\n",
       "\\item[administration] 1.3898916967509\n",
       "\\item[iraqi] 1.6101083032491\n",
       "\\item[american] 1.68592057761733\n",
       "\\item[bush] 2.6101083032491\n",
       "\\item[war] 3.02527075812274\n",
       "\\item[iraq] 4.09386281588448\n",
       "\\end{description*}\n"
      ],
      "text/markdown": [
       "administration\n",
       ":   1.3898916967509iraqi\n",
       ":   1.6101083032491american\n",
       ":   1.68592057761733bush\n",
       ":   2.6101083032491war\n",
       ":   3.02527075812274iraq\n",
       ":   4.09386281588448\n",
       "\n"
      ],
      "text/plain": [
       "administration          iraqi       american           bush            war \n",
       "      1.389892       1.610108       1.685921       2.610108       3.025271 \n",
       "          iraq \n",
       "      4.093863 "
      ]
     },
     "execution_count": 9,
     "metadata": {},
     "output_type": "execute_result"
    }
   ],
   "source": [
    "tail(sort(colMeans(kmeansCluster3)))"
   ]
  },
  {
   "cell_type": "code",
   "execution_count": 10,
   "metadata": {
    "collapsed": false
   },
   "outputs": [
    {
     "data": {
      "text/html": [
       "<dl class=dl-horizontal>\n",
       "\t<dt>elect</dt>\n",
       "\t\t<dd>0.60106640814348</dd>\n",
       "\t<dt>republican</dt>\n",
       "\t\t<dd>0.617547261269995</dd>\n",
       "\t<dt>kerry</dt>\n",
       "\t\t<dd>0.649539505574406</dd>\n",
       "\t<dt>poll</dt>\n",
       "\t\t<dd>0.747455162384876</dd>\n",
       "\t<dt>democrat</dt>\n",
       "\t\t<dd>0.789142026175473</dd>\n",
       "\t<dt>bush</dt>\n",
       "\t\t<dd>1.14735821619001</dd>\n",
       "</dl>\n"
      ],
      "text/latex": [
       "\\begin{description*}\n",
       "\\item[elect] 0.60106640814348\n",
       "\\item[republican] 0.617547261269995\n",
       "\\item[kerry] 0.649539505574406\n",
       "\\item[poll] 0.747455162384876\n",
       "\\item[democrat] 0.789142026175473\n",
       "\\item[bush] 1.14735821619001\n",
       "\\end{description*}\n"
      ],
      "text/markdown": [
       "elect\n",
       ":   0.60106640814348republican\n",
       ":   0.617547261269995kerry\n",
       ":   0.649539505574406poll\n",
       ":   0.747455162384876democrat\n",
       ":   0.789142026175473bush\n",
       ":   1.14735821619001\n",
       "\n"
      ],
      "text/plain": [
       "     elect republican      kerry       poll   democrat       bush \n",
       " 0.6010664  0.6175473  0.6495395  0.7474552  0.7891420  1.1473582 "
      ]
     },
     "execution_count": 10,
     "metadata": {},
     "output_type": "execute_result"
    }
   ],
   "source": [
    "tail(sort(colMeans(kmeansCluster4)))"
   ]
  },
  {
   "cell_type": "code",
   "execution_count": 11,
   "metadata": {
    "collapsed": false
   },
   "outputs": [
    {
     "data": {
      "text/html": [
       "<dl class=dl-horizontal>\n",
       "\t<dt>race</dt>\n",
       "\t\t<dd>2.48466257668712</dd>\n",
       "\t<dt>senate</dt>\n",
       "\t\t<dd>2.65030674846626</dd>\n",
       "\t<dt>state</dt>\n",
       "\t\t<dd>3.52147239263804</dd>\n",
       "\t<dt>parties</dt>\n",
       "\t\t<dd>3.61963190184049</dd>\n",
       "\t<dt>republican</dt>\n",
       "\t\t<dd>4.63803680981595</dd>\n",
       "\t<dt>democrat</dt>\n",
       "\t\t<dd>6.99386503067485</dd>\n",
       "</dl>\n"
      ],
      "text/latex": [
       "\\begin{description*}\n",
       "\\item[race] 2.48466257668712\n",
       "\\item[senate] 2.65030674846626\n",
       "\\item[state] 3.52147239263804\n",
       "\\item[parties] 3.61963190184049\n",
       "\\item[republican] 4.63803680981595\n",
       "\\item[democrat] 6.99386503067485\n",
       "\\end{description*}\n"
      ],
      "text/markdown": [
       "race\n",
       ":   2.48466257668712senate\n",
       ":   2.65030674846626state\n",
       ":   3.52147239263804parties\n",
       ":   3.61963190184049republican\n",
       ":   4.63803680981595democrat\n",
       ":   6.99386503067485\n",
       "\n"
      ],
      "text/plain": [
       "      race     senate      state    parties republican   democrat \n",
       "  2.484663   2.650307   3.521472   3.619632   4.638037   6.993865 "
      ]
     },
     "execution_count": 11,
     "metadata": {},
     "output_type": "execute_result"
    }
   ],
   "source": [
    "tail(sort(colMeans(kmeansCluster5)))"
   ]
  },
  {
   "cell_type": "code",
   "execution_count": 12,
   "metadata": {
    "collapsed": false
   },
   "outputs": [
    {
     "data": {
      "text/html": [
       "<dl class=dl-horizontal>\n",
       "\t<dt>democrat</dt>\n",
       "\t\t<dd>2.89969604863222</dd>\n",
       "\t<dt>bush</dt>\n",
       "\t\t<dd>2.96048632218845</dd>\n",
       "\t<dt>challenge</dt>\n",
       "\t\t<dd>4.12158054711246</dd>\n",
       "\t<dt>vote</dt>\n",
       "\t\t<dd>4.4468085106383</dd>\n",
       "\t<dt>poll</dt>\n",
       "\t\t<dd>4.87234042553191</dd>\n",
       "\t<dt>november</dt>\n",
       "\t\t<dd>10.370820668693</dd>\n",
       "</dl>\n"
      ],
      "text/latex": [
       "\\begin{description*}\n",
       "\\item[democrat] 2.89969604863222\n",
       "\\item[bush] 2.96048632218845\n",
       "\\item[challenge] 4.12158054711246\n",
       "\\item[vote] 4.4468085106383\n",
       "\\item[poll] 4.87234042553191\n",
       "\\item[november] 10.370820668693\n",
       "\\end{description*}\n"
      ],
      "text/markdown": [
       "democrat\n",
       ":   2.89969604863222bush\n",
       ":   2.96048632218845challenge\n",
       ":   4.12158054711246vote\n",
       ":   4.4468085106383poll\n",
       ":   4.87234042553191november\n",
       ":   10.370820668693\n",
       "\n"
      ],
      "text/plain": [
       " democrat      bush challenge      vote      poll  november \n",
       " 2.899696  2.960486  4.121581  4.446809  4.872340 10.370821 "
      ]
     },
     "execution_count": 12,
     "metadata": {},
     "output_type": "execute_result"
    }
   ],
   "source": [
    "tail(sort(colMeans(kmeansCluster6)))"
   ]
  },
  {
   "cell_type": "code",
   "execution_count": 13,
   "metadata": {
    "collapsed": false
   },
   "outputs": [
    {
     "data": {
      "text/html": [
       "<dl class=dl-horizontal>\n",
       "\t<dt>presided</dt>\n",
       "\t\t<dd>1.32467532467532</dd>\n",
       "\t<dt>voter</dt>\n",
       "\t\t<dd>1.33441558441558</dd>\n",
       "\t<dt>campaign</dt>\n",
       "\t\t<dd>1.38311688311688</dd>\n",
       "\t<dt>poll</dt>\n",
       "\t\t<dd>2.78896103896104</dd>\n",
       "\t<dt>bush</dt>\n",
       "\t\t<dd>5.97077922077922</dd>\n",
       "\t<dt>kerry</dt>\n",
       "\t\t<dd>6.48051948051948</dd>\n",
       "</dl>\n"
      ],
      "text/latex": [
       "\\begin{description*}\n",
       "\\item[presided] 1.32467532467532\n",
       "\\item[voter] 1.33441558441558\n",
       "\\item[campaign] 1.38311688311688\n",
       "\\item[poll] 2.78896103896104\n",
       "\\item[bush] 5.97077922077922\n",
       "\\item[kerry] 6.48051948051948\n",
       "\\end{description*}\n"
      ],
      "text/markdown": [
       "presided\n",
       ":   1.32467532467532voter\n",
       ":   1.33441558441558campaign\n",
       ":   1.38311688311688poll\n",
       ":   2.78896103896104bush\n",
       ":   5.97077922077922kerry\n",
       ":   6.48051948051948\n",
       "\n"
      ],
      "text/plain": [
       "presided    voter campaign     poll     bush    kerry \n",
       "1.324675 1.334416 1.383117 2.788961 5.970779 6.480519 "
      ]
     },
     "execution_count": 13,
     "metadata": {},
     "output_type": "execute_result"
    }
   ],
   "source": [
    "tail(sort(colMeans(kmeansCluster7)))"
   ]
  },
  {
   "cell_type": "code",
   "execution_count": null,
   "metadata": {
    "collapsed": true
   },
   "outputs": [],
   "source": []
  }
 ],
 "metadata": {
  "kernelspec": {
   "display_name": "R",
   "language": "R",
   "name": "ir"
  },
  "language_info": {
   "codemirror_mode": "r",
   "file_extension": ".r",
   "mimetype": "text/x-r-source",
   "name": "R",
   "pygments_lexer": "r",
   "version": "3.1.3"
  }
 },
 "nbformat": 4,
 "nbformat_minor": 0
}
